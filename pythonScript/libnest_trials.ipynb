{
 "cells": [
  {
   "cell_type": "code",
   "execution_count": 1,
   "metadata": {
    "collapsed": false
   },
   "outputs": [
    {
     "data": {
      "text/plain": [
       "{'divide': 'warn', 'invalid': 'warn', 'over': 'warn', 'under': 'ignore'}"
      ]
     },
     "execution_count": 1,
     "metadata": {},
     "output_type": "execute_result"
    }
   ],
   "source": [
    "import sys\n",
    "import os\n",
    "sys.path.insert (2, '/global/homes/s/salsum/luxsalsum/libNEST/libNESTShaun')\n",
    "#sys.path.insert(2,'/global/projecta/projectdirs/lux/Tools/fastNEST/libNEST/')\n",
    "import libNEST\n",
    "import numpy as np\n",
    "import matplotlib as mpl\n",
    "import matplotlib.pyplot as plt\n",
    "%matplotlib inline\n",
    "from matplotlib.colors import LogNorm\n",
    "import matplotlib.pylab as pylab\n",
    "pylab.rcParams[\"figure.figsize\"]=15,8\n",
    "import sys\n",
    "import os\n",
    "import functools\n",
    "import scipy\n",
    "import scipy as sp\n",
    "import numpy as np\n",
    "import matplotlib.pyplot as plt\n",
    "%matplotlib inline\n",
    "import matplotlib.pylab as pylab\n",
    "from matplotlib.colors import LogNorm\n",
    "import pickle\n",
    "import math\n",
    "import subprocess\n",
    "import warnings\n",
    "\n",
    "sys.path.insert(2, \"/global/projecta/projectdirs/lux/data\")\n",
    "sys.path.insert(0,'/project/projectdirs/lux/Tools/LUXcode/Trunk/DataAnalysis/Python/' )\n",
    "sys.path.insert(0,'/project/projectdirs/lux/Tools/LUXcode/Trunk/DataAnalysis/Python/aLib' )\n",
    "import __init__ as S\n",
    "import dp as dp\n",
    "from scipy.optimize import OptimizeWarning\n",
    "\n",
    "warnings.simplefilter(\"error\", OptimizeWarning)\n",
    "pylab.rcParams[\"figure.figsize\"]=15,8\n",
    "np.seterr(invalid='ignore')"
   ]
  },
  {
   "cell_type": "code",
   "execution_count": 2,
   "metadata": {
    "collapsed": true
   },
   "outputs": [],
   "source": [
    "minDrift = 30\n",
    "maxDrift = 105\n",
    "field = 283"
   ]
  },
  {
   "cell_type": "code",
   "execution_count": 3,
   "metadata": {
    "collapsed": true
   },
   "outputs": [],
   "source": [
    "g1 = .105\n",
    "ee = .67\n",
    "e_life = 1021\n",
    "s2_thresh = 150\n",
    "g1_gas = .089\n",
    "ff = .67"
   ]
  },
  {
   "cell_type": "code",
   "execution_count": 4,
   "metadata": {
    "collapsed": false
   },
   "outputs": [],
   "source": [
    "NEST = libNEST.NEST(1,1,1.,2.88,-1)\n",
    "myDetector = libNEST.Detector()"
   ]
  },
  {
   "cell_type": "code",
   "execution_count": 5,
   "metadata": {
    "collapsed": false
   },
   "outputs": [],
   "source": [
    "myDetector.LUXRun04PlanBSettings()\n",
    "myDetector.\n",
    "myDetector.g1 = g1\n",
    "myDetector.ee = ee\n",
    "myDetector.e_life = e_life\n",
    "myDetector.dt_min\n",
    "myDetector.g1_gas = g1_gas\n",
    "myDetector.ff = ff\n",
    "\n",
    "NEST.SetDetectorParameters(myDetector)\n",
    "NEST.SetElectricField(field)\n",
    "NEST.SetSingleElectron(False)"
   ]
  },
  {
   "cell_type": "code",
   "execution_count": 11,
   "metadata": {
    "collapsed": true
   },
   "outputs": [],
   "source": [
    "NEST.SetElectricField?\n"
   ]
  },
  {
   "cell_type": "code",
   "execution_count": 77,
   "metadata": {
    "collapsed": false
   },
   "outputs": [],
   "source": [
    "events =100000\n",
    "numberfieldbin = 100\n",
    "maxfield = 1000. #unit: V/cm\n",
    "S1csl = np.zeros((events, numberfieldbin))\n",
    "S2csl = np.zeros((events, numberfieldbin))\n",
    "linE = np.linspace(0,maxfield,numberfieldbin,endpoint=False) \n",
    "recoilEnergy = np.zeros((events, numberfieldbin))\n",
    "Efield = np.zeros((events, numberfieldbin))\n",
    "for aa in range(events):\n",
    "    energy = libNEST.TritiumEnergy()\n",
    "    NEST.SetEnergy(energy)\n",
    "    \n",
    "    for ee in range(0,numberfieldbin): \n",
    "        NEST.SetElectricField(linE[ee])\n",
    "        NEST.DetectorResponse()\n",
    "        if (NEST.GetS1c() > 0) and (NEST.GetS2c() > 0):\n",
    "            if (((np.log10(NEST.GetS1c())+0.7*np.log10(NEST.GetS2c()))<4.8)\n",
    "               and ((np.log10(NEST.GetS1c())+0.7*np.log10(NEST.GetS2c()))>2.3)\n",
    "               and ((np.log10(NEST.GetS1c())-2*np.log10(NEST.GetS2c()))<-5)\n",
    "               and ((np.log10(NEST.GetS1c())-2*np.log10(NEST.GetS2c()))>-6.5)):\n",
    "                S1csl[aa,ee]=NEST.GetS1c()\n",
    "                S2csl[aa,ee]=NEST.GetS2c()\n",
    "                recoilEnergy[aa,ee] = NEST.GetEnergy()\n",
    "                Efield[aa,ee] = NEST.GetElectricField()"
   ]
  },
  {
   "cell_type": "code",
   "execution_count": 78,
   "metadata": {
    "collapsed": false
   },
   "outputs": [
    {
     "data": {
      "text/plain": [
       "array([   0.,   10.,   20.,   30.,   40.,   50.,   60.,   70.,   80.,\n",
       "         90.,  100.,  110.,  120.,  130.,  140.,  150.,  160.,  170.,\n",
       "        180.,  190.,  200.,  210.,  220.,  230.,  240.,  250.,  260.,\n",
       "        270.,  280.,  290.,  300.,  310.,  320.,  330.,  340.,  350.,\n",
       "        360.,  370.,  380.,  390.,  400.,  410.,  420.,  430.,  440.,\n",
       "        450.,  460.,  470.,  480.,  490.,  500.,  510.,  520.,  530.,\n",
       "        540.,  550.,  560.,  570.,  580.,  590.,  600.,  610.,  620.,\n",
       "        630.,  640.,  650.,  660.,  670.,  680.,  690.,  700.,  710.,\n",
       "        720.,  730.,  740.,  750.,  760.,  770.,  780.,  790.,  800.,\n",
       "        810.,  820.,  830.,  840.,  850.,  860.,  870.,  880.,  890.,\n",
       "        900.,  910.,  920.,  930.,  940.,  950.,  960.,  970.,  980.,  990.])"
      ]
     },
     "execution_count": 78,
     "metadata": {},
     "output_type": "execute_result"
    }
   ],
   "source": [
    "linE\n"
   ]
  },
  {
   "cell_type": "code",
   "execution_count": 79,
   "metadata": {
    "collapsed": false
   },
   "outputs": [
    {
     "data": {
      "text/plain": [
       "array([[ 16.89181838,  20.42884565,  13.47787897, ...,  13.52790295,\n",
       "         14.45856618,  10.74310706],\n",
       "       [  0.        ,   0.        ,   0.        , ...,   0.        ,\n",
       "          0.        ,   0.        ],\n",
       "       [ 13.35481951,  11.51010842,   5.86802894, ...,   9.88270644,\n",
       "         19.38805037,   4.58891663],\n",
       "       ..., \n",
       "       [  8.54135995,   8.7078389 ,  10.89821314, ...,   3.04303714,\n",
       "          7.74803246,   2.47738725],\n",
       "       [ 13.9922545 ,   9.05075718,  13.87483028, ...,  10.51490854,\n",
       "          7.93173633,  11.59950367],\n",
       "       [  0.        ,  44.82105868,  36.69253084, ...,  48.19834247,\n",
       "         32.31317831,  48.97726037]])"
      ]
     },
     "execution_count": 79,
     "metadata": {},
     "output_type": "execute_result"
    }
   ],
   "source": [
    "S1csl"
   ]
  },
  {
   "cell_type": "code",
   "execution_count": 80,
   "metadata": {
    "collapsed": false
   },
   "outputs": [
    {
     "data": {
      "text/plain": [
       "array([ 2698775.03550051,  2722681.65613455,  2665860.17939329,\n",
       "        2619703.10215754,  2588308.02807981,  2563209.13299601,\n",
       "        2536391.11027688,  2514388.93835339,  2496511.98556095,\n",
       "        2479295.82473913,  2463405.13351523,  2451613.63963648,\n",
       "        2430865.93737041,  2423317.15214221,  2410771.51643312,\n",
       "        2399777.67399428,  2388340.91050243,  2379349.81516058,\n",
       "        2371186.25974683,  2359620.38764961,  2353062.31532012,\n",
       "        2343738.31749685,  2338343.47828934,  2327516.63737976,\n",
       "        2319485.25049114,  2315804.37877001,  2307159.24890569,\n",
       "        2299707.23312688,  2295505.90800779,  2287338.95484865,\n",
       "        2284184.83715851,  2277400.7016682 ,  2270308.3414237 ,\n",
       "        2264561.14042328,  2258281.70825634,  2257262.5746206 ,\n",
       "        2245055.47173186,  2242134.58543319,  2238721.5147629 ,\n",
       "        2230438.41064582,  2225453.02999787,  2224584.07179415,\n",
       "        2219420.34446031,  2214654.12826045,  2213779.60419742,\n",
       "        2206136.7604882 ,  2202449.48456735,  2194609.32350535,\n",
       "        2192393.56010308,  2187570.61095934,  2187646.82139095,\n",
       "        2182623.0938989 ,  2180079.82193899,  2174253.26931513,\n",
       "        2172558.444033  ,  2164301.43542346,  2163183.57813055,\n",
       "        2160987.8897541 ,  2157020.57987122,  2156401.23999769,\n",
       "        2143398.7092952 ,  2146582.9763765 ,  2142367.08099863,\n",
       "        2141230.53379681,  2138958.86967391,  2131790.02379138,\n",
       "        2125879.03254909,  2127902.0390013 ,  2125111.57597933,\n",
       "        2122460.70460404,  2116049.48740031,  2112065.81253031,\n",
       "        2111044.92221282,  2108086.48326169,  2106262.64831497,\n",
       "        2104332.92822803,  2099798.60996966,  2097092.14723507,\n",
       "        2096036.14327271,  2089571.96947206,  2089954.08558251,\n",
       "        2088072.92632588,  2083645.78656573,  2082322.87261669,\n",
       "        2076730.23144667,  2078690.87731462,  2075459.9478361 ,\n",
       "        2071552.74880378,  2069473.55524638,  2068033.43423238,\n",
       "        2060069.61022286,  2058860.76461649,  2058155.62017227,\n",
       "        2057516.29085626,  2052706.56893306,  2053534.73566481,\n",
       "        2046868.50820593,  2047049.12168425,  2039344.09214042,\n",
       "        2039212.41333526])"
      ]
     },
     "execution_count": 80,
     "metadata": {},
     "output_type": "execute_result"
    }
   ],
   "source": [
    "np.sum(S1csl,axis=0)\n"
   ]
  },
  {
   "cell_type": "code",
   "execution_count": 81,
   "metadata": {
    "collapsed": false
   },
   "outputs": [
    {
     "data": {
      "text/plain": [
       "array([ 522118.75263959,  553269.89726061,  556508.20427078,\n",
       "        557380.69914997,  557662.18548796,  557782.41330573,\n",
       "        557858.38516569,  557711.58046839,  557796.68487477,\n",
       "        557824.34072936,  557561.33355123,  557846.43135643,\n",
       "        557718.89669764,  557566.65028599,  557679.84648606,\n",
       "        557641.7406536 ,  557450.12141207,  557671.38038313,\n",
       "        557533.80358666,  557534.99691063,  557295.17405763,\n",
       "        557555.59825718,  557447.07559878,  557301.80496925,\n",
       "        557231.15833279,  557311.93065804,  557322.56848145,\n",
       "        557181.09099579,  557192.87581417,  557150.58402637,\n",
       "        557057.41526675,  556955.64294225,  557083.49786374,\n",
       "        556859.82966846,  556724.35875574,  556816.99828157,\n",
       "        556716.78533512,  556559.04396906,  556688.12108788,\n",
       "        556336.8056331 ,  556163.447184  ,  556253.05414495,\n",
       "        556003.15224087,  556371.41717178,  556094.4877294 ,\n",
       "        555760.51557872,  555952.55758056,  555698.44475448,\n",
       "        555583.18837395,  555507.50498074,  555550.78912061,\n",
       "        555495.73832315,  555476.80243737,  555383.00881454,\n",
       "        555080.44058803,  554819.82640547,  555075.41995504,\n",
       "        554641.35516664,  554923.50412646,  554504.98703673,\n",
       "        554490.54402146,  554463.49362677,  554175.69186619,\n",
       "        554300.46932781,  554364.02398044,  553857.67744607,\n",
       "        553600.9848755 ,  553580.4353753 ,  553634.23264402,\n",
       "        553431.95464632,  553550.84379002,  553225.40100655,\n",
       "        553015.57799497,  553081.37875825,  552694.12394595,\n",
       "        552663.54404601,  552498.42719206,  552185.5259572 ,\n",
       "        552253.40491191,  552367.41605797,  551605.55373728,\n",
       "        552025.86021858,  551576.37439737,  551455.66776589,\n",
       "        551416.83065659,  551226.17562327,  551288.9653098 ,\n",
       "        550886.55079967,  550955.06664062,  550921.32209754,\n",
       "        550405.32841653,  550489.53618151,  550053.88804027,\n",
       "        550306.66394046,  549858.84716508,  549867.44245493,\n",
       "        549951.6562767 ,  549351.35628387,  549238.54611424,\n",
       "        548602.40602043])"
      ]
     },
     "execution_count": 81,
     "metadata": {},
     "output_type": "execute_result"
    }
   ],
   "source": [
    "np.sum(recoilEnergy,axis=0)"
   ]
  },
  {
   "cell_type": "code",
   "execution_count": 88,
   "metadata": {
    "collapsed": false
   },
   "outputs": [
    {
     "data": {
      "text/plain": [
       "array([[ 16.89181838,  20.42884565,  13.47787897, ...,  13.52790295,\n",
       "         14.45856618,  10.74310706],\n",
       "       [  0.        ,   0.        ,   0.        , ...,   0.        ,\n",
       "          0.        ,   0.        ],\n",
       "       [ 13.35481951,  11.51010842,   5.86802894, ...,   9.88270644,\n",
       "         19.38805037,   4.58891663],\n",
       "       ..., \n",
       "       [  8.54135995,   8.7078389 ,  10.89821314, ...,   3.04303714,\n",
       "          7.74803246,   2.47738725],\n",
       "       [ 13.9922545 ,   9.05075718,  13.87483028, ...,  10.51490854,\n",
       "          7.93173633,  11.59950367],\n",
       "       [  0.        ,  44.82105868,  36.69253084, ...,  48.19834247,\n",
       "         32.31317831,  48.97726037]])"
      ]
     },
     "execution_count": 88,
     "metadata": {},
     "output_type": "execute_result"
    }
   ],
   "source": [
    "S1csl"
   ]
  },
  {
   "cell_type": "code",
   "execution_count": 118,
   "metadata": {
    "collapsed": false
   },
   "outputs": [
    {
     "data": {
      "text/plain": [
       "array([ 4.39455836,  5.31474779,  3.50639134, ...,  4.841815  ,\n",
       "        3.24605419,  4.92006202])"
      ]
     },
     "execution_count": 118,
     "metadata": {},
     "output_type": "execute_result"
    }
   ],
   "source": [
    "S1csl[np.where(S1csl>0)]/recoilEnergy[np.where(S1csl>0)]"
   ]
  },
  {
   "cell_type": "code",
   "execution_count": 103,
   "metadata": {
    "collapsed": false
   },
   "outputs": [
    {
     "data": {
      "text/plain": [
       "8696893"
      ]
     },
     "execution_count": 103,
     "metadata": {},
     "output_type": "execute_result"
    }
   ],
   "source": [
    "len(Efield[np.where(S1csl>0)])"
   ]
  },
  {
   "cell_type": "code",
   "execution_count": 110,
   "metadata": {
    "collapsed": true
   },
   "outputs": [],
   "source": [
    "#define a funtion do band's mean value and sigma calculation\n",
    "def f(x, a, b, c):\n",
    "    return a * np.exp(-(x - b)**2.0 / (2 * c**2))\n",
    "\n",
    "def bandfit(x, y, bins=10, range=None, normed=False, weights=None):\n",
    "    H, xedges,yedges = np.histogram2d(x, y, bins, range, normed, weights)\n",
    "    log10xlist=[]\n",
    "    mu=[]\n",
    "    sigma=[]\n",
    "    for ii in xrange(0,xedges.shape[0]-1):\n",
    "        try:\n",
    "            log10y = [0.5 * (yedges[i] + yedges[i+1]) for i in xrange(yedges.shape[0]-1)]\n",
    "            Hx = H[ii,:]\n",
    "            popt, pcov = sp.optimize.curve_fit(f, log10y, Hx)\n",
    "            log10xlist.append(0.5 * (xedges[ii] + xedges[ii+1]))\n",
    "            mu.append(popt[1])\n",
    "            sigma.append(popt[2])\n",
    "        except BaseException:\n",
    "            print \"Fitting data in bin \",ii,\"failed.\"\n",
    "    return(np.array(mu),np.abs(sigma),np.array(log10xlist))"
   ]
  },
  {
   "cell_type": "code",
   "execution_count": 127,
   "metadata": {
    "collapsed": false
   },
   "outputs": [],
   "source": [
    "bandfits=bandfit(Efield[np.where(S1csl>0)],S1csl[np.where(S1csl>0)]/recoilEnergy[np.where(S1csl>0)],range=[[-5,995],[0,8]],bins=(100,100))"
   ]
  },
  {
   "cell_type": "code",
   "execution_count": 132,
   "metadata": {
    "collapsed": false
   },
   "outputs": [],
   "source": [
    "bandfitsenergy=bandfit(recoilEnergy[np.where(S1csl>0)],S1csl[np.where(S1csl>0)]/recoilEnergy[np.where(S1csl>0)],range=[[-5,995],[0,8]],bins=(100,100))"
   ]
  },
  {
   "cell_type": "code",
   "execution_count": 129,
   "metadata": {
    "collapsed": false
   },
   "outputs": [
    {
     "data": {
      "text/plain": [
       "<matplotlib.text.Text at 0x7fee555b0250>"
      ]
     },
     "execution_count": 129,
     "metadata": {},
     "output_type": "execute_result"
    },
    {
     "data": {
      "image/png": "[encoded data removed]",
      "text/plain": [
       "<matplotlib.figure.Figure at 0x7fee555e6410>"
      ]
     },
     "metadata": {},
     "output_type": "display_data"
    }
   ],
   "source": [
    "ax = plt.figure(1)\n",
    "\n",
    "plt.errorbar(bandfits[2],bandfits[0],bandfits[1],lw=2, color=\"k\",label=\"gaussian fit bins\")\n",
    "plt.plot(linE, np.sum(S1csl,axis=0)/np.sum(recoilEnergy,axis=0),lw=2, color=\"b\",label=\"average bins\")\n",
    "plt.xlabel(\"Electric Field\", fontsize=18)\n",
    "plt.ylabel(\"Light Yield\", fontsize=18)\n",
    "plt.title(\"libNEST Tritium Sep 2014 Top Slice\", fontsize=20)"
   ]
  },
  {
   "cell_type": "code",
   "execution_count": 130,
   "metadata": {
    "collapsed": true
   },
   "outputs": [],
   "source": [
    "np.save(\"LinE\",linE)"
   ]
  },
  {
   "cell_type": "code",
   "execution_count": 133,
   "metadata": {
    "collapsed": true
   },
   "outputs": [],
   "source": [
    "np.save(\"LY\",np.sum(S1csl,axis=0)/np.sum(recoilEnergy,axis=0))\n",
    "np.save(\"LYgaussian\",bandfits)\n",
    "np.save(\"LYenergygaussian\",bandfitsenergy)"
   ]
  },
  {
   "cell_type": "code",
   "execution_count": 66,
   "metadata": {
    "collapsed": false
   },
   "outputs": [
    {
     "data": {
      "text/plain": [
       "array([ 5.16977978,  4.78997446,  4.64192693,  4.54566785,  4.47630014,\n",
       "        4.41387915,  4.36429208,  4.32243767,  4.28139649,  4.25214302,\n",
       "        4.22309363,  4.19420852,  4.16746029,  4.14201415,  4.11507011,\n",
       "        4.09536106,  4.07867397,  4.06070339,  4.03533117,  4.02300186,\n",
       "        4.00299576,  3.99510524,  3.97399358,  3.95959386,  3.94299095,\n",
       "        3.93261263,  3.91477754,  3.91200272,  3.89875342,  3.89064275,\n",
       "        3.88262622,  3.86261018,  3.85607986,  3.84800428,  3.83927907,\n",
       "        3.82786406,  3.81846073,  3.81046369,  3.79927544,  3.79791526,\n",
       "        3.78120693,  3.78105154,  3.7709768 ,  3.76733687,  3.75877684,\n",
       "        3.74701934,  3.74224563,  3.73722328,  3.72237055,  3.72022261])"
      ]
     },
     "execution_count": 66,
     "metadata": {},
     "output_type": "execute_result"
    }
   ],
   "source": [
    "np.sum(S1csl,axis=0)/np.sum(recoilEnergy,axis=0)"
   ]
  },
  {
   "cell_type": "code",
   "execution_count": 68,
   "metadata": {
    "collapsed": false
   },
   "outputs": [
    {
     "data": {
      "text/plain": [
       "array([ 5.16977978,  4.78997446,  4.64192693,  4.54566785,  4.47630014,\n",
       "        4.41387915,  4.36429208,  4.32243767,  4.28139649,  4.25214302,\n",
       "        4.22309363,  4.19420852,  4.16746029,  4.14201415,  4.11507011,\n",
       "        4.09536106,  4.07867397,  4.06070339,  4.03533117,  4.02300186,\n",
       "        4.00299576,  3.99510524,  3.97399358,  3.95959386,  3.94299095,\n",
       "        3.93261263,  3.91477754,  3.91200272,  3.89875342,  3.89064275,\n",
       "        3.88262622,  3.86261018,  3.85607986,  3.84800428,  3.83927907,\n",
       "        3.82786406,  3.81846073,  3.81046369,  3.79927544,  3.79791526,\n",
       "        3.78120693,  3.78105154,  3.7709768 ,  3.76733687,  3.75877684,\n",
       "        3.74701934,  3.74224563,  3.73722328,  3.72237055,  3.72022261])"
      ]
     },
     "execution_count": 68,
     "metadata": {},
     "output_type": "execute_result"
    }
   ],
   "source": [
    "ly =np.load(\"LY.npy\")\n",
    "ly"
   ]
  },
  {
   "cell_type": "code",
   "execution_count": 135,
   "metadata": {
    "collapsed": false
   },
   "outputs": [
    {
     "data": {
      "text/plain": [
       "2.880000114440918"
      ]
     },
     "execution_count": 135,
     "metadata": {},
     "output_type": "execute_result"
    }
   ],
   "source": [
    "\n",
    "NEST.GetXeDensity()\n",
    "\n"
   ]
  },
  {
   "cell_type": "code",
   "execution_count": null,
   "metadata": {
    "collapsed": true
   },
   "outputs": [],
   "source": []
  }
 ],
 "metadata": {
  "kernelspec": {
   "display_name": "pyrootnb",
   "language": "python",
   "name": "pyrootnb"
  },
  "language_info": {
   "codemirror_mode": {
    "name": "ipython",
    "version": 2
   },
   "file_extension": ".py",
   "mimetype": "text/x-python",
   "name": "python",
   "nbconvert_exporter": "python",
   "pygments_lexer": "ipython2",
   "version": "2.7.11"
  }
 },
 "nbformat": 4,
 "nbformat_minor": 0
}
