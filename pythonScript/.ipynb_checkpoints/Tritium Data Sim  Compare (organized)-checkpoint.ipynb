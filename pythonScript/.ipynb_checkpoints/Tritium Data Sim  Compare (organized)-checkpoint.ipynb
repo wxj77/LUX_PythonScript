{
 "cells": [
  {
   "cell_type": "code",
   "execution_count": 1,
   "metadata": {
    "collapsed": false
   },
   "outputs": [
    {
     "data": {
      "text/plain": [
       "{'divide': 'warn', 'invalid': 'warn', 'over': 'warn', 'under': 'ignore'}"
      ]
     },
     "execution_count": 1,
     "metadata": {},
     "output_type": "execute_result"
    }
   ],
   "source": [
    "import sys\n",
    "import os\n",
    "import functools\n",
    "import scipy\n",
    "import scipy as sp\n",
    "import numpy as np\n",
    "import matplotlib.pyplot as plt\n",
    "%matplotlib inline\n",
    "import matplotlib.pylab as pylab\n",
    "from matplotlib.colors import LogNorm\n",
    "import pickle\n",
    "import math\n",
    "import subprocess\n",
    "import warnings\n",
    "\n",
    "sys.path.insert(2, \"/global/projecta/projectdirs/lux/data\")\n",
    "sys.path.insert(0,'/project/projectdirs/lux/Tools/LUXcode/Trunk/DataAnalysis/Python/' )\n",
    "sys.path.insert(0,'/project/projectdirs/lux/Tools/LUXcode/Trunk/DataAnalysis/Python/aLib' )\n",
    "import __init__ as S\n",
    "import dp as dp\n",
    "from scipy.optimize import OptimizeWarning\n",
    "\n",
    "warnings.simplefilter(\"error\", OptimizeWarning)\n",
    "pylab.rcParams[\"figure.figsize\"]=15,8\n",
    "np.seterr(invalid='ignore')\n"
   ]
  },
  {
   "cell_type": "code",
   "execution_count": 2,
   "metadata": {
    "collapsed": false
   },
   "outputs": [],
   "source": [
    "#define a funtion do band's mean value and sigma calculation\n",
    "def f(x, a, b, c):\n",
    "    return a * np.exp(-(x - b)**2.0 / (2 * c**2))\n",
    "\n",
    "def bandfit(x, y, bins=10, range=None, normed=False, weights=None):\n",
    "    H, xedges,yedges = np.histogram2d(x, y, bins, range, normed, weights)\n",
    "    log10xlist=[]\n",
    "    mu=[]\n",
    "    sigma=[]\n",
    "    for ii in xrange(0,xedges.shape[0]-1):\n",
    "        try:\n",
    "            log10y = [0.5 * (yedges[i] + yedges[i+1]) for i in xrange(yedges.shape[0]-1)]\n",
    "            Hx = H[ii,:]\n",
    "            popt, pcov = sp.optimize.curve_fit(f, log10y, Hx)\n",
    "            log10xlist.append(0.5 * (xedges[ii] + xedges[ii+1]))\n",
    "            mu.append(popt[1])\n",
    "            sigma.append(popt[2])\n",
    "        except BaseException:\n",
    "            print \"Fitting data in bin \",ii,\"failed.\"\n",
    "    return(np.array(mu),np.abs(sigma),np.array(log10xlist))\n"
   ]
  },
  {
   "cell_type": "code",
   "execution_count": 3,
   "metadata": {
    "collapsed": false
   },
   "outputs": [],
   "source": [
    "def LoadXYZDependentEField(EFieldMap, NumxyzDependentEFieldVars = 8, MinLocationX = -24.0 ,NumPlanesX = 49, StepSizeX = 1. ,MinLocationY = -24.00 ,NumPlanesY = 49, StepSizeY = 1.,MinLocationZ = 5.8 ,NumPlanesZ = 49, StepSizeZ = 1.):\n",
    "    EFieldMapMatrix = np.zeros((NumPlanesX,NumPlanesY,NumPlanesZ,NumxyzDependentEFieldVars))\n",
    "    for ii in xrange(0,EFieldMap.shape[0]):\n",
    "        xx = int(round((EFieldMap[ii,0]-MinLocationX)/StepSizeX))\n",
    "        yy =  (int)(round((EFieldMap[ii,1]-MinLocationY)/StepSizeY))\n",
    "        zz =  (int)(round((EFieldMap[ii,2]-MinLocationZ)/StepSizeZ))\n",
    "        for vv in xrange(0,NumxyzDependentEFieldVars):\n",
    "            if vv == 2:\n",
    "                EFieldMapMatrix[xx,yy,zz,vv] = EFieldMap[ii,vv] \n",
    "            elif vv==6:\n",
    "                EFieldMapMatrix[xx,yy,zz,vv] = EFieldMap[ii,vv]\n",
    "            else:\n",
    "                EFieldMapMatrix[xx,yy,zz,vv] = EFieldMap[ii,vv]\n",
    "            \n",
    "                \n",
    "    return EFieldMapMatrix,NumxyzDependentEFieldVars,((MinLocationX,NumPlanesX,StepSizeX),(MinLocationY,NumPlanesY,StepSizeY),(MinLocationZ,NumPlanesZ,StepSizeZ))\n",
    "\n",
    "def GetXYZDependentElectricField(x,LoadEFieldMap,ifprint=0):\n",
    "    EFieldMapMatrix,NumxyzDependentEFieldVars,((MinLocationX,NumPlanesX,StepSizeX),(MinLocationY,NumPlanesY,StepSizeY),(MinLocationZ,NumPlanesZ,StepSizeZ))= LoadEFieldMap\n",
    "    xx =  int(round((x[0]-MinLocationX)/StepSizeX))\n",
    "    yy =  int(round((x[1]-MinLocationY)/StepSizeY))\n",
    "    if (xx<0 or xx>NumPlanesX-2 or yy<0 or yy>NumPlanesY-2):\n",
    "#   if 0:\n",
    "        return -100000\n",
    "    else:\n",
    "        distance2 = (x[0]-EFieldMapMatrix[xx,yy,0,0])**2+(x[1]-EFieldMapMatrix[xx,yy,0,1])**2\n",
    "        for xxx in xrange(xx,xx+1):\n",
    "            for yyy in xrange(yy,yy+1):                \n",
    "                    if distance2 > ((x[0]-EFieldMapMatrix[xxx,yyy,0,0])**2+(x[1]-EFieldMapMatrix[xxx,yyy,0,1])**2):                                               \n",
    "                        xx = xxx\n",
    "                        yy = yyy\n",
    "        zz=0\n",
    "#        print xx,yy\n",
    "        dist = np.abs(x[2]-EFieldMapMatrix[xx,yy,0,6])\n",
    "#        print dist\n",
    "        for zzz in xrange(0,NumPlanesZ):\n",
    "            if np.abs(x[2]-EFieldMapMatrix[xx,yy,zzz,6])<dist:\n",
    "                dist = np.abs(x[2]-EFieldMapMatrix[xx,yy,zzz,6])\n",
    "                zz=zzz\n",
    "    if ifprint:\n",
    "        print \"index_x,y,z,E\",xx,yy,zz,EFieldMapMatrix[xx,yy,zz,3]\n",
    "        print \"x,y,z,\",EFieldMapMatrix[xx,yy,zz,0],EFieldMapMatrix[xx,yy,zz,1],EFieldMapMatrix[xx,yy,zz,2]\n",
    "        print \"S2x,S2y,t,\",EFieldMapMatrix[xx,yy,zz,4],EFieldMapMatrix[xx,yy,zz,5],EFieldMapMatrix[xx,yy,zz,6]\n",
    "    return EFieldMapMatrix[xx,yy,zz,3]\n",
    "\n",
    "def GetXYZDependentElectricField_s2(x,LoadEFieldMap,ifprint=0):\n",
    "    EFieldMapMatrix,NumxyzDependentEFieldVars,((MinLocationX,NumPlanesX,StepSizeX),(MinLocationY,NumPlanesY,StepSizeY),(MinLocationZ,NumPlanesZ,StepSizeZ))= LoadEFieldMap    \n",
    "    try:\n",
    "        xx=0\n",
    "        yy=0\n",
    "        zz=0\n",
    "        distance2 = 10000\n",
    "        for xxx in xrange(0,NumPlanesX):\n",
    "            for yyy in xrange(0,NumPlanesY):  \n",
    "                 for zzz in xrange(0,NumPlanesZ):\n",
    "                    if distance2 > ((x[0]-EFieldMapMatrix[xxx,yyy,zzz,4])**2+(x[1]-EFieldMapMatrix[xxx,yyy,zzz,5])**2)+(x[2]-EFieldMapMatrix[xxx,yyy,zzz,6])**2/144.:                                               \n",
    "                        xx = xxx\n",
    "                        yy = yyy\n",
    "                        zz = zzz\n",
    "                        distance2 = (x[0]-EFieldMapMatrix[xxx,yyy,zzz,4])**2+(x[1]-EFieldMapMatrix[xxx,yyy,zzz,5])**2+(x[2]-EFieldMapMatrix[xxx,yyy,zzz,6])**2/144.\n",
    "        if ifprint:\n",
    "            print \"index_x,y,z,E\",xx,yy,zz,EFieldMapMatrix[xx,yy,zz,3]\n",
    "            print \"x,y,z,\",EFieldMapMatrix[xx,yy,zz,0],EFieldMapMatrix[xx,yy,zz,1],EFieldMapMatrix[xx,yy,zz,2]\n",
    "            print \"S2x,S2y,t,\",EFieldMapMatrix[xx,yy,zz,4],EFieldMapMatrix[xx,yy,zz,5],EFieldMapMatrix[xx,yy,zz,6]\n",
    "\n",
    "            print distance2\n",
    "        return EFieldMapMatrix[xx,yy,zz,:]\n",
    "    except :\n",
    "        return -100000"
   ]
  },
  {
   "cell_type": "code",
   "execution_count": 39,
   "metadata": {
    "collapsed": true
   },
   "outputs": [],
   "source": [
    "def errorf(x,*args):\n",
    "    (S2x,S2y,T),(x0,y0,z0),(s2x0,s2y0,t0),(ds2xdx,ds2xdy,ds2xdz),(ds2ydx,ds2ydy,ds2ydz),(dtdx,dtdy,dtdz) = args\n",
    "    return (S2x - (s2x0 + (x[0]-x0)*ds2xdx + (x[1]-y0)*ds2xdy + (x[2]-z0)*ds2xdz))**2 \\\n",
    "            +(S2y - (s2y0 + (x[0]-x0)*ds2ydx + (x[1]-y0)*ds2ydy + (x[2]-z0)*ds2ydz))**2 \\\n",
    "            +(T - (t0 + (x[0]-x0)*dtdx + (x[1]-y0)*dtdy + (x[2]-z0)*dtdz))**2 \n",
    "\n",
    "def intepolation(x,x0,f0,dfdx):\n",
    "    x=np.array(x)\n",
    "    x0 = np.array(x0)\n",
    "    dfdx = np.array(dfdx)\n",
    "    return f0+np.sum(dfdx*(x-x0))\n",
    "\n",
    "def GetXYZFromXYZS2TDependentElectricField((S2x,S2y,DriftTime),LoadEFieldMap,ifprint=0):\n",
    "    EFieldMapMatrix,NumxyzDependentEFieldVars,((MinLocationX,NumPlanesX,StepSizeX),(MinLocationY,NumPlanesY,StepSizeY),(MinLocationZ,NumPlanesZ,StepSizeZ))= LoadEFieldMap    \n",
    "    \"\"\"\n",
    "        This function is getting real x y z E from known S2x,S2y,DriftTime,fieldmap\n",
    "        S2x, S2y in cm\n",
    "        DriftTime in us\n",
    "    \"\"\"\n",
    "    warnings.filterwarnings('error')\n",
    "    \n",
    "    try:\n",
    "        \n",
    "        if ifprint:\n",
    "            print \"S2x =\",S2x ,\"cm, S2y =\",S2y ,\"cm, DriftTime =\",DriftTime,\"ns\"\n",
    "        xx=25\n",
    "        yy=25\n",
    "        zz=47\n",
    "        attempt=200\n",
    "        notsuccess = 1\n",
    "        while((attempt > 0) and notsuccess):\n",
    "            attempt-=1\n",
    "            notsuccess = 0\n",
    "            \n",
    "            if S2x< EFieldMapMatrix[xx,yy,zz,4]:\n",
    "                notsuccess = 1\n",
    "                xx -= 1\n",
    "                if ifprint:\n",
    "                    print \"xx--\"\n",
    "            elif S2x > EFieldMapMatrix[xx+1,yy,zz,4]:\n",
    "                notsuccess = 1\n",
    "                xx += 1\n",
    "                if ifprint:\n",
    "                    print \"xx++\"\n",
    "            elif S2y< EFieldMapMatrix[xx,yy,zz,5]:\n",
    "                notsuccess = 1\n",
    "                yy -= 1\n",
    "                if ifprint:\n",
    "                    print \"yy--\"\n",
    "            elif S2y > EFieldMapMatrix[xx,yy+1,zz,5]:\n",
    "                notsuccess = 1\n",
    "                yy += 1\n",
    "                if ifprint:\n",
    "                    print \"yy++\"\n",
    "            elif DriftTime < EFieldMapMatrix[xx,yy,zz+1,6]:\n",
    "                notsuccess = 1\n",
    "                zz += 1\n",
    "                if ifprint:\n",
    "                    print \"zz++\"\n",
    "            elif DriftTime > EFieldMapMatrix[xx,yy,zz,6]:\n",
    "                notsuccess = 1\n",
    "                zz -= 1\n",
    "                if ifprint:\n",
    "                    print \"zz--\"\n",
    "            if xx<0 or xx >NumPlanesX-2 or yy<0 or yy >NumPlanesY-2 or zz<0 or zz >NumPlanesZ-2:\n",
    "                if ifprint:\n",
    "                    print \"(S2x =\",S2x ,\"cm, S2y =\",S2y ,\"cm, DriftTime =\",DriftTime,\"ns ) is OUT of range in the field map.\"\n",
    "                return (np.nan,np.nan,np.nan,np.nan,S2x,S2y,DriftTime,np.nan)\n",
    "            if ifprint:\n",
    "                print \"attempt\",attempt\n",
    "                print \"xx,yy,zz\",xx,yy,zz\n",
    "                print \"Not success\",notsuccess\n",
    "        if ifprint:\n",
    "            print \"attempt finished\"\n",
    "        if attempt ==0 and ifprint:\n",
    "            print \"Did not find a point in the map matches with (S2x =\",S2x ,\"cm, S2y =\",S2y ,\"cm, DriftTime =\",DriftTime,\"ns )\"\n",
    "            print \"One of the closest point is (S2x =\",EFieldMapMatrix[xx,yy,zz,4],\"cm, S2y =\",EFieldMapMatrix[xx,yy,zz,5],\"cm, DriftTime =\",EFieldMapMatrix[xx,yy,zz,6],\"ns )\"\n",
    "            print \"Check whether you are using the right field map and right S2x, S2y,S2z\",attempt\n",
    "        if xx<0 or xx >NumPlanesX-2 or yy<0 or yy >NumPlanesY-2 or zz<0 or zz >NumPlanesZ-2 or\\\n",
    "            np.isnan(EFieldMapMatrix[xx,yy,zz,3])            :\n",
    "            if ifprint:\n",
    "                print \"(S2x =\",S2x ,\"cm, S2y =\",S2y ,\"cm, DriftTime =\",DriftTime,\"ns ) is OUT of range in the field map.\"\n",
    "            return (np.nan,np.nan,np.nan,np.nan,S2x,S2y,DriftTime,np.nan)\n",
    "        def dfdx(xx,yy,zz,num):\n",
    "            dfdx = 1./4./StepSizeX*(-EFieldMapMatrix[xx,yy,zz,num]-EFieldMapMatrix[xx,yy,zz+1,num]\\\n",
    "                     -EFieldMapMatrix[xx,yy+1,zz,num]-EFieldMapMatrix[xx,yy+1,zz+1,num]\\\n",
    "                     +EFieldMapMatrix[xx+1,yy,zz,num]+EFieldMapMatrix[xx+1,yy,zz+1,num]\\\n",
    "                     +EFieldMapMatrix[xx+1,yy+1,zz,num]+EFieldMapMatrix[xx+1,yy+1,zz+1,num])\n",
    "            dfdy = 1./4./StepSizeY*(-EFieldMapMatrix[xx,yy,zz,num]-EFieldMapMatrix[xx,yy,zz+1,num]\\\n",
    "                     +EFieldMapMatrix[xx,yy+1,zz,num]+EFieldMapMatrix[xx,yy+1,zz+1,num]\\\n",
    "                     -EFieldMapMatrix[xx+1,yy,zz,num]-EFieldMapMatrix[xx+1,yy,zz+1,num]\\\n",
    "                     +EFieldMapMatrix[xx+1,yy+1,zz,num]+EFieldMapMatrix[xx+1,yy+1,zz+1,num])\n",
    "            dfdz = 1./4./StepSizeZ*(-EFieldMapMatrix[xx,yy,zz,num]+EFieldMapMatrix[xx,yy,zz+1,num]\\\n",
    "                     -EFieldMapMatrix[xx,yy+1,zz,num]+EFieldMapMatrix[xx,yy+1,zz+1,num]\\\n",
    "                     -EFieldMapMatrix[xx+1,yy,zz,num]+EFieldMapMatrix[xx+1,yy,zz+1,num]\\\n",
    "                     -EFieldMapMatrix[xx+1,yy+1,zz,num]+EFieldMapMatrix[xx+1,yy+1,zz+1,num])\n",
    "            return (dfdx,dfdy,dfdz)\n",
    "        (ds2xdx,ds2xdy,ds2xdz) = dfdx(xx,yy,zz,4)\n",
    "        (ds2ydx,ds2ydy,ds2ydz) = dfdx(xx,yy,zz,5)\n",
    "        (dtdx,dtdy,dtdz)   = dfdx(xx,yy,zz,6)\n",
    "        (xreal0,yreal0,zreal0) = (EFieldMapMatrix[xx,yy,zz,0],EFieldMapMatrix[xx,yy,zz,1],EFieldMapMatrix[xx,yy,zz,2])\n",
    "        (s2x0,s2y0,t0) = (EFieldMapMatrix[xx,yy,zz,4],EFieldMapMatrix[xx,yy,zz,5],EFieldMapMatrix[xx,yy,zz,6])\n",
    "           \n",
    "        result= sp.optimize.fmin(errorf,x0=(xreal0,yreal0,zreal0),args = ((S2x,S2y,DriftTime),(xreal0,yreal0,zreal0),(s2x0,s2y0,t0),(ds2xdx,ds2xdy,ds2xdz),(ds2ydx,ds2ydy,ds2ydz),(dtdx,dtdy,dtdz)),disp=0)\n",
    "        if ifprint:\n",
    "            print result\n",
    "        (xreal,yreal,zreal) = result\n",
    "        E = intepolation((xreal,yreal,zreal),(xreal0,yreal0,zreal0),EFieldMapMatrix[xx,yy,zz,3],dfdx(xx,yy,zz,3))\n",
    "        \n",
    "        if ifprint:\n",
    "            print \"S2x =\",S2x ,\"cm, S2y =\",S2y ,\"cm, DriftTime =\",DriftTime,\"ns\" \n",
    "            print \"index_x,y,z,E\",xx,yy,zz,EFieldMapMatrix[xx,yy,zz,3]\n",
    "            print xreal,yreal,zreal,E,S2x,S2y,DriftTime,EFieldMapMatrix[xx,yy,zz,7]\n",
    "\n",
    "        \n",
    "    except BaseException:\n",
    "        return (np.nan,np.nan,np.nan,np.nan,S2x,S2y,DriftTime,np.nan)\n",
    "    #return (np.nan,np.nan,np.nan,np.nan,S2x,S2y,DriftTime,np.nan)\n",
    "    return (xreal,yreal,zreal,E,S2x,S2y,DriftTime,EFieldMapMatrix[xx,yy,zz,7])"
   ]
  },
  {
   "cell_type": "code",
   "execution_count": 5,
   "metadata": {
    "collapsed": false
   },
   "outputs": [],
   "source": [
    "Efieldmap = []\n",
    "\n",
    "Efieldmap.append(np.loadtxt(\"/project/projectdirs/lux/users/weiji/Run4FieldMaps/v21_fields_20140903T1918_cp17059.txt\"))\n",
    "Efieldmap.append(np.loadtxt(\"/project/projectdirs/lux/users/weiji/Run4FieldMaps/v21_fields_20150226T1943_cp17072.txt\"))\n",
    "Efieldmap.append(np.loadtxt(\"/project/projectdirs/lux/users/weiji/Run4FieldMaps/v21_fields_20150928T2324_cp17544.txt\"))\n",
    "Efieldmap.append(np.loadtxt(\"/project/projectdirs/lux/users/weiji/Run4FieldMaps/v10_fields_20160222T1702_cp20511.txt\"))"
   ]
  },
  {
   "cell_type": "code",
   "execution_count": 35,
   "metadata": {
    "collapsed": true
   },
   "outputs": [],
   "source": [
    "LoadEFieldMap = LoadXYZDependentEField(Efieldmap[0])\n",
    "EFieldMapMatrix,NumxyzDependentEFieldVars,((MinLocationX,NumPlanesX,StepSizeX),(MinLocationY,NumPlanesY,StepSizeY),(MinLocationZ,NumPlanesZ,StepSizeZ))= LoadEFieldMap    \n",
    "    "
   ]
  },
  {
   "cell_type": "markdown",
   "metadata": {},
   "source": [
    "for aa in range(10):\n",
    "    GetXYZFromXYZS2TDependentElectricField((raw_x_ts4[aa],raw_y_ts4[aa],drift_time_ts4[aa]),LoadEFieldMap,ifprint =1)"
   ]
  },
  {
   "cell_type": "code",
   "execution_count": 8,
   "metadata": {
    "collapsed": false
   },
   "outputs": [],
   "source": [
    "g1=[.104,.1,.1,.105]\n",
    "g2=[19.15,20.35,19.55,18.3]"
   ]
  },
  {
   "cell_type": "code",
   "execution_count": 9,
   "metadata": {
    "collapsed": false
   },
   "outputs": [],
   "source": [
    "data=[]\n",
    "sim=[]\n",
    "datanamelist = [\"TrData201409\",\"TrData201502\",\"TrData201509\",\"TrData201602\",]#\"TrData201411\",\"TrData201605\",]\n",
    "simnamelist = [\"TrSim201409\",\"TrSim201502\",\"TrSim201509\",\"TrSim201602\",]"
   ]
  },
  {
   "cell_type": "code",
   "execution_count": 45,
   "metadata": {
    "collapsed": false
   },
   "outputs": [],
   "source": [
    "WantToSleep = 1"
   ]
  },
  {
   "cell_type": "code",
   "execution_count": 46,
   "metadata": {
    "collapsed": true
   },
   "outputs": [],
   "source": [
    "datalist=[]\n",
    "simlist=[]"
   ]
  },
  {
   "cell_type": "code",
   "execution_count": 47,
   "metadata": {
    "collapsed": false
   },
   "outputs": [
    {
     "name": "stdout",
     "output_type": "stream",
     "text": [
      "There is no spike count in dataset TrData201509\n"
     ]
    }
   ],
   "source": [
    "for jj in range(len(datanamelist)):\n",
    "#for jj in range(0,1):\n",
    "    ts4 = np.load(\"/project/projectdirs/lux/users/weiji/data/\"+datanamelist[jj]+\".npy\")[0]\n",
    "    try:\n",
    "        del ts4[\"spike_count\"]\n",
    "    except:\n",
    "        print \"There is no spike count in dataset \"+datanamelist[jj]\n",
    "        pass\n",
    "    dic=S.S()\n",
    "    LoadEFieldMap = LoadXYZDependentEField(Efieldmap[jj])\n",
    "    mask_S1_ts4 = (ts4.pulse_classification==1)&(ts4.s1s2_pairing==1)\n",
    "    mask_S2_ts4 = (ts4.pulse_classification==2)&(ts4.s1s2_pairing==1)\n",
    "    S1_ts4 = (ts4.xyz_corrected_pulse_area_all_phe*mask_S1_ts4).sum(0)\n",
    "    S2_ts4 = (ts4.xyz_corrected_pulse_area_all_phe*mask_S2_ts4).sum(0)\n",
    "    raw_x_ts4 = (ts4.x_cm*mask_S2_ts4).sum(0) #this is ok since i have verified there is only\n",
    "    raw_y_ts4 = (ts4.y_cm*mask_S2_ts4).sum(0) #one S2 in each event that has made it through cuts\n",
    "    #raw_x_del_ts4 = (ts4.x_cm_del*mask_S2_ts4).sum(0) #this is ok since i have verified there is only\n",
    "    #raw_y_del_ts4 = (ts4.y_cm_del*mask_S2_ts4).sum(0) #one S2 in each event that has made it through cuts\n",
    "    \n",
    "    drift_time_ts4 = (ts4.z_drift_samples*mask_S2_ts4).sum(0)/100.\n",
    "    negative_drift_time_ts4 = [0-a for a in drift_time_ts4]\n",
    "    raw_r_ts4 = (raw_x_ts4**2 + raw_y_ts4**2)**(1./2)\n",
    "    # mask out only tritium_energies this is a mask on an entire event not a pulse\n",
    "    # add a radial cut\n",
    "    # add a drift time cut\n",
    "    mask_tritium_energy_ts4 = (np.log10(S1_ts4) + 0.7*np.log10(S2_ts4)<4.8)& (np.log10(S1_ts4) + 0.7*np.log10(S2_ts4)>2.3) \\\n",
    "    &(np.log10(S1_ts4) - 2* np.log10(S2_ts4)<-5.) &(np.log10(S1_ts4) - 2* np.log10(S2_ts4)>-6.5)\n",
    "    mask_drifttime_ts4 = (drift_time_ts4 <300.)& (drift_time_ts4 > 40.)\n",
    "    #mask_xy_ts4 = (x_real_s2_ts4**2 +  y_real_s2_ts4**2 < 21.**2)\n",
    "    tS1_ts4 = []\n",
    "    tS2_ts4 = []\n",
    "    traw_x_ts4 = []\n",
    "    traw_y_ts4 = []\n",
    "    traw_r_ts4 = []\n",
    "    tdrift_time_ts4 = []\n",
    "    x_del_ts4=[]\n",
    "    y_del_ts4=[]\n",
    "    Efield_s2_ts4=[]\n",
    "    x_real_s2_ts4=[]\n",
    "    y_real_s2_ts4=[]\n",
    "    z_real_s2_ts4=[]\n",
    "    for aa in range(min(50000,len(mask_tritium_energy_ts4))):\n",
    "    #for aa in range(len(mask_tritium_energy_ts4)):\n",
    "        if mask_tritium_energy_ts4[aa] == True and mask_drifttime_ts4[aa] ==True :\n",
    "            if(WantToSleep):          \n",
    "                temp =  GetXYZFromXYZS2TDependentElectricField((raw_x_ts4[aa],raw_y_ts4[aa],drift_time_ts4[aa]),LoadEFieldMap)\n",
    "\n",
    "                mask_xy_ts4 = ((temp[0]**2 + temp[1]**2)< 21.**2)\n",
    "                if mask_xy_ts4 ==True :\n",
    "                    x_real_s2_ts4.append(temp[0])\n",
    "                    y_real_s2_ts4.append(temp[1])\n",
    "                    z_real_s2_ts4.append(temp[2])\n",
    "                    Efield_s2_ts4.append(temp[3])\n",
    "                    tS1_ts4.append(S1_ts4[aa])\n",
    "                    tS2_ts4.append(S2_ts4[aa])\n",
    "                    traw_x_ts4.append(raw_x_ts4[aa])\n",
    "                    traw_y_ts4.append(raw_y_ts4[aa])\n",
    "                    traw_r_ts4.append(raw_r_ts4[aa])\n",
    "                    tdrift_time_ts4.append(drift_time_ts4[aa])\n",
    "                    #x_del_ts4.append(raw_x_del_ts4[aa])\n",
    "                    #y_del_ts4.append(raw_y_del_ts4[aa])\n",
    "    dic.name = datanamelist[jj]\n",
    "    dic.S1_t = np.array(tS1_ts4)\n",
    "    dic.S2_t = np.array(tS2_ts4)\n",
    "    dic.raw_x_t = np.array(traw_x_ts4)\n",
    "    dic.raw_y_t = np.array(traw_y_ts4)\n",
    "    dic.raw_r_t = np.array(traw_r_ts4)\n",
    "    dic.drift_time_t= np.array(tdrift_time_ts4)\n",
    "    dic.Efield_s2= np.array(Efield_s2_ts4)\n",
    "    dic.x_real_s2= np.array(x_real_s2_ts4)\n",
    "    dic.y_real_s2= np.array(y_real_s2_ts4)\n",
    "    dic.z_real_s2= np.array(z_real_s2_ts4)\n",
    "    dic.negative_drift_time_t = 0.- np.array(tdrift_time_ts4)\n",
    "    dic.x_del = np.array(x_del_ts4)\n",
    "    dic.y_del = np.array(y_del_ts4)\n",
    "    g1_s4 = g1[jj]\n",
    "    g2_s4 = g2[jj]\n",
    "    W = 13.7/1000\n",
    "    dic.S1_energy_t = W*np.array(tS1_ts4)/g1_s4\n",
    "    dic.S2_energy_t = W*np.array(tS2_ts4)/g2_s4\n",
    "    dic.Combined_energy_t = dic.S1_energy_t + dic.S2_energy_t\n",
    "#    dic.Efield=[]\n",
    "#    for ii in xrange(len(x_del_ts4)):\n",
    "#        Efield_ts4.append(GetXYZDependentElectricField((x_del_ts4[ii],y_del_ts4[ii],drift_time_t_ts4[ii]),LoadEFieldMap))\n",
    "#    Efield_ts4= np.array(Efield_ts4)\n",
    "\n",
    "    datalist.append(dic)"
   ]
  },
  {
   "cell_type": "code",
   "execution_count": 48,
   "metadata": {
    "collapsed": false
   },
   "outputs": [
    {
     "name": "stdout",
     "output_type": "stream",
     "text": [
      "[Dictionary contents:\n",
      "                  FIELDS: TYPE                     CONTENTS\n",
      "                  ------  ----                     --------\n",
      "       Combined_energy_t: [(23886,) float32array], [  9.5561409   10.29616833   6...\n",
      "               Efield_s2: [(23886,) float64array], [ 30312.42979188  23301.966661...\n",
      "             S1_energy_t: [(23886,) float32array], [ 6.81332302  7.12318087  3.80...\n",
      "                    S1_t: [(23886,) float32array], [ 51.72157669  54.07378006  28...\n",
      "             S2_energy_t: [(23886,) float32array], [ 2.74281764  3.17298722  3.02...\n",
      "                    S2_t: [(23886,) float32array], [ 3833.93847656  4435.23388672...\n",
      "            drift_time_t: [(23886,) float64array], [  67.27  125.78  249.92  220....\n",
      "                    name: [12 str],                TrData201409\n",
      "   negative_drift_time_t: [(23886,) float64array], [ -67.27 -125.78 -249.92 -220....\n",
      "                 raw_r_t: [(23886,) float32array], [ 10.24244308  10.30533123   9...\n",
      "                 raw_x_t: [(23886,) float32array], [  8.81196213   7.85254765  -8...\n",
      "                 raw_y_t: [(23886,) float32array], [ -5.22082043   6.67363071  -3...\n",
      "                   x_del: [(0,) float64array],     []\n",
      "               x_real_s2: [(23886,) float64array], [  9.88718779e+00   1.09889930...\n",
      "                   y_del: [(0,) float64array],     []\n",
      "               y_real_s2: [(23886,) float64array], [ -5.84492118   8.83375235  -7...\n",
      "               z_real_s2: [(23886,) float64array], [ 42.08833408  33.03511873  15...\n",
      ", Dictionary contents:\n",
      "                  FIELDS: TYPE                    CONTENTS\n",
      "                  ------  ----                    --------\n",
      "       Combined_energy_t: [(4662,) float32array], [  5.19524384   2.41284084  10...\n",
      "               Efield_s2: [(4662,) float64array], [ 12123.01122327   6769.959515...\n",
      "             S1_energy_t: [(4662,) float32array], [ 3.22431421  0.87692893  6.78...\n",
      "                    S1_t: [(4662,) float32array], [ 23.53513908   6.4009409   49...\n",
      "             S2_energy_t: [(4662,) float32array], [ 1.97092938  1.53591204  3.51...\n",
      "                    S2_t: [(4662,) float32array], [ 2927.62133789  2281.44604492...\n",
      "            drift_time_t: [(4662,) float64array], [ 215.26  272.47   98.87  169....\n",
      "                    name: [12 str],               TrData201502\n",
      "   negative_drift_time_t: [(4662,) float64array], [-215.26 -272.47  -98.87 -169....\n",
      "                 raw_r_t: [(4662,) float32array], [  0.9025656    7.42965269  12...\n",
      "                 raw_x_t: [(4662,) float32array], [  0.21660942  -3.97939301  12...\n",
      "                 raw_y_t: [(4662,) float32array], [ -0.87618774  -6.27408743   2...\n",
      "                   x_del: [(0,) float64array],    []\n",
      "               x_real_s2: [(4662,) float64array], [  9.29237186e-01  -8.50477255...\n",
      "                   y_del: [(0,) float64array],    []\n",
      "               y_real_s2: [(4662,) float64array], [ -0.45876095 -13.32245569   3...\n",
      "               z_real_s2: [(4662,) float64array], [ 19.42333507  12.84766852  36...\n",
      ", Dictionary contents:\n",
      "                  FIELDS: TYPE                     CONTENTS\n",
      "                  ------  ----                     --------\n",
      "       Combined_energy_t: [(29146,) float32array], [  4.68452406  14.24745369   5...\n",
      "               Efield_s2: [(29146,) float64array], [ 21969.37516631  17292.497308...\n",
      "             S1_energy_t: [(29146,) float32array], [  1.96282685   9.71839905   3...\n",
      "                    S1_t: [(29146,) float32array], [ 14.3272028   70.93722534  24...\n",
      "             S2_energy_t: [(29146,) float32array], [ 2.72169709  4.52905464  2.30...\n",
      "                    S2_t: [(29146,) float32array], [ 3883.88134766  6462.99365234...\n",
      "            drift_time_t: [(29146,) float64array], [ 157.92  106.75  128.01   64....\n",
      "                    name: [12 str],                TrData201509\n",
      "   negative_drift_time_t: [(29146,) float64array], [-157.92 -106.75 -128.01  -64....\n",
      "                 raw_r_t: [(29146,) float32array], [  3.82163787  15.31587601  10...\n",
      "                 raw_x_t: [(29146,) float32array], [  2.49376321 -15.27585411  10...\n",
      "                 raw_y_t: [(29146,) float32array], [-2.89586973 -1.10649681  2.26...\n",
      "                   x_del: [(0,) float64array],     []\n",
      "               x_real_s2: [(29146,) float64array], [  3.67352422 -20.92983835  13...\n",
      "                   y_del: [(0,) float64array],     []\n",
      "               y_real_s2: [(29146,) float64array], [ -3.76546837  -1.70983079   3...\n",
      "               z_real_s2: [(29146,) float64array], [ 27.64375442  36.31333988  32...\n",
      ", Dictionary contents:\n",
      "                  FIELDS: TYPE                     CONTENTS\n",
      "                  ------  ----                     --------\n",
      "       Combined_energy_t: [(26675,) float32array], [ 12.84905815   9.7033577    9...\n",
      "               Efield_s2: [(26675,) float64array], [ 43018.09701797  21202.846923...\n",
      "             S1_energy_t: [(26675,) float32array], [ 8.24289703  3.67385983  5.55...\n",
      "                    S1_t: [(26675,) float32array], [ 63.17548752  28.15731812  42...\n",
      "             S2_energy_t: [(26675,) float32array], [ 4.60616064  6.0294981   3.75...\n",
      "                    S2_t: [(26675,) float32array], [ 6152.75390625  8054.00097656...\n",
      "            drift_time_t: [(26675,) float64array], [  59.    122.4   170.87   75....\n",
      "                    name: [12 str],                TrData201602\n",
      "   negative_drift_time_t: [(26675,) float64array], [ -59.   -122.4  -170.87  -75....\n",
      "                 raw_r_t: [(26675,) float32array], [ 17.13754272  12.54644966   7...\n",
      "                 raw_x_t: [(26675,) float32array], [  0.87631005 -12.1551075   -6...\n",
      "                 raw_y_t: [(26675,) float32array], [ 17.11512375  -3.10913897  -3...\n",
      "                   x_del: [(0,) float64array],     []\n",
      "               x_real_s2: [(26675,) float64array], [  1.06093092 -16.72799623 -11...\n",
      "                   y_del: [(0,) float64array],     []\n",
      "               y_real_s2: [(26675,) float64array], [ 19.68491561  -4.05561993  -5...\n",
      "               z_real_s2: [(26675,) float64array], [ 43.5496806   33.44963309  26...\n",
      "]\n"
     ]
    }
   ],
   "source": [
    "print datalist"
   ]
  },
  {
   "cell_type": "code",
   "execution_count": null,
   "metadata": {
    "collapsed": false
   },
   "outputs": [],
   "source": [
    "for jj in range(len(simnamelist)):\n",
    "#for jj in range(0,1):\n",
    "    ts4 = np.load(\"/project/projectdirs/lux/users/weiji/data/\"+simnamelist[jj]+\".npy\")[0]\n",
    "    try:\n",
    "        del ts4[\"spike_count\"]\n",
    "    except:\n",
    "        print \"There is no spike count in dataset \"+simnamelist[jj]\n",
    "        pass\n",
    "    dic=S.S()\n",
    "    LoadEFieldMap = LoadXYZDependentEField(Efieldmap[jj])\n",
    "    mask_S1_ts4 = (ts4.pulse_classification==1)&(ts4.s1s2_pairing==1)\n",
    "    mask_S2_ts4 = (ts4.pulse_classification==2)&(ts4.s1s2_pairing==1)\n",
    "    S1_ts4 = (ts4.xyz_corrected_pulse_area_all_phe*mask_S1_ts4).sum(0)\n",
    "    S2_ts4 = (ts4.xyz_corrected_pulse_area_all_phe*mask_S2_ts4).sum(0)\n",
    "    raw_x_ts4 = (ts4.x_cm*mask_S2_ts4).sum(0) #this is ok since i have verified there is only\n",
    "    raw_y_ts4 = (ts4.y_cm*mask_S2_ts4).sum(0) #one S2 in each event that has made it through cuts\n",
    "    #raw_x_del_ts4 = (ts4.x_cm_del*mask_S2_ts4).sum(0) #this is ok since i have verified there is only\n",
    "    #raw_y_del_ts4 = (ts4.y_cm_del*mask_S2_ts4).sum(0) #one S2 in each event that has made it through cuts\n",
    "    \n",
    "    drift_time_ts4 = (ts4.z_drift_samples*mask_S2_ts4).sum(0)/100.\n",
    "    negative_drift_time_ts4 = [0-a for a in drift_time_ts4]\n",
    "    raw_r_ts4 = (raw_x_ts4**2 + raw_y_ts4**2)**(1./2)\n",
    "    # mask out only tritium_energies this is a mask on an entire event not a pulse\n",
    "    # add a radial cut\n",
    "    # add a drift time cut\n",
    "    mask_tritium_energy_ts4 = (np.log10(S1_ts4) + 0.7*np.log10(S2_ts4)<4.8)& (np.log10(S1_ts4) + 0.7*np.log10(S2_ts4)>2.3) \\\n",
    "    &(np.log10(S1_ts4) - 2* np.log10(S2_ts4)<-5.) &(np.log10(S1_ts4) - 2* np.log10(S2_ts4)>-6.5)\n",
    "    mask_drifttime_ts4 = (drift_time_ts4 <300.)& (drift_time_ts4 > 40.)\n",
    "    #mask_xy_ts4 = (x_real_s2_ts4**2 +  y_real_s2_ts4**2 < 21.**2)\n",
    "    tS1_ts4 = []\n",
    "    tS2_ts4 = []\n",
    "    traw_x_ts4 = []\n",
    "    traw_y_ts4 = []\n",
    "    traw_r_ts4 = []\n",
    "    tdrift_time_ts4 = []\n",
    "    x_del_ts4=[]\n",
    "    y_del_ts4=[]\n",
    "    Efield_s2_ts4=[]\n",
    "    x_real_s2_ts4=[]\n",
    "    y_real_s2_ts4=[]\n",
    "    z_real_s2_ts4=[]\n",
    "    for aa in range(min(50000,len(mask_tritium_energy_ts4))):\n",
    "    #for aa in range(len(mask_tritium_energy_ts4)):\n",
    "        if mask_tritium_energy_ts4[aa] == True and mask_drifttime_ts4[aa] ==True :\n",
    "            if(WantToSleep):          \n",
    "                temp =  GetXYZFromXYZS2TDependentElectricField((raw_x_ts4[aa],raw_y_ts4[aa],drift_time_ts4[aa]),LoadEFieldMap)\n",
    "\n",
    "                mask_xy_ts4 = ((temp[0]**2 + temp[1]**2) < 21.**2)\n",
    "                if mask_xy_ts4 == True :\n",
    "                    x_real_s2_ts4.append(temp[0])\n",
    "                    y_real_s2_ts4.append(temp[1])\n",
    "                    z_real_s2_ts4.append(temp[2])\n",
    "                    Efield_s2_ts4.append(temp[3])\n",
    "                    tS1_ts4.append(S1_ts4[aa])\n",
    "                    tS2_ts4.append(S2_ts4[aa])\n",
    "                    traw_x_ts4.append(raw_x_ts4[aa])\n",
    "                    traw_y_ts4.append(raw_y_ts4[aa])\n",
    "                    traw_r_ts4.append(raw_r_ts4[aa])\n",
    "                    tdrift_time_ts4.append(drift_time_ts4[aa])\n",
    "                    #x_del_ts4.append(raw_x_del_ts4[aa])\n",
    "                    #y_del_ts4.append(raw_y_del_ts4[aa])\n",
    "    dic.name = simnamelist[jj]\n",
    "    dic.S1_t = np.array(tS1_ts4)\n",
    "    dic.S2_t = np.array(tS2_ts4)\n",
    "    dic.raw_x_t = np.array(datalist[zz][\"y_real_s2\"]-datalist[zz][\"x_real_s2\"])\n",
    "    dic.raw_y_t = np.array(traw_y_ts4)\n",
    "    dic.raw_r_t = np.array(traw_r_ts4)\n",
    "    dic.drift_time_t= np.array(tdrift_time_ts4)\n",
    "    dic.Efield_s2= np.array(Efield_s2_ts4)\n",
    "    dic.x_real_s2= np.array(x_real_s2_ts4)\n",
    "    dic.y_real_s2= np.array(y_real_s2_ts4)\n",
    "    dic.z_real_s2= np.array(z_real_s2_ts4)\n",
    "    dic.negative_drift_time_t = 0.- np.array(tdrift_time_ts4)\n",
    "    dic.x_del = np.array(x_del_ts4)\n",
    "    dic.y_del = np.array(y_del_ts4)\n",
    "    g1_s4 = g1[jj]\n",
    "    g2_s4 = g2[jj]\n",
    "    W = 13.7/1000\n",
    "    dic.S1_energy_t = W*np.array(tS1_ts4)/g1_s4\n",
    "    dic.S2_energy_t = W*np.array(tS2_ts4)/g2_s4\n",
    "    dic.Combined_energy_t = dic.S1_energy_t + dic.S2_energy_t\n",
    "#   dic.Efield=[]\n",
    "#    for ii in xrange(len(x_del_ts4)):\n",
    "#        Efield_ts4.append(GetXYZDependentElectricField((x_del_ts4[ii],y_del_ts4[ii],drift_time_t_ts4[ii]),LoadEFieldMap))\n",
    "#    Efield_ts4= np.array(Efield_ts4)\n",
    "\n",
    "    simlist.append(dic)"
   ]
  },
  {
   "cell_type": "code",
   "execution_count": null,
   "metadata": {
    "collapsed": false
   },
   "outputs": [],
   "source": [
    "print simlist"
   ]
  },
  {
   "cell_type": "code",
   "execution_count": null,
   "metadata": {
    "collapsed": true
   },
   "outputs": [],
   "source": [
    "WantToSleep = 0"
   ]
  },
  {
   "cell_type": "code",
   "execution_count": null,
   "metadata": {
    "collapsed": true
   },
   "outputs": [],
   "source": [
    "np.save(\"/global/project/projectdirs/lux/users/weiji/data/TrDatalist\", np.array(datalist))"
   ]
  },
  {
   "cell_type": "code",
   "execution_count": null,
   "metadata": {
    "collapsed": true
   },
   "outputs": [],
   "source": [
    "np.save(\"/global/project/projectdirs/lux/users/weiji/data/TrSimlist\", np.array(simlist))"
   ]
  },
  {
   "cell_type": "code",
   "execution_count": null,
   "metadata": {
    "collapsed": false
   },
   "outputs": [],
   "source": [
    "# light yield\n",
    "plt.figure(1001)\n",
    "databandfit=[]\n",
    "simbandfit=[]\n",
    "ax0 = plt.subplot(2, 1, 1)\n",
    "for zz in range(4):\n",
    "    databandfit.append(bandfit(datalist[zz][\"Combined_energy_t\"], datalist[zz][\"S1_t\"]/datalist[zz][\"Combined_energy_t\"],\\\n",
    "                               range=[[0,20],[0,7]],bins=(20,20),))\n",
    "    simbandfit.append(bandfit(simlist[zz][\"Combined_energy_t\"], simlist[zz][\"S1_t\"]/simlist[zz][\"Combined_energy_t\"],\\\n",
    "                               range=[[0,20],[0,7]],bins=(20,20),))\n",
    "    plt.errorbar(databandfit[zz][2],databandfit[zz][0],databandfit[zz][1],lw=2, \n",
    "                 color= float(zz+1)/float(len(datanamelist))* np.array((1.0,0.0,0.0)),label= datanamelist[zz])\n",
    "    plt.errorbar(simbandfit[zz][2],simbandfit[zz][0],simbandfit[zz][1],lw=2, \\\n",
    "                 color= float(zz+1)/float(len(datanamelist))* np.array((0.0,0.0,1.0)),label= simnamelist[zz])\n",
    "plt.legend(loc=0,fontsize=35)\n",
    "plt.xlim(0,20.)\n",
    "plt.ylim(1.5,5.5)\n",
    "plt.legend()\n",
    "#plt.xlabel(\"Deposited Energy (keV ee)\", fontsize=18)\n",
    "plt.ylabel(\"S1 / Deposited Energy\", fontsize=18)\n",
    "plt.title(\"Tritium Comparision\"  , fontsize=20)\n",
    "\n",
    "ax1 = plt.subplot(2, 1, 2)\n",
    "for zz in range(len(datanamelist)):\n",
    "    inds1 = np.in1d(simbandfit[zz][2],databandfit[zz][2])\n",
    "    inds0 = np.in1d(databandfit[zz][2],simbandfit[zz][2])\n",
    "    ax1.plot(simbandfit[zz][2][inds1],simbandfit[zz][0][inds1]-databandfit[zz][0][inds0],\"o\",\\\n",
    "             color= float(zz+1)/float(len(datanamelist))*np.array((1.0,0.0,0.0)),lw=2, \\\n",
    "             label=datanamelist[zz]+\"-\"+simnamelist[zz])\n",
    "plt.legend(loc=0,fontsize=35)\n",
    "plt.xlim(0,20.)\n",
    "plt.ylim(-0.25,0.75)\n",
    "plt.legend()\n",
    "plt.xlabel(\"Deposited Energy (keV ee)\", fontsize=18)\n",
    "plt.ylabel(\"(S1/Energy)_Sim - (S1/Energy)_Exp\", fontsize=18)\n",
    "#plt.title(\"Tritium Comparision\"  , fontsize=20)"
   ]
  },
  {
   "cell_type": "code",
   "execution_count": null,
   "metadata": {
    "collapsed": false
   },
   "outputs": [],
   "source": [
    "# light yield\n",
    "plt.figure(1001)\n",
    "databandfitefield=[]\n",
    "simbandfitefield=[]\n",
    "bandfits=np.load(\"LYgaussian.npy\")\n",
    "ax0 = plt.subplot(2, 1, 1)\n",
    "plt.plot(bandfits[2]*100.,bandfits[0],lw=4, color=\"g\",label=\"LibNEST gaussian fit bins\")\n",
    "for zz in range(len(datanamelist)):\n",
    "    databandfitefield.append(bandfit(datalist[zz][\"Efield_s2\"][~np.isnan(datalist[zz][\"Efield_s2\"])],\\\n",
    "            datalist[zz][\"S1_t\"][~np.isnan(datalist[zz][\"Efield_s2\"])]/datalist[zz][\"Combined_energy_t\"][~np.isnan(datalist[zz][\"Efield_s2\"])],\\\n",
    "                               range=[[0,70000],[0,8]],bins=(50,50),))\n",
    "    simbandfitefield.append(bandfit(simlist[zz][\"Efield_s2\"][~np.isnan(simlist[zz][\"Efield_s2\"])],\\\n",
    "            simlist[zz][\"S1_t\"][~np.isnan(simlist[zz][\"Efield_s2\"])]/simlist[zz][\"Combined_energy_t\"][~np.isnan(simlist[zz][\"Efield_s2\"])],\\\n",
    "                               range=[[0,70000],[0,8]],bins=(50,50),))\n",
    "    #plt.errorbar(databandfitefield[zz][2],databandfitefield[zz][0],databandfitefield[zz][1],lw=2, \\\n",
    "                 #color= float(zz+1)/float(len(datanamelist))*np.array((1.0,0.0,0.0)),label= datanamelist[zz])\n",
    "    #plt.errorbar(simbandfitefield[zz][2],simbandfitefield[zz][0],simbandfitefield[zz][1],lw=2, \\\n",
    "                 #color= float(zz+1)/float(len(datanamelist))* np.array((0.0,0.0,1.0)),label= simnamelist[zz])\n",
    "    plt.plot(databandfitefield[zz][2],databandfitefield[zz][0],lw=2, \\\n",
    "                 color= float(zz+1)/float(len(datanamelist))*np.array((1.0,0.0,0.0)),label= datanamelist[zz])\n",
    "    plt.plot(simbandfitefield[zz][2],simbandfitefield[zz][0],lw=2, \\\n",
    "                 color= float(zz+1)/float(len(datanamelist))* np.array((0.0,0.0,1.0)),label= simnamelist[zz])\n",
    "plt.legend(loc=0,fontsize=35)\n",
    "plt.xlim(0,70000.)\n",
    "plt.ylim(3.5,5.0)\n",
    "plt.legend()\n",
    "#plt.xlabel(\"E field (V/m)\", fontsize=18)\n",
    "plt.ylabel(\"S1 /Deposit Energy\", fontsize=18)\n",
    "plt.title(\"Tritium Comparision\"  , fontsize=20)\n",
    "ax1 = plt.subplot(2, 1, 2)\n",
    "for zz in range(len(datanamelist)):\n",
    "    inds1 = np.in1d(simbandfitefield[zz][2],databandfitefield[zz][2])\n",
    "    inds0 = np.in1d(databandfitefield[zz][2],simbandfitefield[zz][2])\n",
    "    ax1.plot(simbandfitefield[zz][2][inds1],simbandfitefield[zz][0][inds1]-databandfitefield[zz][0][inds0],\"o\",\\\n",
    "             color= float(zz+1)/float(len(datanamelist))*np.array((1.0,0.0,0.0)),lw=2, \\\n",
    "             label=datanamelist[zz]+\"-\"+simnamelist[zz])\n",
    "plt.legend(loc=0,fontsize=35)\n",
    "plt.xlim(0,70000.)\n",
    "plt.ylim(-0.25,0.75)\n",
    "plt.legend()\n",
    "plt.xlabel(\"E field (V/m)\", fontsize=18)\n",
    "plt.ylabel(\"(S1/Energy)_Sim - (S1/Energy)_Exp\", fontsize=18)\n",
    "#plt.title(\"Tritium Comparision\"  , fontsize=20)"
   ]
  },
  {
   "cell_type": "code",
   "execution_count": null,
   "metadata": {
    "collapsed": false
   },
   "outputs": [],
   "source": [
    "# drift time histogram\n",
    "plt.figure(1090)\n",
    "#plt.hist(drift_time_t_ts4, range=[10.5,380.5], bins=100)\n",
    "for zz in range(4):\n",
    "    plt.hist(datalist[zz][\"drift_time_t\"], range=[10.5,380.5], bins=100, histtype=\"step\", normed=True, \\\n",
    "             color= float(zz+1)/float(len(datanamelist))* np.array((1.0,0.0,0.0)),label= datanamelist[zz])\n",
    "    plt.hist(simlist[zz][\"drift_time_t\"], range=[10.5,380.5], bins=100, histtype=\"step\", normed=True, \\\n",
    "             color= float(zz+1)/float(len(datanamelist))* np.array((0.0,0.0,1.0)),label= simnamelist[zz])\n",
    "plt.xlabel(\"drift time (us)\",fontsize=18)\n",
    "plt.legend()\n",
    "plt.title(\"Tritium \", fontsize=20)\n",
    "\n",
    "plt.figure(1091)\n",
    "#plt.hist(drift_time_t_ts4, range=[10.5,380.5], bins=100)\n",
    "\n",
    "for zz in range(4):\n",
    "    ax0 = plt.subplot(2, 2, zz+1)\n",
    "    plt.hist(datalist[zz][\"drift_time_t\"], range=[10.5,380.5], bins=100, histtype=\"step\", normed=True, \\\n",
    "             color= float(zz+1)/float(len(datanamelist))* np.array((1.0,0.0,0.0)),label= datanamelist[zz])\n",
    "    plt.hist(simlist[zz][\"drift_time_t\"], range=[10.5,380.5], bins=100, histtype=\"step\", normed=True, \\\n",
    "             color= float(zz+1)/float(len(datanamelist))* np.array((0.0,0.0,1.0)),label= simnamelist[zz])\n",
    "    plt.legend()\n",
    "    plt.xlabel(\"drift time (us)\",fontsize=18)\n",
    "#plt.title(\"Tritium \", fontsize=20)\n",
    "\n",
    "# Corrected S1\n",
    "plt.figure(1100)\n",
    "#plt.hist(S1_t_ts4, range=[-0.5,110.5], bins=111)\n",
    "for zz in range(4):\n",
    "    plt.hist(datalist[zz][\"S1_t\"], range=[-0.5,110.5], bins=100, histtype=\"step\", normed=True, \\\n",
    "             color= float(zz+1)/float(len(datanamelist))* np.array((1.0,0.0,0.0)),label= datanamelist[zz])\n",
    "    plt.hist(simlist[zz][\"S1_t\"], range=[-0.5,110.5], bins=100, histtype=\"step\", normed=True, \\\n",
    "             color= float(zz+1)/float(len(datanamelist))* np.array((0.0,0.0,1.0)),label= simnamelist[zz])\n",
    "    plt.xlim(0,110)\n",
    "    plt.xlabel(\"S1 Corrected (ph?)\",fontsize=18)\n",
    "plt.legend()\n",
    "plt.title(\"Tritium \", fontsize=20)\n",
    "\n",
    "plt.figure(1101)\n",
    "#plt.hist(S1_t_ts4, range=[-0.5,110.5], bins=111)\n",
    "for zz in range(4):\n",
    "    ax0 = plt.subplot(2, 2, zz+1)\n",
    "    plt.hist(datalist[zz][\"S1_t\"], range=[-0.5,110.5], bins=100, histtype=\"step\", normed=True, \\\n",
    "             color= float(zz+1)/float(len(datanamelist))* np.array((1.0,0.0,0.0)),label= datanamelist[zz])\n",
    "    plt.hist(simlist[zz][\"S1_t\"], range=[-0.5,110.5], bins=100, histtype=\"step\", normed=True, \\\n",
    "             color= float(zz+1)/float(len(datanamelist))* np.array((0.0,0.0,1.0)),label= simnamelist[zz])\n",
    "    plt.xlim(0,110)\n",
    "    plt.xlabel(\"S1 Corrected (ph?)\",fontsize=18)\n",
    "    plt.legend()\n",
    "#plt.title(\"Tritium \", fontsize=20)\n",
    "\n",
    "# Corrected S2\n",
    "plt.figure(1200)\n",
    "for zz in range(4):\n",
    "    plt.hist(datalist[zz][\"S2_t\"], range=[0.,10500.], bins=100, histtype=\"step\", normed=True, \\\n",
    "             color= float(zz+1)/float(len(datanamelist))* np.array((1.0,0.0,0.0)),label= datanamelist[zz])\n",
    "    plt.hist(simlist[zz][\"S2_t\"], range=[0.,10500.], bins=100, histtype=\"step\", normed=True, \\\n",
    "             color= float(zz+1)/float(len(datanamelist))* np.array((0.0,0.0,1.0)),label= simnamelist[zz])\n",
    "plt.xlim(0,10500.)\n",
    "plt.legend()\n",
    "plt.xlabel(\"S2 Corrected (ph?)\",fontsize=18)\n",
    "plt.title(\"Tritium \", fontsize=20)\n",
    "\n",
    "plt.figure(1202)\n",
    "for zz in range(4):\n",
    "    ax0 = plt.subplot(2, 2, zz+1)\n",
    "    plt.hist(datalist[zz][\"S2_t\"], range=[0.,10500.], bins=100, histtype=\"step\", normed=True, \\\n",
    "             color= float(zz+1)/float(len(datanamelist))* np.array((1.0,0.0,0.0)),label= datanamelist[zz])\n",
    "    plt.hist(simlist[zz][\"S2_t\"], range=[0.,10500.], bins=100, histtype=\"step\", normed=True, \\\n",
    "             color= float(zz+1)/float(len(datanamelist))* np.array((0.0,0.0,1.0)),label= simnamelist[zz])\n",
    "    plt.xlim(0,10500.)\n",
    "    plt.legend()\n",
    "    plt.xlabel(\"S2 Corrected (ph?)\",fontsize=18)\n",
    "#plt.title(\"Tritium \", fontsize=20)\n",
    "\n",
    "#Combined_energy_t\n",
    "plt.figure(1300)\n",
    "for zz in range(4):\n",
    "    plt.hist(datalist[zz][\"Combined_energy_t\"], range=[0.,20.], bins=100, histtype=\"step\", normed=True, \\\n",
    "             color= float(zz+1)/float(len(datanamelist))* np.array((1.0,0.0,0.0)),label= datanamelist[zz])\n",
    "    plt.hist(simlist[zz][\"Combined_energy_t\"], range=[0.,20.], bins=100, histtype=\"step\", normed=True, \\\n",
    "             color= float(zz+1)/float(len(datanamelist))* np.array((0.0,0.0,1.0)),label= simnamelist[zz])\n",
    "plt.xlim(0,20.)\n",
    "plt.legend()\n",
    "plt.xlabel(\"Combined_energy (keV)\",fontsize=18)\n",
    "plt.title(\"Tritium \", fontsize=20)\n",
    "\n",
    "plt.figure(1301)\n",
    "for zz in range(4):\n",
    "    ax0 = plt.subplot(2, 2, zz+1)\n",
    "    plt.hist(datalist[zz][\"Combined_energy_t\"], range=[0.,20.], bins=100, histtype=\"step\", normed=True, \\\n",
    "             color= float(zz+1)/float(len(datanamelist))* np.array((1.0,0.0,0.0)),label= datanamelist[zz])\n",
    "    plt.hist(simlist[zz][\"Combined_energy_t\"], range=[0.,20.], bins=100, histtype=\"step\", normed=True, \\\n",
    "             color= float(zz+1)/float(len(datanamelist))* np.array((0.0,0.0,1.0)),label= simnamelist[zz])\n",
    "    plt.xlim(0,20.)\n",
    "    plt.legend()\n",
    "    plt.xlabel(\"Combined_energy (keV)\",fontsize=18)\n",
    "#plt.title(\"Tritium \", fontsize=20)"
   ]
  },
  {
   "cell_type": "code",
   "execution_count": null,
   "metadata": {
    "collapsed": false
   },
   "outputs": [],
   "source": [
    "# S2 vs S1\n",
    "fig = plt.figure(10)\n",
    "for zz in range(4):\n",
    "    ax = plt.subplot(4, 1, zz+1)\n",
    "    plt.hist2d(np.log10(datalist[zz][\"S1_t\"]),np.log10(datalist[zz][\"S2_t\"]),bins=(100,100),norm=LogNorm())\n",
    "    plt.xlim(0.,2.3)\n",
    "    plt.ylim(2.5,4.25)\n",
    "    cbar = plt.colorbar()\n",
    "    cbar.ax.tick_params(labelsize=18)\n",
    "ax = fig.add_subplot(111)\n",
    "ax.spines['top'].set_color('none')\n",
    "ax.spines['bottom'].set_color('none')\n",
    "ax.spines['left'].set_color('none')\n",
    "ax.spines['right'].set_color('none')\n",
    "ax.tick_params(labelcolor='w', top='off', bottom='off', left='off', right='off')\n",
    "ax.set_xlabel(\"Log10 S1\", fontsize=18)\n",
    "ax.set_ylabel(\"Log10 S2\", fontsize=18)\n",
    "ax.set_title(\"Tritium Data\", fontsize=20)\n",
    "\n",
    "fig = plt.figure(11)\n",
    "for zz in range(4):\n",
    "    ax = plt.subplot(4, 1, zz+1)\n",
    "    plt.hist2d(np.log10(simlist[zz][\"S1_t\"]),np.log10(simlist[zz][\"S2_t\"]),bins=(100,100),norm=LogNorm())\n",
    "    plt.xlim(0.,2.3)\n",
    "    plt.ylim(2.5,4.25)\n",
    "    cbar = plt.colorbar()\n",
    "    cbar.ax.tick_params(labelsize=18)\n",
    "ax = fig.add_subplot(111)\n",
    "ax.spines['top'].set_color('none')\n",
    "ax.spines['bottom'].set_color('none')\n",
    "ax.spines['left'].set_color('none')\n",
    "ax.spines['right'].set_color('none')\n",
    "ax.tick_params(labelcolor='w', top='off', bottom='off', left='off', right='off')\n",
    "ax.set_xlabel(\"Log10 S1\", fontsize=18)\n",
    "ax.set_ylabel(\"Log10 S2\", fontsize=18)\n",
    "ax.set_title(\"Tritium Sim\", fontsize=20)\n",
    "\n",
    "fig = plt.figure(12)\n",
    "for zz in range(4):\n",
    "    ax = plt.subplot(4, 2, 2*zz+1)\n",
    "    plt.hist2d(np.log10(datalist[zz][\"S1_t\"]),np.log10(datalist[zz][\"S2_t\"]),bins=(100,100),norm=LogNorm())\n",
    "    plt.xlim(0.,2.3)\n",
    "    plt.ylim(2.5,4.25)\n",
    "    cbar = plt.colorbar()\n",
    "    cbar.ax.tick_params(labelsize=18)\n",
    "    ax = plt.subplot(4, 2, 2*zz+2)\n",
    "    plt.hist2d(np.log10(simlist[zz][\"S1_t\"]),np.log10(simlist[zz][\"S2_t\"]),bins=(100,100),norm=LogNorm())\n",
    "    plt.xlim(0.,2.3)\n",
    "    plt.ylim(2.5,4.25)\n",
    "    cbar = plt.colorbar()\n",
    "    cbar.ax.tick_params(labelsize=18)\n",
    "ax = fig.add_subplot(121)\n",
    "ax.spines['top'].set_color('none')\n",
    "ax.spines['bottom'].set_color('none')\n",
    "ax.spines['left'].set_color('none')\n",
    "ax.spines['right'].set_color('none')\n",
    "ax.tick_params(labelcolor='w', top='off', bottom='off', left='off', right='off')\n",
    "ax.set_xlabel(\"S1\", fontsize=18)\n",
    "ax.set_ylabel(\"Log10 S2/S1\", fontsize=18)\n",
    "ax.set_title(\"Tritium Data\", fontsize=20)\n",
    "ax = fig.add_subplot(122)\n",
    "ax.spines['top'].set_color('none')\n",
    "ax.spines['bottom'].set_color('none')\n",
    "ax.spines['left'].set_color('none')\n",
    "ax.spines['right'].set_color('none')\n",
    "ax.tick_params(labelcolor='w', top='off', bottom='off', left='off', right='off')\n",
    "ax.set_xlabel(\"S1\", fontsize=18)\n",
    "ax.set_ylabel(\"Log10 S2/S1\", fontsize=18)\n",
    "ax.set_title(\"Tritium Sim\", fontsize=20)\n",
    "\n",
    "\n",
    "\n"
   ]
  },
  {
   "cell_type": "code",
   "execution_count": null,
   "metadata": {
    "collapsed": false
   },
   "outputs": [],
   "source": [
    "# Traditional band plot\n",
    "fig = plt.figure(20)\n",
    "for zz in range(4):\n",
    "    ax = plt.subplot(4, 1, zz+1)\n",
    "    plt.hist2d(datalist[zz][\"S1_t\"],np.log10(datalist[zz][\"S2_t\"])-np.log10(datalist[zz][\"S1_t\"]),bins=(100,100),norm=LogNorm())\n",
    "    plt.xlim(0.,180.)\n",
    "    plt.ylim(1.25,3.5)\n",
    "    cbar = plt.colorbar()\n",
    "    cbar.ax.tick_params(labelsize=18)\n",
    "ax = fig.add_subplot(111)\n",
    "ax.spines['top'].set_color('none')\n",
    "ax.spines['bottom'].set_color('none')\n",
    "ax.spines['left'].set_color('none')\n",
    "ax.spines['right'].set_color('none')\n",
    "ax.tick_params(labelcolor='w', top='off', bottom='off', left='off', right='off')\n",
    "ax.set_xlabel(\"S1\", fontsize=18)\n",
    "ax.set_ylabel(\"Log10 S2/S1\", fontsize=18)\n",
    "ax.set_title(\"Tritium Data\", fontsize=20)\n",
    "\n",
    "# Traditional band plot\n",
    "fig = plt.figure(21)\n",
    "for zz in range(4):\n",
    "    ax = plt.subplot(4, 1, zz+1)\n",
    "    plt.hist2d(simlist[zz][\"S1_t\"],np.log10(simlist[zz][\"S2_t\"])-np.log10(simlist[zz][\"S1_t\"]),bins=(100,100),norm=LogNorm())\n",
    "    plt.xlim(0.,180.)\n",
    "    plt.ylim(1.25,3.5)\n",
    "    cbar = plt.colorbar()\n",
    "    cbar.ax.tick_params(labelsize=18)\n",
    "ax = fig.add_subplot(111)\n",
    "ax.spines['top'].set_color('none')\n",
    "ax.spines['bottom'].set_color('none')\n",
    "ax.spines['left'].set_color('none')\n",
    "ax.spines['right'].set_color('none')\n",
    "ax.tick_params(labelcolor='w', top='off', bottom='off', left='off', right='off')\n",
    "ax.set_xlabel(\"S1\", fontsize=18)\n",
    "ax.set_ylabel(\"Log10 S2/S1\", fontsize=18)\n",
    "ax.set_title(\"Tritium Sim\", fontsize=20)\n",
    "\n",
    "# Traditional band plot\n",
    "fig = plt.figure(22)\n",
    "for zz in range(4):\n",
    "    ax = plt.subplot(4, 2, 2*zz+1)\n",
    "    plt.hist2d(datalist[zz][\"S1_t\"],np.log10(datalist[zz][\"S2_t\"])-np.log10(datalist[zz][\"S1_t\"]),bins=(100,100),norm=LogNorm())\n",
    "    plt.xlim(0.,180.)\n",
    "    plt.ylim(1.25,3.5)\n",
    "    cbar = plt.colorbar()\n",
    "    cbar.ax.tick_params(labelsize=18)\n",
    "    ax = plt.subplot(4, 2, 2*zz+2)\n",
    "    plt.hist2d(datalist[zz][\"S1_t\"],np.log10(datalist[zz][\"S2_t\"])-np.log10(datalist[zz][\"S1_t\"]),bins=(100,100),norm=LogNorm())\n",
    "    plt.xlim(0.,180.)\n",
    "    plt.ylim(1.25,3.5)\n",
    "    cbar = plt.colorbar()\n",
    "    cbar.ax.tick_params(labelsize=18)\n",
    "ax = fig.add_subplot(121)\n",
    "ax.spines['top'].set_color('none')\n",
    "ax.spines['bottom'].set_color('none')\n",
    "ax.spines['left'].set_color('none')\n",
    "ax.spines['right'].set_color('none')\n",
    "ax.tick_params(labelcolor='w', top='off', bottom='off', left='off', right='off')\n",
    "ax.set_xlabel(\"S1\", fontsize=18)\n",
    "ax.set_ylabel(\"Log10 S2/S1\", fontsize=18)\n",
    "ax.set_title(\"Tritium Data\", fontsize=20)\n",
    "ax = fig.add_subplot(122)\n",
    "ax.spines['top'].set_color('none')\n",
    "ax.spines['bottom'].set_color('none')\n",
    "ax.spines['left'].set_color('none')\n",
    "ax.spines['right'].set_color('none')\n",
    "ax.tick_params(labelcolor='w', top='off', bottom='off', left='off', right='off')\n",
    "ax.set_xlabel(\"S1\", fontsize=18)\n",
    "ax.set_ylabel(\"Log10 S2/S1\", fontsize=18)\n",
    "ax.set_title(\"Tritium Sim\", fontsize=20)"
   ]
  },
  {
   "cell_type": "code",
   "execution_count": null,
   "metadata": {
    "collapsed": false
   },
   "outputs": [],
   "source": [
    "# S2 vs S1\n",
    "plt.figure(1101)\n",
    "databandfitlogs1logs2=[]\n",
    "simbandfitlogs1logs2=[]\n",
    "#bandfits=np.load(\"LYgaussian.npy\")\n",
    "ax0 = plt.subplot(2, 1, 1)\n",
    "#plt.plot(bandfits[2]*100.,bandfits[0],lw=4, color=\"g\",label=\"LibNEST gaussian fit bins\")\n",
    "for zz in range(len(datanamelist)):\n",
    "    databandfitlogs1logs2.append(bandfit(np.log10(datalist[zz][\"S1_t\"]),np.log10(datalist[zz][\"S2_t\"]),\\\n",
    "                                         range=[[1,2.2],[2.8,4.3]],bins=(50,50),))\n",
    "    simbandfitlogs1logs2.append(bandfit(np.log10(simlist[zz][\"S1_t\"]),np.log10(simlist[zz][\"S2_t\"]),\\\n",
    "                                        range=[[1,2.2],[2.8,4.3]],bins=(50,50),))\n",
    "    plt.plot(databandfitlogs1logs2[zz][2],databandfitlogs1logs2[zz][0],lw=2, \\\n",
    "                 color= float(zz+1)/float(len(datanamelist))*np.array((1.0,0.0,0.0)),label= datanamelist[zz])\n",
    "    plt.plot(simbandfitlogs1logs2[zz][2],simbandfitlogs1logs2[zz][0],lw=2, \\\n",
    "                 color= float(zz+1)/float(len(datanamelist))* np.array((0.0,0.0,1.0)),label= simnamelist[zz])\n",
    "plt.legend(loc=0,fontsize=35)\n",
    "plt.xlim(1,2.2)\n",
    "plt.ylim(3.3,4.0)\n",
    "plt.legend()\n",
    "#plt.xlabel(\"Log10 S1\", fontsize=18)\n",
    "plt.ylabel(\"Log10 S2\", fontsize=18)\n",
    "plt.title(\"Tritium Comparision\"  , fontsize=20)\n",
    "ax1 = plt.subplot(2, 1, 2)\n",
    "for zz in range(len(datanamelist)):\n",
    "    inds1 = np.in1d(simbandfitlogs1logs2[zz][2],databandfitlogs1logs2[zz][2])\n",
    "    inds0 = np.in1d(databandfitlogs1logs2[zz][2],simbandfitlogs1logs2[zz][2])\n",
    "    ax1.plot(simbandfitlogs1logs2[zz][2][inds1],simbandfitlogs1logs2[zz][0][inds1]-databandfitlogs1logs2[zz][0][inds0],\"o\",\\\n",
    "             color= float(zz+1)/float(len(datanamelist))*np.array((1.0,0.0,0.0)),lw=2, \\\n",
    "             label=datanamelist[zz]+\"-\"+simnamelist[zz])\n",
    "plt.legend(loc=0,fontsize=35)\n",
    "plt.xlim(1,2.2)\n",
    "plt.ylim(-0.1,0.1)\n",
    "plt.legend()\n",
    "plt.xlabel(\"Log10 S1\", fontsize=18)\n",
    "plt.ylabel(\"(Log10 S2y)_Sim - (Log10 S2)_Exp\", fontsize=18)\n",
    "#plt.title(\"Tritium Comparision\"  , fontsize=20)"
   ]
  },
  {
   "cell_type": "code",
   "execution_count": null,
   "metadata": {
    "collapsed": false
   },
   "outputs": [],
   "source": [
    "# combined xyz plot\n",
    "plt.figure(80)\n",
    "\n",
    "#plt.plot(bandfits[2]*100.,bandfits[0],lw=4, color=\"g\",label=\"LibNEST gaussian fit bins\")\n",
    "for zz in range(len(datanamelist)):\n",
    "    ax0 = plt.subplot(4, 4, 4*zz+1)\n",
    "    plt.hist2d(datalist[zz][\"raw_x_t\"],datalist[zz][\"raw_y_t\"],range=[[-25,25],[-25,25]],bins=(100,100), normed=True,label= datanamelist[zz])\n",
    "#    cbar = plt.colorbar()\n",
    "    \n",
    "    plt.xlabel(\"raw_x\",fontsize=8)\n",
    "    plt.ylabel(\"raw_y\",fontsize=8)\n",
    "    plt.title(datanamelist[zz])\n",
    "    \n",
    "    ax0 = plt.subplot(4, 4, 4*zz+2)\n",
    "    plt.hist2d((datalist[zz][\"raw_x_t\"]**2+datalist[zz][\"raw_y_t\"]**2),-datalist[zz][\"drift_time_t\"],\\\n",
    "               range=[[0,22.**2],[-325.,-25.]],bins=(70,70), normed=True,label= datanamelist[zz])\n",
    "#    cbar = plt.colorbar()\n",
    "    \n",
    "    plt.xlabel(\"raw_r^2\",fontsize=8)\n",
    "    plt.ylabel(\"drift_time_t\",fontsize=8)\n",
    "    plt.title(datanamelist[zz])\n",
    "    \n",
    "    ax0 = plt.subplot(4, 4, 4*zz+3)\n",
    "    plt.hist2d(simlist[zz][\"raw_x_t\"],simlist[zz][\"raw_y_t\"],range=[[-25,25],[-25,25]],bins=(100,100), normed=True,label= simnamelist[zz])\n",
    "#    cbar = plt.colorbar()\n",
    "    \n",
    "    plt.xlabel(\"raw_x\",fontsize=8)\n",
    "    plt.ylabel(\"raw_y\",fontsize=8)\n",
    "    plt.title(simnamelist[zz])    \n",
    "\n",
    "    ax0 = plt.subplot(4, 4, 4*zz+4)\n",
    "    plt.hist2d((simlist[zz][\"raw_x_t\"]**2+simlist[zz][\"raw_y_t\"]**2),-simlist[zz][\"drift_time_t\"],\\\n",
    "               range=[[0,22.**2],[-325.,25.]],bins=(70,70), normed=True,label= simnamelist[zz])\n",
    "#    cbar = plt.colorbar()\n",
    "    \n",
    "    plt.xlabel(\"raw_r^2\",fontsize=8)\n",
    "    plt.ylabel(\"drift_time_t\",fontsize=8)\n",
    "    plt.title(simnamelist[zz])\n",
    "    \n",
    "ax = fig.add_subplot(121)\n",
    "ax.spines['top'].set_color('none')\n",
    "ax.spines['bottom'].set_color('none')\n",
    "ax.spines['left'].set_color('none')\n",
    "ax.spines['right'].set_color('none')\n",
    "ax.tick_params(labelcolor='w', top='off', bottom='off', left='off', right='off')\n",
    "ax.set_xlabel(\"S1\", fontsize=18)\n",
    "ax.set_ylabel(\"Log10 S2/S1\", fontsize=18)\n",
    "ax.set_title(\"Tritium Data\", fontsize=20)\n",
    "ax = fig.add_subplot(122)\n",
    "ax.spines['top'].set_color('none')\n",
    "ax.spines['bottom'].set_color('none')\n",
    "ax.spines['left'].set_color('none')\n",
    "ax.spines['right'].set_color('none')\n",
    "ax.tick_params(labelcolor='w', top='off', bottom='off', left='off', right='off')\n",
    "ax.set_xlabel(\"S1\", fontsize=18)\n",
    "ax.set_ylabel(\"Log10 S2/S1\", fontsize=18)\n",
    "ax.set_title(\"Tritium Sim\", fontsize=20)"
   ]
  },
  {
   "cell_type": "code",
   "execution_count": null,
   "metadata": {
    "collapsed": false
   },
   "outputs": [],
   "source": [
    "# combined xyz plot\n",
    "plt.figure(80)\n",
    "\n",
    "#plt.plot(bandfits[2]*100.,bandfits[0],lw=4, color=\"g\",label=\"LibNEST gaussian fit bins\")\n",
    "for zz in range(len(datanamelist)):\n",
    "    ax0 = plt.subplot(4, 4, 4*zz+1)\n",
    "    plt.hist2d(datalist[zz][\"x_real_s2\"],datalist[zz][\"y_real_s2\"],range=[[-25,25],[-25,25]],bins=(100,100), normed=True,label= datanamelist[zz])\n",
    "#    cbar = plt.colorbar()\n",
    "    \n",
    "    plt.xlabel(\"x_real_s2\",fontsize=8)\n",
    "    plt.ylabel(\"y_real_s2\",fontsize=8)\n",
    "    plt.title(datanamelist[zz])\n",
    "    \n",
    "    ax0 = plt.subplot(4, 4, 4*zz+2)\n",
    "    plt.hist2d((datalist[zz][\"x_real_s2\"]**2+datalist[zz][\"y_real_s2\"]**2),-datalist[zz][\"z_real_s2\"],\\\n",
    "               range=[[0,22.**2],[5.,55.]],bins=(70,70), normed=True,label= datanamelist[zz])\n",
    "#    cbar = plt.colorbar()\n",
    "    \n",
    "    plt.xlabel(\"r_real_s2^2\",fontsize=8)\n",
    "    plt.ylabel(\"z_real_s2\",fontsize=8)\n",
    "    plt.title(datanamelist[zz])\n",
    "    \n",
    "    ax0 = plt.subplot(4, 4, 4*zz+3)\n",
    "    plt.hist2d(simlist[zz][\"x_real_s2\"],simlist[zz][\"y_real_s2\"],range=[[-25,25],[-25,25]],bins=(100,100), normed=True,label= simnamelist[zz])\n",
    "#    cbar = plt.colorbar()\n",
    "    \n",
    "    plt.xlabel(\"x_real_s2\",fontsize=8)\n",
    "    plt.ylabel(\"y_real_s2\",fontsize=8)\n",
    "    plt.title(simnamelist[zz])    \n",
    "\n",
    "    ax0 = plt.subplot(4, 4, 4*zz+4)\n",
    "    plt.hist2d((simlist[zz][\"x_real_s2\"]**2+simlist[zz][\"y_real_s2\"]**2),-simlist[zz][\"z_real_s2\"],\\\n",
    "               range=[[0,22.**2],[5.,55.]],bins=(70,70), normed=True,label= simnamelist[zz])\n",
    "#    cbar = plt.colorbar()\n",
    "    \n",
    "    plt.xlabel(\"r_real_s2^2\",fontsize=8)\n",
    "    plt.ylabel(\"z_real_s2\",fontsize=8)\n",
    "    plt.title(simnamelist[zz])\n",
    "    \n",
    "ax = fig.add_subplot(121)\n",
    "ax.spines['top'].set_color('none')\n",
    "ax.spines['bottom'].set_color('none')\n",
    "ax.spines['left'].set_color('none')\n",
    "ax.spines['right'].set_color('none')\n",
    "ax.tick_params(labelcolor='w', top='off', bottom='off', left='off', right='off')\n",
    "ax.set_xlabel(\"S1\", fontsize=18)\n",
    "ax.set_ylabel(\"Log10 S2/S1\", fontsize=18)\n",
    "ax.set_title(\"Tritium Data\", fontsize=20)\n",
    "ax = fig.add_subplot(122)\n",
    "ax.spines['top'].set_color('none')\n",
    "ax.spines['bottom'].set_color('none')\n",
    "ax.spines['left'].set_color('none')\n",
    "ax.spines['right'].set_color('none')\n",
    "ax.tick_params(labelcolor='w', top='off', bottom='off', left='off', right='off')\n",
    "ax.set_xlabel(\"S1\", fontsize=18)\n",
    "ax.set_ylabel(\"Log10 S2/S1\", fontsize=18)\n",
    "ax.set_title(\"Tritium Sim\", fontsize=20)"
   ]
  },
  {
   "cell_type": "code",
   "execution_count": null,
   "metadata": {
    "collapsed": false
   },
   "outputs": [],
   "source": [
    "datalist[zz][\"y_real_s2\"]-datalist[zz][\"x_real_s2\"]"
   ]
  },
  {
   "cell_type": "code",
   "execution_count": null,
   "metadata": {
    "collapsed": false
   },
   "outputs": [],
   "source": [
    "# Corrected S1\n",
    "plt.figure(991)\n",
    "plt.hist(S2_t_ts4[np.where(np.abs(S1_t_ts4-3)<0.5)], range=[1000,4000], bins=111)\n",
    "#plt.xlim(0,110)\n",
    "plt.xlabel(\"S2 Corrected (ph?)\",fontsize=18)\n",
    "plt.title(\"Tritium Sept 2014\", fontsize=20)\n",
    "# Corrected S1\n",
    "plt.figure(992)\n",
    "plt.hist(S2_ss4[np.where(np.abs(S1_ss4-3)<0.5)], range=[1000,4000], bins=111)\n",
    "#plt.xlim(0,110)\n",
    "plt.xlabel(\"S2 Corrected (ph?)\",fontsize=18)\n",
    "plt.title(\"Tritium Sim Sept 2014\", fontsize=20)\n",
    "# Corrected S1\n",
    "plt.figure(993)\n",
    "plt.hist(z_real_s2_ts4[np.where(np.abs(S1_t_ts4-3)<0.5)], range=[0,60], bins=100)\n",
    "#plt.xlim(0,110)\n",
    "plt.xlabel(\"z\",fontsize=18)\n",
    "plt.title(\"Tritium Sept 2014\", fontsize=20)\n",
    "# Corrected S1\n",
    "plt.figure(994)\n",
    "plt.hist(z_real_s2_ss4[np.where(np.abs(S1_ss4-3)<0.5)], range=[0,60], bins=100)\n",
    "#plt.xlim(0,110)\n",
    "plt.xlabel(\"z\",fontsize=18)\n",
    "plt.title(\"Tritium Sim Sept 2014\", fontsize=20)"
   ]
  },
  {
   "cell_type": "code",
   "execution_count": 27,
   "metadata": {
    "collapsed": false
   },
   "outputs": [
    {
     "ename": "NameError",
     "evalue": "name 'drift_time_ss4' is not defined",
     "output_type": "error",
     "traceback": [
      "\u001b[1;31m---------------------------------------------------------------------------\u001b[0m",
      "\u001b[1;31mNameError\u001b[0m                                 Traceback (most recent call last)",
      "\u001b[1;32m<ipython-input-27-03d665d5a3b1>\u001b[0m in \u001b[0;36m<module>\u001b[1;34m()\u001b[0m\n\u001b[0;32m      1\u001b[0m \u001b[1;32mfrom\u001b[0m \u001b[0mscipy\u001b[0m\u001b[1;33m.\u001b[0m\u001b[0mstats\u001b[0m \u001b[1;32mimport\u001b[0m \u001b[0mks_2samp\u001b[0m\u001b[1;33m\u001b[0m\u001b[0m\n\u001b[1;32m----> 2\u001b[1;33m \u001b[0mks_2samp\u001b[0m\u001b[1;33m(\u001b[0m\u001b[0mdrift_time_ss4\u001b[0m\u001b[1;33m[\u001b[0m\u001b[0mnp\u001b[0m\u001b[1;33m.\u001b[0m\u001b[0mwhere\u001b[0m\u001b[1;33m(\u001b[0m\u001b[0mnp\u001b[0m\u001b[1;33m.\u001b[0m\u001b[0mabs\u001b[0m\u001b[1;33m(\u001b[0m\u001b[0mdrift_time_ss4\u001b[0m\u001b[1;33m-\u001b[0m\u001b[1;36m195.5\u001b[0m\u001b[1;33m)\u001b[0m\u001b[1;33m<\u001b[0m\u001b[1;36m185.5\u001b[0m\u001b[1;33m)\u001b[0m\u001b[1;33m]\u001b[0m\u001b[1;33m/\u001b[0m\u001b[0mnp\u001b[0m\u001b[1;33m.\u001b[0m\u001b[0mlinalg\u001b[0m\u001b[1;33m.\u001b[0m\u001b[0mnorm\u001b[0m\u001b[1;33m(\u001b[0m\u001b[0mdrift_time_ss4\u001b[0m\u001b[1;33m[\u001b[0m\u001b[0mnp\u001b[0m\u001b[1;33m.\u001b[0m\u001b[0mwhere\u001b[0m\u001b[1;33m(\u001b[0m\u001b[0mnp\u001b[0m\u001b[1;33m.\u001b[0m\u001b[0mabs\u001b[0m\u001b[1;33m(\u001b[0m\u001b[0mdrift_time_ss4\u001b[0m\u001b[1;33m-\u001b[0m\u001b[1;36m195.5\u001b[0m\u001b[1;33m)\u001b[0m\u001b[1;33m<\u001b[0m\u001b[1;36m185.5\u001b[0m\u001b[1;33m)\u001b[0m\u001b[1;33m]\u001b[0m\u001b[1;33m)\u001b[0m\u001b[1;33m,\u001b[0m         \u001b[0mdrift_time_t_ts4\u001b[0m\u001b[1;33m[\u001b[0m\u001b[0mnp\u001b[0m\u001b[1;33m.\u001b[0m\u001b[0mwhere\u001b[0m\u001b[1;33m(\u001b[0m\u001b[0mnp\u001b[0m\u001b[1;33m.\u001b[0m\u001b[0mabs\u001b[0m\u001b[1;33m(\u001b[0m\u001b[0mdrift_time_t_ts4\u001b[0m\u001b[1;33m-\u001b[0m\u001b[1;36m195.5\u001b[0m\u001b[1;33m)\u001b[0m\u001b[1;33m<\u001b[0m\u001b[1;36m185.5\u001b[0m\u001b[1;33m)\u001b[0m\u001b[1;33m]\u001b[0m\u001b[1;33m/\u001b[0m\u001b[0mnp\u001b[0m\u001b[1;33m.\u001b[0m\u001b[0mlinalg\u001b[0m\u001b[1;33m.\u001b[0m\u001b[0mnorm\u001b[0m\u001b[1;33m(\u001b[0m\u001b[0mdrift_time_t_ts4\u001b[0m\u001b[1;33m[\u001b[0m\u001b[0mnp\u001b[0m\u001b[1;33m.\u001b[0m\u001b[0mwhere\u001b[0m\u001b[1;33m(\u001b[0m\u001b[0mnp\u001b[0m\u001b[1;33m.\u001b[0m\u001b[0mabs\u001b[0m\u001b[1;33m(\u001b[0m\u001b[0mdrift_time_t_ts4\u001b[0m\u001b[1;33m-\u001b[0m\u001b[1;36m195.5\u001b[0m\u001b[1;33m)\u001b[0m\u001b[1;33m<\u001b[0m\u001b[1;36m185.5\u001b[0m\u001b[1;33m)\u001b[0m\u001b[1;33m]\u001b[0m\u001b[1;33m)\u001b[0m\u001b[1;33m)\u001b[0m\u001b[1;33m\u001b[0m\u001b[0m\n\u001b[0m",
      "\u001b[1;31mNameError\u001b[0m: name 'drift_time_ss4' is not defined"
     ]
    }
   ],
   "source": [
    "from scipy.stats import ks_2samp\n",
    "ks_2samp(drift_time_ss4[np.where(np.abs(drift_time_ss4-195.5)<185.5)]/np.linalg.norm(drift_time_ss4[np.where(np.abs(drift_time_ss4-195.5)<185.5)]),\\\n",
    "         drift_time_t_ts4[np.where(np.abs(drift_time_t_ts4-195.5)<185.5)]/np.linalg.norm(drift_time_t_ts4[np.where(np.abs(drift_time_t_ts4-195.5)<185.5)]))"
   ]
  },
  {
   "cell_type": "code",
   "execution_count": 127,
   "metadata": {
    "collapsed": false
   },
   "outputs": [
    {
     "data": {
      "text/plain": [
       "array([ 2.96956229,  4.96541452,  2.30777454, ...,  4.66737986,\n",
       "        1.047194  ,  2.42334938], dtype=float32)"
      ]
     },
     "execution_count": 127,
     "metadata": {},
     "output_type": "execute_result"
    }
   ],
   "source": [
    "S1_ss4[~np.isnan(Efield_s2_ss4)]/Combined_energy_ss4[~np.isnan(Efield_s2_ss4)]\n"
   ]
  },
  {
   "cell_type": "code",
   "execution_count": 128,
   "metadata": {
    "collapsed": false
   },
   "outputs": [
    {
     "data": {
      "text/plain": [
       "51353"
      ]
     },
     "execution_count": 128,
     "metadata": {},
     "output_type": "execute_result"
    }
   ],
   "source": [
    "len(S1_ss4)"
   ]
  },
  {
   "cell_type": "code",
   "execution_count": 129,
   "metadata": {
    "collapsed": false
   },
   "outputs": [
    {
     "data": {
      "text/plain": [
       "array([  5.25387859,  35.68699265,   2.68518496, ...,  62.5190239 ,\n",
       "         1.86111939,   9.08466053], dtype=float32)"
      ]
     },
     "execution_count": 129,
     "metadata": {},
     "output_type": "execute_result"
    }
   ],
   "source": [
    "S1_ss4[~np.isnan(Efield_s2_ss4)]"
   ]
  },
  {
   "cell_type": "code",
   "execution_count": 130,
   "metadata": {
    "collapsed": false
   },
   "outputs": [
    {
     "data": {
      "text/plain": [
       "array([ True,  True,  True, ...,  True,  True,  True], dtype=bool)"
      ]
     },
     "execution_count": 130,
     "metadata": {},
     "output_type": "execute_result"
    }
   ],
   "source": [
    "~np.isnan(Efield_s2_ss4)"
   ]
  },
  {
   "cell_type": "code",
   "execution_count": 131,
   "metadata": {
    "collapsed": false
   },
   "outputs": [
    {
     "data": {
      "text/plain": [
       "array([  8351.17299876,   7433.06432366,   2199.08947548, ...,\n",
       "        10591.79493914,  15674.88737374,  37214.09925588])"
      ]
     },
     "execution_count": 131,
     "metadata": {},
     "output_type": "execute_result"
    }
   ],
   "source": [
    "Efield_s2_ss4"
   ]
  },
  {
   "cell_type": "code",
   "execution_count": 133,
   "metadata": {
    "collapsed": false
   },
   "outputs": [],
   "source": [
    "filedir = \"/project/projectdirs/lux/users/weiji/band/\"\n",
    "np.save(filedir+\"201502explogband\",bandfit1)\n",
    "np.save(filedir+\"201502simlogband\",bandfit01)\n",
    "np.save(filedir+\"201502expband\",bandfit2)\n",
    "np.save(filedir+\"201502simband\",bandfit02)\n",
    "np.save(filedir+\"201502explightyield\",bandfits150)\n",
    "np.save(filedir+\"201502simlightyield\",bandfits151)"
   ]
  },
  {
   "cell_type": "code",
   "execution_count": null,
   "metadata": {
    "collapsed": true
   },
   "outputs": [],
   "source": []
  },
  {
   "cell_type": "code",
   "execution_count": 34,
   "metadata": {
    "collapsed": false
   },
   "outputs": [
    {
     "data": {
      "image/png": "[encoded data removed]",
      "text/plain": [
       "<matplotlib.figure.Figure at 0x7fbef0d18a50>"
      ]
     },
     "metadata": {},
     "output_type": "display_data"
    }
   ],
   "source": [
    "plt.figure(80)\n",
    "\n",
    "#plt.plot(bandfits[2]*100.,bandfits[0],lw=4, color=\"g\",label=\"LibNEST gaussian fit bins\")\n",
    "for zz in range(len(datanamelist)):\n",
    "    ax0 = plt.subplot(4, 4, 4*zz+1)\n",
    "    plt.hist2d(traw_x_ts4,traw_y_ts4,range=[[-25,25],[-25,25]],bins=(100,100), normed=True,label= datanamelist[zz])\n",
    "#    cbar = plt.colorbar()\n",
    "    \n",
    "    plt.xlabel(\"x_real_s2\",fontsize=8)\n",
    "    plt.ylabel(\"y_real_s2\",fontsize=8)\n",
    "    plt.title(datanamelist[zz])"
   ]
  },
  {
   "cell_type": "code",
   "execution_count": 85,
   "metadata": {
    "collapsed": false
   },
   "outputs": [
    {
     "data": {
      "text/plain": [
       "array([[  23.24975586, -100.        ,    1.5924263 , ...,   14.8757515 ,\n",
       "         -22.70432663,  -21.83454704],\n",
       "       [  -1.0747788 , -100.        ,    0.87631005, ...,  -11.68109989,\n",
       "        -100.        ,  -17.74773407],\n",
       "       [-100.        , -100.        ,  -12.28910255, ..., -100.        ,\n",
       "        -100.        , -100.        ],\n",
       "       ..., \n",
       "       [-100.        ,   -4.25707006, -100.        , ...,   -6.41143942,\n",
       "        -100.        , -100.        ],\n",
       "       [   9.69697475,   -2.83490062,   10.8739109 , ...,   -6.09136534,\n",
       "           5.48220968, -100.        ],\n",
       "       [  10.05613518,   -3.01062036, -100.        , ...,   -9.28750038,\n",
       "        -100.        , -100.        ]], dtype=float32)"
      ]
     },
     "execution_count": 85,
     "metadata": {},
     "output_type": "execute_result"
    }
   ],
   "source": [
    "ts4.x_cm"
   ]
  },
  {
   "cell_type": "code",
   "execution_count": 82,
   "metadata": {
    "collapsed": false
   },
   "outputs": [
    {
     "data": {
      "text/plain": [
       "[]"
      ]
     },
     "execution_count": 82,
     "metadata": {},
     "output_type": "execute_result"
    }
   ],
   "source": [
    "sim"
   ]
  },
  {
   "cell_type": "code",
   "execution_count": null,
   "metadata": {
    "collapsed": true
   },
   "outputs": [],
   "source": []
  }
 ],
 "metadata": {
  "kernelspec": {
   "display_name": "Python 2",
   "language": "python",
   "name": "python2"
  },
  "language_info": {
   "codemirror_mode": {
    "name": "ipython",
    "version": 2
   },
   "file_extension": ".py",
   "mimetype": "text/x-python",
   "name": "python",
   "nbconvert_exporter": "python",
   "pygments_lexer": "ipython2",
   "version": "2.7.11"
  }
 },
 "nbformat": 4,
 "nbformat_minor": 0
}
