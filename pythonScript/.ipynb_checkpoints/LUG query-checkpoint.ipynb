{
 "cells": [
  {
   "cell_type": "code",
   "execution_count": 1,
   "metadata": {
    "collapsed": false
   },
   "outputs": [
    {
     "name": "stdout",
     "output_type": "stream",
     "text": [
      "rpy2 2.5.6\n",
      "setuptools 20.3\n",
      "singledispatch 3.4.0.3\n",
      "funcsigs 0.4\n",
      "llvmlite 0.5.0\n",
      "abstract-rendering 0.5.1\n",
      "certifi 14.5.14\n",
      "pycparser 2.14\n",
      "cffi 1.1.0\n",
      "lxml 3.4.4\n",
      "openpyxl 2.0.2\n",
      "mpi4py 2.0.0\n",
      "datashape 0.4.5\n",
      "ipaddress 1.0.7\n",
      "matplotlib 1.5.1\n",
      "boto 2.38.0\n",
      "cdecimal 2.3\n",
      "patsy 0.3.0\n",
      "mistune 0.6\n",
      "pytz 2016.2\n",
      "python-dateutil 2.5.1\n",
      "bitarray 0.8.1\n",
      "xlrd 0.9.3\n",
      "XlsxWriter 0.7.3\n",
      "py 1.4.27\n",
      "nltk 3.0.3\n",
      "ply 3.6\n",
      "nose 1.3.7\n",
      "sympy 0.7.6\n",
      "SQLAlchemy 1.0.5\n",
      "configobj 5.0.6\n",
      "numba 0.19.1\n",
      "pycosat 0.6.1\n",
      "tornado 4.2\n",
      "alabaster 0.7.3\n",
      "jdcal 1.0\n",
      "conda 4.0.5\n",
      "pytest 2.7.1\n",
      "pycrypto 2.6.1\n",
      "clyent 0.3.4\n",
      "mock 1.0.1\n",
      "binstar 0.11.0\n",
      "decorator 3.4.2\n",
      "sphinx-rtd-theme 0.1.7\n",
      "enum34 1.0.4\n",
      "Pygments 2.0.2\n",
      "jsonschema 2.4.0\n",
      "basemap 1.0.7\n",
      "fastcache 1.0.2\n",
      "numpy 1.10.4\n",
      "six 1.10.0\n",
      "greenlet 0.4.7\n",
      "scipy 0.16.0\n",
      "pyasn1 0.1.7\n",
      "pep8 1.6.2\n",
      "conda-build 1.14.0\n",
      "futures 3.0.2\n",
      "itsdangerous 0.24\n",
      "numexpr 2.4.4\n",
      "gevent-websocket 0.9.3\n",
      "psutil 2.2.1\n",
      "Theano 0.7.0\n",
      "cytoolz 0.7.3\n",
      "jedi 0.8.1\n",
      "statsmodels 0.6.1\n",
      "Cython 0.22.1\n",
      "Babel 1.3\n",
      "pip 8.1.1\n",
      "Pillow 2.8.2\n",
      "pycurl 7.19.5.1\n",
      "MarkupSafe 0.23\n",
      "scikit-learn 0.16.1\n",
      "beautifulsoup4 4.3.2\n",
      "grin 1.2.1\n",
      "networkx 1.9.1\n",
      "cycler 0.10.0\n",
      "gevent 1.0.1\n",
      "pyOpenSSL 0.15.1\n",
      "blaze 0.8.0\n",
      "toolz 0.7.2\n",
      "pyparsing 2.0.3\n",
      "ptyprocess 0.4\n",
      "scikit-image 0.11.3\n",
      "colorama 0.3.3\n",
      "Jinja2 2.7.3\n",
      "bokeh 0.9.0\n",
      "ipython 3.1.0\n",
      "xlwt 1.0.0\n",
      "snowballstemmer 1.2.0\n",
      "blz 0.6.2\n",
      "cryptography 0.9.1\n",
      "bcolz 0.9.0\n",
      "netCDF4 1.2.2\n",
      "conda-env 2.4.5\n",
      "pandas 0.16.2\n",
      "astropy 1.0.3\n",
      "h5py 2.5.0\n",
      "ujson 1.33\n",
      "sockjs-tornado 1.0.1\n",
      "odo 0.3.2\n",
      "runipy 0.1.3\n",
      "pycairo 1.10.0\n",
      "redis 2.10.3\n",
      "spyder 2.3.4\n",
      "wheel 0.29.0\n",
      "argcomplete 0.8.9\n",
      "pyflakes 0.9.2\n",
      "rope 0.9.4\n",
      "tables 3.1.1\n",
      "Sphinx 1.2.3\n",
      "unicodecsv 0.9.4\n",
      "Flask 0.10.1\n",
      "docutils 0.12\n",
      "backports.ssl-match-hostname 3.4.0.2\n",
      "pyzmq 14.7.0\n",
      "requests 2.9.1\n",
      "Werkzeug 0.10.4\n",
      "PyYAML 3.11\n",
      "multipledispatch 0.4.7\n",
      "idna 2.0\n",
      "terminado 0.5\n"
     ]
    }
   ],
   "source": [
    "import pip #needed to use the pip functions\n",
    "for i in pip.get_installed_distributions(local_only=True):\n",
    "    print(i)\n"
   ]
  },
  {
   "cell_type": "code",
   "execution_count": 2,
   "metadata": {
    "collapsed": false,
    "scrolled": true
   },
   "outputs": [],
   "source": [
    "import sys\n",
    "import os\n",
    "import functools\n",
    "import scipy\n",
    "import scipy as sp\n",
    "import numpy as np\n",
    "import matplotlib.pyplot as plt\n",
    "%matplotlib inline\n",
    "import matplotlib.pylab as pylab\n",
    "from matplotlib.colors import LogNorm\n",
    "\n",
    "import pickle\n",
    "import math\n",
    "import subprocess\n",
    "import warnings\n",
    "#sys.path.insert(2, \"/global/projecta/projectdirs/lux/data\")\n",
    "#sys.path.insert(2, \"/global/projecta/projectdirs/lux/users/weiji/\")\n",
    "#sys.path.append('/project/projectdirs/lux/users/weiji/MySQLdb1/')\n",
    "sys.path.append('/project/projectdirs/lux/users/weiji/')\n",
    "sys.path.append('/project/projectdirs/lux/users/weiji/moist/')\n",
    "sys.path.append('/project/projectdirs/lux/Tools/LUXcode/Trunk/DataAnalysis/Python/' )\n",
    "sys.path.append('/project/projectdirs/lux/Tools/LUXcode/Trunk/DataAnalysis/Python/aLib' )\n",
    "import sqlalchemy as sql\n",
    "#import get_html_data as gethtml\n",
    "import matplotlib.pyplot as pyp\n",
    "import matplotlib as mlib\t\t# for color scale\n",
    "#from matplotlib import mpl"
   ]
  },
  {
   "cell_type": "code",
   "execution_count": 3,
   "metadata": {
    "collapsed": false
   },
   "outputs": [
    {
     "name": "stdout",
     "output_type": "stream",
     "text": [
      "2016-04-29 20:51:00,656 INFO sqlalchemy.engine.base.Engine SELECT CAST('test plain returns' AS VARCHAR(60)) AS anon_1\n"
     ]
    },
    {
     "name": "stderr",
     "output_type": "stream",
     "text": [
      "INFO:sqlalchemy.engine.base.Engine:SELECT CAST('test plain returns' AS VARCHAR(60)) AS anon_1\n"
     ]
    },
    {
     "name": "stdout",
     "output_type": "stream",
     "text": [
      "2016-04-29 20:51:00,658 INFO sqlalchemy.engine.base.Engine ()\n"
     ]
    },
    {
     "name": "stderr",
     "output_type": "stream",
     "text": [
      "INFO:sqlalchemy.engine.base.Engine:()\n"
     ]
    },
    {
     "name": "stdout",
     "output_type": "stream",
     "text": [
      "2016-04-29 20:51:00,660 INFO sqlalchemy.engine.base.Engine SELECT CAST('test unicode returns' AS VARCHAR(60)) AS anon_1\n"
     ]
    },
    {
     "name": "stderr",
     "output_type": "stream",
     "text": [
      "INFO:sqlalchemy.engine.base.Engine:SELECT CAST('test unicode returns' AS VARCHAR(60)) AS anon_1\n"
     ]
    },
    {
     "name": "stdout",
     "output_type": "stream",
     "text": [
      "2016-04-29 20:51:00,662 INFO sqlalchemy.engine.base.Engine ()\n"
     ]
    },
    {
     "name": "stderr",
     "output_type": "stream",
     "text": [
      "INFO:sqlalchemy.engine.base.Engine:()\n"
     ]
    },
    {
     "name": "stdout",
     "output_type": "stream",
     "text": [
      "2016-04-29 20:51:00,669 INFO sqlalchemy.engine.base.Engine \n",
      "    CREATE TABLE users (\n",
      "        username VARCHAR PRIMARY KEY,\n",
      "        password VARCHAR NOT NULL\n",
      "    );\n",
      "    \n"
     ]
    },
    {
     "name": "stderr",
     "output_type": "stream",
     "text": [
      "INFO:sqlalchemy.engine.base.Engine:\n",
      "    CREATE TABLE users (\n",
      "        username VARCHAR PRIMARY KEY,\n",
      "        password VARCHAR NOT NULL\n",
      "    );\n",
      "    \n"
     ]
    },
    {
     "name": "stdout",
     "output_type": "stream",
     "text": [
      "2016-04-29 20:51:00,670 INFO sqlalchemy.engine.base.Engine ()\n"
     ]
    },
    {
     "name": "stderr",
     "output_type": "stream",
     "text": [
      "INFO:sqlalchemy.engine.base.Engine:()\n"
     ]
    },
    {
     "name": "stdout",
     "output_type": "stream",
     "text": [
      "2016-04-29 20:51:00,671 INFO sqlalchemy.engine.base.Engine COMMIT\n"
     ]
    },
    {
     "name": "stderr",
     "output_type": "stream",
     "text": [
      "INFO:sqlalchemy.engine.base.Engine:COMMIT\n"
     ]
    },
    {
     "name": "stdout",
     "output_type": "stream",
     "text": [
      "2016-04-29 20:51:00,672 INFO sqlalchemy.engine.base.Engine \n",
      "    INSERT INTO users (username, password) VALUES (?, ?);\n",
      "    \n"
     ]
    },
    {
     "name": "stderr",
     "output_type": "stream",
     "text": [
      "INFO:sqlalchemy.engine.base.Engine:\n",
      "    INSERT INTO users (username, password) VALUES (?, ?);\n",
      "    \n"
     ]
    },
    {
     "name": "stdout",
     "output_type": "stream",
     "text": [
      "2016-04-29 20:51:00,673 INFO sqlalchemy.engine.base.Engine ('foo', 'bar')\n"
     ]
    },
    {
     "name": "stderr",
     "output_type": "stream",
     "text": [
      "INFO:sqlalchemy.engine.base.Engine:('foo', 'bar')\n"
     ]
    },
    {
     "name": "stdout",
     "output_type": "stream",
     "text": [
      "2016-04-29 20:51:00,674 INFO sqlalchemy.engine.base.Engine COMMIT\n"
     ]
    },
    {
     "name": "stderr",
     "output_type": "stream",
     "text": [
      "INFO:sqlalchemy.engine.base.Engine:COMMIT\n"
     ]
    },
    {
     "name": "stdout",
     "output_type": "stream",
     "text": [
      "2016-04-29 20:51:00,674 INFO sqlalchemy.engine.base.Engine SELECT username FROM users\n"
     ]
    },
    {
     "name": "stderr",
     "output_type": "stream",
     "text": [
      "INFO:sqlalchemy.engine.base.Engine:SELECT username FROM users\n"
     ]
    },
    {
     "name": "stdout",
     "output_type": "stream",
     "text": [
      "2016-04-29 20:51:00,675 INFO sqlalchemy.engine.base.Engine ()\n"
     ]
    },
    {
     "name": "stderr",
     "output_type": "stream",
     "text": [
      "INFO:sqlalchemy.engine.base.Engine:()\n"
     ]
    },
    {
     "name": "stdout",
     "output_type": "stream",
     "text": [
      "username\n"
     ]
    }
   ],
   "source": [
    "from sqlalchemy.engine import create_engine\n",
    "engine = create_engine('sqlite:///:memory:', echo=True)\n",
    "connection = engine.connect(host=\"151.159.226.141\", user=\"lux\", passwd='W1MPfindr$', db=\"control\")\n",
    "\n",
    "connection.execute(\n",
    "    \"\"\"\n",
    "    CREATE TABLE users (\n",
    "        username VARCHAR PRIMARY KEY,\n",
    "        password VARCHAR NOT NULL\n",
    "    );\n",
    "    \"\"\"\n",
    ")\n",
    "connection.execute(\n",
    "    \"\"\"\n",
    "    INSERT INTO users (username, password) VALUES (?, ?);\n",
    "    \"\"\",\n",
    "    \"foo\", \"bar\"\n",
    ")\n",
    "result = connection.execute(\"SELECT username FROM users\")\n",
    "for row in result:\n",
    "    print \"username\""
   ]
  },
  {
   "cell_type": "code",
   "execution_count": null,
   "metadata": {
    "collapsed": true
   },
   "outputs": [],
   "source": [
    "connection = engine.connect"
   ]
  },
  {
   "cell_type": "code",
   "execution_count": 4,
   "metadata": {
    "collapsed": false
   },
   "outputs": [
    {
     "ename": "NameError",
     "evalue": "name 'MySQLdb' is not defined",
     "output_type": "error",
     "traceback": [
      "\u001b[1;31m---------------------------------------------------------------------------\u001b[0m",
      "\u001b[1;31mNameError\u001b[0m                                 Traceback (most recent call last)",
      "\u001b[1;32m<ipython-input-4-7c5a91e0f33c>\u001b[0m in \u001b[0;36m<module>\u001b[1;34m()\u001b[0m\n\u001b[1;32m----> 1\u001b[1;33m \u001b[0mdb\u001b[0m \u001b[1;33m=\u001b[0m \u001b[0mMySQLdb\u001b[0m\u001b[1;33m.\u001b[0m\u001b[0mconnect\u001b[0m\u001b[1;33m(\u001b[0m\u001b[0mhost\u001b[0m\u001b[1;33m=\u001b[0m\u001b[1;34m\"151.159.226.141\"\u001b[0m\u001b[1;33m,\u001b[0m \u001b[0muser\u001b[0m\u001b[1;33m=\u001b[0m\u001b[1;34m\"lux\"\u001b[0m\u001b[1;33m,\u001b[0m \u001b[0mpasswd\u001b[0m\u001b[1;33m=\u001b[0m\u001b[1;34m'W1MPfindr$'\u001b[0m\u001b[1;33m,\u001b[0m \u001b[0mdb\u001b[0m\u001b[1;33m=\u001b[0m\u001b[1;34m\"control\"\u001b[0m\u001b[1;33m,\u001b[0m \u001b[0mport\u001b[0m\u001b[1;33m=\u001b[0m\u001b[1;36m3101\u001b[0m\u001b[1;33m)\u001b[0m\u001b[1;33m\u001b[0m\u001b[0m\n\u001b[0m\u001b[0;32m      2\u001b[0m \u001b[0mcur\u001b[0m \u001b[1;33m=\u001b[0m \u001b[0mdb\u001b[0m\u001b[1;33m.\u001b[0m\u001b[0mcursor\u001b[0m\u001b[1;33m(\u001b[0m\u001b[1;33m)\u001b[0m\u001b[1;33m\u001b[0m\u001b[0m\n",
      "\u001b[1;31mNameError\u001b[0m: name 'MySQLdb' is not defined"
     ]
    }
   ],
   "source": [
    "db = MySQLdb.connect(host=\"151.159.226.141\", user=\"lux\", passwd='W1MPfindr$', db=\"control\", port=3101)\n",
    "cur = db.cursor()"
   ]
  },
  {
   "cell_type": "code",
   "execution_count": 18,
   "metadata": {
    "collapsed": false
   },
   "outputs": [],
   "source": [
    "sql.create_engine?"
   ]
  },
  {
   "cell_type": "code",
   "execution_count": 9,
   "metadata": {
    "collapsed": false
   },
   "outputs": [
    {
     "ename": "ImportError",
     "evalue": "No module named pyroot",
     "output_type": "error",
     "traceback": [
      "\u001b[1;31m---------------------------------------------------------------------------\u001b[0m",
      "\u001b[1;31mImportError\u001b[0m                               Traceback (most recent call last)",
      "\u001b[1;32m<ipython-input-9-49a78aaefae7>\u001b[0m in \u001b[0;36m<module>\u001b[1;34m()\u001b[0m\n\u001b[0;32m      1\u001b[0m \u001b[0msys\u001b[0m\u001b[1;33m.\u001b[0m\u001b[0mpath\u001b[0m\u001b[1;33m.\u001b[0m\u001b[0mappend\u001b[0m\u001b[1;33m(\u001b[0m\u001b[1;34m'/project/projectdirs/lux/users/weiji/'\u001b[0m\u001b[1;33m)\u001b[0m\u001b[1;33m\u001b[0m\u001b[0m\n\u001b[1;32m----> 2\u001b[1;33m \u001b[1;32mfrom\u001b[0m \u001b[0mpyroot\u001b[0m \u001b[1;32mimport\u001b[0m \u001b[1;33m*\u001b[0m\u001b[1;33m\u001b[0m\u001b[0m\n\u001b[0m",
      "\u001b[1;31mImportError\u001b[0m: No module named pyroot"
     ]
    }
   ],
   "source": [
    "sys.path.append('/project/projectdirs/lux/users/weiji/')\n",
    "from pyroot import *"
   ]
  },
  {
   "cell_type": "code",
   "execution_count": 12,
   "metadata": {
    "collapsed": false
   },
   "outputs": [
    {
     "ename": "NameError",
     "evalue": "name 'mysql' is not defined",
     "output_type": "error",
     "traceback": [
      "\u001b[1;31m---------------------------------------------------------------------------\u001b[0m",
      "\u001b[1;31mNameError\u001b[0m                                 Traceback (most recent call last)",
      "\u001b[1;32m<ipython-input-12-0e69fcd526d8>\u001b[0m in \u001b[0;36m<module>\u001b[1;34m()\u001b[0m\n\u001b[1;32m----> 1\u001b[1;33m \u001b[0mmysql\u001b[0m\u001b[1;33m-\u001b[0m\u001b[0mconnector\u001b[0m\u001b[1;33m-\u001b[0m\u001b[0mpython\u001b[0m\u001b[1;33m\u001b[0m\u001b[0m\n\u001b[0m",
      "\u001b[1;31mNameError\u001b[0m: name 'mysql' is not defined"
     ]
    }
   ],
   "source": [
    "mysql-connector-python\n"
   ]
  },
  {
   "cell_type": "code",
   "execution_count": null,
   "metadata": {
    "collapsed": true
   },
   "outputs": [],
   "source": []
  }
 ],
 "metadata": {
  "kernelspec": {
   "display_name": "Python 2",
   "language": "python",
   "name": "python2"
  },
  "language_info": {
   "codemirror_mode": {
    "name": "ipython",
    "version": 2
   },
   "file_extension": ".py",
   "mimetype": "text/x-python",
   "name": "python",
   "nbconvert_exporter": "python",
   "pygments_lexer": "ipython2",
   "version": "2.7.11"
  }
 },
 "nbformat": 4,
 "nbformat_minor": 0
}
