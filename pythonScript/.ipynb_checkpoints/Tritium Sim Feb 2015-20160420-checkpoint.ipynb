{
 "cells": [
  {
   "cell_type": "code",
   "execution_count": null,
   "metadata": {
    "collapsed": false
   },
   "outputs": [],
   "source": [
    "import sys\n",
    "import os\n",
    "import functools\n",
    "import scipy\n",
    "import scipy as sp\n",
    "import numpy as np\n",
    "import matplotlib.pyplot as plt\n",
    "%matplotlib inline\n",
    "import matplotlib.pylab as pylab\n",
    "from matplotlib.colors import LogNorm\n",
    "import pickle\n",
    "import math\n",
    "import subprocess\n",
    "import warnings\n",
    "\n",
    "sys.path.insert(2, \"/global/projecta/projectdirs/lux/data\")\n",
    "sys.path.insert(0,'/project/projectdirs/lux/Tools/LUXcode/Trunk/DataAnalysis/Python/' )\n",
    "sys.path.insert(0,'/project/projectdirs/lux/Tools/LUXcode/Trunk/DataAnalysis/Python/aLib' )\n",
    "import __init__ as S\n",
    "import dp as dp\n",
    "from scipy.optimize import OptimizeWarning\n",
    "\n",
    "warnings.simplefilter(\"error\", OptimizeWarning)\n",
    "pylab.rcParams[\"figure.figsize\"]=15,8\n",
    "np.seterr(invalid='ignore')\n"
   ]
  },
  {
   "cell_type": "code",
   "execution_count": null,
   "metadata": {
    "collapsed": false
   },
   "outputs": [],
   "source": [
    "# Tritium September 2015\n",
    "ts4 = np.load(\"/global/homes/s/salsum/projsalsum/pickles/tf5_1.pickle\")\n"
   ]
  },
  {
   "cell_type": "code",
   "execution_count": null,
   "metadata": {
    "collapsed": false
   },
   "outputs": [],
   "source": [
    "ts4"
   ]
  },
  {
   "cell_type": "code",
   "execution_count": null,
   "metadata": {
    "collapsed": false
   },
   "outputs": [],
   "source": [
    "ss4 = np.load(\"/project/projectdirs/lux/users/weiji/data/20150226tritium.npy\")[0]"
   ]
  },
  {
   "cell_type": "code",
   "execution_count": null,
   "metadata": {
    "collapsed": false
   },
   "outputs": [],
   "source": [
    "ss4"
   ]
  },
  {
   "cell_type": "code",
   "execution_count": null,
   "metadata": {
    "collapsed": false
   },
   "outputs": [],
   "source": [
    "Efieldmap = np.loadtxt(\"/project/projectdirs/lux/users/weiji/Run4FieldMaps/v10_fields_20150226T1943_cp17072.txt\")\n",
    "Efieldmap"
   ]
  },
  {
   "cell_type": "code",
   "execution_count": null,
   "metadata": {
    "collapsed": false
   },
   "outputs": [],
   "source": [
    "#define a funtion do band's mean value and sigma calculation\n",
    "def f(x, a, b, c):\n",
    "    return a * np.exp(-(x - b)**2.0 / (2 * c**2))\n",
    "\n",
    "def bandfit(x, y, bins=10, range=None, normed=False, weights=None):\n",
    "    H, xedges,yedges = np.histogram2d(x, y, bins, range, normed, weights)\n",
    "    log10xlist=[]\n",
    "    mu=[]\n",
    "    sigma=[]\n",
    "    for ii in xrange(0,xedges.shape[0]-1):\n",
    "        try:\n",
    "            log10y = [0.5 * (yedges[i] + yedges[i+1]) for i in xrange(yedges.shape[0]-1)]\n",
    "            Hx = H[ii,:]\n",
    "            popt, pcov = sp.optimize.curve_fit(f, log10y, Hx)\n",
    "            log10xlist.append(0.5 * (xedges[ii] + xedges[ii+1]))\n",
    "            mu.append(popt[1])\n",
    "            sigma.append(popt[2])\n",
    "        except BaseException:\n",
    "            print \"Fitting data in bin \",ii,\"failed.\"\n",
    "    return(np.array(mu),np.abs(sigma),np.array(log10xlist))\n"
   ]
  },
  {
   "cell_type": "code",
   "execution_count": null,
   "metadata": {
    "collapsed": true
   },
   "outputs": [],
   "source": [
    "def LoadXYZDependentEField(EFieldMap, NumxyzDependentEFieldVars = 8, MinLocationX = -24.0 ,NumPlanesX = 49, StepSizeX = 1. ,MinLocationY = -24.00 ,NumPlanesY = 49, StepSizeY = 1.,MinLocationZ = 5.8 ,NumPlanesZ = 49, StepSizeZ = 1.):\n",
    "    EFieldMapMatrix = np.zeros((NumPlanesX,NumPlanesY,NumPlanesZ,NumxyzDependentEFieldVars))\n",
    "    for ii in xrange(0,EFieldMap.shape[0]):\n",
    "        xx = (int)((EFieldMap[ii,0]-MinLocationX)/StepSizeX)\n",
    "        yy = (int)((EFieldMap[ii,1]-MinLocationY)/StepSizeY)\n",
    "        zz = (int)((EFieldMap[ii,2]-MinLocationZ)/StepSizeZ)\n",
    "        for vv in xrange(0,NumxyzDependentEFieldVars):\n",
    "            if vv == 2:\n",
    "                EFieldMapMatrix[xx,yy,zz,vv] = EFieldMap[ii,vv] \n",
    "            elif vv==6:\n",
    "                EFieldMapMatrix[xx,yy,zz,vv] = EFieldMap[ii,vv]\n",
    "            else:\n",
    "                EFieldMapMatrix[xx,yy,zz,vv] = EFieldMap[ii,vv]\n",
    "            \n",
    "                \n",
    "    return EFieldMapMatrix,NumxyzDependentEFieldVars,((MinLocationX,NumPlanesX,StepSizeX),(MinLocationY,NumPlanesY,StepSizeY),(MinLocationZ,NumPlanesZ,StepSizeZ))\n",
    "\n",
    "def GetXYZDependentElectricField(x,LoadEFieldMap,ifprint=0):\n",
    "    EFieldMapMatrix,NumxyzDependentEFieldVars,((MinLocationX,NumPlanesX,StepSizeX),(MinLocationY,NumPlanesY,StepSizeY),(MinLocationZ,NumPlanesZ,StepSizeZ))= LoadEFieldMap\n",
    "    xx = (int)((x[0]-MinLocationX)/StepSizeX)\n",
    "    yy = (int)((x[1]-MinLocationY)/StepSizeY)\n",
    "    if (xx<0 or xx>NumPlanesX-2 or yy<0 or yy>NumPlanesY-2):\n",
    "#   if 0:\n",
    "        return -100000\n",
    "    else:\n",
    "        distance2 = (x[0]-EFieldMapMatrix[xx,yy,0,0])**2+(x[1]-EFieldMapMatrix[xx,yy,0,1])**2\n",
    "        for xxx in xrange(xx,xx+1):\n",
    "            for yyy in xrange(yy,yy+1):                \n",
    "                    if distance2 > ((x[0]-EFieldMapMatrix[xxx,yyy,0,0])**2+(x[1]-EFieldMapMatrix[xxx,yyy,0,1])**2):                                               \n",
    "                        xx = xxx\n",
    "                        yy = yyy\n",
    "        zz=0\n",
    "#        print xx,yy\n",
    "        dist = np.abs(x[2]-EFieldMapMatrix[xx,yy,0,6])\n",
    "#        print dist\n",
    "        for zzz in xrange(0,NumPlanesZ):\n",
    "            if np.abs(x[2]-EFieldMapMatrix[xx,yy,zzz,6])<dist:\n",
    "                dist = np.abs(x[2]-EFieldMapMatrix[xx,yy,zzz,6])\n",
    "                zz=zzz\n",
    "    if ifprint:\n",
    "        print \"index_x,y,z,E\",xx,yy,zz,EFieldMapMatrix[xx,yy,zz,3]\n",
    "        print \"x,y,z,\",EFieldMapMatrix[xx,yy,zz,0],EFieldMapMatrix[xx,yy,zz,1],EFieldMapMatrix[xx,yy,zz,2]\n",
    "        print \"S2x,S2y,t,\",EFieldMapMatrix[xx,yy,zz,4],EFieldMapMatrix[xx,yy,zz,5],EFieldMapMatrix[xx,yy,zz,6]\n",
    "    return EFieldMapMatrix[xx,yy,zz,3]\n",
    "\n",
    "def GetXYZDependentElectricField_s2(x,LoadEFieldMap,ifprint=0):\n",
    "    EFieldMapMatrix,NumxyzDependentEFieldVars,((MinLocationX,NumPlanesX,StepSizeX),(MinLocationY,NumPlanesY,StepSizeY),(MinLocationZ,NumPlanesZ,StepSizeZ))= LoadEFieldMap    \n",
    "    try:\n",
    "        xx=0\n",
    "        yy=0\n",
    "        zz=0\n",
    "        distance2 = 10000\n",
    "        for xxx in xrange(0,NumPlanesX):\n",
    "            for yyy in xrange(0,NumPlanesY):  \n",
    "                 for zzz in xrange(0,NumPlanesZ):\n",
    "                    if distance2 > ((x[0]-EFieldMapMatrix[xxx,yyy,zzz,4])**2+(x[1]-EFieldMapMatrix[xxx,yyy,zzz,5])**2)+(x[2]-EFieldMapMatrix[xxx,yyy,zzz,6])**2/144.:                                               \n",
    "                        xx = xxx\n",
    "                        yy = yyy\n",
    "                        zz = zzz\n",
    "                        distance2 = (x[0]-EFieldMapMatrix[xxx,yyy,zzz,4])**2+(x[1]-EFieldMapMatrix[xxx,yyy,zzz,5])**2+(x[2]-EFieldMapMatrix[xxx,yyy,zzz,6])**2/144.\n",
    "        if ifprint:\n",
    "            print \"index_x,y,z,E\",xx,yy,zz,EFieldMapMatrix[xx,yy,zz,3]\n",
    "            print \"x,y,z,\",EFieldMapMatrix[xx,yy,zz,0],EFieldMapMatrix[xx,yy,zz,1],EFieldMapMatrix[xx,yy,zz,2]\n",
    "            print \"S2x,S2y,t,\",EFieldMapMatrix[xx,yy,zz,4],EFieldMapMatrix[xx,yy,zz,5],EFieldMapMatrix[xx,yy,zz,6]\n",
    "\n",
    "            print distance2\n",
    "        return EFieldMapMatrix[xx,yy,zz,:]\n",
    "    except :\n",
    "        return -100000"
   ]
  },
  {
   "cell_type": "code",
   "execution_count": null,
   "metadata": {
    "collapsed": true
   },
   "outputs": [],
   "source": [
    "def errorf(x,*args):\n",
    "    (S2x,S2y,T),(x0,y0,z0),(s2x0,s2y0,t0),(ds2xdx,ds2xdy,ds2xdz),(ds2ydx,ds2ydy,ds2ydz),(dtdx,dtdy,dtdz) = args\n",
    "    return (S2x - (s2x0 + (x[0]-x0)*ds2xdx + (x[1]-y0)*ds2xdy + (x[2]-z0)*ds2xdz))**2 \\\n",
    "            +(S2y - (s2y0 + (x[0]-x0)*ds2ydx + (x[1]-y0)*ds2ydy + (x[2]-z0)*ds2ydz))**2 \\\n",
    "            +(T - (t0 + (x[0]-x0)*dtdx + (x[1]-y0)*dtdy + (x[2]-z0)*dtdz))**2 \n",
    "\n",
    "def intepolation(x,x0,f0,dfdx):\n",
    "    x=np.array(x)\n",
    "    x0 = np.array(x0)\n",
    "    dfdx = np.array(dfdx)\n",
    "    return f0+np.sum(dfdx*(x-x0))\n",
    "\n",
    "def GetXYZFromXYZS2TDependentElectricField((S2x,S2y,DriftTime),LoadEFieldMap,ifprint=0):\n",
    "    EFieldMapMatrix,NumxyzDependentEFieldVars,((MinLocationX,NumPlanesX,StepSizeX),(MinLocationY,NumPlanesY,StepSizeY),(MinLocationZ,NumPlanesZ,StepSizeZ))= LoadEFieldMap    \n",
    "    \"\"\"\n",
    "        This function is getting real x y z E from known S2x,S2y,DriftTime,fieldmap\n",
    "        S2x, S2y in cm\n",
    "        DriftTime in us\n",
    "    \"\"\"\n",
    "    warnings.filterwarnings('error')\n",
    "    try:\n",
    "        xx=25\n",
    "        yy=25\n",
    "        zz=0\n",
    "        attempt=200\n",
    "        notsuccess = 1\n",
    "        while((attempt > 0) and notsuccess):\n",
    "            attempt-=1\n",
    "            notsuccess = 0\n",
    "            \n",
    "            if S2x< EFieldMapMatrix[xx,yy,zz,4]:\n",
    "                notsuccess = 1\n",
    "                xx -= 1\n",
    "            elif S2x > EFieldMapMatrix[xx+1,yy,zz,4]:\n",
    "                notsuccess = 1\n",
    "                xx += 1\n",
    "            elif S2y< EFieldMapMatrix[xx,yy,zz,5]:\n",
    "                notsuccess = 1\n",
    "                yy -= 1\n",
    "            elif S2y > EFieldMapMatrix[xx,yy+1,zz,5]:\n",
    "                notsuccess = 1\n",
    "                yy += 1\n",
    "            elif DriftTime < EFieldMapMatrix[xx,yy,zz,6]:\n",
    "                notsuccess = 1\n",
    "                zz += 1\n",
    "            elif DriftTime > EFieldMapMatrix[xx,yy,zz+1,6]:\n",
    "                notsuccess = 1\n",
    "                zz -= 1\n",
    "            if xx<0 or xx >NumPlanesX-2 or yy<0 or yy >NumPlanesY-2 or zz<0 or zz >NumPlanesZ-2:\n",
    "                if ifprint:\n",
    "                    print \"(S2x =\",S2x ,\"cm, S2y =\",S2y ,\"cm, DriftTime =\",DriftTime,\"ns ) is OUT of range in the field map.\"\n",
    "                return (np.nan,np.nan,np.nan,np.nan,S2x,S2y,DriftTime,np.nan)\n",
    "            if ifprint:\n",
    "                print \"attempt\",attempt\n",
    "                print \"xx,yy,zz\",xx,yy,zz\n",
    "        if ifprint:\n",
    "            print \"xx,yy,zz\",xx,yy,zz\n",
    "        if attempt ==0 and ifprint:\n",
    "            print \"Did not find a point in the map matches with (S2x =\",S2x ,\"cm, S2y =\",S2y ,\"cm, DriftTime =\",DriftTime,\"ns )\"\n",
    "            print \"One of the closest point is (S2x =\",EFieldMapMatrix[xx,yy,zz,4],\"cm, S2y =\",EFieldMapMatrix[xx,yy,zz,5],\"cm, DriftTime =\",EFieldMapMatrix[xx,yy,zz,6],\"ns )\"\n",
    "            print \"Check whether you are using the right field map and right S2x, S2y,S2z\",attempt\n",
    "        if xx<0 or xx >NumPlanesX-2 or yy<0 or yy >NumPlanesY-2 or zz<0 or zz >NumPlanesZ-2 or\\\n",
    "            np.isnan(EFieldMapMatrix[xx,yy,zz,3])            :\n",
    "            if ifprint:\n",
    "                print \"(S2x =\",S2x ,\"cm, S2y =\",S2y ,\"cm, DriftTime =\",DriftTime,\"ns ) is OUT of range in the field map.\"\n",
    "            return (np.nan,np.nan,np.nan,np.nan,S2x,S2y,DriftTime,np.nan)\n",
    "        def dfdx(xx,yy,zz,num):\n",
    "            dfdx = 1./4./StepSizeX*(-EFieldMapMatrix[xx,yy,zz,num]-EFieldMapMatrix[xx,yy,zz+1,num]\\\n",
    "                     -EFieldMapMatrix[xx,yy+1,zz,num]-EFieldMapMatrix[xx,yy+1,zz+1,num]\\\n",
    "                     +EFieldMapMatrix[xx+1,yy,zz,num]+EFieldMapMatrix[xx+1,yy,zz+1,num]\\\n",
    "                     +EFieldMapMatrix[xx+1,yy+1,zz,num]+EFieldMapMatrix[xx+1,yy+1,zz+1,num])\n",
    "            dfdy = 1./4./StepSizeY*(-EFieldMapMatrix[xx,yy,zz,num]-EFieldMapMatrix[xx,yy,zz+1,num]\\\n",
    "                     +EFieldMapMatrix[xx,yy+1,zz,num]+EFieldMapMatrix[xx,yy+1,zz+1,num]\\\n",
    "                     -EFieldMapMatrix[xx+1,yy,zz,num]-EFieldMapMatrix[xx+1,yy,zz+1,num]\\\n",
    "                     +EFieldMapMatrix[xx+1,yy+1,zz,num]+EFieldMapMatrix[xx+1,yy+1,zz+1,num])\n",
    "            dfdz = 1./4./StepSizeZ*(-EFieldMapMatrix[xx,yy,zz,num]+EFieldMapMatrix[xx,yy,zz+1,num]\\\n",
    "                     -EFieldMapMatrix[xx,yy+1,zz,num]+EFieldMapMatrix[xx,yy+1,zz+1,num]\\\n",
    "                     -EFieldMapMatrix[xx+1,yy,zz,num]+EFieldMapMatrix[xx+1,yy,zz+1,num]\\\n",
    "                     -EFieldMapMatrix[xx+1,yy+1,zz,num]+EFieldMapMatrix[xx+1,yy+1,zz+1,num])\n",
    "            return (dfdx,dfdy,dfdz)\n",
    "        (ds2xdx,ds2xdy,ds2xdz) = dfdx(xx,yy,zz,4)\n",
    "        (ds2ydx,ds2ydy,ds2ydz) = dfdx(xx,yy,zz,5)\n",
    "        (dtdx,dtdy,dtdz)   = dfdx(xx,yy,zz,6)\n",
    "        (xreal0,yreal0,zreal0) = (EFieldMapMatrix[xx,yy,zz,0],EFieldMapMatrix[xx,yy,zz,1],EFieldMapMatrix[xx,yy,zz,2])\n",
    "        (s2x0,s2y0,t0) = (EFieldMapMatrix[xx,yy,zz,4],EFieldMapMatrix[xx,yy,zz,5],EFieldMapMatrix[xx,yy,zz,6])\n",
    "           \n",
    "        result= sp.optimize.fmin(errorf,x0=(xreal0,yreal0,zreal0),args = ((S2x,S2y,DriftTime),(xreal0,yreal0,zreal0),(s2x0,s2y0,t0),(ds2xdx,ds2xdy,ds2xdz),(ds2ydx,ds2ydy,ds2ydz),(dtdx,dtdy,dtdz)),disp=0)\n",
    "        if ifprint:\n",
    "            print result\n",
    "        (xreal,yreal,zreal) = result\n",
    "        E = intepolation((xreal,yreal,zreal),(xreal0,yreal0,zreal0),EFieldMapMatrix[xx,yy,zz,3],dfdx(xx,yy,zz,3))\n",
    "        \n",
    "        if ifprint:\n",
    "            print \"index_x,y,z,E\",xx,yy,zz,EFieldMapMatrix[xx,yy,zz,3]\n",
    "            print xreal,yreal,zreal,E,S2x,S2y,DriftTime,EFieldMapMatrix[xx,yy,zz,7]\n",
    "\n",
    "        \n",
    "    except BaseException:\n",
    "        return (np.nan,np.nan,np.nan,np.nan,S2x,S2y,DriftTime,np.nan)\n",
    "    #return (np.nan,np.nan,np.nan,np.nan,S2x,S2y,DriftTime,np.nan)\n",
    "    return (xreal,yreal,zreal,E,S2x,S2y,DriftTime,EFieldMapMatrix[xx,yy,zz,7])"
   ]
  },
  {
   "cell_type": "code",
   "execution_count": null,
   "metadata": {
    "collapsed": true
   },
   "outputs": [],
   "source": []
  },
  {
   "cell_type": "code",
   "execution_count": null,
   "metadata": {
    "collapsed": true
   },
   "outputs": [],
   "source": []
  },
  {
   "cell_type": "code",
   "execution_count": null,
   "metadata": {
    "collapsed": false
   },
   "outputs": [],
   "source": [
    "LoadEFieldMap = LoadXYZDependentEField(Efieldmap)"
   ]
  },
  {
   "cell_type": "code",
   "execution_count": null,
   "metadata": {
    "collapsed": true
   },
   "outputs": [],
   "source": [
    "EFieldMapMatrix,NumxyzDependentEFieldVars,((MinLocationX,NumPlanesX,StepSizeX),(MinLocationY,NumPlanesY,StepSizeY),(MinLocationZ,NumPlanesZ,StepSizeZ))= LoadEFieldMap"
   ]
  },
  {
   "cell_type": "code",
   "execution_count": null,
   "metadata": {
    "collapsed": false
   },
   "outputs": [],
   "source": [
    "#GetXYZDependentElectricField((raw_x_ts4[2],raw_x_ts4[2],drift_time_ts4[2]),LoadEFieldMap,ifprint=1)\n",
    "#print raw_x_ts4[2],raw_x_ts4[2],drift_time_ts4[2]"
   ]
  },
  {
   "cell_type": "code",
   "execution_count": null,
   "metadata": {
    "collapsed": true
   },
   "outputs": [],
   "source": [
    "mask_S1_ts4 = (ts4.pulse_classification==1)&(ts4.s1s2_pairing==1)\n",
    "mask_S2_ts4 = (ts4.pulse_classification==2)&(ts4.s1s2_pairing==1)"
   ]
  },
  {
   "cell_type": "code",
   "execution_count": null,
   "metadata": {
    "collapsed": true
   },
   "outputs": [],
   "source": [
    "S1_ts4 = (ts4.xyz_corrected_pulse_area_all_phe*mask_S1_ts4).sum(0)\n",
    "S2_ts4 = (ts4.xyz_corrected_pulse_area_all_phe*mask_S2_ts4).sum(0)"
   ]
  },
  {
   "cell_type": "code",
   "execution_count": null,
   "metadata": {
    "collapsed": true
   },
   "outputs": [],
   "source": [
    "raw_x_ts4 = (ts4.x_cm*mask_S2_ts4).sum(0) #this is ok since i have verified there is only\n",
    "raw_y_ts4 = (ts4.y_cm*mask_S2_ts4).sum(0) #one S2 in each event that has made it through cuts\n",
    "raw_x_del_ts4 = (ts4.x_cm_del*mask_S2_ts4).sum(0) #this is ok since i have verified there is only\n",
    "raw_y_del_ts4 = (ts4.y_cm_del*mask_S2_ts4).sum(0) #one S2 in each event that has made it through cuts\n",
    "drift_time_ts4 = (ts4.z_drift_samples*mask_S2_ts4).sum(0)/100.\n",
    "negative_drift_time_ts4 = [0-a for a in drift_time_ts4]\n",
    "raw_r_ts4 = (raw_x_ts4**2 + raw_y_ts4**2)**(1./2)# mask out only tritium_energies this is a mask on an entire event not a pulse\n",
    "# possibly add a radial cut\n",
    "# possibly add a drift time cut\n",
    "mask_tritium_energy_ts4 = (np.log10(S1_ts4)<2.5)&(np.log10(S2_ts4)<5.0)&(3.1<np.log10(S2_ts4))\n",
    "tS1_ts4 = []\n",
    "tS2_ts4 = []\n",
    "traw_x_ts4 = []\n",
    "traw_y_ts4 = []\n",
    "traw_r_ts4 = []\n",
    "tdrift_time_ts4 = []\n",
    "x_del_ts4=[]\n",
    "y_del_ts4=[]\n",
    "for aa in range(len(mask_tritium_energy_ts4)):\n",
    "    if mask_tritium_energy_ts4[aa] == True:\n",
    "        tS1_ts4.append(S1_ts4[aa])\n",
    "        tS2_ts4.append(S2_ts4[aa])\n",
    "        traw_x_ts4.append(raw_x_ts4[aa])\n",
    "        traw_y_ts4.append(raw_y_ts4[aa])\n",
    "        traw_r_ts4.append(raw_r_ts4[aa])\n",
    "        tdrift_time_ts4.append(drift_time_ts4[aa])\n",
    "        x_del_ts4.append(raw_x_del_ts4[aa])\n",
    "        y_del_ts4.append(raw_y_del_ts4[aa])\n",
    "S1_t_ts4 = np.array(tS1_ts4)\n",
    "S2_t_ts4 = np.array(tS2_ts4)\n",
    "raw_x_t_ts4 = np.array(traw_x_ts4)\n",
    "raw_y_t_ts4 = np.array(traw_y_ts4)\n",
    "raw_r_t_ts4 = np.array(traw_r_ts4)\n",
    "drift_time_t_ts4 = np.array(tdrift_time_ts4)\n",
    "negative_drift_time_t_ts4 = [0-a for a in drift_time_t_ts4]\n",
    "x_del_ts4 = np.array(x_del_ts4)\n",
    "y_del_ts4 = np.array(y_del_ts4)"
   ]
  },
  {
   "cell_type": "code",
   "execution_count": null,
   "metadata": {
    "collapsed": true
   },
   "outputs": [],
   "source": [
    "# G1 is .104 according to Richard's presentation for Sept 2014\n",
    "# G2 is 19.15\n",
    "g1_s4 = 0.104\n",
    "g2_s4 = 19.15\n",
    "W = 13.7/1000\n",
    "\n",
    "S1_energy_t_ts4 = W*S1_t_ts4/g1_s4\n",
    "S2_energy_t_ts4 = W*S2_t_ts4/g2_s4\n",
    "Combined_energy_t_ts4 = S1_energy_t_ts4 + S2_energy_t_ts4"
   ]
  },
  {
   "cell_type": "code",
   "execution_count": null,
   "metadata": {
    "collapsed": false
   },
   "outputs": [],
   "source": [
    "Efield_ts4=[]\n",
    "for ii in xrange(len(x_del_ts4)):\n",
    "    Efield_ts4.append(GetXYZDependentElectricField((x_del_ts4[ii],y_del_ts4[ii],drift_time_t_ts4[ii]),LoadEFieldMap))\n",
    "Efield_ts4= np.array(Efield_ts4)"
   ]
  },
  {
   "cell_type": "code",
   "execution_count": null,
   "metadata": {
    "collapsed": true
   },
   "outputs": [],
   "source": [
    "WantToSleep = 1"
   ]
  },
  {
   "cell_type": "code",
   "execution_count": null,
   "metadata": {
    "collapsed": false
   },
   "outputs": [],
   "source": [
    "if(WantToSleep):\n",
    "    Efield_s2_ts4=[]\n",
    "    x_real_s2_ts4=[]\n",
    "    y_real_s2_ts4=[]\n",
    "    z_real_s2_ts4=[]\n",
    "    for ii in xrange(len(raw_x_t_ts4)):\n",
    "        temp =  GetXYZFromXYZS2TDependentElectricField((raw_x_t_ts4[ii],raw_y_t_ts4[ii],drift_time_t_ts4[ii]),LoadEFieldMap)\n",
    "        x_real_s2_ts4.append(temp[0])\n",
    "        y_real_s2_ts4.append(temp[1])\n",
    "        z_real_s2_ts4.append(temp[2])\n",
    "        Efield_s2_ts4.append(temp[3])\n",
    "    Efield_s2_ts4= np.array(Efield_s2_ts4)\n",
    "    x_real_s2_ts4= np.array(x_real_s2_ts4)\n",
    "    y_real_s2_ts4= np.array(y_real_s2_ts4)\n",
    "    z_real_s2_ts4= np.array(z_real_s2_ts4)"
   ]
  },
  {
   "cell_type": "code",
   "execution_count": null,
   "metadata": {
    "collapsed": false
   },
   "outputs": [],
   "source": [
    "Efield_ts4"
   ]
  },
  {
   "cell_type": "code",
   "execution_count": null,
   "metadata": {
    "collapsed": false
   },
   "outputs": [],
   "source": [
    "Efield_s2_ts4"
   ]
  },
  {
   "cell_type": "code",
   "execution_count": null,
   "metadata": {
    "collapsed": false
   },
   "outputs": [],
   "source": [
    "mask_S1_ss4 = (ss4.pulse_classification==1)&(ss4.s1s2_pairing==1)\n",
    "mask_S2_ss4 = (ss4.pulse_classification==2)&(ss4.s1s2_pairing==1)"
   ]
  },
  {
   "cell_type": "code",
   "execution_count": null,
   "metadata": {
    "collapsed": true
   },
   "outputs": [],
   "source": [
    "S1_ss4 = (ss4.xyz_corrected_pulse_area_all_phe*mask_S1_ss4).sum(0)\n",
    "S2_ss4 = (ss4.xyz_corrected_pulse_area_all_phe*mask_S2_ss4).sum(0)"
   ]
  },
  {
   "cell_type": "code",
   "execution_count": null,
   "metadata": {
    "collapsed": false
   },
   "outputs": [],
   "source": [
    "raw_x_ss4 = (ss4.x_cm*mask_S2_ss4).sum(0) #this is ok since i have verified there is only\n",
    "raw_y_ss4 = (ss4.y_cm*mask_S2_ss4).sum(0) #one S2 in each event that has made it through cuts\n",
    "drift_time_ss4 = (ss4.z_drift_samples*mask_S2_ss4).sum(0)/100\n",
    "negative_drift_time_ss4 = [0-a for a in drift_time_ss4]\n",
    "raw_r_ss4 = (raw_x_ss4**2 + raw_y_ss4**2)**(1./2)\n",
    "#x_del_ss4 = (ss4.x_cm_del*mask_S2_ss4).sum(0)\n",
    "#y_del_ss4 = (ss4.y_cm_del*mask_S2_ss4).sum(0)"
   ]
  },
  {
   "cell_type": "code",
   "execution_count": null,
   "metadata": {
    "collapsed": true
   },
   "outputs": [],
   "source": [
    "S1_energy_ss4 = W*S1_ss4/g1_s4\n",
    "S2_energy_ss4 = W*S2_ss4/g2_s4\n",
    "Combined_energy_ss4 = S1_energy_ss4 + S2_energy_ss4"
   ]
  },
  {
   "cell_type": "code",
   "execution_count": null,
   "metadata": {
    "collapsed": false
   },
   "outputs": [],
   "source": [
    "Efield_ss4=[]\n",
    "for ii in xrange(len(raw_x_ss4)):\n",
    "    try:\n",
    "        Efield_ss4.append(GetXYZDependentElectricField((raw_x_ss4[ii],raw_y_ss4[ii],drift_time_ss4[ii]),LoadEFieldMap))\n",
    "    except SyntaxError:\n",
    "        print error\n",
    "Efield_ss4= np.array(Efield_ss4)"
   ]
  },
  {
   "cell_type": "code",
   "execution_count": null,
   "metadata": {
    "collapsed": false
   },
   "outputs": [],
   "source": [
    "raw_x_ss4[3256],raw_y_ss4[3256],drift_time_ss4[3256]"
   ]
  },
  {
   "cell_type": "code",
   "execution_count": null,
   "metadata": {
    "collapsed": false
   },
   "outputs": [],
   "source": [
    "raw_x_ss4[3256],raw_y_ss4[3256],drift_time_ss4[3256]\n",
    "GetXYZFromXYZS2TDependentElectricField((raw_x_ss4[3256],raw_y_ss4[3256],drift_time_ss4[3256]),LoadEFieldMap,ifprint=1)"
   ]
  },
  {
   "cell_type": "code",
   "execution_count": null,
   "metadata": {
    "collapsed": false
   },
   "outputs": [],
   "source": [
    "if(WantToSleep ):\n",
    "    Efield_s2_ss4=[]\n",
    "    x_real_s2_ss4=[]\n",
    "    y_real_s2_ss4=[]\n",
    "    z_real_s2_ss4=[]\n",
    "    for ii in xrange(len(raw_x_ss4)):\n",
    "        temp = GetXYZFromXYZS2TDependentElectricField((raw_x_ss4[ii],raw_y_ss4[ii],drift_time_ss4[ii]),LoadEFieldMap)\n",
    "        x_real_s2_ss4.append(temp[0])\n",
    "        y_real_s2_ss4.append(temp[1])\n",
    "        z_real_s2_ss4.append(temp[2])\n",
    "        Efield_s2_ss4.append(temp[3])\n",
    "    Efield_s2_ss4= np.array(Efield_s2_ss4)\n",
    "    x_real_s2_ss4= np.array(x_real_s2_ss4)\n",
    "    y_real_s2_ss4= np.array(y_real_s2_ss4)\n",
    "    z_real_s2_ss4= np.array(z_real_s2_ss4)"
   ]
  },
  {
   "cell_type": "code",
   "execution_count": null,
   "metadata": {
    "collapsed": false
   },
   "outputs": [],
   "source": [
    "len(ss4)"
   ]
  },
  {
   "cell_type": "code",
   "execution_count": null,
   "metadata": {
    "collapsed": true
   },
   "outputs": [],
   "source": [
    "WantToSleep = 0"
   ]
  },
  {
   "cell_type": "code",
   "execution_count": null,
   "metadata": {
    "collapsed": false
   },
   "outputs": [],
   "source": [
    "# S2 vs S1\n",
    "plt.figure(10)\n",
    "plt.hist2d(np.log10(S1_ts4),np.log10(S2_ts4),range=[[1,5],[1,6.5]],bins=(100,100),norm=LogNorm())\n",
    "(mu,sigma,log10xlist)=bandfit(np.log10(S1_ts4),np.log10(S2_ts4),range=[[1,5],[1,6.5]],bins=(50,100),)\n",
    "plt.plot(log10xlist,mu,lw=4, color=\"k\")\n",
    "plt.plot(log10xlist,np.array(mu)+np.array(np.abs(sigma)),\"k-\",lw=2)\n",
    "plt.plot(log10xlist,np.array(mu)-np.array(np.abs(sigma)),\"k-\",lw=2)\n",
    "cbar = plt.colorbar()\n",
    "cbar.ax.tick_params(labelsize=18)\n",
    "plt.xlabel(\"Log10 S1\", fontsize=18)\n",
    "plt.ylabel(\"Log10 S2\", fontsize=18)\n",
    "plt.title(\"Tritium Sept 2015\", fontsize=20)\n",
    "\n",
    "# Traditional band plot\n",
    "plt.figure(20)\n",
    "plt.hist2d(S1_ts4, np.log10(S2_ts4)-np.log10(S1_ts4),range=[[0,120],[0,6]],bins=(100,100),norm=LogNorm())\n",
    "cbar = plt.colorbar()\n",
    "cbar.ax.tick_params(labelsize=18)\n",
    "plt.xlabel(\"S1\", fontsize=18)\n",
    "plt.ylabel(\"Log10 (S2/S1)\", fontsize=18)\n",
    "plt.title(\"Tritium Sept 2015\", fontsize=20)"
   ]
  },
  {
   "cell_type": "code",
   "execution_count": null,
   "metadata": {
    "collapsed": false
   },
   "outputs": [],
   "source": [
    "# S2 vs S1\n",
    "plt.figure(30)\n",
    "plt.hist2d(np.log10(S1_t_ts4),np.log10(S2_t_ts4),range=[[1,2.2],[2.8,4.3]],bins=(100,100),norm=LogNorm())\n",
    "bandfit1=bandfit(np.log10(S1_t_ts4),np.log10(S2_t_ts4),range=[[1,2.2],[2.8,4.3]],bins=(100,100),)\n",
    "plt.plot(bandfit1[2],bandfit1[0],lw=4, color=\"k\")\n",
    "plt.plot(bandfit1[2],np.array(bandfit1[0])+np.array(np.abs(bandfit1[1])),\"k-\",lw=2)\n",
    "plt.plot(bandfit1[2],np.array(bandfit1[0])-np.array(np.abs(bandfit1[1])),\"k-\",lw=2)\n",
    "cbar = plt.colorbar()\n",
    "cbar.ax.tick_params(labelsize=18)\n",
    "plt.xlabel(\"Log10 S1\", fontsize=18)\n",
    "plt.ylabel(\"Log10 S2\", fontsize=18)\n",
    "plt.title(\"Tritium Sept 2015\", fontsize=20)\n",
    "\n",
    "# Traditional band plot\n",
    "plt.figure(40)\n",
    "plt.hist2d(S1_t_ts4, np.log10(S2_t_ts4)-np.log10(S1_t_ts4),range=[[0,120],[0,5]],bins=(100,100),norm=LogNorm())\n",
    "bandfit2=bandfit(S1_t_ts4, np.log10(S2_t_ts4)-np.log10(S1_t_ts4),range=[[0,120],[0,5]],bins=(100,100),)\n",
    "plt.plot(bandfit2[2],bandfit2[0],lw=4, color=\"k\")\n",
    "plt.plot(bandfit2[2],np.array(bandfit2[0])+np.array(np.abs(bandfit2[1])),\"k-\",lw=2)\n",
    "plt.plot(bandfit2[2],np.array(bandfit2[0])-np.array(np.abs(bandfit2[1])),\"k-\",lw=2)\n",
    "cbar = plt.colorbar()\n",
    "cbar.ax.tick_params(labelsize=18)\n",
    "plt.xlabel(\"S1\", fontsize=18)\n",
    "plt.ylabel(\"Log10 (S2/S1)\", fontsize=18)\n",
    "plt.title(\"Tritium Sept 2015\", fontsize=20)"
   ]
  },
  {
   "cell_type": "code",
   "execution_count": null,
   "metadata": {
    "collapsed": false
   },
   "outputs": [],
   "source": [
    "# S2 vs S1\n",
    "plt.figure(11)\n",
    "plt.hist2d(np.log10(S1_ss4),np.log10(S2_ss4),range=[[1,2.2],[2.8,4.3]],bins=(100,100),norm=LogNorm())\n",
    "bandfit01=bandfit(np.log10(S1_ss4),np.log10(S2_ss4),range=[[1,2.2],[2.8,4.3]],bins=(100,100))\n",
    "plt.plot(bandfit01[2],bandfit01[0],lw=4, color=\"k\")\n",
    "plt.plot(bandfit01[2],np.array(bandfit01[0])+np.array(np.abs(bandfit01[1])),\"k-\",lw=2)\n",
    "plt.plot(bandfit01[2],np.array(bandfit01[0])-np.array(np.abs(bandfit01[1])),\"k-\",lw=2)\n",
    "cbar = plt.colorbar()\n",
    "cbar.ax.tick_params(labelsize=18)\n",
    "plt.xlabel(\"Log10 S1\", fontsize=18)\n",
    "plt.ylabel(\"Log10 S2\", fontsize=18)\n",
    "plt.title(\"Tritium Sim Sept 2014\", fontsize=20)\n",
    "\n",
    "# Traditional band plot\n",
    "plt.figure(12)\n",
    "plt.hist2d(S1_ss4, np.log10(S2_ss4)-np.log10(S1_ss4),range=[[0,120],[0,6]],bins=(100,100),norm=LogNorm())\n",
    "bandfit02=bandfit(S1_ss4, np.log10(S2_ss4)-np.log10(S1_ss4),range=[[0,120],[0,6]],bins=(100,100))\n",
    "plt.plot(bandfit02[2],bandfit02[0],lw=4, color=\"k\")\n",
    "plt.plot(bandfit02[2],np.array(bandfit02[0])+np.array(np.abs(bandfit02[1])),\"k-\",lw=2)\n",
    "plt.plot(bandfit02[2],np.array(bandfit02[0])-np.array(np.abs(bandfit02[1])),\"k-\",lw=2)\n",
    "cbar = plt.colorbar()\n",
    "cbar.ax.tick_params(labelsize=18)\n",
    "plt.xlabel(\"S1\", fontsize=18)\n",
    "plt.ylabel(\"Log10 (S2/S1)\", fontsize=18)\n",
    "plt.title(\"Tritium Sim Sept 2014\", fontsize=20)\n"
   ]
  },
  {
   "cell_type": "code",
   "execution_count": null,
   "metadata": {
    "collapsed": false
   },
   "outputs": [],
   "source": [
    "#comparision plot \n",
    "plt.figure(12)\n",
    "plt.errorbar(bandfit1[2],bandfit1[0],bandfit1[1],lw=4, color=\"k\",label=\"exp\")\n",
    "plt.errorbar(bandfit01[2],bandfit01[0],bandfit01[1],lw=4, color=\"b\",label=\"sim\")\n",
    "plt.legend(loc=4,fontsize=35)\n",
    "plt.xlim(1.0,2.3)\n",
    "plt.ylim(3.0,4.)\n",
    "plt.xlabel(\"Log10 S1\", fontsize=18)\n",
    "plt.ylabel(\"Log10 S2\", fontsize=18)\n",
    "plt.title(\"Tritium Sim Sept 2014\", fontsize=20)\n",
    "#comparision plot \n",
    "plt.figure(22)\n",
    "plt.errorbar(bandfit2[2],bandfit2[0],bandfit2[1],lw=4, color=\"k\",label=\"exp\")\n",
    "plt.errorbar(bandfit02[2],bandfit02[0],bandfit02[1],lw=4, color=\"b\",label=\"sim\")\n",
    "plt.legend(loc=0,fontsize=35)\n",
    "plt.xlim(0,100.)\n",
    "plt.ylim(1.5,4.)\n",
    "plt.xlabel(\"S1\", fontsize=18)\n",
    "plt.ylabel(\"Log10 (S2/S1)\", fontsize=18)\n",
    "plt.title(\"Tritium Sim Sept 2014\", fontsize=20)"
   ]
  },
  {
   "cell_type": "code",
   "execution_count": null,
   "metadata": {
    "collapsed": false
   },
   "outputs": [],
   "source": [
    "# Uncorrected mercury reconstruction\n",
    "plt.figure(50,figsize=(13,10))\n",
    "plt.hist2d(raw_x_t_ts4,raw_y_t_ts4,range=[[-25,25],[-25,25]],bins=(100,100))\n",
    "cbar = plt.colorbar()\n",
    "plt.xlabel(\"S2_X (cm)\", fontsize=18)\n",
    "plt.ylabel(\"S2_Y (cm)\", fontsize=18)\n",
    "plt.title(\"Tritium Sept 2014\", fontsize=20)"
   ]
  },
  {
   "cell_type": "code",
   "execution_count": null,
   "metadata": {
    "collapsed": false
   },
   "outputs": [],
   "source": [
    "# Uncorrected mercury reconstruction\n",
    "plt.figure(51,figsize=(13,10))\n",
    "plt.hist2d(raw_x_ss4,raw_y_ss4,range=[[-25,25],[-25,25]],bins=(100,100))\n",
    "cbar = plt.colorbar()\n",
    "plt.xlabel(\"S2_X (cm)\", fontsize=18)\n",
    "plt.ylabel(\"S2_Y (cm)\", fontsize=18)\n",
    "plt.title(\"Tritium Sim Sept 2014\", fontsize=20)"
   ]
  },
  {
   "cell_type": "code",
   "execution_count": null,
   "metadata": {
    "collapsed": false
   },
   "outputs": [],
   "source": [
    "# corrected reconstruction\n",
    "plt.figure(60,figsize=(13,10))\n",
    "plt.hist2d(x_del_ts4,y_del_ts4,range=[[-25,25],[-25,25]],bins=(100,100))\n",
    "cbar = plt.colorbar()\n",
    "plt.xlabel(\"S2_X (cm)\", fontsize=18)\n",
    "plt.ylabel(\"S2_Y (cm)\", fontsize=18)\n",
    "plt.title(\"Tritium Sept 2014\", fontsize=20)"
   ]
  },
  {
   "cell_type": "code",
   "execution_count": null,
   "metadata": {
    "collapsed": false
   },
   "outputs": [],
   "source": [
    "# dritft time vs S2R^2\n",
    "plt.figure(70,figsize=(13,10))\n",
    "plt.hist2d(raw_r_t_ts4**2,negative_drift_time_t_ts4,range=[[0,25**2],[-400,0]],bins=(70,70))\n",
    "cbar = plt.colorbar()\n",
    "plt.xlabel(\"r^2 (cm^2)\",fontsize=18)\n",
    "plt.ylabel(\"-drift_time (samples)\",fontsize=18)\n",
    "plt.title(\"Tritium Sept 2014\", fontsize=20)"
   ]
  },
  {
   "cell_type": "code",
   "execution_count": null,
   "metadata": {
    "collapsed": false
   },
   "outputs": [],
   "source": [
    "# dritft time vs S2R^2\n",
    "plt.figure(105,figsize=(13,10))\n",
    "plt.hist2d(raw_r_ss4**2,negative_drift_time_ss4,range=[[0,25**2],[-400,0]],bins=(70,70))\n",
    "cbar = plt.colorbar()\n",
    "plt.xlabel(\"r^2 (cm^2)\",fontsize=18)\n",
    "plt.ylabel(\"-drift_time (samples)\",fontsize=18)\n",
    "plt.title(\"Tritium Sim Sept 2014\", fontsize=20)"
   ]
  },
  {
   "cell_type": "code",
   "execution_count": null,
   "metadata": {
    "collapsed": false
   },
   "outputs": [],
   "source": [
    "# dritft time vs S2R^2\n",
    "plt.figure(80,figsize=(13,10))\n",
    "plt.hist2d((x_del_ts4**2+y_del_ts4**2),negative_drift_time_t_ts4,range=[[0,25**2],[-400,0]],bins=(70,70))\n",
    "cbar = plt.colorbar()\n",
    "plt.xlabel(\"r^2 (cm^2)\",fontsize=18)\n",
    "plt.ylabel(\"-drift_time (samples)\",fontsize=18)\n",
    "plt.title(\"Tritium Sept 2014\", fontsize=20)"
   ]
  },
  {
   "cell_type": "code",
   "execution_count": null,
   "metadata": {
    "collapsed": false
   },
   "outputs": [],
   "source": [
    "# drift time histogram\n",
    "plt.figure(90)\n",
    "plt.hist(drift_time_t_ts4, range=[0,380], bins=70)\n",
    "plt.xlabel(\"drift time (samples)\")\n",
    "plt.title(\"Tritium Sept 2014\", fontsize=20)\n",
    "\n",
    "# Corrected S1\n",
    "plt.figure(100)\n",
    "plt.hist(S1_t_ts4, range=[0,110], bins=110)\n",
    "plt.xlim(0,110)\n",
    "plt.xlabel(\"S1 Corrected (ph?)\",fontsize=18)\n",
    "plt.title(\"Tritium Sept 2014\", fontsize=20)\n",
    "\n",
    "# Corrected S2\n",
    "plt.figure(101)\n",
    "plt.hist(S2_t_ts4, range=[0,10500], bins=105)\n",
    "plt.xlim(0,10500)\n",
    "plt.xlabel(\"S2 Corrected (ph?)\",fontsize=18)\n",
    "plt.title(\"Tritium Sept 2014\", fontsize=20)"
   ]
  },
  {
   "cell_type": "code",
   "execution_count": null,
   "metadata": {
    "collapsed": false
   },
   "outputs": [],
   "source": [
    "# drift time histogram\n",
    "plt.figure(91)\n",
    "plt.hist(drift_time_ss4, range=[0,380], bins=70)\n",
    "plt.xlabel(\"drift time (samples)\", fontsize=18)\n",
    "\n",
    "# Corrected S1\n",
    "plt.figure(101)\n",
    "plt.hist(S1_ss4, range=[0,110], bins=110)\n",
    "plt.xlim(0,110)\n",
    "plt.xlabel(\"S1 Corrected (ph?)\",fontsize=18)\n",
    "plt.title(\"Tritium Sim Sept 2014\", fontsize=20)\n",
    "\n",
    "# Corrected S2\n",
    "plt.figure(111)\n",
    "plt.hist(S2_ss4, range=[0,10500], bins=105)\n",
    "plt.xlim(0,10500)\n",
    "plt.xlabel(\"S2 Corrected (ph?)\",fontsize=18)\n",
    "plt.title(\"Tritium Sim Sept 2014\", fontsize=20)"
   ]
  },
  {
   "cell_type": "code",
   "execution_count": null,
   "metadata": {
    "collapsed": false
   },
   "outputs": [],
   "source": [
    "# combined energy\n",
    "plt.figure(120)\n",
    "plt.hist(Combined_energy_t_ts4, range=[0,20], bins=60)\n",
    "plt.xlabel(\"Deposited Energy (keV ee)\", fontsize=18)\n",
    "plt.title(\"Tritium Sept 2015\", fontsize=20)"
   ]
  },
  {
   "cell_type": "code",
   "execution_count": null,
   "metadata": {
    "collapsed": false
   },
   "outputs": [],
   "source": [
    "# combined energy\n",
    "plt.figure(122)\n",
    "ksTestValue =sp.stats.ks_2samp(Combined_energy_ss4,Combined_energy_t_ts4)\n",
    "print ksTestValue\n",
    "#plt.text(.5,.5,\"KS Test Value = %g\"% ksTestValue[1])\n",
    "plt.hist(Combined_energy_ss4, normed =1,range=[0,20], bins=60, label = \"sim\")\n",
    "plt.hist(Combined_energy_t_ts4, normed =1,range=[0,20], bins=60, label = \"exp\")\n",
    "plt.legend()\n",
    "plt.xlabel(\"Deposited Energy (keV ee)\", fontsize=18)\n",
    "plt.title(\"Tritium Sept 2014\", fontsize=20)\n",
    "plt.title(\"Tritium Sim Sept 2014\", fontsize=20)"
   ]
  },
  {
   "cell_type": "code",
   "execution_count": null,
   "metadata": {
    "collapsed": false
   },
   "outputs": [],
   "source": [
    "plt.figure(130)\n",
    "plt.hist2d(Combined_energy_t_ts4, S1_t_ts4/Combined_energy_t_ts4,range=[[0,20],[0,6]],bins=(100,100),norm=LogNorm())\n",
    "plt.xlabel(\"Deposited Energy (keV ee)\", fontsize=18)\n",
    "plt.ylabel(\"S1 Energy\", fontsize=18)\n",
    "plt.title(\"Tritium Comparision Sept 2014\", fontsize=20)"
   ]
  },
  {
   "cell_type": "code",
   "execution_count": null,
   "metadata": {
    "collapsed": false
   },
   "outputs": [],
   "source": [
    "plt.figure(131)\n",
    "plt.hist2d(Combined_energy_ss4, S1_ss4/Combined_energy_ss4,range=[[0,20],[0,6]],bins=(100,100),norm=LogNorm())\n",
    "plt.xlabel(\"Deposited Energy (keV ee)\", fontsize=18)\n",
    "plt.ylabel(\"S1 pulse \", fontsize=18)\n",
    "plt.title(\"Tritium Comparision Sept 2014\", fontsize=20)"
   ]
  },
  {
   "cell_type": "code",
   "execution_count": null,
   "metadata": {
    "collapsed": false
   },
   "outputs": [],
   "source": [
    "# light yield\n",
    "plt.figure(132)\n",
    "bandfit10=bandfit(Combined_energy_ss4, S1_ss4/Combined_energy_ss4,range=[[0,20],[0,7]],bins=(20,20),)\n",
    "bandfit010=bandfit(Combined_energy_t_ts4, S1_t_ts4/Combined_energy_t_ts4,range=[[0,20],[0,7]],bins=(20,20),)\n",
    "plt.errorbar(bandfit10[2],bandfit10[0],bandfit10[1],lw=2, color=\"k\",label=\"s1 sim\")\n",
    "plt.errorbar(bandfit010[2],bandfit010[0],bandfit010[1],lw=2, color=\"b\",label=\"s1 exp\")\n",
    "plt.legend(loc=0,fontsize=35)\n",
    "plt.xlim(0,20.)\n",
    "#plt.ylim(,)\n",
    "plt.legend()\n",
    "plt.xlabel(\"Deposited Energy (keV ee)\", fontsize=18)\n",
    "plt.ylabel(\"S1 / Deposited Energy\", fontsize=18)\n",
    "plt.title(\"Tritium Comparision Sept 2014\", fontsize=20)\n"
   ]
  },
  {
   "cell_type": "code",
   "execution_count": null,
   "metadata": {
    "collapsed": false
   },
   "outputs": [],
   "source": [
    "plt.figure(140)\n",
    "plt.hist2d(Efield_ts4[~np.isnan(Efield_ts4)], S1_t_ts4[~np.isnan(Efield_ts4)]/Combined_energy_t_ts4[~np.isnan(Efield_ts4)],range=[[0,70000],[0,8]],bins=(100,100),norm=LogNorm())\n",
    "bandfits140=bandfit(Efield_ts4[~np.isnan(Efield_ts4)], S1_t_ts4[~np.isnan(Efield_ts4)]/Combined_energy_t_ts4[~np.isnan(Efield_ts4)],range=[[0,70000],[0,8]],bins=(100,100))\n",
    "plt.errorbar(bandfits140[2],bandfits140[0],bandfits140[1],lw=2, color=\"k\",label=\"s1 sim\")\n",
    "\n",
    "plt.xlabel(\"E field (V/m)\", fontsize=18)\n",
    "plt.ylabel(\"S1 /Deposit Energy\", fontsize=18)\n",
    "plt.title(\"Tritium Comparision Sept 2015\", fontsize=20)"
   ]
  },
  {
   "cell_type": "code",
   "execution_count": null,
   "metadata": {
    "collapsed": false
   },
   "outputs": [],
   "source": [
    "plt.figure(141)\n",
    "plt.hist2d(Efield_ss4[~np.isnan(Efield_ss4)], S1_ss4[~np.isnan(Efield_ss4)]/Combined_energy_ss4[~np.isnan(Efield_ss4)],range=[[0,50000],[0,8]],bins=(100,100),norm=LogNorm())\n",
    "bandfits141=bandfit(Efield_ss4[~np.isnan(Efield_ss4)], S1_ss4[~np.isnan(Efield_ss4)]/Combined_energy_ss4[~np.isnan(Efield_ss4)],range=[[0,50000],[0,8]],bins=(100,100))\n",
    "plt.errorbar(bandfits141[2],bandfits141[0],bandfits141[1],lw=2, color=\"k\",label=\"s1 sim\")\n",
    "\n",
    "plt.xlabel(\"E field (V/m)\", fontsize=18)\n",
    "plt.ylabel(\"S1 /Deposit Energy\", fontsize=18)\n",
    "plt.title(\"Tritium Comparision Sept 2014\", fontsize=20)"
   ]
  },
  {
   "cell_type": "code",
   "execution_count": null,
   "metadata": {
    "collapsed": false
   },
   "outputs": [],
   "source": [
    "plt.figure(142)\n",
    "plt.errorbar(bandfits140[2],bandfits140[0],bandfits140[1],lw=2, color=\"k\",label=\"s1 exp\")\n",
    "plt.errorbar(bandfits141[2],bandfits141[0],bandfits141[1],lw=2, color=\"b\",label=\"s1 sim\")\n",
    "plt.legend()\n",
    "plt.xlabel(\"E field (V/m)\", fontsize=18)\n",
    "plt.ylabel(\"S1 /Deposit Energy\", fontsize=18)\n",
    "plt.title(\"Tritium Comparision Sept 2014\", fontsize=20)"
   ]
  },
  {
   "cell_type": "code",
   "execution_count": null,
   "metadata": {
    "collapsed": false
   },
   "outputs": [],
   "source": [
    "plt.figure(150)\n",
    "plt.hist2d(Efield_s2_ts4[~np.isnan(Efield_s2_ts4)], S1_t_ts4[~np.isnan(Efield_s2_ts4)]/Combined_energy_t_ts4[~np.isnan(Efield_s2_ts4)],range=[[0,70000],[0,8]],bins=(100,100),norm=LogNorm())\n",
    "bandfits150=bandfit(Efield_s2_ts4[~np.isnan(Efield_s2_ts4)], S1_t_ts4[~np.isnan(Efield_s2_ts4)]/Combined_energy_t_ts4[~np.isnan(Efield_s2_ts4)],range=[[0,70000],[0,8]],bins=(100,100))\n",
    "plt.errorbar(bandfits150[2],bandfits150[0],bandfits150[1],lw=2, color=\"k\",label=\"s1 sim\")\n",
    "\n",
    "plt.xlabel(\"E field (V/m)\", fontsize=18)\n",
    "plt.ylabel(\"S1 /Deposit Energy\", fontsize=18)\n",
    "plt.title(\"Tritium Comparision Sept 2014\", fontsize=20)\n",
    "\n",
    "plt.figure(151)\n",
    "plt.hist2d(Efield_s2_ss4[~np.isnan(Efield_s2_ss4)], S1_ss4[~np.isnan(Efield_s2_ss4)]/Combined_energy_ss4[~np.isnan(Efield_s2_ss4)],range=[[0,50000],[0,8]],bins=(100,100),norm=LogNorm())\n",
    "bandfits151=bandfit(Efield_s2_ss4[~np.isnan(Efield_s2_ss4)], S1_ss4[~np.isnan(Efield_s2_ss4)]/Combined_energy_ss4[~np.isnan(Efield_s2_ss4)],range=[[0,50000],[0,8]],bins=(100,100))\n",
    "plt.errorbar(bandfits151[2],bandfits151[0],bandfits151[1],lw=2, color=\"k\",label=\"s1 sim\")\n",
    "\n",
    "plt.xlabel(\"E field (V/m)\", fontsize=18)\n",
    "plt.ylabel(\"S1 /Deposit Energy\", fontsize=18)\n",
    "plt.title(\"Tritium Comparision Sept 2014\", fontsize=20)\n",
    "plt.figure(152)\n",
    "plt.errorbar(bandfits150[2],bandfits150[0],bandfits150[1],lw=2, color=\"k\",label=\"s1 exp\")\n",
    "plt.errorbar(bandfits151[2],bandfits151[0],bandfits151[1],lw=2, color=\"b\",label=\"s1 sim\")\n",
    "plt.legend()\n",
    "plt.xlabel(\"E field (V/m)\", fontsize=18)\n",
    "plt.ylabel(\"S1 /Deposit Energy\", fontsize=18)\n",
    "plt.title(\"Tritium Comparision Sept 2014\", fontsize=20)"
   ]
  },
  {
   "cell_type": "code",
   "execution_count": null,
   "metadata": {
    "collapsed": false
   },
   "outputs": [],
   "source": [
    "np.seterr(invalid='ignore')\n",
    "# corrected reconstruction\n",
    "plt.figure(160,figsize=(13,10))\n",
    "plt.hist2d(x_real_s2_ts4,y_real_s2_ts4,range=[[-25,25],[-25,25]],bins=(100,100))\n",
    "plt.clim(0,15)\n",
    "cbar = plt.colorbar()\n",
    "plt.xlabel(\"S2_X (cm)\", fontsize=18)\n",
    "plt.ylabel(\"S2_Y (cm)\", fontsize=18)\n",
    "plt.title(\"Tritium Sept 2014\", fontsize=20)\n",
    "\n",
    "# z vs S2R^2\n",
    "plt.figure(170,figsize=(13,10))\n",
    "plt.hist2d(x_real_s2_ts4**2+y_real_s2_ts4**2,z_real_s2_ts4,range=[[0,25**2],[0,60]],bins=(70,70))\n",
    "plt.clim(0,30)\n",
    "cbar = plt.colorbar()\n",
    "plt.xlabel(\"r^2 (cm^2)\",fontsize=18)\n",
    "plt.ylabel(\"-drift_time (samples)\",fontsize=18)\n",
    "plt.title(\"Tritium Sept 2014\", fontsize=20)"
   ]
  },
  {
   "cell_type": "code",
   "execution_count": null,
   "metadata": {
    "collapsed": false
   },
   "outputs": [],
   "source": [
    "# corrected reconstruction\n",
    "plt.figure(161,figsize=(13,10))\n",
    "plt.hist2d(x_real_s2_ss4,y_real_s2_ss4,range=[[-25,25],[-25,25]],bins=(100,100))\n",
    "plt.clim(0,5)\n",
    "cbar = plt.colorbar()\n",
    "plt.xlabel(\"S2_X (cm)\", fontsize=18)\n",
    "plt.ylabel(\"S2_Y (cm)\", fontsize=18)\n",
    "plt.title(\"Tritium Sim Sept 2014\", fontsize=20)\n",
    "# z vs S2R^2\n",
    "plt.figure(170,figsize=(13,10))\n",
    "plt.hist2d(x_real_s2_ss4**2+y_real_s2_ss4**2,z_real_s2_ss4,range=[[0,25**2],[0,60]],bins=(70,70))\n",
    "plt.clim(0,10)\n",
    "cbar = plt.colorbar()\n",
    "plt.xlabel(\"r^2 (cm^2)\",fontsize=18)\n",
    "plt.ylabel(\"-drift_time (samples)\",fontsize=18)\n",
    "plt.title(\"Tritium Sim Sept 2014\", fontsize=20)"
   ]
  },
  {
   "cell_type": "code",
   "execution_count": null,
   "metadata": {
    "collapsed": false
   },
   "outputs": [],
   "source": [
    "plt.figure(160,figsize=(13,10))\n",
    "plt.hist2d(x_real_s2_ts4,y_real_s2_ts4,range=[[-25,25],[-25,25]],bins=(100,100))\n",
    "plt.clim(0,15)\n",
    "cbar = plt.colorbar()\n",
    "plt.xlabel(\"S2_X (cm)\", fontsize=18)\n",
    "plt.ylabel(\"S2_Y (cm)\", fontsize=18)\n",
    "plt.title(\"Tritium Sept 2014\", fontsize=20)"
   ]
  },
  {
   "cell_type": "code",
   "execution_count": null,
   "metadata": {
    "collapsed": false
   },
   "outputs": [],
   "source": [
    "Efield_s2_ss4[~np.isnan(Efield_s2_ss4)], "
   ]
  },
  {
   "cell_type": "code",
   "execution_count": null,
   "metadata": {
    "collapsed": false
   },
   "outputs": [],
   "source": [
    "S1_ss4[~np.isnan(Efield_s2_ss4)]/Combined_energy_ss4[~np.isnan(Efield_s2_ss4)]\n"
   ]
  },
  {
   "cell_type": "code",
   "execution_count": null,
   "metadata": {
    "collapsed": false
   },
   "outputs": [],
   "source": [
    "len(S1_ss4)"
   ]
  },
  {
   "cell_type": "code",
   "execution_count": null,
   "metadata": {
    "collapsed": false
   },
   "outputs": [],
   "source": [
    "S1_ss4[~np.isnan(Efield_s2_ss4)]"
   ]
  },
  {
   "cell_type": "code",
   "execution_count": null,
   "metadata": {
    "collapsed": false
   },
   "outputs": [],
   "source": [
    "~np.isnan(Efield_s2_ss4)"
   ]
  },
  {
   "cell_type": "code",
   "execution_count": null,
   "metadata": {
    "collapsed": false
   },
   "outputs": [],
   "source": [
    "Efield_s2_ss4"
   ]
  },
  {
   "cell_type": "code",
   "execution_count": null,
   "metadata": {
    "collapsed": true
   },
   "outputs": [],
   "source": []
  },
  {
   "cell_type": "code",
   "execution_count": null,
   "metadata": {
    "collapsed": true
   },
   "outputs": [],
   "source": []
  },
  {
   "cell_type": "code",
   "execution_count": null,
   "metadata": {
    "collapsed": true
   },
   "outputs": [],
   "source": []
  }
 ],
 "metadata": {
  "kernelspec": {
   "display_name": "Python 2",
   "language": "python",
   "name": "python2"
  },
  "language_info": {
   "codemirror_mode": {
    "name": "ipython",
    "version": 2
   },
   "file_extension": ".py",
   "mimetype": "text/x-python",
   "name": "python",
   "nbconvert_exporter": "python",
   "pygments_lexer": "ipython2",
   "version": "2.7.11"
  }
 },
 "nbformat": 4,
 "nbformat_minor": 0
}
