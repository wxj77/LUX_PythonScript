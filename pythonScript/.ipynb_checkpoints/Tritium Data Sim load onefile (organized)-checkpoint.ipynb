{
 "cells": [
  {
   "cell_type": "code",
   "execution_count": 1,
   "metadata": {
    "collapsed": false
   },
   "outputs": [],
   "source": [
    "import sys\n",
    "import os\n",
    "import functools\n",
    "import scipy\n",
    "import scipy as sp\n",
    "import numpy as np\n",
    "import matplotlib.pyplot as plt\n",
    "%matplotlib inline\n",
    "import matplotlib.pylab as pylab\n",
    "from matplotlib.colors import LogNorm\n",
    "import pickle\n",
    "import math\n",
    "import subprocess\n",
    "\n",
    "\n",
    "sys.path.insert(2, \"/global/projecta/projectdirs/lux/data\")\n",
    "sys.path.insert(2, \"/global/projecta/projectdirs/lux/users/weiji/\")\n",
    "sys.path.insert(0,'/project/projectdirs/lux/Tools/LUXcode/Trunk/DataAnalysis/Python/' )\n",
    "sys.path.insert(0,'/project/projectdirs/lux/Tools/LUXcode/Trunk/DataAnalysis/Python/aLib' )\n",
    "import __init__ as S\n",
    "import dp as dp\n",
    "\n",
    "pylab.rcParams[\"figure.figsize\"]=15,8"
   ]
  },
  {
   "cell_type": "code",
   "execution_count": 2,
   "metadata": {
    "collapsed": true
   },
   "outputs": [],
   "source": [
    "\n",
    "rq_list = [\"file_number\", \"pulse_classification\"]\n",
    "rq_list.append(\"pulse_area_phe\")\n",
    "rq_list.append(\"xyz_corrected_pulse_area_all_phe\")\n",
    "rq_list.append(\"spike_count\")\n",
    "rq_list.append(\"x_cm\")\n",
    "rq_list.append(\"y_cm\")\n",
    "#rq_list.append(\"x_cm_del\")\n",
    "#rq_list.append(\"y_cm_del\")\n",
    "rq_list.append(\"s1s2_pairing\")\n",
    "rq_list.append(\"z_drift_samples\")\n",
    "rq_list.append(\"pulse_classification\")\n"
   ]
  },
  {
   "cell_type": "code",
   "execution_count": null,
   "metadata": {
    "collapsed": false
   },
   "outputs": [
    {
     "name": "stdout",
     "output_type": "stream",
     "text": [
      "** concatRQsWcuts encourages you to graduate from the stone age and\n",
      "   switch from python v2.7 to v3.x.\n",
      "\n",
      "\n",
      "<<<<<<<<<<<<<<<<<<<<<<<<<<<<<<<<<<<<<<<< dp.concatRQsWcuts >>>>>>>>>>>>>>>>>>>>>>>>>>>>>>>>>>>>>>>>>\n",
      "<<<<                                          STARTING                                          >>>>\n",
      "<<<<<<<<<<<<<<<<<<<<<<<<<<<<<<<<<<<<<<<<<<<<<<<<<<>>>>>>>>>>>>>>>>>>>>>>>>>>>>>>>>>>>>>>>>>>>>>>>>>>\n",
      "\n",
      "\n",
      "Determining total number of files..\t 594\n",
      "Estimating number of events that will pass cuts.......... Roughly 202910\n",
      "\n",
      "********** Allocating 1.0 GB **********\n",
      "\n",
      "\n",
      "**** /project/projectdirs/lux/users/weiji/TrSim201602/matfiles/ ****\n"
     ]
    }
   ],
   "source": [
    "# Initial Cuts\n",
    "# 1 s1 and 1 s2\n",
    "def cut_1S1_1S2(ev):\n",
    "    ct = ev.s1s2_pairing.sum(0) == 2\n",
    "    return ct\n",
    "\n",
    "cuts = [cut_1S1_1S2]\n",
    "\n",
    "namelist = [\"TrSim201409\",\"TrSim201502\",\"TrSim201509\",\"TrSim201602\"]\n",
    "namelist = [\"TrSim201602\"]\n",
    "setlist = [\"TrSim201409\",\"TrSim201502\",\"TrSim201509\",\"TrSim201602\"]\n",
    "setlist = [\"TrSim201602\"]\n",
    "for aa in range(len(setlist)):\n",
    "\n",
    "    dSets = [setlist[aa]]\n",
    "    dSetPathList = [\"/project/projectdirs/lux/users/weiji/\"+ds+\"/matfiles/\" for ds in dSets]\n",
    "    data = dp.concatRQsWcuts(dSetPathList, rq_list, cuts=cuts)\n",
    "    np.save(\"/project/projectdirs/lux/users/weiji/data/\"+namelist[aa],np.array([data]))\n",
    "    #pickle.dump(data,open(\"/project/projectdirs/lux/users/weiji/ss20164020_\"+str(aa+2)+\".pickle\",\"wb\"),protocol=2)"
   ]
  },
  {
   "cell_type": "code",
   "execution_count": null,
   "metadata": {
    "collapsed": false
   },
   "outputs": [],
   "source": [
    "data\n",
    "\n"
   ]
  },
  {
   "cell_type": "code",
   "execution_count": 16,
   "metadata": {
    "collapsed": false
   },
   "outputs": [
    {
     "name": "stdout",
     "output_type": "stream",
     "text": [
      "** concatRQsWcuts encourages you to graduate from the stone age and\n",
      "   switch from python v2.7 to v3.x.\n",
      "\n",
      "\n",
      "<<<<<<<<<<<<<<<<<<<<<<<<<<<<<<<<<<<<<<<< dp.concatRQsWcuts >>>>>>>>>>>>>>>>>>>>>>>>>>>>>>>>>>>>>>>>>\n",
      "<<<<                                          STARTING                                          >>>>\n",
      "<<<<<<<<<<<<<<<<<<<<<<<<<<<<<<<<<<<<<<<<<<<<<<<<<<>>>>>>>>>>>>>>>>>>>>>>>>>>>>>>>>>>>>>>>>>>>>>>>>>>\n",
      "\n",
      "\n",
      "Determining total number of files............\t 12792\n",
      "Estimating number of events that will pass cuts.......... Roughly 436207\n",
      "******************* <WARNING> *******************\n",
      "\n",
      "    ********** Allocating 2.3 GB!! **********\n",
      " ( CTRL-C WITHIN 10 SECONDS IF THAT'S TOO MUCH )\n",
      "\n",
      "******************* <\\WARNING> *******************\n",
      "\n",
      "\n",
      "**** /global/projecta/projectdirs/lux/data/rq/lux10_20140905T1531_cp18147/matfiles/ ****\n",
      "\n",
      "\n",
      "**** /global/projecta/projectdirs/lux/data/rq/lux10_20140905T2036_cp18145/matfiles/ ****\n",
      "\n",
      "\n",
      "**** /global/projecta/projectdirs/lux/data/rq/lux10_20140906T0144_cp18143//matfiles/ ****\n",
      "\n",
      "\n",
      "**** /global/projecta/projectdirs/lux/data/rq/lux10_20140906T0650_cp18141/matfiles/ ****\n",
      "\n",
      "\n",
      "**** /global/projecta/projectdirs/lux/data/rq/lux10_20140906T1131_cp18139/matfiles/ ****\n",
      "\n",
      "\n",
      "**** /global/projecta/projectdirs/lux/data/rq/lux10_20140906T1615_cp18137/matfiles/ ****\n",
      "\n",
      "\n",
      "**** /global/projecta/projectdirs/lux/data/rq/lux10_20140906T2106_cp18240/matfiles/ ****\n",
      "\n",
      "\n",
      "**** /global/projecta/projectdirs/lux/data/rq/lux10_20140907T0955_cp14024/matfiles/ ****\n",
      "\n",
      "\n",
      "**** /global/projecta/projectdirs/lux/data/rq/lux10_20140907T1513_cp14139/matfiles/ ****\n",
      "\n",
      "\n",
      "**** /global/projecta/projectdirs/lux/data/rq/lux10_20140908T0149_cp14023/matfiles/ ****\n",
      "\n",
      "\n",
      "**** /global/projecta/projectdirs/lux/data/rq/lux10_20140908T0711_cp11029/matfiles/ ****\n",
      "flag_pastAllocate = False\n",
      "\n",
      "k_CutStep = 277113\n",
      "\n",
      "\n",
      "Number of events before cuts: 5507033\n",
      "Number of events after  cuts: 277113\n",
      "   Cut name: Num passing\n",
      "-----------: -----------\n",
      "cut_1S1_1S2: 277113\n",
      "** concatRQsWcuts encourages you to graduate from the stone age and\n",
      "   switch from python v2.7 to v3.x.\n",
      "\n",
      "\n",
      "<<<<<<<<<<<<<<<<<<<<<<<<<<<<<<<<<<<<<<<< dp.concatRQsWcuts >>>>>>>>>>>>>>>>>>>>>>>>>>>>>>>>>>>>>>>>>\n",
      "<<<<                                          STARTING                                          >>>>\n",
      "<<<<<<<<<<<<<<<<<<<<<<<<<<<<<<<<<<<<<<<<<<<<<<<<<<>>>>>>>>>>>>>>>>>>>>>>>>>>>>>>>>>>>>>>>>>>>>>>>>>>\n",
      "\n",
      "\n",
      "Determining total number of files..............."
     ]
    },
    {
     "ename": "OSError",
     "evalue": "[Errno 2] No such file or directory: '/global/projecta/projectdirs/lux/data/rq/lux10_20141108T1620_cp14141/matfiles/'",
     "output_type": "error",
     "traceback": [
      "\u001b[1;31m---------------------------------------------------------------------------\u001b[0m",
      "\u001b[1;31mOSError\u001b[0m                                   Traceback (most recent call last)",
      "\u001b[1;32m<ipython-input-16-2d1017fa3c03>\u001b[0m in \u001b[0;36m<module>\u001b[1;34m()\u001b[0m\n\u001b[0;32m     59\u001b[0m         \u001b[0mdSetPathList\u001b[0m\u001b[1;33m.\u001b[0m\u001b[0mappend\u001b[0m\u001b[1;33m(\u001b[0m\u001b[1;34m\"/global/projecta/projectdirs/lux/data/rq/\"\u001b[0m\u001b[1;33m+\u001b[0m\u001b[0mds\u001b[0m\u001b[1;33m+\u001b[0m\u001b[1;34m\"/matfiles/\"\u001b[0m\u001b[1;33m)\u001b[0m\u001b[1;33m\u001b[0m\u001b[0m\n\u001b[0;32m     60\u001b[0m \u001b[1;33m\u001b[0m\u001b[0m\n\u001b[1;32m---> 61\u001b[1;33m     \u001b[0mdata\u001b[0m \u001b[1;33m=\u001b[0m \u001b[0mdp\u001b[0m\u001b[1;33m.\u001b[0m\u001b[0mconcatRQsWcuts\u001b[0m\u001b[1;33m(\u001b[0m\u001b[0mdSetPathList\u001b[0m\u001b[1;33m,\u001b[0m \u001b[0mrq_list\u001b[0m\u001b[1;33m,\u001b[0m \u001b[0mcuts\u001b[0m\u001b[1;33m=\u001b[0m\u001b[0mcuts\u001b[0m\u001b[1;33m)\u001b[0m\u001b[1;33m\u001b[0m\u001b[0m\n\u001b[0m\u001b[0;32m     62\u001b[0m     \u001b[0mnp\u001b[0m\u001b[1;33m.\u001b[0m\u001b[0msave\u001b[0m\u001b[1;33m(\u001b[0m\u001b[1;34m\"/global/project/projectdirs/lux/users/weiji/data/\"\u001b[0m\u001b[1;33m+\u001b[0m\u001b[0mnamelist\u001b[0m\u001b[1;33m[\u001b[0m\u001b[0maa\u001b[0m\u001b[1;33m]\u001b[0m\u001b[1;33m,\u001b[0m\u001b[0mnp\u001b[0m\u001b[1;33m.\u001b[0m\u001b[0marray\u001b[0m\u001b[1;33m(\u001b[0m\u001b[1;33m[\u001b[0m\u001b[0mdata\u001b[0m\u001b[1;33m]\u001b[0m\u001b[1;33m)\u001b[0m\u001b[1;33m)\u001b[0m\u001b[1;33m\u001b[0m\u001b[0m\n\u001b[0;32m     63\u001b[0m     \u001b[1;31m#pickle.dump(data,open(\"/project/projectdirs/lux/users/weiji/ss20164020_\"+str(aa+2)+\".pickle\",\"wb\"),protocol=2)\u001b[0m\u001b[1;33m\u001b[0m\u001b[1;33m\u001b[0m\u001b[0m\n",
      "\u001b[1;32m/project/projectdirs/lux/Tools/LUXcode/Trunk/DataAnalysis/Python/aLib/dp.py\u001b[0m in \u001b[0;36mconcatRQsWcuts\u001b[1;34m(rqBasePath_list, fieldsToKeep, cuts, fileList, printMultiple, sleepTimeBetween, memAllocate)\u001b[0m\n\u001b[0;32m    612\u001b[0m         \u001b[1;32mif\u001b[0m \u001b[0mtype\u001b[0m\u001b[1;33m(\u001b[0m\u001b[0mfileList\u001b[0m\u001b[1;33m)\u001b[0m\u001b[1;33m==\u001b[0m\u001b[0mstr\u001b[0m\u001b[1;33m:\u001b[0m\u001b[1;33m\u001b[0m\u001b[0m\n\u001b[0;32m    613\u001b[0m             \u001b[1;32mif\u001b[0m \u001b[0mfileList\u001b[0m\u001b[1;33m==\u001b[0m\u001b[1;34m\"all\"\u001b[0m\u001b[1;33m:\u001b[0m\u001b[1;33m\u001b[0m\u001b[0m\n\u001b[1;32m--> 614\u001b[1;33m                 \u001b[0mrqFileNames\u001b[0m \u001b[1;33m=\u001b[0m \u001b[0mos\u001b[0m\u001b[1;33m.\u001b[0m\u001b[0mlistdir\u001b[0m\u001b[1;33m(\u001b[0m\u001b[0mrqBasePath\u001b[0m\u001b[1;33m)\u001b[0m\u001b[1;33m\u001b[0m\u001b[0m\n\u001b[0m\u001b[0;32m    615\u001b[0m             \u001b[1;32melse\u001b[0m\u001b[1;33m:\u001b[0m\u001b[1;33m\u001b[0m\u001b[0m\n\u001b[0;32m    616\u001b[0m                 \u001b[1;32mraise\u001b[0m \u001b[0mTypeError\u001b[0m\u001b[1;33m(\u001b[0m\u001b[1;34m\"I don't recognize your fileList.\"\u001b[0m\u001b[1;33m)\u001b[0m\u001b[1;33m\u001b[0m\u001b[0m\n",
      "\u001b[1;31mOSError\u001b[0m: [Errno 2] No such file or directory: '/global/projecta/projectdirs/lux/data/rq/lux10_20141108T1620_cp14141/matfiles/'"
     ]
    }
   ],
   "source": [
    "# Initial Cuts\n",
    "# 1 s1 and 1 s2\n",
    "def cut_1S1_1S2(ev):\n",
    "    ct = ev.s1s2_pairing.sum(0) == 2    \n",
    "    return ct\n",
    "\n",
    "cuts = [cut_1S1_1S2]\n",
    "\n",
    "namelist = [\"TrData201409\",\"TrData201411\",\"TrData201502\",\"TrData201509\",\"TrData201602\",\"TrData201605\",]\n",
    "setlist = [[\"lux10_20140905T1531\",\"lux10_20140905T2036\",\"lux10_20140906T0144\",\"lux10_20140906T0650\", \\\n",
    "            \"lux10_20140906T1131\",\"lux10_20140906T1615\",\"lux10_20140906T2106\",\"lux10_20140907T0209\", \\\n",
    "            \"lux10_20140907T0955\",\"lux10_20140907T1513\",\"lux10_20140907T2033\",\"lux10_20140908T0149\", \\\n",
    "            \"lux10_20140908T0711\",],\n",
    "           [\"lux10_20141105T0834\",\"lux10_20141105T0905\",\"lux10_20141105T1225\",\"lux10_20141105T1545\", \\\n",
    "            \"lux10_20141105T1959\",\"lux10_20141106T0019\",\"lux10_20141106T0436\",\"lux10_20141106T0633\", \\\n",
    "            \"lux10_20141106T1054\",\"lux10_20141106T1434\",\"lux10_20141106T1523\",\"lux10_20141106T1857\",\\\n",
    "            \"lux10_20141106T2256\",\"lux10_20141107T0246\",\"lux10_20141107T0646\",\"lux10_20141107T1044\", \\\n",
    "            \"lux10_20141107T1450\",\"lux10_20141107T1904\",\"lux10_20141107T2320\",\"lux10_20141108T0340\", \\\n",
    "            \"lux10_20141108T0801\",\"lux10_20141108T1214\",\"lux10_20141108T1620\",\"lux10_20141108T2026\", \\\n",
    "            \"lux10_20141109T0031\",\"lux10_20141109T0051\",\"lux10_20141109T1742\",\"lux10_20141109T1859\", \\\n",
    "            \"lux10_20141109T2237\",\"lux10_20141110T0222\",\"lux10_20141110T0612\",\"lux10_20141110T1009\", \\\n",
    "            \"lux10_20141110T1419\",\"lux10_20141110T1834\",\"lux10_20141110T2249\",], \\\n",
    "           [\"lux10_20150225T0848\",\"lux10_20150225T1555\",\"lux10_20150225T2254\",\"lux10_20150226T0605\",], \\\n",
    "           [\"lux10_20150929T0940\",\"lux10_20150929T1656\",\"lux10_20150929T1905\",\"lux10_20150930T0132\", \\\n",
    "            \"lux10_20150930T0821\",\"lux10_20150930T1329\",\"lux10_20150930T1411\",\"lux10_20150930T1423\", \\\n",
    "            \"lux10_20150930T1443\",\"lux10_20150930T1824\",\"lux10_20151001T0121\",\"lux10_20151001T1243\",], \\\n",
    "           [\"lux10_20160205T0915\",\"lux10_20160205T1655\",\"lux10_20160205T1844\",\"lux10_20160205T2316\", \\\n",
    "            \"lux10_20160206T0600\",\"lux10_20160206T1342\",\"lux10_20160206T2126\",\"lux10_20160207T0838\", \\\n",
    "            \"lux10_20160207T0051\",], \\\n",
    "           [\"lux10_20160502T1337\",\"lux10_20160502T2101\",\"lux10_20160503T0431\"],]\n",
    "\n",
    "setlist = [[\"lux10_20140905T1531_cp18147\",\"lux10_20140905T2036_cp18145\",\"lux10_20140906T0144_cp18143/\",\"lux10_20140906T0650_cp18141\", \\\n",
    "            \"lux10_20140906T1131_cp18139\",\"lux10_20140906T1615_cp18137\",\"lux10_20140906T2106_cp18240\", \\\n",
    "            #\"lux10_20140907T0209\",\\ \n",
    "            \"lux10_20140907T0955_cp14024\",\"lux10_20140907T1513_cp14139\",\\\n",
    "            #\"lux10_20140907T2033\",\\\n",
    "            \"lux10_20140908T0149_cp14023\", \\\n",
    "            \"lux10_20140908T0711_cp11029\",],\n",
    "           [\"lux10_20141105T0834_cp12443\",\\\n",
    "            #\"lux10_20141105T0905\",\"lux10_20141105T1225\",\"lux10_20141105T1545\", \\\n",
    "            #\"lux10_20141105T1959\",\"lux10_20141106T0019\",\"lux10_20141106T0436\",\"lux10_20141106T0633\",\\ \n",
    "            #\"lux10_20141106T1054\",\"lux10_20141106T1434\",\n",
    "            \"lux10_20141106T1523_cp18172\",\"lux10_20141106T1857_cp18170\",\\\n",
    "            \"lux10_20141106T2256_cp18167\",\"lux10_20141107T0246_cp18165\",\"lux10_20141107T0646_cp18162\",\"lux10_20141107T1044_cp18160\", \\\n",
    "            \"lux10_20141107T1450_cp18158\",\"lux10_20141107T1904_cp18156\",\"lux10_20141107T2320_cp18154\",\"lux10_20141108T0340_cp18151\", \\\n",
    "            \"lux10_20141108T0801_cp18149\",\"lux10_20141108T1214_cp14141\",\"lux10_20141108T1620_cp11819\",\"lux10_20141108T2026_cp14141\", \\\n",
    "            \"lux10_20141109T0031_cp11822\",\"lux10_20141109T0051_cp11821\",\"lux10_20141109T1742_cp11836\",\"lux10_20141109T1859_cp11838\", \\\n",
    "            \"lux10_20141109T2237_cp11852\",\"lux10_20141110T0222_cp11877\",\"lux10_20141110T0612_cp11878\",\"lux10_20141110T1009_cp11879\", \\\n",
    "            \"lux10_20141110T1419_cp11880\",\"lux10_20141110T1834_cp11881\",\"lux10_20141110T2249_cp11882\",], \n",
    "           [\"lux10_20150225T0848_cp18181\",\"lux10_20150225T1555_cp18178\",\"lux10_20150225T2254_cp18176\",\"lux10_20150226T0605_cp18174\",], \\\n",
    "           [\"lux10_20150929T0940_cp18194\",\"lux10_20150929T1656_cp18196\",\"lux10_20150929T1905_cp18197\",\"lux10_20150930T0132_cp18198\", \\\n",
    "            \"lux10_20150930T0821_cp18199\",\"lux10_20150930T1329_cp18200\",\"lux10_20150930T1411_cp18202\",\"lux10_20150930T1423_cp18203\", \\\n",
    "            \"lux10_20150930T1443_cp18204\",\"lux10_20150930T1824_cp18205\",\"lux10_20151001T0121_cp18207\",\"lux10_20151001T1243_cp17558\",], \\\n",
    "           [\"lux10_20160205T0915_cp20515\", \"lux10_20160205T1655_cp20514\", \"lux10_20160205T2316_cp20516\",\\\n",
    "            \"lux10_20160206T0600_cp20518\", \"lux10_20160206T1342_cp20519\", \"lux10_20160207T0051_cp20520\",\\\n",
    "            \"lux10_20160207T0838_cp20521\"], \\\n",
    "           #[\"lux10_20160502T1337\",\"lux10_20160502T2101\",\"lux10_20160503T0431\"],\n",
    "          ]\n",
    "\n",
    "for aa in range(len(setlist)):\n",
    "    dSetPathList=[]\n",
    "    dSets = setlist[aa]\n",
    "    for ds in dSets:\n",
    "        dSetPathList.append(\"/global/projecta/projectdirs/lux/data/rq/\"+ds+\"/matfiles/\")\n",
    "\n",
    "    data = dp.concatRQsWcuts(dSetPathList, rq_list, cuts=cuts)\n",
    "    np.save(\"/global/project/projectdirs/lux/users/weiji/data/\"+namelist[aa],np.array([data]))\n",
    "    #pickle.dump(data,open(\"/project/projectdirs/lux/users/weiji/ss20164020_\"+str(aa+2)+\".pickle\",\"wb\"),protocol=2)"
   ]
  },
  {
   "cell_type": "code",
   "execution_count": 17,
   "metadata": {
    "collapsed": false
   },
   "outputs": [
    {
     "data": {
      "text/plain": [
       "Dictionary contents:\n",
       "                             FIELDS: TYPE                             CONTENTS\n",
       "                             ------  ----                             --------\n",
       "                           RQ_paths: [11 list],                        \n",
       "                            fileNum: [(277113,) uint16array],         [0 0 0 0 0 0 0 0 0 0 0 0 0 0 0...\n",
       "                        file_number: [(277113,) uint32array],         [12435 12435 12435 12435 12435...\n",
       "                        numCutsPass: [1 list],                         \n",
       "                     numEventsTotal: [1 int],                         5507033\n",
       "                            pathNum: [(277113,) uint8array],          [0 0 0 0 0 0 0 0 0 0 0 0 0 0 0...\n",
       "                     pulse_area_phe: [(10, 277113) float32array],     [  7.02494574e+00   2.45816689...\n",
       "               pulse_classification: [(10, 277113) uint32array],      [1 1 3 1 1 1 3 1 1 3 3 1 1 3 3...\n",
       "                       s1s2_pairing: [(10, 277113) uint32array],      [1 1 0 1 1 1 0 1 1 0 0 1 1 0 0...\n",
       "                        spike_count: [(10, 122, 277113) uint32array], [  0   0   0   0   1   0   0  ...\n",
       "                               x_cm: [(10, 277113) float32array],     [  -5.96989298   -7.16335201 -...\n",
       "   xyz_corrected_pulse_area_all_phe: [(10, 277113) float32array],     [  7.97486305e+00   2.78899956...\n",
       "                               y_cm: [(10, 277113) float32array],     [ -19.00756073   14.6322031  -...\n",
       "                    z_drift_samples: [(10, 277113) uint32array],      [0 0 0 0 0 0 0 0 0 0 0 0 0 0 0...\n"
      ]
     },
     "execution_count": 17,
     "metadata": {},
     "output_type": "execute_result"
    }
   ],
   "source": [
    "data"
   ]
  },
  {
   "cell_type": "code",
   "execution_count": 10,
   "metadata": {
    "collapsed": false
   },
   "outputs": [
    {
     "name": "stdout",
     "output_type": "stream",
     "text": [
      "lux10_20140905T1531\n",
      "lux10_20140905T2036\n",
      "lux10_20140906T0144\n",
      "lux10_20140906T0650\n",
      "lux10_20140906T1131\n",
      "lux10_20140906T1615\n",
      "lux10_20140906T2106\n",
      "lux10_20140907T0209\n",
      "lux10_20140907T0955\n",
      "lux10_20140907T1513\n",
      "lux10_20140907T2033\n",
      "lux10_20140908T0149\n",
      "lux10_20140908T0711\n"
     ]
    }
   ],
   "source": [
    "for ds in dSets:\n",
    "    print ds"
   ]
  },
  {
   "cell_type": "code",
   "execution_count": 21,
   "metadata": {
    "collapsed": false
   },
   "outputs": [
    {
     "data": {
      "text/plain": [
       "False"
      ]
     },
     "execution_count": 21,
     "metadata": {},
     "output_type": "execute_result"
    }
   ],
   "source": [
    "os.path.isdir(\"/global/projecta/projectdirs/lux/data/rq/lux10_20141108T1620_cp11819/\")"
   ]
  },
  {
   "cell_type": "code",
   "execution_count": 13,
   "metadata": {
    "collapsed": false,
    "scrolled": true
   },
   "outputs": [
    {
     "data": {
      "text/plain": [
       "['home',\n",
       " 'lost+found',\n",
       " 'sbin',\n",
       " 'lib',\n",
       " 'etc',\n",
       " 'srv',\n",
       " '.cache',\n",
       " 'root',\n",
       " '.dockerenv',\n",
       " 'opt',\n",
       " 'tmp',\n",
       " 'sys',\n",
       " '.dockerinit',\n",
       " '.ipython',\n",
       " 'usr',\n",
       " 'var',\n",
       " '.bash_history',\n",
       " 'global',\n",
       " '.npm',\n",
       " '.pki',\n",
       " 'mnt',\n",
       " 'dev',\n",
       " '.config',\n",
       " 'anaconda',\n",
       " 'selinux',\n",
       " 'bin',\n",
       " '.continuum',\n",
       " 'proc',\n",
       " '.local',\n",
       " 'media',\n",
       " 'project',\n",
       " 'lib64']"
      ]
     },
     "execution_count": 13,
     "metadata": {},
     "output_type": "execute_result"
    }
   ],
   "source": [
    "os.listdir(\"/\")"
   ]
  },
  {
   "cell_type": "code",
   "execution_count": null,
   "metadata": {
    "collapsed": true
   },
   "outputs": [],
   "source": []
  }
 ],
 "metadata": {
  "kernelspec": {
   "display_name": "Python 2",
   "language": "python",
   "name": "python2"
  },
  "language_info": {
   "codemirror_mode": {
    "name": "ipython",
    "version": 2
   },
   "file_extension": ".py",
   "mimetype": "text/x-python",
   "name": "python",
   "nbconvert_exporter": "python",
   "pygments_lexer": "ipython2",
   "version": "2.7.11"
  }
 },
 "nbformat": 4,
 "nbformat_minor": 0
}
