{
 "cells": [
  {
   "cell_type": "code",
   "execution_count": 1,
   "metadata": {
    "collapsed": true
   },
   "outputs": [],
   "source": [
    "import sys\n",
    "import os\n",
    "import functools\n",
    "import scipy\n",
    "import scipy as sp\n",
    "import numpy as np\n",
    "import matplotlib.pyplot as plt\n",
    "%matplotlib inline\n",
    "import matplotlib.pylab as pylab\n",
    "from matplotlib.colors import LogNorm\n",
    "import pickle\n",
    "import math\n",
    "import subprocess\n",
    "\n",
    "\n",
    "sys.path.insert(2, \"/global/projecta/projectdirs/lux/data\")\n",
    "sys.path.insert(2, \"/global/projecta/projectdirs/lux/users/weiji/\")\n",
    "sys.path.insert(0,'/project/projectdirs/lux/Tools/LUXcode/Trunk/DataAnalysis/Python/' )\n",
    "sys.path.insert(0,'/project/projectdirs/lux/Tools/LUXcode/Trunk/DataAnalysis/Python/aLib' )\n",
    "import __init__ as S\n",
    "import dp as dp\n",
    "\n",
    "pylab.rcParams[\"figure.figsize\"]=15,8"
   ]
  },
  {
   "cell_type": "code",
   "execution_count": 9,
   "metadata": {
    "collapsed": true
   },
   "outputs": [],
   "source": [
    "\n",
    "rq_list = [\"file_number\", \"pulse_classification\"]\n",
    "rq_list.append(\"pulse_area_phe\")\n",
    "rq_list.append(\"xyz_corrected_pulse_area_all_phe\")\n",
    "rq_list.append(\"spike_count\")\n",
    "rq_list.append(\"x_cm\")\n",
    "rq_list.append(\"y_cm\")\n",
    "rq_list.append(\"x_cm_del\")\n",
    "rq_list.append(\"y_cm_del\")\n",
    "rq_list.append(\"s1s2_pairing\")\n",
    "rq_list.append(\"z_drift_samples\")\n",
    "rq_list.append(\"pulse_classification\")\n"
   ]
  },
  {
   "cell_type": "code",
   "execution_count": 10,
   "metadata": {
    "collapsed": false
   },
   "outputs": [
    {
     "name": "stdout",
     "output_type": "stream",
     "text": [
      "** concatRQsWcuts encourages you to graduate from the stone age and\n",
      "   switch from python v2.7 to v3.x.\n",
      "\n",
      "\n",
      "<<<<<<<<<<<<<<<<<<<<<<<<<<<<<<<<<<<<<<<< dp.concatRQsWcuts >>>>>>>>>>>>>>>>>>>>>>>>>>>>>>>>>>>>>>>>>\n",
      "<<<<                                          STARTING                                          >>>>\n",
      "<<<<<<<<<<<<<<<<<<<<<<<<<<<<<<<<<<<<<<<<<<<<<<<<<<>>>>>>>>>>>>>>>>>>>>>>>>>>>>>>>>>>>>>>>>>>>>>>>>>>\n",
      "\n",
      "\n",
      "Determining total number of files..\t 150\n",
      "Estimating number of events that will pass cuts.......... Roughly 51390\n",
      "\n",
      "********** Allocating 267.8 MB **********\n",
      "\n",
      "\n",
      "**** /project/projectdirs/lux/users/weiji/luxsm_20160420T1748_cp20984/matfiles/ ****\n",
      "flag_pastAllocate = False\n",
      "\n",
      "k_CutStep = 51353\n",
      "\n",
      "\n",
      "Number of events before cuts: 70136\n",
      "Number of events after  cuts: 51353\n",
      "   Cut name: Num passing\n",
      "-----------: -----------\n",
      "cut_1S1_1S2: 51353\n"
     ]
    }
   ],
   "source": [
    "# Initial Cuts\n",
    "# 1 s1 and 1 s2\n",
    "def cut_1S1_1S2(ev):\n",
    "    ct = ev.s1s2_pairing.sum(0) == 2\n",
    "    return ct\n",
    "\n",
    "cuts = [cut_1S1_1S2]\n",
    "\n",
    "setlist = [\"luxsm_20160420T1748_cp20984\",]\n",
    "for aa in range(len(setlist)):\n",
    "\n",
    "    dSets = [setlist[aa]]\n",
    "    dSetPathList = [\"/project/projectdirs/lux/users/weiji/\"+ds+\"/matfiles/\" for ds in dSets]\n",
    "\n",
    "    data = dp.concatRQsWcuts(dSetPathList, rq_list, cuts=cuts)\n",
    "\n",
    "    pickle.dump(data,open(\"/project/projectdirs/lux/users/weiji/ss20164020_\"+str(aa+2)+\".pickle\",\"wb\"),protocol=2)"
   ]
  },
  {
   "cell_type": "code",
   "execution_count": 11,
   "metadata": {
    "collapsed": false
   },
   "outputs": [
    {
     "data": {
      "text/plain": [
       "Dictionary contents:\n",
       "                             FIELDS: TYPE                            CONTENTS\n",
       "                             ------  ----                            --------\n",
       "                           RQ_paths: [1 list],                        \n",
       "                            fileNum: [(51353,) uint16array],         [0 0 0 0 0 0 0 0 0 0 0 0 0 0 0...\n",
       "                        file_number: [(51353,) uint32array],         [1 1 1 1 1 1 1 1 1 1 1 1 1 1 1...\n",
       "                        numCutsPass: [1 list],                        \n",
       "                     numEventsTotal: [1 int],                        70136\n",
       "                            pathNum: [(51353,) uint8array],          [0 0 0 0 0 0 0 0 0 0 0 0 0 0 0...\n",
       "                     pulse_area_phe: [(10, 51353) float32array],     [  4.98953760e-01   3.95634193...\n",
       "               pulse_classification: [(10, 51353) uint32array],      [3 1 1 1 1 5 1 3 1 3 1 1 1 1 1...\n",
       "                       s1s2_pairing: [(10, 51353) uint32array],      [0 1 1 1 1 0 1 0 1 0 1 1 1 1 1...\n",
       "                        spike_count: [(10, 122, 51353) uint32array], [0 0 0 0 0 0 0 0 0 0 0 0 0 0 0...\n",
       "                               x_cm: [(10, 51353) float32array],     [ -1.00000000e+02  -2.21126246...\n",
       "                           x_cm_del: [(10, 51353) float32array],     [-100. -100. -100. -100. -100....\n",
       "   xyz_corrected_pulse_area_all_phe: [(10, 51353) float32array],     [  4.98953760e-01   3.56869926...\n",
       "                               y_cm: [(10, 51353) float32array],     [ -1.00000000e+02   2.11030173...\n",
       "                           y_cm_del: [(10, 51353) float32array],     [-100. -100. -100. -100. -100....\n",
       "                    z_drift_samples: [(10, 51353) uint32array],      [0 0 0 0 0 0 0 0 0 0 0 0 0 0 0...\n"
      ]
     },
     "execution_count": 11,
     "metadata": {},
     "output_type": "execute_result"
    }
   ],
   "source": [
    "data\n",
    "\n"
   ]
  },
  {
   "cell_type": "code",
   "execution_count": 12,
   "metadata": {
    "collapsed": false
   },
   "outputs": [],
   "source": [
    "\n",
    "np.save(\"/project/projectdirs/lux/users/weiji/data/20150226tritium\",np.array([data]))"
   ]
  },
  {
   "cell_type": "code",
   "execution_count": 6,
   "metadata": {
    "collapsed": false
   },
   "outputs": [],
   "source": [
    "a=np.load(\"/project/projectdirs/lux/users/weiji/pickles/ss5_2.pickle\")"
   ]
  },
  {
   "cell_type": "code",
   "execution_count": 6,
   "metadata": {
    "collapsed": false
   },
   "outputs": [
    {
     "data": {
      "text/plain": [
       "51353"
      ]
     },
     "execution_count": 6,
     "metadata": {},
     "output_type": "execute_result"
    }
   ],
   "source": [
    "len(np.where(data[\"pulse_classification\"]==2)[0])"
   ]
  },
  {
   "cell_type": "code",
   "execution_count": 7,
   "metadata": {
    "collapsed": false
   },
   "outputs": [
    {
     "ename": "AttributeError",
     "evalue": "'module' object has no attribute 'dum'",
     "output_type": "error",
     "traceback": [
      "\u001b[1;31m---------------------------------------------------------------------------\u001b[0m",
      "\u001b[1;31mAttributeError\u001b[0m                            Traceback (most recent call last)",
      "\u001b[1;32m<ipython-input-7-a77ba40a3338>\u001b[0m in \u001b[0;36m<module>\u001b[1;34m()\u001b[0m\n\u001b[1;32m----> 1\u001b[1;33m \u001b[0mnp\u001b[0m\u001b[1;33m.\u001b[0m\u001b[0mdum\u001b[0m\u001b[1;33m\u001b[0m\u001b[0m\n\u001b[0m",
      "\u001b[1;31mAttributeError\u001b[0m: 'module' object has no attribute 'dum'"
     ]
    }
   ],
   "source": [
    "np.dum"
   ]
  },
  {
   "cell_type": "code",
   "execution_count": 8,
   "metadata": {
    "collapsed": false
   },
   "outputs": [
    {
     "ename": "NameError",
     "evalue": "name 'a' is not defined",
     "output_type": "error",
     "traceback": [
      "\u001b[1;31m---------------------------------------------------------------------------\u001b[0m",
      "\u001b[1;31mNameError\u001b[0m                                 Traceback (most recent call last)",
      "\u001b[1;32m<ipython-input-8-a45628775946>\u001b[0m in \u001b[0;36m<module>\u001b[1;34m()\u001b[0m\n\u001b[1;32m----> 1\u001b[1;33m \u001b[0ma\u001b[0m\u001b[1;33m[\u001b[0m\u001b[1;36m0\u001b[0m\u001b[1;33m]\u001b[0m\u001b[1;33m.\u001b[0m\u001b[0mx_cm\u001b[0m\u001b[1;33m\u001b[0m\u001b[0m\n\u001b[0m",
      "\u001b[1;31mNameError\u001b[0m: name 'a' is not defined"
     ]
    }
   ],
   "source": [
    "a[0].x_cm"
   ]
  },
  {
   "cell_type": "code",
   "execution_count": 29,
   "metadata": {
    "collapsed": false
   },
   "outputs": [],
   "source": [
    "pickle.dump(data,open(\"/project/projectdirs/lux/users/weiji/pickles/ss5_\"+str(aa+2)+\".pickle\",\"wb\"),protocol=2)"
   ]
  },
  {
   "cell_type": "code",
   "execution_count": 35,
   "metadata": {
    "collapsed": true
   },
   "outputs": [],
   "source": [
    "np.array?\n"
   ]
  },
  {
   "cell_type": "code",
   "execution_count": null,
   "metadata": {
    "collapsed": true
   },
   "outputs": [],
   "source": []
  }
 ],
 "metadata": {
  "kernelspec": {
   "display_name": "Python 2",
   "language": "python",
   "name": "python2"
  },
  "language_info": {
   "codemirror_mode": {
    "name": "ipython",
    "version": 2
   },
   "file_extension": ".py",
   "mimetype": "text/x-python",
   "name": "python",
   "nbconvert_exporter": "python",
   "pygments_lexer": "ipython2",
   "version": "2.7.11"
  }
 },
 "nbformat": 4,
 "nbformat_minor": 0
}
