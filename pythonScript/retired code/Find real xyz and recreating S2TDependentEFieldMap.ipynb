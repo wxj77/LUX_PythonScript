{
 "cells": [
  {
   "cell_type": "code",
   "execution_count": 3,
   "metadata": {
    "collapsed": true
   },
   "outputs": [],
   "source": [
    "import sys\n",
    "import os\n",
    "import functools\n",
    "import scipy\n",
    "import scipy as sp\n",
    "import numpy as np\n",
    "import matplotlib.pyplot as plt\n",
    "%matplotlib inline\n",
    "import matplotlib.pylab as pylab\n",
    "from matplotlib.colors import LogNorm\n",
    "import pickle\n",
    "import math\n",
    "import subprocess\n",
    "import warnings\n",
    "\n",
    "\n",
    "sys.path.insert(2, \"/global/projecta/projectdirs/lux/data\")\n",
    "sys.path.insert(0,'/project/projectdirs/lux/Tools/LUXcode/Trunk/DataAnalysis/Python/' )\n",
    "sys.path.insert(0,'/project/projectdirs/lux/Tools/LUXcode/Trunk/DataAnalysis/Python/aLib' )\n",
    "import __init__ as S\n",
    "import dp as dp\n",
    "\n",
    "pylab.rcParams[\"figure.figsize\"]=15,8"
   ]
  },
  {
   "cell_type": "code",
   "execution_count": 4,
   "metadata": {
    "collapsed": true
   },
   "outputs": [],
   "source": [
    "Efieldmap = np.loadtxt(\"/global/homes/w/weiji/20150208/v0_fields_20140903T1918_cp17059.txt\")"
   ]
  },
  {
   "cell_type": "code",
   "execution_count": 5,
   "metadata": {
    "collapsed": true
   },
   "outputs": [],
   "source": [
    "def LoadXYZDependentEField(EFieldMap, NumxyzDependentEFieldVars = 8, MinLocationX = -23.50 ,NumPlanesX = 48, StepSizeX = 1. ,MinLocationY = -23.50 ,NumPlanesY = 48, StepSizeY = 1.,MinLocationZ = -33.975 ,NumPlanesZ = 50, StepSizeZ = 1.):\n",
    "    EFieldMapMatrix = np.zeros((NumPlanesX,NumPlanesY,NumPlanesZ,NumxyzDependentEFieldVars))\n",
    "    for ii in xrange(0,EFieldMap.shape[0]):\n",
    "        xx = (int)((EFieldMap[ii,0]-MinLocationX)/StepSizeX)\n",
    "        yy = (int)((EFieldMap[ii,1]-MinLocationY)/StepSizeY)\n",
    "        zz = (int)((EFieldMap[ii,2]-MinLocationZ)/StepSizeZ)\n",
    "        for vv in xrange(0,NumxyzDependentEFieldVars):\n",
    "            if vv == 2:\n",
    "                EFieldMapMatrix[xx,yy,zz,vv] = EFieldMap[ii,vv] - MinLocationZ +5.6\n",
    "            elif vv==6:\n",
    "                EFieldMapMatrix[xx,yy,zz,vv] = EFieldMap[ii,vv]\n",
    "            else:\n",
    "                EFieldMapMatrix[xx,yy,zz,vv] = EFieldMap[ii,vv]\n",
    "            \n",
    "                \n",
    "    return EFieldMapMatrix,NumxyzDependentEFieldVars,((MinLocationX,NumPlanesX,StepSizeX),(MinLocationY,NumPlanesY,StepSizeY),(MinLocationZ,NumPlanesZ,StepSizeZ))\n"
   ]
  },
  {
   "cell_type": "code",
   "execution_count": 6,
   "metadata": {
    "collapsed": true
   },
   "outputs": [],
   "source": [
    "def GetXYZDependentElectricField_s2(x,LoadEFieldMap,ifprint=0):\n",
    "    EFieldMapMatrix,NumxyzDependentEFieldVars,((MinLocationX,NumPlanesX,StepSizeX),(MinLocationY,NumPlanesY,StepSizeY),(MinLocationZ,NumPlanesZ,StepSizeZ))= LoadEFieldMap    \n",
    "    try:\n",
    "        xx=0\n",
    "        yy=0\n",
    "        zz=0\n",
    "        distance2 = 10000\n",
    "        for xxx in xrange(0,NumPlanesX):\n",
    "            for yyy in xrange(0,NumPlanesY):  \n",
    "                 for zzz in xrange(0,NumPlanesZ):\n",
    "                    if distance2 > ((x[0]-EFieldMapMatrix[xxx,yyy,zzz,4])**2+(x[1]-EFieldMapMatrix[xxx,yyy,zzz,5])**2)+(x[2]-EFieldMapMatrix[xxx,yyy,zzz,6])**2/144.:                                               \n",
    "                        xx = xxx\n",
    "                        yy = yyy\n",
    "                        zz = zzz\n",
    "                        distance2 = (x[0]-EFieldMapMatrix[xxx,yyy,zzz,4])**2+(x[1]-EFieldMapMatrix[xxx,yyy,zzz,5])**2+(x[2]-EFieldMapMatrix[xxx,yyy,zzz,6])**2/144.\n",
    "        if ifprint:\n",
    "            print \"index_x,y,z,E\",xx,yy,zz,EFieldMapMatrix[xx,yy,zz,3]\n",
    "            print \"x,y,z,\",EFieldMapMatrix[xx,yy,zz,0],EFieldMapMatrix[xx,yy,zz,1],EFieldMapMatrix[xx,yy,zz,2]\n",
    "            print \"S2x,S2y,t,\",EFieldMapMatrix[xx,yy,zz,4],EFieldMapMatrix[xx,yy,zz,5],EFieldMapMatrix[xx,yy,zz,6]\n",
    "\n",
    "            print distance2\n",
    "        return EFieldMapMatrix[xx,yy,zz,:]\n",
    "    except :\n",
    "        return -100000"
   ]
  },
  {
   "cell_type": "code",
   "execution_count": 7,
   "metadata": {
    "collapsed": true
   },
   "outputs": [],
   "source": [
    "def errorf(x,*args):\n",
    "    (S2x,S2y,T),(x0,y0,z0),(s2x0,s2y0,t0),(ds2xdx,ds2xdy,ds2xdz),(ds2ydx,ds2ydy,ds2ydz),(dtdx,dtdy,dtdz) = args\n",
    "    return (S2x - (s2x0 + (x[0]-x0)*ds2xdx + (x[1]-y0)*ds2xdy + (x[2]-z0)*ds2xdz))**2 \\\n",
    "            +(S2y - (s2y0 + (x[0]-x0)*ds2ydx + (x[1]-y0)*ds2ydy + (x[2]-z0)*ds2ydz))**2 \\\n",
    "            +(T - (t0 + (x[0]-x0)*dtdx + (x[1]-y0)*dtdy + (x[2]-z0)*dtdz))**2 \n",
    " "
   ]
  },
  {
   "cell_type": "code",
   "execution_count": 8,
   "metadata": {
    "collapsed": true
   },
   "outputs": [],
   "source": [
    "def intepolation(x,x0,f0,dfdx):\n",
    "    x=np.array(x)\n",
    "    x0 = np.array(x0)\n",
    "    dfdx = np.array(dfdx)\n",
    "    return f0+np.sum(dfdx*(x-x0))"
   ]
  },
  {
   "cell_type": "code",
   "execution_count": 9,
   "metadata": {
    "collapsed": false
   },
   "outputs": [],
   "source": [
    "def GetXYZFromXYZS2TDependentElectricField((S2x,S2y,DriftTime),LoadEFieldMap,ifprint=0):\n",
    "    EFieldMapMatrix,NumxyzDependentEFieldVars,((MinLocationX,NumPlanesX,StepSizeX),(MinLocationY,NumPlanesY,StepSizeY),(MinLocationZ,NumPlanesZ,StepSizeZ))= LoadEFieldMap    \n",
    "    \"\"\"\n",
    "        This function is getting real x y z E from known S2x,S2y,DriftTime,fieldmap\n",
    "        S2x, S2y in cm\n",
    "        DriftTime in us\n",
    "    \"\"\"\n",
    "    warnings.filterwarnings('error')\n",
    "    try:\n",
    "        xx=25\n",
    "        yy=25\n",
    "        zz=25\n",
    "        attempt=50\n",
    "        notsuccess = 1\n",
    "        while((attempt > 0) and notsuccess):\n",
    "            attempt-=1\n",
    "            notsuccess = 0\n",
    "            \n",
    "            if S2x< EFieldMapMatrix[xx,yy,zz,4]:\n",
    "                notsuccess = 1\n",
    "                xx -= 1\n",
    "            elif S2x > EFieldMapMatrix[xx+1,yy,zz,4]:\n",
    "                notsuccess = 1\n",
    "                xx += 1\n",
    "            if S2y< EFieldMapMatrix[xx,yy,zz,5]:\n",
    "                notsuccess = 1\n",
    "                yy -= 1\n",
    "            elif S2y > EFieldMapMatrix[xx,yy+1,zz,5]:\n",
    "                notsuccess = 1\n",
    "                yy += 1\n",
    "            if DriftTime < EFieldMapMatrix[xx,yy,zz,6]:\n",
    "                notsuccess = 1\n",
    "                zz += 1\n",
    "            elif DriftTime > EFieldMapMatrix[xx,yy,zz+1,6]:\n",
    "                notsuccess = 1\n",
    "                zz -= 1\n",
    "            if xx<0 or xx >NumPlanesX-2 or yy<0 or yy >NumPlanesY-2 or zz<0 or zz >NumPlanesZ-2:\n",
    "                if ifprint:\n",
    "                    print \"(S2x =\",S2x ,\"cm, S2y =\",S2y ,\"cm, DriftTime =\",DriftTime,\"ns ) is OUT of range in the field map.\"\n",
    "                return (np.nan,np.nan,np.nan,np.nan,S2x,S2y,DriftTime,np.nan)\n",
    "            if ifprint:\n",
    "                print \"attempt\",attempt\n",
    "                print \"xx,yy,zz\",xx,yy,zz\n",
    "        if ifprint:\n",
    "            print \"xx,yy,zz\",xx,yy,zz\n",
    "        if attempt ==0 and ifprint:\n",
    "            print \"Did not find a point in the map matches with (S2x =\",S2x ,\"cm, S2y =\",S2y ,\"cm, DriftTime =\",DriftTime,\"ns )\"\n",
    "            print \"One of the closest point is (S2x =\",EFieldMapMatrix[xx,yy,zz,4],\"cm, S2y =\",EFieldMapMatrix[xx,yy,zz,5],\"cm, DriftTime =\",EFieldMapMatrix[xx,yy,zz,6],\"ns )\"\n",
    "            print \"Check whether you are using the right field map and right S2x, S2y,S2z\",attempt\n",
    "        if xx<0 or xx >NumPlanesX-2 or yy<0 or yy >NumPlanesY-2 or zz<0 or zz >NumPlanesZ-2 or\\\n",
    "            np.isnan(EFieldMapMatrix[xx,yy,zz,3])            :\n",
    "            if ifprint:\n",
    "                print \"(S2x =\",S2x ,\"cm, S2y =\",S2y ,\"cm, DriftTime =\",DriftTime,\"ns ) is OUT of range in the field map.\"\n",
    "            return (np.nan,np.nan,np.nan,np.nan,S2x,S2y,DriftTime,np.nan)\n",
    "        def dfdx(xx,yy,zz,num):\n",
    "            dfdx = 1./4./StepSizeX*(-EFieldMapMatrix[xx,yy,zz,num]-EFieldMapMatrix[xx,yy,zz+1,num]\\\n",
    "                     -EFieldMapMatrix[xx,yy+1,zz,num]-EFieldMapMatrix[xx,yy+1,zz+1,num]\\\n",
    "                     +EFieldMapMatrix[xx+1,yy,zz,num]+EFieldMapMatrix[xx+1,yy,zz+1,num]\\\n",
    "                     +EFieldMapMatrix[xx+1,yy+1,zz,num]+EFieldMapMatrix[xx+1,yy+1,zz+1,num])\n",
    "            dfdy = 1./4./StepSizeY*(-EFieldMapMatrix[xx,yy,zz,num]-EFieldMapMatrix[xx,yy,zz+1,num]\\\n",
    "                     +EFieldMapMatrix[xx,yy+1,zz,num]+EFieldMapMatrix[xx,yy+1,zz+1,num]\\\n",
    "                     -EFieldMapMatrix[xx+1,yy,zz,num]-EFieldMapMatrix[xx+1,yy,zz+1,num]\\\n",
    "                     +EFieldMapMatrix[xx+1,yy+1,zz,num]+EFieldMapMatrix[xx+1,yy+1,zz+1,num])\n",
    "            dfdz = 1./4./StepSizeZ*(-EFieldMapMatrix[xx,yy,zz,num]+EFieldMapMatrix[xx,yy,zz+1,num]\\\n",
    "                     -EFieldMapMatrix[xx,yy+1,zz,num]+EFieldMapMatrix[xx,yy+1,zz+1,num]\\\n",
    "                     -EFieldMapMatrix[xx+1,yy,zz,num]+EFieldMapMatrix[xx+1,yy,zz+1,num]\\\n",
    "                     -EFieldMapMatrix[xx+1,yy+1,zz,num]+EFieldMapMatrix[xx+1,yy+1,zz+1,num])\n",
    "            return (dfdx,dfdy,dfdz)\n",
    "        (ds2xdx,ds2xdy,ds2xdz) = dfdx(xx,yy,zz,4)\n",
    "        (ds2ydx,ds2ydy,ds2ydz) = dfdx(xx,yy,zz,5)\n",
    "        (dtdx,dtdy,dtdz)   = dfdx(xx,yy,zz,6)\n",
    "        (xreal0,yreal0,zreal0) = (EFieldMapMatrix[xx,yy,zz,0],EFieldMapMatrix[xx,yy,zz,1],EFieldMapMatrix[xx,yy,zz,2])\n",
    "        (s2x0,s2y0,t0) = (EFieldMapMatrix[xx,yy,zz,4],EFieldMapMatrix[xx,yy,zz,5],EFieldMapMatrix[xx,yy,zz,6])\n",
    "           \n",
    "        result= sp.optimize.fmin(errorf,x0=(xreal0,yreal0,zreal0),args = ((S2x,S2y,DriftTime),(xreal0,yreal0,zreal0),(s2x0,s2y0,t0),(ds2xdx,ds2xdy,ds2xdz),(ds2ydx,ds2ydy,ds2ydz),(dtdx,dtdy,dtdz)),disp=0)\n",
    "        if ifprint:\n",
    "            print result\n",
    "        (xreal,yreal,zreal) = result\n",
    "        E = intepolation((xreal,yreal,zreal),(xreal0,yreal0,zreal0),EFieldMapMatrix[xx,yy,zz,3],dfdx(xx,yy,zz,3))\n",
    "        \n",
    "        if ifprint:\n",
    "            print \"index_x,y,z,E\",xx,yy,zz,EFieldMapMatrix[xx,yy,zz,3]\n",
    "            print xreal,yreal,zreal,E,S2x,S2y,DriftTime,EFieldMapMatrix[xx,yy,zz,7]\n",
    "\n",
    "        \n",
    "    except BaseException:\n",
    "        return (np.nan,np.nan,np.nan,np.nan,S2x,S2y,DriftTime,np.nan)\n",
    "    #return (np.nan,np.nan,np.nan,np.nan,S2x,S2y,DriftTime,np.nan)\n",
    "    return (xreal,yreal,zreal,E,S2x,S2y,DriftTime,EFieldMapMatrix[xx,yy,zz,7])"
   ]
  },
  {
   "cell_type": "code",
   "execution_count": 10,
   "metadata": {
    "collapsed": true
   },
   "outputs": [],
   "source": [
    "LoadEFieldMap = LoadXYZDependentEField(Efieldmap)"
   ]
  },
  {
   "cell_type": "code",
   "execution_count": 11,
   "metadata": {
    "collapsed": false
   },
   "outputs": [
    {
     "name": "stdout",
     "output_type": "stream",
     "text": [
      "index_x,y,z,E 37 28 43 41032.915\n",
      "x,y,z, 13.5 4.5 48.6\n",
      "S2x,S2y,t, 13.182 4.357 28.0\n",
      "0.036373\n"
     ]
    },
    {
     "data": {
      "text/plain": [
       "array([  1.35000000e+01,   4.50000000e+00,   4.86000000e+01,\n",
       "         4.10329150e+04,   1.31820000e+01,   4.35700000e+00,\n",
       "         2.80000000e+01,   1.00000000e+00])"
      ]
     },
     "execution_count": 11,
     "metadata": {},
     "output_type": "execute_result"
    }
   ],
   "source": [
    "GetXYZDependentElectricField_s2((13,4.3,28),LoadEFieldMap,ifprint=1)"
   ]
  },
  {
   "cell_type": "code",
   "execution_count": 12,
   "metadata": {
    "collapsed": false
   },
   "outputs": [
    {
     "name": "stdout",
     "output_type": "stream",
     "text": [
      "attempt 49\n",
      "xx,yy,zz 24 24 26\n",
      "attempt 48\n",
      "xx,yy,zz 23 23 27\n",
      "attempt 47\n",
      "xx,yy,zz 22 22 28\n",
      "attempt 46\n",
      "xx,yy,zz 21 21 29\n",
      "attempt 45\n",
      "xx,yy,zz 20 20 30\n",
      "attempt 44\n",
      "xx,yy,zz 19 19 31\n",
      "attempt 43\n",
      "xx,yy,zz 18 18 32\n",
      "attempt 42\n",
      "xx,yy,zz 17 17 33\n",
      "attempt 41\n",
      "xx,yy,zz 16 16 34\n",
      "attempt 40\n",
      "xx,yy,zz 15 15 35\n",
      "attempt 39\n",
      "xx,yy,zz 14 14 36\n",
      "attempt 38\n",
      "xx,yy,zz 13 13 37\n",
      "attempt 37\n",
      "xx,yy,zz 12 12 38\n",
      "attempt 36\n",
      "xx,yy,zz 11 11 39\n",
      "attempt 35\n",
      "xx,yy,zz 10 10 40\n",
      "attempt 34\n",
      "xx,yy,zz 9 9 41\n",
      "attempt 33\n",
      "xx,yy,zz 8 8 42\n",
      "attempt 32\n",
      "xx,yy,zz 7 7 43\n",
      "attempt 31\n",
      "xx,yy,zz 6 6 43\n",
      "attempt 30\n",
      "xx,yy,zz 6 6 43\n",
      "xx,yy,zz 6 6 43\n",
      "(S2x = -25.0 cm, S2y = -25.0 cm, DriftTime = 0.0 ns ) is OUT of range in the field map.\n"
     ]
    },
    {
     "data": {
      "text/plain": [
       "(nan, nan, nan, nan, -25.0, -25.0, 0.0, nan)"
      ]
     },
     "execution_count": 12,
     "metadata": {},
     "output_type": "execute_result"
    }
   ],
   "source": [
    "GetXYZFromXYZS2TDependentElectricField((float(-25),float(-25),float(0)),LoadEFieldMap,ifprint=1)"
   ]
  },
  {
   "cell_type": "code",
   "execution_count": 13,
   "metadata": {
    "collapsed": false
   },
   "outputs": [
    {
     "data": {
      "text/plain": [
       "(nan, nan, nan, nan, -25.0, -25.0, 0.0, nan)"
      ]
     },
     "execution_count": 13,
     "metadata": {},
     "output_type": "execute_result"
    }
   ],
   "source": [
    "GetXYZFromXYZS2TDependentElectricField((float(-25),float(-25),float(0)),LoadEFieldMap,ifprint=0)"
   ]
  },
  {
   "cell_type": "code",
   "execution_count": 14,
   "metadata": {
    "collapsed": false
   },
   "outputs": [],
   "source": [
    "        def dfdx(xx,yy,zz,num):\n",
    "            dfdx = 1./4./StepSizeX*(-EFieldMapMatrix[xx,yy,zz,num]-EFieldMapMatrix[xx,yy,zz+1,num]\\\n",
    "                     -EFieldMapMatrix[xx,yy+1,zz,num]-EFieldMapMatrix[xx,yy+1,zz+1,num]\\\n",
    "                     +EFieldMapMatrix[xx+1,yy,zz,num]+EFieldMapMatrix[xx+1,yy,zz+1,num]\\\n",
    "                     +EFieldMapMatrix[xx+1,yy+1,zz,num]+EFieldMapMatrix[xx+1,yy+1,zz+1,num])\n",
    "            dfdy = 1./4./StepSizeY*(-EFieldMapMatrix[xx,yy,zz,num]-EFieldMapMatrix[xx,yy,zz+1,num]\\\n",
    "                     +EFieldMapMatrix[xx,yy+1,zz,num]+EFieldMapMatrix[xx,yy+1,zz+1,num]\\\n",
    "                     -EFieldMapMatrix[xx+1,yy,zz,num]-EFieldMapMatrix[xx+1,yy,zz+1,num]\\\n",
    "                     +EFieldMapMatrix[xx+1,yy+1,zz,num]+EFieldMapMatrix[xx+1,yy+1,zz+1,num])\n",
    "            dfdz = 1./4./StepSizeZ*(-EFieldMapMatrix[xx,yy,zz,num]+EFieldMapMatrix[xx,yy,zz+1,num]\\\n",
    "                     -EFieldMapMatrix[xx,yy+1,zz,num]+EFieldMapMatrix[xx,yy+1,zz+1,num]\\\n",
    "                     -EFieldMapMatrix[xx+1,yy,zz,num]+EFieldMapMatrix[xx+1,yy,zz+1,num]\\\n",
    "                     -EFieldMapMatrix[xx+1,yy+1,zz,num]+EFieldMapMatrix[xx+1,yy+1,zz+1,num])\n",
    "            return (dfdx,dfdy,dfdz)\n",
    "        def f(x,*args):\n",
    "            (S2x,S2y,T),(x0,y0,z0),(s2x0,s2y0,t0),(ds2xdx,ds2xdy,ds2xdz),(ds2ydx,ds2ydy,ds2ydz),(dtdx,dtdy,dtdz) = args\n",
    "            return (S2x - (s2x0 + (x[0]-x0)*ds2xdx + (x[1]-y0)*ds2xdy + (x[2]-z0)*ds2xdz))**2 \\\n",
    "                    +(S2y - (s2y0 + (x[0]-x0)*ds2ydx + (x[1]-y0)*ds2ydy + (x[2]-z0)*ds2ydz))**2 \\\n",
    "                    +(T - (t0 + (x[0]-x0)*dtdx + (x[1]-y0)*dtdy + (x[2]-z0)*dtdz))**2 \n",
    "  "
   ]
  },
  {
   "cell_type": "code",
   "execution_count": 15,
   "metadata": {
    "collapsed": true
   },
   "outputs": [],
   "source": [
    "EFieldMapMatrix,NumxyzDependentEFieldVars,((MinLocationX,NumPlanesX,StepSizeX),(MinLocationY,NumPlanesY,StepSizeY),(MinLocationZ,NumPlanesZ,StepSizeZ))= LoadEFieldMap    \n",
    "    "
   ]
  },
  {
   "cell_type": "code",
   "execution_count": 16,
   "metadata": {
    "collapsed": false
   },
   "outputs": [
    {
     "data": {
      "text/plain": [
       "array([-17.5, -17.5,  48.6,   nan,   nan,   nan,   nan,   0. ])"
      ]
     },
     "execution_count": 16,
     "metadata": {},
     "output_type": "execute_result"
    }
   ],
   "source": [
    "EFieldMapMatrix[6,6,43,:]"
   ]
  },
  {
   "cell_type": "code",
   "execution_count": 17,
   "metadata": {
    "collapsed": true
   },
   "outputs": [],
   "source": [
    "xx,yy,zz=36,27,44\n"
   ]
  },
  {
   "cell_type": "code",
   "execution_count": 18,
   "metadata": {
    "collapsed": true
   },
   "outputs": [],
   "source": [
    "        (ds2xdx,ds2xdy,ds2xdz) = dfdx(xx,yy,zz,4)\n",
    "        (ds2ydx,ds2ydy,ds2ydz) = dfdx(xx,yy,zz,5)\n",
    "        (dtdx,dtdy,dtdz)   = dfdx(xx,yy,zz,6)\n",
    "        (xreal0,yreal0,zreal0) = (EFieldMapMatrix[xx,yy,zz,0],EFieldMapMatrix[xx,yy,zz,1],EFieldMapMatrix[xx,yy,zz,2])\n",
    "        (s2x0,s2y0,t0) = (EFieldMapMatrix[xx,yy,zz,4],EFieldMapMatrix[xx,yy,zz,5],EFieldMapMatrix[xx,yy,zz,6])\n",
    "  "
   ]
  },
  {
   "cell_type": "code",
   "execution_count": 19,
   "metadata": {
    "collapsed": true
   },
   "outputs": [],
   "source": [
    "S2x,S2y,DriftTime = 13,4.3,28"
   ]
  },
  {
   "cell_type": "code",
   "execution_count": 20,
   "metadata": {
    "collapsed": false
   },
   "outputs": [],
   "source": [
    "args0 =[(S2x,S2y,DriftTime),(xreal0,yreal0,zreal0),(s2x0,s2y0,t0),(ds2xdx,ds2xdy,ds2xdz),(ds2ydx,ds2ydy,ds2ydz),(dtdx,dtdy,dtdz)]"
   ]
  },
  {
   "cell_type": "code",
   "execution_count": null,
   "metadata": {
    "collapsed": false
   },
   "outputs": [],
   "source": [
    " "
   ]
  },
  {
   "cell_type": "code",
   "execution_count": 21,
   "metadata": {
    "collapsed": false
   },
   "outputs": [
    {
     "name": "stdout",
     "output_type": "stream",
     "text": [
      "Optimization terminated successfully.\n",
      "         Current function value: 0.000000\n",
      "         Iterations: 94\n",
      "         Function evaluations: 173\n"
     ]
    }
   ],
   "source": [
    "result= sp.optimize.fmin(f,x0=(xreal0,yreal0,zreal0),args = ((S2x,S2y,DriftTime),(xreal0,yreal0,zreal0),(s2x0,s2y0,t0),(ds2xdx,ds2xdy,ds2xdz),(ds2ydx,ds2ydy,ds2ydz),(dtdx,dtdy,dtdz)))\n"
   ]
  },
  {
   "cell_type": "code",
   "execution_count": 22,
   "metadata": {
    "collapsed": false
   },
   "outputs": [
    {
     "data": {
      "text/plain": [
       "array([ 13.28129828,   4.4282311 ,  48.60000392])"
      ]
     },
     "execution_count": 22,
     "metadata": {},
     "output_type": "execute_result"
    }
   ],
   "source": [
    "result"
   ]
  },
  {
   "cell_type": "code",
   "execution_count": 23,
   "metadata": {
    "collapsed": false
   },
   "outputs": [
    {
     "data": {
      "text/plain": [
       "nan"
      ]
     },
     "execution_count": 23,
     "metadata": {},
     "output_type": "execute_result"
    }
   ],
   "source": [
    "np.nan"
   ]
  },
  {
   "cell_type": "code",
   "execution_count": 24,
   "metadata": {
    "collapsed": false
   },
   "outputs": [
    {
     "data": {
      "text/plain": [
       "187500"
      ]
     },
     "execution_count": 24,
     "metadata": {},
     "output_type": "execute_result"
    }
   ],
   "source": [
    "50*50*75"
   ]
  },
  {
   "cell_type": "code",
   "execution_count": 25,
   "metadata": {
    "collapsed": false
   },
   "outputs": [],
   "source": [
    "Efields2map = np.zeros((48*48*50,8))"
   ]
  },
  {
   "cell_type": "code",
   "execution_count": 30,
   "metadata": {
    "collapsed": false
   },
   "outputs": [],
   "source": [
    "index=0\n",
    "for ii in np.linspace(-23.5,23.5,48):\n",
    "    for jj in np.linspace(-23.5,23.5,48):\n",
    "        for kk in np.linspace(0,375,50,endpoint=False):\n",
    "            temp = GetXYZFromXYZS2TDependentElectricField((float(ii),float(jj),float(kk)),LoadEFieldMap,ifprint=0)\n",
    "            for ll in xrange(0,8,1):\n",
    "                Efields2map[index,ll]=temp[ll]\n",
    "            index+=1"
   ]
  },
  {
   "cell_type": "code",
   "execution_count": 32,
   "metadata": {
    "collapsed": false
   },
   "outputs": [],
   "source": [
    "np.save(\"/global/homes/w/weiji/20150208/s2_v0_fields_20140903T1918_cp17059.txt\",Efields2map)"
   ]
  },
  {
   "cell_type": "code",
   "execution_count": 35,
   "metadata": {
    "collapsed": false,
    "scrolled": true
   },
   "outputs": [
    {
     "ename": "ValueError",
     "evalue": "need more than 1 value to unpack",
     "output_type": "error",
     "traceback": [
      "\u001b[1;31m---------------------------------------------------------------------------\u001b[0m",
      "\u001b[1;31mValueError\u001b[0m                                Traceback (most recent call last)",
      "\u001b[1;32m<ipython-input-35-104f987c6107>\u001b[0m in \u001b[0;36m<module>\u001b[1;34m()\u001b[0m\n\u001b[0;32m      1\u001b[0m \u001b[1;31m# dritft time vs S2R^2\u001b[0m\u001b[1;33m\u001b[0m\u001b[1;33m\u001b[0m\u001b[0m\n\u001b[0;32m      2\u001b[0m \u001b[0mplt\u001b[0m\u001b[1;33m.\u001b[0m\u001b[0mfigure\u001b[0m\u001b[1;33m(\u001b[0m\u001b[1;36m70\u001b[0m\u001b[1;33m,\u001b[0m\u001b[0mfigsize\u001b[0m\u001b[1;33m=\u001b[0m\u001b[1;33m(\u001b[0m\u001b[1;36m13\u001b[0m\u001b[1;33m,\u001b[0m\u001b[1;36m10\u001b[0m\u001b[1;33m)\u001b[0m\u001b[1;33m)\u001b[0m\u001b[1;33m\u001b[0m\u001b[0m\n\u001b[1;32m----> 3\u001b[1;33m \u001b[0mplt\u001b[0m\u001b[1;33m.\u001b[0m\u001b[0mpcolor\u001b[0m\u001b[1;33m(\u001b[0m\u001b[1;33m(\u001b[0m\u001b[0mEfields2map\u001b[0m\u001b[1;33m[\u001b[0m\u001b[1;33m:\u001b[0m\u001b[1;33m,\u001b[0m\u001b[1;36m0\u001b[0m\u001b[1;33m]\u001b[0m\u001b[1;33m**\u001b[0m\u001b[1;36m2\u001b[0m\u001b[1;33m+\u001b[0m\u001b[0mEfields2map\u001b[0m\u001b[1;33m[\u001b[0m\u001b[1;33m:\u001b[0m\u001b[1;33m,\u001b[0m\u001b[1;36m1\u001b[0m\u001b[1;33m]\u001b[0m\u001b[1;33m**\u001b[0m\u001b[1;36m2\u001b[0m\u001b[1;33m)\u001b[0m\u001b[1;33m,\u001b[0m\u001b[0mEfields2map\u001b[0m\u001b[1;33m[\u001b[0m\u001b[1;33m:\u001b[0m\u001b[1;33m,\u001b[0m\u001b[1;36m2\u001b[0m\u001b[1;33m]\u001b[0m\u001b[1;33m**\u001b[0m\u001b[1;36m2\u001b[0m\u001b[1;33m,\u001b[0m\u001b[0mEfields2map\u001b[0m\u001b[1;33m[\u001b[0m\u001b[1;33m:\u001b[0m\u001b[1;33m,\u001b[0m\u001b[1;36m3\u001b[0m\u001b[1;33m]\u001b[0m\u001b[1;33m)\u001b[0m\u001b[1;33m\u001b[0m\u001b[0m\n\u001b[0m\u001b[0;32m      4\u001b[0m \u001b[1;33m\u001b[0m\u001b[0m\n\u001b[0;32m      5\u001b[0m \u001b[0mcbar\u001b[0m \u001b[1;33m=\u001b[0m \u001b[0mplt\u001b[0m\u001b[1;33m.\u001b[0m\u001b[0mcolorbar\u001b[0m\u001b[1;33m(\u001b[0m\u001b[1;33m)\u001b[0m\u001b[1;33m\u001b[0m\u001b[0m\n",
      "\u001b[1;32m//anaconda/lib/python2.7/site-packages/matplotlib/pyplot.pyc\u001b[0m in \u001b[0;36mpcolor\u001b[1;34m(*args, **kwargs)\u001b[0m\n\u001b[0;32m   3016\u001b[0m         \u001b[0max\u001b[0m\u001b[1;33m.\u001b[0m\u001b[0mhold\u001b[0m\u001b[1;33m(\u001b[0m\u001b[0mhold\u001b[0m\u001b[1;33m)\u001b[0m\u001b[1;33m\u001b[0m\u001b[0m\n\u001b[0;32m   3017\u001b[0m     \u001b[1;32mtry\u001b[0m\u001b[1;33m:\u001b[0m\u001b[1;33m\u001b[0m\u001b[0m\n\u001b[1;32m-> 3018\u001b[1;33m         \u001b[0mret\u001b[0m \u001b[1;33m=\u001b[0m \u001b[0max\u001b[0m\u001b[1;33m.\u001b[0m\u001b[0mpcolor\u001b[0m\u001b[1;33m(\u001b[0m\u001b[1;33m*\u001b[0m\u001b[0margs\u001b[0m\u001b[1;33m,\u001b[0m \u001b[1;33m**\u001b[0m\u001b[0mkwargs\u001b[0m\u001b[1;33m)\u001b[0m\u001b[1;33m\u001b[0m\u001b[0m\n\u001b[0m\u001b[0;32m   3019\u001b[0m         \u001b[0mdraw_if_interactive\u001b[0m\u001b[1;33m(\u001b[0m\u001b[1;33m)\u001b[0m\u001b[1;33m\u001b[0m\u001b[0m\n\u001b[0;32m   3020\u001b[0m     \u001b[1;32mfinally\u001b[0m\u001b[1;33m:\u001b[0m\u001b[1;33m\u001b[0m\u001b[0m\n",
      "\u001b[1;32m//anaconda/lib/python2.7/site-packages/matplotlib/axes/_axes.pyc\u001b[0m in \u001b[0;36mpcolor\u001b[1;34m(self, *args, **kwargs)\u001b[0m\n\u001b[0;32m   4887\u001b[0m         \u001b[0mshading\u001b[0m \u001b[1;33m=\u001b[0m \u001b[0mkwargs\u001b[0m\u001b[1;33m.\u001b[0m\u001b[0mpop\u001b[0m\u001b[1;33m(\u001b[0m\u001b[1;34m'shading'\u001b[0m\u001b[1;33m,\u001b[0m \u001b[1;34m'flat'\u001b[0m\u001b[1;33m)\u001b[0m\u001b[1;33m\u001b[0m\u001b[0m\n\u001b[0;32m   4888\u001b[0m \u001b[1;33m\u001b[0m\u001b[0m\n\u001b[1;32m-> 4889\u001b[1;33m         \u001b[0mX\u001b[0m\u001b[1;33m,\u001b[0m \u001b[0mY\u001b[0m\u001b[1;33m,\u001b[0m \u001b[0mC\u001b[0m \u001b[1;33m=\u001b[0m \u001b[0mself\u001b[0m\u001b[1;33m.\u001b[0m\u001b[0m_pcolorargs\u001b[0m\u001b[1;33m(\u001b[0m\u001b[1;34m'pcolor'\u001b[0m\u001b[1;33m,\u001b[0m \u001b[1;33m*\u001b[0m\u001b[0margs\u001b[0m\u001b[1;33m,\u001b[0m \u001b[0mallmatch\u001b[0m\u001b[1;33m=\u001b[0m\u001b[0mFalse\u001b[0m\u001b[1;33m)\u001b[0m\u001b[1;33m\u001b[0m\u001b[0m\n\u001b[0m\u001b[0;32m   4890\u001b[0m         \u001b[0mNy\u001b[0m\u001b[1;33m,\u001b[0m \u001b[0mNx\u001b[0m \u001b[1;33m=\u001b[0m \u001b[0mX\u001b[0m\u001b[1;33m.\u001b[0m\u001b[0mshape\u001b[0m\u001b[1;33m\u001b[0m\u001b[0m\n\u001b[0;32m   4891\u001b[0m \u001b[1;33m\u001b[0m\u001b[0m\n",
      "\u001b[1;32m//anaconda/lib/python2.7/site-packages/matplotlib/axes/_axes.pyc\u001b[0m in \u001b[0;36m_pcolorargs\u001b[1;34m(funcname, *args, **kw)\u001b[0m\n\u001b[0;32m   4690\u001b[0m         \u001b[1;32mif\u001b[0m \u001b[0mlen\u001b[0m\u001b[1;33m(\u001b[0m\u001b[0margs\u001b[0m\u001b[1;33m)\u001b[0m \u001b[1;33m==\u001b[0m \u001b[1;36m3\u001b[0m\u001b[1;33m:\u001b[0m\u001b[1;33m\u001b[0m\u001b[0m\n\u001b[0;32m   4691\u001b[0m             \u001b[0mX\u001b[0m\u001b[1;33m,\u001b[0m \u001b[0mY\u001b[0m\u001b[1;33m,\u001b[0m \u001b[0mC\u001b[0m \u001b[1;33m=\u001b[0m \u001b[0margs\u001b[0m\u001b[1;33m\u001b[0m\u001b[0m\n\u001b[1;32m-> 4692\u001b[1;33m             \u001b[0mnumRows\u001b[0m\u001b[1;33m,\u001b[0m \u001b[0mnumCols\u001b[0m \u001b[1;33m=\u001b[0m \u001b[0mC\u001b[0m\u001b[1;33m.\u001b[0m\u001b[0mshape\u001b[0m\u001b[1;33m\u001b[0m\u001b[0m\n\u001b[0m\u001b[0;32m   4693\u001b[0m         \u001b[1;32melse\u001b[0m\u001b[1;33m:\u001b[0m\u001b[1;33m\u001b[0m\u001b[0m\n\u001b[0;32m   4694\u001b[0m             raise TypeError(\n",
      "\u001b[1;31mValueError\u001b[0m: need more than 1 value to unpack"
     ]
    },
    {
     "data": {
      "image/png": "[encoded data removed]",
      "text/plain": [
       "<matplotlib.figure.Figure at 0x7facff434950>"
      ]
     },
     "metadata": {},
     "output_type": "display_data"
    }
   ],
   "source": [
    "# dritft time vs S2R^2\n",
    "plt.figure(70,figsize=(13,10))\n",
    "\n",
    "plt.pcolor((Efields2map[:,0]**2+Efields2map[:,1]**2),Efields2map[:,2]**2,Efields2map[:,3])\n",
    "\n",
    "cbar = plt.colorbar()\n",
    "plt.xlabel(\"r^2 (cm^2)\",fontsize=18)\n",
    "plt.ylabel(\"-drift_time (samples)\",fontsize=18)\n",
    "plt.title(\"Tritium Sept 2014\", fontsize=20)"
   ]
  },
  {
   "cell_type": "code",
   "execution_count": 40,
   "metadata": {
    "collapsed": false
   },
   "outputs": [],
   "source": [
    "plt.pcolor?\n"
   ]
  },
  {
   "cell_type": "code",
   "execution_count": 37,
   "metadata": {
    "collapsed": false
   },
   "outputs": [
    {
     "data": {
      "text/plain": [
       "array([    nan,     nan,     nan, ...,  184.96,  184.96,  184.96])"
      ]
     },
     "execution_count": 37,
     "metadata": {},
     "output_type": "execute_result"
    }
   ],
   "source": [
    "Efields2map[:,2]**2\n"
   ]
  },
  {
   "cell_type": "code",
   "execution_count": 38,
   "metadata": {
    "collapsed": false
   },
   "outputs": [
    {
     "data": {
      "text/plain": [
       "array([   nan,    nan,    nan, ...,  614.5,  614.5,  614.5])"
      ]
     },
     "execution_count": 38,
     "metadata": {},
     "output_type": "execute_result"
    }
   ],
   "source": [
    "(Efields2map[:,0]**2+Efields2map[:,1]**2)"
   ]
  },
  {
   "cell_type": "code",
   "execution_count": 45,
   "metadata": {
    "collapsed": false
   },
   "outputs": [
    {
     "ename": "ValueError",
     "evalue": "need more than 1 value to unpack",
     "output_type": "error",
     "traceback": [
      "\u001b[1;31m---------------------------------------------------------------------------\u001b[0m",
      "\u001b[1;31mValueError\u001b[0m                                Traceback (most recent call last)",
      "\u001b[1;32m<ipython-input-45-a92e12d251e2>\u001b[0m in \u001b[0;36m<module>\u001b[1;34m()\u001b[0m\n\u001b[0;32m      1\u001b[0m \u001b[0mplt\u001b[0m\u001b[1;33m.\u001b[0m\u001b[0mfigure\u001b[0m\u001b[1;33m(\u001b[0m\u001b[1;36m70\u001b[0m\u001b[1;33m,\u001b[0m\u001b[0mfigsize\u001b[0m\u001b[1;33m=\u001b[0m\u001b[1;33m(\u001b[0m\u001b[1;36m13\u001b[0m\u001b[1;33m,\u001b[0m\u001b[1;36m10\u001b[0m\u001b[1;33m)\u001b[0m\u001b[1;33m)\u001b[0m\u001b[1;33m\u001b[0m\u001b[0m\n\u001b[1;32m----> 2\u001b[1;33m \u001b[0mplt\u001b[0m\u001b[1;33m.\u001b[0m\u001b[0mpcolor\u001b[0m\u001b[1;33m(\u001b[0m\u001b[0mEfields2map\u001b[0m\u001b[1;33m[\u001b[0m\u001b[1;33m:\u001b[0m\u001b[1;33m,\u001b[0m\u001b[1;36m0\u001b[0m\u001b[1;33m]\u001b[0m\u001b[1;33m,\u001b[0m\u001b[0mEfields2map\u001b[0m\u001b[1;33m[\u001b[0m\u001b[1;33m:\u001b[0m\u001b[1;33m,\u001b[0m\u001b[1;36m2\u001b[0m\u001b[1;33m]\u001b[0m\u001b[1;33m,\u001b[0m\u001b[0mEfields2map\u001b[0m\u001b[1;33m[\u001b[0m\u001b[1;33m:\u001b[0m\u001b[1;33m,\u001b[0m\u001b[1;36m3\u001b[0m\u001b[1;33m]\u001b[0m\u001b[1;33m)\u001b[0m\u001b[1;33m\u001b[0m\u001b[0m\n\u001b[0m",
      "\u001b[1;32m//anaconda/lib/python2.7/site-packages/matplotlib/pyplot.pyc\u001b[0m in \u001b[0;36mpcolor\u001b[1;34m(*args, **kwargs)\u001b[0m\n\u001b[0;32m   3016\u001b[0m         \u001b[0max\u001b[0m\u001b[1;33m.\u001b[0m\u001b[0mhold\u001b[0m\u001b[1;33m(\u001b[0m\u001b[0mhold\u001b[0m\u001b[1;33m)\u001b[0m\u001b[1;33m\u001b[0m\u001b[0m\n\u001b[0;32m   3017\u001b[0m     \u001b[1;32mtry\u001b[0m\u001b[1;33m:\u001b[0m\u001b[1;33m\u001b[0m\u001b[0m\n\u001b[1;32m-> 3018\u001b[1;33m         \u001b[0mret\u001b[0m \u001b[1;33m=\u001b[0m \u001b[0max\u001b[0m\u001b[1;33m.\u001b[0m\u001b[0mpcolor\u001b[0m\u001b[1;33m(\u001b[0m\u001b[1;33m*\u001b[0m\u001b[0margs\u001b[0m\u001b[1;33m,\u001b[0m \u001b[1;33m**\u001b[0m\u001b[0mkwargs\u001b[0m\u001b[1;33m)\u001b[0m\u001b[1;33m\u001b[0m\u001b[0m\n\u001b[0m\u001b[0;32m   3019\u001b[0m         \u001b[0mdraw_if_interactive\u001b[0m\u001b[1;33m(\u001b[0m\u001b[1;33m)\u001b[0m\u001b[1;33m\u001b[0m\u001b[0m\n\u001b[0;32m   3020\u001b[0m     \u001b[1;32mfinally\u001b[0m\u001b[1;33m:\u001b[0m\u001b[1;33m\u001b[0m\u001b[0m\n",
      "\u001b[1;32m//anaconda/lib/python2.7/site-packages/matplotlib/axes/_axes.pyc\u001b[0m in \u001b[0;36mpcolor\u001b[1;34m(self, *args, **kwargs)\u001b[0m\n\u001b[0;32m   4887\u001b[0m         \u001b[0mshading\u001b[0m \u001b[1;33m=\u001b[0m \u001b[0mkwargs\u001b[0m\u001b[1;33m.\u001b[0m\u001b[0mpop\u001b[0m\u001b[1;33m(\u001b[0m\u001b[1;34m'shading'\u001b[0m\u001b[1;33m,\u001b[0m \u001b[1;34m'flat'\u001b[0m\u001b[1;33m)\u001b[0m\u001b[1;33m\u001b[0m\u001b[0m\n\u001b[0;32m   4888\u001b[0m \u001b[1;33m\u001b[0m\u001b[0m\n\u001b[1;32m-> 4889\u001b[1;33m         \u001b[0mX\u001b[0m\u001b[1;33m,\u001b[0m \u001b[0mY\u001b[0m\u001b[1;33m,\u001b[0m \u001b[0mC\u001b[0m \u001b[1;33m=\u001b[0m \u001b[0mself\u001b[0m\u001b[1;33m.\u001b[0m\u001b[0m_pcolorargs\u001b[0m\u001b[1;33m(\u001b[0m\u001b[1;34m'pcolor'\u001b[0m\u001b[1;33m,\u001b[0m \u001b[1;33m*\u001b[0m\u001b[0margs\u001b[0m\u001b[1;33m,\u001b[0m \u001b[0mallmatch\u001b[0m\u001b[1;33m=\u001b[0m\u001b[0mFalse\u001b[0m\u001b[1;33m)\u001b[0m\u001b[1;33m\u001b[0m\u001b[0m\n\u001b[0m\u001b[0;32m   4890\u001b[0m         \u001b[0mNy\u001b[0m\u001b[1;33m,\u001b[0m \u001b[0mNx\u001b[0m \u001b[1;33m=\u001b[0m \u001b[0mX\u001b[0m\u001b[1;33m.\u001b[0m\u001b[0mshape\u001b[0m\u001b[1;33m\u001b[0m\u001b[0m\n\u001b[0;32m   4891\u001b[0m \u001b[1;33m\u001b[0m\u001b[0m\n",
      "\u001b[1;32m//anaconda/lib/python2.7/site-packages/matplotlib/axes/_axes.pyc\u001b[0m in \u001b[0;36m_pcolorargs\u001b[1;34m(funcname, *args, **kw)\u001b[0m\n\u001b[0;32m   4690\u001b[0m         \u001b[1;32mif\u001b[0m \u001b[0mlen\u001b[0m\u001b[1;33m(\u001b[0m\u001b[0margs\u001b[0m\u001b[1;33m)\u001b[0m \u001b[1;33m==\u001b[0m \u001b[1;36m3\u001b[0m\u001b[1;33m:\u001b[0m\u001b[1;33m\u001b[0m\u001b[0m\n\u001b[0;32m   4691\u001b[0m             \u001b[0mX\u001b[0m\u001b[1;33m,\u001b[0m \u001b[0mY\u001b[0m\u001b[1;33m,\u001b[0m \u001b[0mC\u001b[0m \u001b[1;33m=\u001b[0m \u001b[0margs\u001b[0m\u001b[1;33m\u001b[0m\u001b[0m\n\u001b[1;32m-> 4692\u001b[1;33m             \u001b[0mnumRows\u001b[0m\u001b[1;33m,\u001b[0m \u001b[0mnumCols\u001b[0m \u001b[1;33m=\u001b[0m \u001b[0mC\u001b[0m\u001b[1;33m.\u001b[0m\u001b[0mshape\u001b[0m\u001b[1;33m\u001b[0m\u001b[0m\n\u001b[0m\u001b[0;32m   4693\u001b[0m         \u001b[1;32melse\u001b[0m\u001b[1;33m:\u001b[0m\u001b[1;33m\u001b[0m\u001b[0m\n\u001b[0;32m   4694\u001b[0m             raise TypeError(\n",
      "\u001b[1;31mValueError\u001b[0m: need more than 1 value to unpack"
     ]
    },
    {
     "data": {
      "image/png": "[encoded data removed]",
      "text/plain": [
       "<matplotlib.figure.Figure at 0x7facff0440d0>"
      ]
     },
     "metadata": {},
     "output_type": "display_data"
    }
   ],
   "source": [
    "plt.figure(70,figsize=(13,10))\n",
    "plt.pcolor(Efields2map[:,0],Efields2map[:,2],Efields2map[:,3])"
   ]
  },
  {
   "cell_type": "code",
   "execution_count": null,
   "metadata": {
    "collapsed": true
   },
   "outputs": [],
   "source": []
  }
 ],
 "metadata": {
  "kernelspec": {
   "display_name": "Python 2",
   "language": "python",
   "name": "python2"
  },
  "language_info": {
   "codemirror_mode": {
    "name": "ipython",
    "version": 2
   },
   "file_extension": ".py",
   "mimetype": "text/x-python",
   "name": "python",
   "nbconvert_exporter": "python",
   "pygments_lexer": "ipython2",
   "version": "2.7.10"
  }
 },
 "nbformat": 4,
 "nbformat_minor": 0
}
