{
 "cells": [
  {
   "cell_type": "code",
   "execution_count": 20,
   "metadata": {
    "collapsed": false
   },
   "outputs": [
    {
     "ename": "ImportError",
     "evalue": "No module named WrapperClass",
     "output_type": "error",
     "traceback": [
      "\u001b[1;31m---------------------------------------------------------------------------\u001b[0m",
      "\u001b[1;31mImportError\u001b[0m                               Traceback (most recent call last)",
      "\u001b[1;32m<ipython-input-20-1a41f6db9a56>\u001b[0m in \u001b[0;36m<module>\u001b[1;34m()\u001b[0m\n\u001b[0;32m     20\u001b[0m \u001b[1;32mimport\u001b[0m \u001b[0m__init__\u001b[0m \u001b[1;32mas\u001b[0m \u001b[0mS\u001b[0m\u001b[1;33m\u001b[0m\u001b[0m\n\u001b[0;32m     21\u001b[0m \u001b[1;32mimport\u001b[0m \u001b[0mdp\u001b[0m \u001b[1;32mas\u001b[0m \u001b[0mdp\u001b[0m\u001b[1;33m\u001b[0m\u001b[0m\n\u001b[1;32m---> 22\u001b[1;33m \u001b[1;32mimport\u001b[0m \u001b[0mJacobPositionMagic\u001b[0m \u001b[1;32mas\u001b[0m \u001b[0mjacob\u001b[0m\u001b[1;33m\u001b[0m\u001b[0m\n\u001b[0m\u001b[0;32m     23\u001b[0m \u001b[0mpylab\u001b[0m\u001b[1;33m.\u001b[0m\u001b[0mrcParams\u001b[0m\u001b[1;33m[\u001b[0m\u001b[1;34m\"figure.figsize\"\u001b[0m\u001b[1;33m]\u001b[0m\u001b[1;33m=\u001b[0m\u001b[1;36m15\u001b[0m\u001b[1;33m,\u001b[0m\u001b[1;36m8\u001b[0m\u001b[1;33m\u001b[0m\u001b[0m\n",
      "\u001b[1;32m/global/homes/w/weiji/luxproject/PositionMapping/Tools/Python_Bin/JacobPositionMagic.py\u001b[0m in \u001b[0;36m<module>\u001b[1;34m()\u001b[0m\n\u001b[0;32m     26\u001b[0m \u001b[1;33m\u001b[0m\u001b[0m\n\u001b[0;32m     27\u001b[0m \u001b[1;31m# Import wrapper module\u001b[0m\u001b[1;33m\u001b[0m\u001b[1;33m\u001b[0m\u001b[0m\n\u001b[1;32m---> 28\u001b[1;33m \u001b[1;32mfrom\u001b[0m \u001b[0mWrapperClass\u001b[0m \u001b[1;32mimport\u001b[0m \u001b[1;33m*\u001b[0m\u001b[1;33m\u001b[0m\u001b[0m\n\u001b[0m\u001b[0;32m     29\u001b[0m \u001b[1;32mimport\u001b[0m \u001b[0mnumpy\u001b[0m \u001b[1;32mas\u001b[0m \u001b[0mnp\u001b[0m\u001b[1;33m\u001b[0m\u001b[0m\n\u001b[0;32m     30\u001b[0m \u001b[1;32mimport\u001b[0m \u001b[0msys\u001b[0m\u001b[1;33m\u001b[0m\u001b[0m\n",
      "\u001b[1;31mImportError\u001b[0m: No module named WrapperClass"
     ]
    }
   ],
   "source": [
    "import sys\n",
    "import os\n",
    "import functools\n",
    "import scipy\n",
    "import scipy as sp\n",
    "import numpy as np\n",
    "import matplotlib.pyplot as plt\n",
    "%matplotlib inline\n",
    "import matplotlib.pylab as pylab\n",
    "from matplotlib.colors import LogNorm\n",
    "import pickle\n",
    "import math\n",
    "import subprocess\n",
    "\n",
    "sys.path.insert(2, \"/global/homes/w/weiji/luxproject/PositionMapping/Tools/Python_Bin/\")\n",
    "sys.path.insert(2, \"/global/projecta/projectdirs/lux/data\")\n",
    "sys.path.insert(2, \"/global/projecta/projectdirs/lux/users/weiji/\")\n",
    "sys.path.insert(0,'/project/projectdirs/lux/Tools/LUXcode/Trunk/DataAnalysis/Python/' )\n",
    "sys.path.insert(0,'/project/projectdirs/lux/Tools/LUXcode/Trunk/DataAnalysis/Python/aLib' )\n",
    "import __init__ as S\n",
    "import dp as dp\n",
    "import JacobPositionMagic.py as jacob\n",
    "pylab.rcParams[\"figure.figsize\"]=15,8"
   ]
  },
  {
   "cell_type": "code",
   "execution_count": null,
   "metadata": {
    "collapsed": true
   },
   "outputs": [],
   "source": [
    "JacobPositionMagic()"
   ]
  },
  {
   "cell_type": "code",
   "execution_count": 8,
   "metadata": {
    "collapsed": true
   },
   "outputs": [],
   "source": [
    "\n",
    "rq_list = [\"file_number\", \"pulse_classification\"]\n",
    "rq_list.append(\"pulse_area_phe\")\n",
    "rq_list.append(\"xyz_corrected_pulse_area_all_phe\")\n",
    "rq_list.append(\"spike_count\")\n",
    "rq_list.append(\"x_cm\")\n",
    "rq_list.append(\"y_cm\")\n",
    "rq_list.append(\"x_cm_del\")\n",
    "rq_list.append(\"y_cm_del\")\n",
    "rq_list.append(\"s1s2_pairing\")\n",
    "rq_list.append(\"z_drift_samples\")\n",
    "rq_list.append(\"pulse_classification\")\n"
   ]
  },
  {
   "cell_type": "code",
   "execution_count": 12,
   "metadata": {
    "collapsed": false
   },
   "outputs": [
    {
     "name": "stdout",
     "output_type": "stream",
     "text": [
      "** concatRQsWcuts encourages you to graduate from the stone age and\n",
      "   switch from python v2.7 to v3.x.\n",
      "\n",
      "\n",
      "<<<<<<<<<<<<<<<<<<<<<<<<<<<<<<<<<<<<<<<< dp.concatRQsWcuts >>>>>>>>>>>>>>>>>>>>>>>>>>>>>>>>>>>>>>>>>\n",
      "<<<<                                          STARTING                                          >>>>\n",
      "<<<<<<<<<<<<<<<<<<<<<<<<<<<<<<<<<<<<<<<<<<<<<<<<<<>>>>>>>>>>>>>>>>>>>>>>>>>>>>>>>>>>>>>>>>>>>>>>>>>>\n",
      "\n",
      "\n",
      "Determining total number of files..\t 748\n",
      "Estimating number of events that will pass cuts.......... Roughly 259107\n",
      "\n",
      "********** Allocating 1.3 GB **********\n",
      "\n",
      "\n",
      "**** /project/projectdirs/lux/users/weiji/luxsm_20160426T1815_cp21103/matfiles/ ****\n",
      "flag_pastAllocate = False\n",
      "\n",
      "k_CutStep = 260095\n",
      "\n",
      "\n",
      "Number of events before cuts: 353364\n",
      "Number of events after  cuts: 260095\n",
      "   Cut name: Num passing\n",
      "-----------: -----------\n",
      "cut_1S1_1S2: 260095\n"
     ]
    }
   ],
   "source": [
    "# Initial Cuts\n",
    "# 1 s1 and 1 s2\n",
    "def cut_1S1_1S2(ev):\n",
    "    ct = ev.s1s2_pairing.sum(0) == 2\n",
    "    return ct\n",
    "\n",
    "cuts = [cut_1S1_1S2]\n",
    "\n",
    "setlist = [\"luxsm_20160426T1815_cp21103\",]\n",
    "for aa in range(len(setlist)):\n",
    "\n",
    "    dSets = [setlist[aa]]\n",
    "    dSetPathList = [\"/project/projectdirs/lux/users/weiji/\"+ds+\"/matfiles/\" for ds in dSets]\n",
    "\n",
    "    data = dp.concatRQsWcuts(dSetPathList, rq_list, cuts=cuts)\n",
    "\n",
    "    pickle.dump(data,open(\"/project/projectdirs/lux/users/weiji/ss20164026_\"+str(aa+2)+\".pickle\",\"wb\"),protocol=2)"
   ]
  },
  {
   "cell_type": "code",
   "execution_count": 16,
   "metadata": {
    "collapsed": false
   },
   "outputs": [
    {
     "data": {
      "text/plain": [
       "Dictionary contents:\n",
       "                             FIELDS: TYPE                             CONTENTS\n",
       "                             ------  ----                             --------\n",
       "                           RQ_paths: [1 list],                         \n",
       "                            fileNum: [(260095,) uint16array],         [0 0 0 0 0 0 0 0 0 0 0 0 0 0 0...\n",
       "                        file_number: [(260095,) uint32array],         [2 2 2 2 2 2 2 2 2 2 2 2 2 2 2...\n",
       "                        numCutsPass: [1 list],                         \n",
       "                     numEventsTotal: [1 int],                         353364\n",
       "                            pathNum: [(260095,) uint8array],          [0 0 0 0 0 0 0 0 0 0 0 0 0 0 0...\n",
       "                     pulse_area_phe: [(10, 260095) float32array],     [  2.29091525  25.86428452  29...\n",
       "               pulse_classification: [(10, 260095) uint32array],      [1 1 1 1 1 3 1 1 1 1 1 1 1 1 1...\n",
       "                       s1s2_pairing: [(10, 260095) uint32array],      [1 1 1 1 1 0 1 1 1 1 1 1 1 1 1...\n",
       "                        spike_count: [(10, 122, 260095) uint32array], [0 0 0 0 0 0 0 0 0 0 0 0 0 0 0...\n",
       "                               x_cm: [(10, 260095) float32array],     [-100.           15.57964802  ...\n",
       "                           x_cm_del: [(10, 260095) float32array],     [-100. -100. -100. -100. -100....\n",
       "   xyz_corrected_pulse_area_all_phe: [(10, 260095) float32array],     [  2.53179288  24.44871712  31...\n",
       "                               y_cm: [(10, 260095) float32array],     [-100.            9.75068951  ...\n",
       "                           y_cm_del: [(10, 260095) float32array],     [-100. -100. -100. -100. -100....\n",
       "                    z_drift_samples: [(10, 260095) uint32array],      [0 0 0 0 0 0 0 0 0 0 0 0 0 0 0...\n"
      ]
     },
     "execution_count": 16,
     "metadata": {},
     "output_type": "execute_result"
    }
   ],
   "source": [
    "data\n",
    "\n"
   ]
  },
  {
   "cell_type": "code",
   "execution_count": 17,
   "metadata": {
    "collapsed": false
   },
   "outputs": [],
   "source": [
    "\n",
    "np.save(\"/project/projectdirs/lux/users/weiji/data/201509tritium\",np.array([data]))"
   ]
  },
  {
   "cell_type": "code",
   "execution_count": 6,
   "metadata": {
    "collapsed": false
   },
   "outputs": [],
   "source": [
    "a=np.load(\"/project/projectdirs/lux/users/weiji/pickles/ss5_2.pickle\")"
   ]
  },
  {
   "cell_type": "code",
   "execution_count": 6,
   "metadata": {
    "collapsed": false
   },
   "outputs": [
    {
     "data": {
      "text/plain": [
       "51353"
      ]
     },
     "execution_count": 6,
     "metadata": {},
     "output_type": "execute_result"
    }
   ],
   "source": [
    "def cut_1S1_1S2(ev):\n",
    "    ct = ev.s1s2_pairing.sum(0) == 2\n",
    "    return ct\n",
    "\n",
    "cuts = [cut_1S1_1S2]\n",
    "\n",
    "setlist = [\"luxsm_20160426T1815_cp21103\",]\n",
    "for aa in range(len(setlist)):\n",
    "\n",
    "    dSets = [setlist[aa]]\n",
    "    dSetPathList = [\"/project/projectdirs/lux/users/weiji/\"+ds+\"/matfiles/\" for ds in dSets]\n",
    "\n",
    "    data = dp.concatRQsWcuts(dSetPathList, rq_list, cuts=cuts)\n",
    "\n",
    "    pickle.dump(data,open(\"/project/projectdirs/lux/users/weiji/ss20164026_\"+str(aa+2)+\".pickle\",\"wb\"),protocol=2)"
   ]
  },
  {
   "cell_type": "code",
   "execution_count": 7,
   "metadata": {
    "collapsed": false
   },
   "outputs": [
    {
     "ename": "AttributeError",
     "evalue": "'module' object has no attribute 'dum'",
     "output_type": "error",
     "traceback": [
      "\u001b[1;31m---------------------------------------------------------------------------\u001b[0m",
      "\u001b[1;31mAttributeError\u001b[0m                            Traceback (most recent call last)",
      "\u001b[1;32m<ipython-input-7-a77ba40a3338>\u001b[0m in \u001b[0;36m<module>\u001b[1;34m()\u001b[0m\n\u001b[1;32m----> 1\u001b[1;33m \u001b[0mnp\u001b[0m\u001b[1;33m.\u001b[0m\u001b[0mdum\u001b[0m\u001b[1;33m\u001b[0m\u001b[0m\n\u001b[0m",
      "\u001b[1;31mAttributeError\u001b[0m: 'module' object has no attribute 'dum'"
     ]
    }
   ],
   "source": [
    "np.dum"
   ]
  },
  {
   "cell_type": "code",
   "execution_count": 8,
   "metadata": {
    "collapsed": false
   },
   "outputs": [
    {
     "ename": "NameError",
     "evalue": "name 'a' is not defined",
     "output_type": "error",
     "traceback": [
      "\u001b[1;31m---------------------------------------------------------------------------\u001b[0m",
      "\u001b[1;31mNameError\u001b[0m                                 Traceback (most recent call last)",
      "\u001b[1;32m<ipython-input-8-a45628775946>\u001b[0m in \u001b[0;36m<module>\u001b[1;34m()\u001b[0m\n\u001b[1;32m----> 1\u001b[1;33m \u001b[0ma\u001b[0m\u001b[1;33m[\u001b[0m\u001b[1;36m0\u001b[0m\u001b[1;33m]\u001b[0m\u001b[1;33m.\u001b[0m\u001b[0mx_cm\u001b[0m\u001b[1;33m\u001b[0m\u001b[0m\n\u001b[0m",
      "\u001b[1;31mNameError\u001b[0m: name 'a' is not defined"
     ]
    }
   ],
   "source": [
    "a[0].x_cm"
   ]
  },
  {
   "cell_type": "code",
   "execution_count": 29,
   "metadata": {
    "collapsed": false
   },
   "outputs": [],
   "source": [
    "pickle.dump(data,open(\"/project/projectdirs/lux/users/weiji/pickles/ss5_\"+str(aa+2)+\".pickle\",\"wb\"),protocol=2)"
   ]
  },
  {
   "cell_type": "code",
   "execution_count": 35,
   "metadata": {
    "collapsed": true
   },
   "outputs": [],
   "source": [
    "np.array?\n"
   ]
  },
  {
   "cell_type": "code",
   "execution_count": 18,
   "metadata": {
    "collapsed": false
   },
   "outputs": [
    {
     "data": {
      "text/plain": [
       "array([[    0,     0,     0, ...,     0,     0,     0],\n",
       "       [    0, 23299,  8169, ..., 13025, 13300, 17807],\n",
       "       [ 6915,     0,     0, ...,     0,     0,     0],\n",
       "       ..., \n",
       "       [    0,     0,     0, ...,     0,     0,     0],\n",
       "       [    0,     0,     0, ...,     0,     0,     0],\n",
       "       [    0,     0,     0, ...,     0,     0,     0]], dtype=uint32)"
      ]
     },
     "execution_count": 18,
     "metadata": {},
     "output_type": "execute_result"
    }
   ],
   "source": [
    "data[\"z_drift_samples\"]"
   ]
  },
  {
   "cell_type": "code",
   "execution_count": null,
   "metadata": {
    "collapsed": true
   },
   "outputs": [],
   "source": []
  }
 ],
 "metadata": {
  "kernelspec": {
   "display_name": "Python 2",
   "language": "python",
   "name": "python2"
  },
  "language_info": {
   "codemirror_mode": {
    "name": "ipython",
    "version": 2
   },
   "file_extension": ".py",
   "mimetype": "text/x-python",
   "name": "python",
   "nbconvert_exporter": "python",
   "pygments_lexer": "ipython2",
   "version": "2.7.11"
  }
 },
 "nbformat": 4,
 "nbformat_minor": 0
}
