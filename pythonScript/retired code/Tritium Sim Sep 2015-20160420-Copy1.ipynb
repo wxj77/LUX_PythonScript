{
 "cells": [
  {
   "cell_type": "code",
   "execution_count": 2,
   "metadata": {
    "collapsed": false
   },
   "outputs": [
    {
     "data": {
      "text/plain": [
       "{'divide': 'warn', 'invalid': 'warn', 'over': 'warn', 'under': 'ignore'}"
      ]
     },
     "execution_count": 2,
     "metadata": {},
     "output_type": "execute_result"
    }
   ],
   "source": [
    "import sys\n",
    "import os\n",
    "import functools\n",
    "import scipy\n",
    "import scipy as sp\n",
    "import numpy as np\n",
    "import matplotlib.pyplot as plt\n",
    "%matplotlib inline\n",
    "import matplotlib.pylab as pylab\n",
    "from matplotlib.colors import LogNorm\n",
    "import pickle\n",
    "import math\n",
    "import subprocess\n",
    "import warnings\n",
    "\n",
    "sys.path.insert(2, \"/global/projecta/projectdirs/lux/data\")\n",
    "sys.path.insert(0,'/project/projectdirs/lux/Tools/LUXcode/Trunk/DataAnalysis/Python/' )\n",
    "sys.path.insert(0,'/project/projectdirs/lux/Tools/LUXcode/Trunk/DataAnalysis/Python/aLib' )\n",
    "import __init__ as S\n",
    "import dp as dp\n",
    "from scipy.optimize import OptimizeWarning\n",
    "\n",
    "warnings.simplefilter(\"error\", OptimizeWarning)\n",
    "pylab.rcParams[\"figure.figsize\"]=15,8\n",
    "np.seterr(invalid='ignore')\n"
   ]
  },
  {
   "cell_type": "code",
   "execution_count": 3,
   "metadata": {
    "collapsed": false
   },
   "outputs": [],
   "source": [
    "# Tritium September 2015\n",
    "#ts2 = np.load(\"/global/homes/w/weiji/ShaunDataSets/ts5_2.pickle\")\n",
    "#ts3 = np.load(\"/global/homes/w/weiji/ShaunDataSets/ts5_3.pickle\")\n",
    "#ts4 = np.load(\"/global/homes/w/weiji/ShaunDataSets/ts5_4.pickle\")\n",
    "#ts5 = np.load(\"/global/homes/w/weiji/ShaunDataSets/ts5_5.pickle\")\n",
    "#ts6 = np.load(\"/global/homes/w/weiji/ShaunDataSets/ts5_6.pickle\")"
   ]
  },
  {
   "cell_type": "code",
   "execution_count": 9,
   "metadata": {
    "collapsed": false
   },
   "outputs": [],
   "source": [
    "ts4= np.load(\"/project/projectdirs/lux/users/weiji/data/201509tritiumReal.npy\")[0]"
   ]
  },
  {
   "cell_type": "code",
   "execution_count": 10,
   "metadata": {
    "collapsed": false
   },
   "outputs": [
    {
     "data": {
      "text/plain": [
       "Dictionary contents:\n",
       "                             FIELDS: TYPE                             CONTENTS\n",
       "                             ------  ----                             --------\n",
       "                           RQ_paths: [1 list],                         \n",
       "                            fileNum: [(12849,) uint16array],          [0 0 0 0 0 0 0 0 1 1 1 1 1 1 1...\n",
       "                        file_number: [(268108,) uint32array],         [6081 6081 6081 6081 6081 6081...\n",
       "                        numCutsPass: [1 list],                         \n",
       "                     numEventsTotal: [1 int],                         222381\n",
       "                            pathNum: [(12849,) uint8array],           [0 0 0 0 0 0 0 0 0 0 0 0 0 0 0...\n",
       "                     pulse_area_phe: [(10, 268108) float32array],     [  3.39977422e+04   3.26255035...\n",
       "               pulse_classification: [(10, 268108) uint32array],      [1 1 1 1 1 1 1 1 1 1 3 3 1 1 4...\n",
       "                       s1s2_pairing: [(10, 268108) uint32array],      [1 1 1 1 1 1 1 1 1 1 0 0 1 1 0...\n",
       "                        spike_count: [(10, 122, 268108) uint32array], [3 0 0 0 0 0 0 0 0 5 0 0 0 0 0...\n",
       "                               x_cm: [(10, 268108) float32array],     [  -6.26106071  -12.5623951   ...\n",
       "                           x_cm_del: [(10, 268108) float32array],     [-100. -100. -100. -100. -100....\n",
       "   xyz_corrected_pulse_area_all_phe: [(10, 268108) float32array],     [  3.66849492e+04   3.56568069...\n",
       "                               y_cm: [(10, 268108) float32array],     [  3.13835096e+00   7.03425550...\n",
       "                           y_cm_del: [(10, 268108) float32array],     [-100. -100. -100. -100. -100....\n",
       "                    z_drift_samples: [(10, 268108) uint32array],      [0 0 0 0 0 0 0 0 0 0 0 0 0 0 0...\n"
      ]
     },
     "execution_count": 10,
     "metadata": {},
     "output_type": "execute_result"
    }
   ],
   "source": [
    "ts4\n"
   ]
  },
  {
   "cell_type": "code",
   "execution_count": 11,
   "metadata": {
    "collapsed": false
   },
   "outputs": [],
   "source": [
    "ss4 = np.load(\"/project/projectdirs/lux/users/weiji/data/201509tritium.npy\")[0]"
   ]
  },
  {
   "cell_type": "code",
   "execution_count": 12,
   "metadata": {
    "collapsed": false
   },
   "outputs": [
    {
     "data": {
      "text/plain": [
       "Dictionary contents:\n",
       "                             FIELDS: TYPE                             CONTENTS\n",
       "                             ------  ----                             --------\n",
       "                           RQ_paths: [1 list],                         \n",
       "                            fileNum: [(260095,) uint16array],         [0 0 0 0 0 0 0 0 0 0 0 0 0 0 0...\n",
       "                        file_number: [(260095,) uint32array],         [2 2 2 2 2 2 2 2 2 2 2 2 2 2 2...\n",
       "                        numCutsPass: [1 list],                         \n",
       "                     numEventsTotal: [1 int],                         353364\n",
       "                            pathNum: [(260095,) uint8array],          [0 0 0 0 0 0 0 0 0 0 0 0 0 0 0...\n",
       "                     pulse_area_phe: [(10, 260095) float32array],     [  2.29091525  25.86428452  29...\n",
       "               pulse_classification: [(10, 260095) uint32array],      [1 1 1 1 1 3 1 1 1 1 1 1 1 1 1...\n",
       "                       s1s2_pairing: [(10, 260095) uint32array],      [1 1 1 1 1 0 1 1 1 1 1 1 1 1 1...\n",
       "                        spike_count: [(10, 122, 260095) uint32array], [0 0 0 0 0 0 0 0 0 0 0 0 0 0 0...\n",
       "                               x_cm: [(10, 260095) float32array],     [-100.           15.57964802  ...\n",
       "                           x_cm_del: [(10, 260095) float32array],     [-100. -100. -100. -100. -100....\n",
       "   xyz_corrected_pulse_area_all_phe: [(10, 260095) float32array],     [  2.53179288  24.44871712  31...\n",
       "                               y_cm: [(10, 260095) float32array],     [-100.            9.75068951  ...\n",
       "                           y_cm_del: [(10, 260095) float32array],     [-100. -100. -100. -100. -100....\n",
       "                    z_drift_samples: [(10, 260095) uint32array],      [0 0 0 0 0 0 0 0 0 0 0 0 0 0 0...\n"
      ]
     },
     "execution_count": 12,
     "metadata": {},
     "output_type": "execute_result"
    }
   ],
   "source": [
    "ss4"
   ]
  },
  {
   "cell_type": "code",
   "execution_count": 13,
   "metadata": {
    "collapsed": false
   },
   "outputs": [
    {
     "data": {
      "text/plain": [
       "array([[-24. , -24. ,   5.8, ...,   nan,   nan,   0. ],\n",
       "       [-23. , -24. ,   5.8, ...,   nan,   nan,   0. ],\n",
       "       [-22. , -24. ,   5.8, ...,   nan,   nan,   0. ],\n",
       "       ..., \n",
       "       [ 22. ,  24. ,  53.8, ...,   nan,   nan,   0. ],\n",
       "       [ 23. ,  24. ,  53.8, ...,   nan,   nan,   0. ],\n",
       "       [ 24. ,  24. ,  53.8, ...,   nan,   nan,   0. ]])"
      ]
     },
     "execution_count": 13,
     "metadata": {},
     "output_type": "execute_result"
    }
   ],
   "source": [
    "Efieldmap = np.loadtxt(\"/project/projectdirs/lux/users/weiji/Run4FieldMaps/v10_fields_20150928T2324_cp17544.txt\")\n",
    "Efieldmap"
   ]
  },
  {
   "cell_type": "code",
   "execution_count": 14,
   "metadata": {
    "collapsed": false
   },
   "outputs": [
    {
     "data": {
      "text/plain": [
       "(117649, 8)"
      ]
     },
     "execution_count": 14,
     "metadata": {},
     "output_type": "execute_result"
    }
   ],
   "source": [
    "Efieldmap.shape"
   ]
  },
  {
   "cell_type": "code",
   "execution_count": 15,
   "metadata": {
    "collapsed": false
   },
   "outputs": [],
   "source": [
    "#define a funtion do band's mean value and sigma calculation\n",
    "def f(x, a, b, c):\n",
    "    return a * np.exp(-(x - b)**2.0 / (2 * c**2))\n",
    "\n",
    "def bandfit(x, y, bins=10, range=None, normed=False, weights=None):\n",
    "    H, xedges,yedges = np.histogram2d(x, y, bins, range, normed, weights)\n",
    "    log10xlist=[]\n",
    "    mu=[]\n",
    "    sigma=[]\n",
    "    for ii in xrange(0,xedges.shape[0]-1):\n",
    "        try:\n",
    "            log10y = [0.5 * (yedges[i] + yedges[i+1]) for i in xrange(yedges.shape[0]-1)]\n",
    "            Hx = H[ii,:]\n",
    "            popt, pcov = sp.optimize.curve_fit(f, log10y, Hx)\n",
    "            log10xlist.append(0.5 * (xedges[ii] + xedges[ii+1]))\n",
    "            mu.append(popt[1])\n",
    "            sigma.append(popt[2])\n",
    "        except BaseException:\n",
    "            print \"Fitting data in bin \",ii,\"failed.\"\n",
    "    return(np.array(mu),np.abs(sigma),np.array(log10xlist))\n"
   ]
  },
  {
   "cell_type": "code",
   "execution_count": 16,
   "metadata": {
    "collapsed": false
   },
   "outputs": [],
   "source": [
    "def LoadXYZDependentEField(EFieldMap, NumxyzDependentEFieldVars = 8, MinLocationX = -24.0 ,NumPlanesX = 49, StepSizeX = 1. ,MinLocationY = -24.00 ,NumPlanesY = 49, StepSizeY = 1.,MinLocationZ = 5.8 ,NumPlanesZ = 49, StepSizeZ = 1.):\n",
    "    EFieldMapMatrix = np.zeros((NumPlanesX,NumPlanesY,NumPlanesZ,NumxyzDependentEFieldVars))\n",
    "    for ii in xrange(0,EFieldMap.shape[0]):\n",
    "        xx = int(round((EFieldMap[ii,0]-MinLocationX)/StepSizeX))\n",
    "        yy =int(round((EFieldMap[ii,1]-MinLocationY)/StepSizeY))\n",
    "        zz =int(round((EFieldMap[ii,2]-MinLocationZ)/StepSizeZ))\n",
    "        for vv in xrange(0,NumxyzDependentEFieldVars):\n",
    "            if vv == 2:\n",
    "                EFieldMapMatrix[xx,yy,zz,vv] = EFieldMap[ii,vv] \n",
    "            elif vv==6:\n",
    "                EFieldMapMatrix[xx,yy,zz,vv] = EFieldMap[ii,vv]\n",
    "            else:\n",
    "                EFieldMapMatrix[xx,yy,zz,vv] = EFieldMap[ii,vv]\n",
    "            \n",
    "                \n",
    "    return EFieldMapMatrix,NumxyzDependentEFieldVars,((MinLocationX,NumPlanesX,StepSizeX),(MinLocationY,NumPlanesY,StepSizeY),(MinLocationZ,NumPlanesZ,StepSizeZ))\n",
    "\n",
    "def GetXYZDependentElectricField(x,LoadEFieldMap,ifprint=0):\n",
    "    EFieldMapMatrix,NumxyzDependentEFieldVars,((MinLocationX,NumPlanesX,StepSizeX),(MinLocationY,NumPlanesY,StepSizeY),(MinLocationZ,NumPlanesZ,StepSizeZ))= LoadEFieldMap\n",
    "    xx =int(round((x[0]-MinLocationX)/StepSizeX))\n",
    "    yy =int(round((x[1]-MinLocationY)/StepSizeY))\n",
    "    if (xx<0 or xx>NumPlanesX-2 or yy<0 or yy>NumPlanesY-2):\n",
    "#   if 0:\n",
    "        return -100000\n",
    "    else:\n",
    "        distance2 = (x[0]-EFieldMapMatrix[xx,yy,0,0])**2+(x[1]-EFieldMapMatrix[xx,yy,0,1])**2\n",
    "        for xxx in xrange(xx,xx+1):\n",
    "            for yyy in xrange(yy,yy+1):                \n",
    "                    if distance2 > ((x[0]-EFieldMapMatrix[xxx,yyy,0,0])**2+(x[1]-EFieldMapMatrix[xxx,yyy,0,1])**2):                                               \n",
    "                        xx = xxx\n",
    "                        yy = yyy\n",
    "        zz=0\n",
    "#        print xx,yy\n",
    "        dist = np.abs(x[2]-EFieldMapMatrix[xx,yy,0,6])\n",
    "#        print dist\n",
    "        for zzz in xrange(0,NumPlanesZ):\n",
    "            if np.abs(x[2]-EFieldMapMatrix[xx,yy,zzz,6])<dist:\n",
    "                dist = np.abs(x[2]-EFieldMapMatrix[xx,yy,zzz,6])\n",
    "                zz=zzz\n",
    "    if ifprint:\n",
    "        print \"index_x,y,z,E\",xx,yy,zz,EFieldMapMatrix[xx,yy,zz,3]\n",
    "        print \"x,y,z,\",EFieldMapMatrix[xx,yy,zz,0],EFieldMapMatrix[xx,yy,zz,1],EFieldMapMatrix[xx,yy,zz,2]\n",
    "        print \"S2x,S2y,t,\",EFieldMapMatrix[xx,yy,zz,4],EFieldMapMatrix[xx,yy,zz,5],EFieldMapMatrix[xx,yy,zz,6]\n",
    "    return EFieldMapMatrix[xx,yy,zz,3]\n",
    "\n",
    "def GetXYZDependentElectricField_s2(x,LoadEFieldMap,ifprint=0):\n",
    "    EFieldMapMatrix,NumxyzDependentEFieldVars,((MinLocationX,NumPlanesX,StepSizeX),(MinLocationY,NumPlanesY,StepSizeY),(MinLocationZ,NumPlanesZ,StepSizeZ))= LoadEFieldMap    \n",
    "    try:\n",
    "        xx=0\n",
    "        yy=0\n",
    "        zz=0\n",
    "        distance2 = 10000\n",
    "        for xxx in xrange(0,NumPlanesX):\n",
    "            for yyy in xrange(0,NumPlanesY):  \n",
    "                 for zzz in xrange(0,NumPlanesZ):\n",
    "                    if distance2 > ((x[0]-EFieldMapMatrix[xxx,yyy,zzz,4])**2+(x[1]-EFieldMapMatrix[xxx,yyy,zzz,5])**2)+(x[2]-EFieldMapMatrix[xxx,yyy,zzz,6])**2/144.:                                               \n",
    "                        xx = xxx\n",
    "                        yy = yyy\n",
    "                        zz = zzz\n",
    "                        distance2 = (x[0]-EFieldMapMatrix[xxx,yyy,zzz,4])**2+(x[1]-EFieldMapMatrix[xxx,yyy,zzz,5])**2+(x[2]-EFieldMapMatrix[xxx,yyy,zzz,6])**2/144.\n",
    "        if ifprint:\n",
    "            print \"index_x,y,z,E\",xx,yy,zz,EFieldMapMatrix[xx,yy,zz,3]\n",
    "            print \"x,y,z,\",EFieldMapMatrix[xx,yy,zz,0],EFieldMapMatrix[xx,yy,zz,1],EFieldMapMatrix[xx,yy,zz,2]\n",
    "            print \"S2x,S2y,t,\",EFieldMapMatrix[xx,yy,zz,4],EFieldMapMatrix[xx,yy,zz,5],EFieldMapMatrix[xx,yy,zz,6]\n",
    "\n",
    "            print distance2\n",
    "        return EFieldMapMatrix[xx,yy,zz,:]\n",
    "    except :\n",
    "        return -100000"
   ]
  },
  {
   "cell_type": "code",
   "execution_count": 18,
   "metadata": {
    "collapsed": true
   },
   "outputs": [],
   "source": [
    "def errorf(x,*args):\n",
    "    (S2x,S2y,T),(x0,y0,z0),(s2x0,s2y0,t0),(ds2xdx,ds2xdy,ds2xdz),(ds2ydx,ds2ydy,ds2ydz),(dtdx,dtdy,dtdz) = args\n",
    "    return (S2x - (s2x0 + (x[0]-x0)*ds2xdx + (x[1]-y0)*ds2xdy + (x[2]-z0)*ds2xdz))**2 \\\n",
    "            +(S2y - (s2y0 + (x[0]-x0)*ds2ydx + (x[1]-y0)*ds2ydy + (x[2]-z0)*ds2ydz))**2 \\\n",
    "            +(T - (t0 + (x[0]-x0)*dtdx + (x[1]-y0)*dtdy + (x[2]-z0)*dtdz))**2 \n",
    "\n",
    "def intepolation(x,x0,f0,dfdx):\n",
    "    x=np.array(x)\n",
    "    x0 = np.array(x0)\n",
    "    dfdx = np.array(dfdx)\n",
    "    return f0+np.sum(dfdx*(x-x0))\n",
    "\n",
    "def GetXYZFromXYZS2TDependentElectricField((S2x,S2y,DriftTime),LoadEFieldMap,ifprint=0):\n",
    "    EFieldMapMatrix,NumxyzDependentEFieldVars,((MinLocationX,NumPlanesX,StepSizeX),(MinLocationY,NumPlanesY,StepSizeY),(MinLocationZ,NumPlanesZ,StepSizeZ))= LoadEFieldMap    \n",
    "    \"\"\"\n",
    "        This function is getting real x y z E from known S2x,S2y,DriftTime,fieldmap\n",
    "        S2x, S2y in cm\n",
    "        DriftTime in us\n",
    "    \"\"\"\n",
    "    warnings.filterwarnings('error')\n",
    "    try:\n",
    "        xx=25\n",
    "        yy=25\n",
    "        zz=47\n",
    "        attempt=200\n",
    "        notsuccess = 1\n",
    "        while((attempt > 0) and notsuccess):\n",
    "            attempt-=1\n",
    "            notsuccess = 0\n",
    "            \n",
    "            if S2x< EFieldMapMatrix[xx,yy,zz,4]:\n",
    "                notsuccess = 1\n",
    "                xx -= 1\n",
    "                if ifprint:\n",
    "                    print \"xx--\"\n",
    "            elif S2x > EFieldMapMatrix[xx+1,yy,zz,4]:\n",
    "                notsuccess = 1\n",
    "                xx += 1\n",
    "                if ifprint:\n",
    "                    print \"xx++\"\n",
    "            elif S2y< EFieldMapMatrix[xx,yy,zz,5]:\n",
    "                notsuccess = 1\n",
    "                yy -= 1\n",
    "                if ifprint:\n",
    "                    print \"yy--\"\n",
    "            elif S2y > EFieldMapMatrix[xx,yy+1,zz,5]:\n",
    "                notsuccess = 1\n",
    "                yy += 1\n",
    "                if ifprint:\n",
    "                    print \"yy++\"\n",
    "            elif DriftTime < EFieldMapMatrix[xx,yy,zz+1,6]:\n",
    "                notsuccess = 1\n",
    "                zz += 1\n",
    "                if ifprint:\n",
    "                    print \"zz--\"\n",
    "            elif DriftTime > EFieldMapMatrix[xx,yy,zz,6]:\n",
    "                notsuccess = 1\n",
    "                zz -= 1\n",
    "                if ifprint:\n",
    "                    print \"zz++\"\n",
    "            if xx<0 or xx >NumPlanesX-2 or yy<0 or yy >NumPlanesY-2 or zz<0 or zz >NumPlanesZ-2:\n",
    "                if ifprint:\n",
    "                    print \"(S2x =\",S2x ,\"cm, S2y =\",S2y ,\"cm, DriftTime =\",DriftTime,\"ns ) is OUT of range in the field map.\"\n",
    "                return (np.nan,np.nan,np.nan,np.nan,S2x,S2y,DriftTime,np.nan)\n",
    "            if ifprint:\n",
    "                print \"attempt\",attempt\n",
    "                print \"xx,yy,zz\",xx,yy,zz\n",
    "                print \"Not success\",notsuccess\n",
    "        if ifprint:\n",
    "            print \"attempt finished\"\n",
    "        if attempt ==0 and ifprint:\n",
    "            print \"Did not find a point in the map matches with (S2x =\",S2x ,\"cm, S2y =\",S2y ,\"cm, DriftTime =\",DriftTime,\"ns )\"\n",
    "            print \"One of the closest point is (S2x =\",EFieldMapMatrix[xx,yy,zz,4],\"cm, S2y =\",EFieldMapMatrix[xx,yy,zz,5],\"cm, DriftTime =\",EFieldMapMatrix[xx,yy,zz,6],\"ns )\"\n",
    "            print \"Check whether you are using the right field map and right S2x, S2y,S2z\",attempt\n",
    "        if xx<0 or xx >NumPlanesX-2 or yy<0 or yy >NumPlanesY-2 or zz<0 or zz >NumPlanesZ-2 or\\\n",
    "            np.isnan(EFieldMapMatrix[xx,yy,zz,3])            :\n",
    "            if ifprint:\n",
    "                print \"(S2x =\",S2x ,\"cm, S2y =\",S2y ,\"cm, DriftTime =\",DriftTime,\"ns ) is OUT of range in the field map.\"\n",
    "            return (np.nan,np.nan,np.nan,np.nan,S2x,S2y,DriftTime,np.nan)\n",
    "        def dfdx(xx,yy,zz,num):\n",
    "            dfdx = 1./4./StepSizeX*(-EFieldMapMatrix[xx,yy,zz,num]-EFieldMapMatrix[xx,yy,zz+1,num]\\\n",
    "                     -EFieldMapMatrix[xx,yy+1,zz,num]-EFieldMapMatrix[xx,yy+1,zz+1,num]\\\n",
    "                     +EFieldMapMatrix[xx+1,yy,zz,num]+EFieldMapMatrix[xx+1,yy,zz+1,num]\\\n",
    "                     +EFieldMapMatrix[xx+1,yy+1,zz,num]+EFieldMapMatrix[xx+1,yy+1,zz+1,num])\n",
    "            dfdy = 1./4./StepSizeY*(-EFieldMapMatrix[xx,yy,zz,num]-EFieldMapMatrix[xx,yy,zz+1,num]\\\n",
    "                     +EFieldMapMatrix[xx,yy+1,zz,num]+EFieldMapMatrix[xx,yy+1,zz+1,num]\\\n",
    "                     -EFieldMapMatrix[xx+1,yy,zz,num]-EFieldMapMatrix[xx+1,yy,zz+1,num]\\\n",
    "                     +EFieldMapMatrix[xx+1,yy+1,zz,num]+EFieldMapMatrix[xx+1,yy+1,zz+1,num])\n",
    "            dfdz = 1./4./StepSizeZ*(-EFieldMapMatrix[xx,yy,zz,num]+EFieldMapMatrix[xx,yy,zz+1,num]\\\n",
    "                     -EFieldMapMatrix[xx,yy+1,zz,num]+EFieldMapMatrix[xx,yy+1,zz+1,num]\\\n",
    "                     -EFieldMapMatrix[xx+1,yy,zz,num]+EFieldMapMatrix[xx+1,yy,zz+1,num]\\\n",
    "                     -EFieldMapMatrix[xx+1,yy+1,zz,num]+EFieldMapMatrix[xx+1,yy+1,zz+1,num])\n",
    "            return (dfdx,dfdy,dfdz)\n",
    "        (ds2xdx,ds2xdy,ds2xdz) = dfdx(xx,yy,zz,4)\n",
    "        (ds2ydx,ds2ydy,ds2ydz) = dfdx(xx,yy,zz,5)\n",
    "        (dtdx,dtdy,dtdz)   = dfdx(xx,yy,zz,6)\n",
    "        (xreal0,yreal0,zreal0) = (EFieldMapMatrix[xx,yy,zz,0],EFieldMapMatrix[xx,yy,zz,1],EFieldMapMatrix[xx,yy,zz,2])\n",
    "        (s2x0,s2y0,t0) = (EFieldMapMatrix[xx,yy,zz,4],EFieldMapMatrix[xx,yy,zz,5],EFieldMapMatrix[xx,yy,zz,6])\n",
    "           \n",
    "        result= sp.optimize.fmin(errorf,x0=(xreal0,yreal0,zreal0),args = ((S2x,S2y,DriftTime),(xreal0,yreal0,zreal0),(s2x0,s2y0,t0),(ds2xdx,ds2xdy,ds2xdz),(ds2ydx,ds2ydy,ds2ydz),(dtdx,dtdy,dtdz)),disp=0)\n",
    "        if ifprint:\n",
    "            print result\n",
    "        (xreal,yreal,zreal) = result\n",
    "        E = intepolation((xreal,yreal,zreal),(xreal0,yreal0,zreal0),EFieldMapMatrix[xx,yy,zz,3],dfdx(xx,yy,zz,3))\n",
    "        \n",
    "        if ifprint:\n",
    "            print \"index_x,y,z,E\",xx,yy,zz,EFieldMapMatrix[xx,yy,zz,3]\n",
    "            print xreal,yreal,zreal,E,S2x,S2y,DriftTime,EFieldMapMatrix[xx,yy,zz,7]\n",
    "\n",
    "        \n",
    "    except BaseException:\n",
    "        return (np.nan,np.nan,np.nan,np.nan,S2x,S2y,DriftTime,np.nan)\n",
    "    #return (np.nan,np.nan,np.nan,np.nan,S2x,S2y,DriftTime,np.nan)\n",
    "    return (xreal,yreal,zreal,E,S2x,S2y,DriftTime,EFieldMapMatrix[xx,yy,zz,7])"
   ]
  },
  {
   "cell_type": "code",
   "execution_count": 19,
   "metadata": {
    "collapsed": false
   },
   "outputs": [],
   "source": [
    "LoadEFieldMap = LoadXYZDependentEField(Efieldmap)"
   ]
  },
  {
   "cell_type": "code",
   "execution_count": 20,
   "metadata": {
    "collapsed": true
   },
   "outputs": [],
   "source": [
    "EFieldMapMatrix,NumxyzDependentEFieldVars,((MinLocationX,NumPlanesX,StepSizeX),(MinLocationY,NumPlanesY,StepSizeY),(MinLocationZ,NumPlanesZ,StepSizeZ))= LoadEFieldMap"
   ]
  },
  {
   "cell_type": "code",
   "execution_count": 21,
   "metadata": {
    "collapsed": false
   },
   "outputs": [
    {
     "name": "stdout",
     "output_type": "stream",
     "text": [
      "xx--\n",
      "attempt 199\n",
      "xx,yy,zz 24 25 47\n",
      "Not success 1\n",
      "xx--\n",
      "attempt 198\n",
      "xx,yy,zz 23 25 47\n",
      "Not success 1\n",
      "xx--\n",
      "attempt 197\n",
      "xx,yy,zz 22 25 47\n",
      "Not success 1\n",
      "yy--\n",
      "attempt 196\n",
      "xx,yy,zz 22 24 47\n",
      "Not success 1\n",
      "yy--\n",
      "attempt 195\n",
      "xx,yy,zz 22 23 47\n",
      "Not success 1\n",
      "yy--\n",
      "attempt 194\n",
      "xx,yy,zz 22 22 47\n",
      "Not success 1\n",
      "xx--\n",
      "attempt 193\n",
      "xx,yy,zz 21 22 47\n",
      "Not success 1\n",
      "yy--\n",
      "attempt 192\n",
      "xx,yy,zz 21 21 47\n",
      "Not success 1\n",
      "yy--\n",
      "attempt 191\n",
      "xx,yy,zz 21 20 47\n",
      "Not success 1\n",
      "xx++\n",
      "attempt 190\n",
      "xx,yy,zz 22 20 47\n",
      "Not success 1\n",
      "zz++\n",
      "attempt 189\n",
      "xx,yy,zz 22 20 46\n",
      "Not success 1\n",
      "yy++\n",
      "attempt 188\n",
      "xx,yy,zz 22 21 46\n",
      "Not success 1\n",
      "xx--\n",
      "attempt 187\n",
      "xx,yy,zz 21 21 46\n",
      "Not success 1\n",
      "yy--\n",
      "attempt 186\n",
      "xx,yy,zz 21 20 46\n",
      "Not success 1\n",
      "xx++\n",
      "attempt 185\n",
      "xx,yy,zz 22 20 46\n",
      "Not success 1\n",
      "yy++\n",
      "attempt 184\n",
      "xx,yy,zz 22 21 46\n",
      "Not success 1\n",
      "xx--\n",
      "attempt 183\n",
      "xx,yy,zz 21 21 46\n",
      "Not success 1\n",
      "yy--\n",
      "attempt 182\n",
      "xx,yy,zz 21 20 46\n",
      "Not success 1\n",
      "xx++\n",
      "attempt 181\n",
      "xx,yy,zz 22 20 46\n",
      "Not success 1\n",
      "yy++\n",
      "attempt 180\n",
      "xx,yy,zz 22 21 46\n",
      "Not success 1\n",
      "xx--\n",
      "attempt 179\n",
      "xx,yy,zz 21 21 46\n",
      "Not success 1\n",
      "yy--\n",
      "attempt 178\n",
      "xx,yy,zz 21 20 46\n",
      "Not success 1\n",
      "xx++\n",
      "attempt 177\n",
      "xx,yy,zz 22 20 46\n",
      "Not success 1\n",
      "yy++\n",
      "attempt 176\n",
      "xx,yy,zz 22 21 46\n",
      "Not success 1\n",
      "xx--\n",
      "attempt 175\n",
      "xx,yy,zz 21 21 46\n",
      "Not success 1\n",
      "yy--\n",
      "attempt 174\n",
      "xx,yy,zz 21 20 46\n",
      "Not success 1\n",
      "xx++\n",
      "attempt 173\n",
      "xx,yy,zz 22 20 46\n",
      "Not success 1\n",
      "yy++\n",
      "attempt 172\n",
      "xx,yy,zz 22 21 46\n",
      "Not success 1\n",
      "xx--\n",
      "attempt 171\n",
      "xx,yy,zz 21 21 46\n",
      "Not success 1\n",
      "yy--\n",
      "attempt 170\n",
      "xx,yy,zz 21 20 46\n",
      "Not success 1\n",
      "xx++\n",
      "attempt 169\n",
      "xx,yy,zz 22 20 46\n",
      "Not success 1\n",
      "yy++\n",
      "attempt 168\n",
      "xx,yy,zz 22 21 46\n",
      "Not success 1\n",
      "xx--\n",
      "attempt 167\n",
      "xx,yy,zz 21 21 46\n",
      "Not success 1\n",
      "yy--\n",
      "attempt 166\n",
      "xx,yy,zz 21 20 46\n",
      "Not success 1\n",
      "xx++\n",
      "attempt 165\n",
      "xx,yy,zz 22 20 46\n",
      "Not success 1\n",
      "yy++\n",
      "attempt 164\n",
      "xx,yy,zz 22 21 46\n",
      "Not success 1\n",
      "xx--\n",
      "attempt 163\n",
      "xx,yy,zz 21 21 46\n",
      "Not success 1\n",
      "yy--\n",
      "attempt 162\n",
      "xx,yy,zz 21 20 46\n",
      "Not success 1\n",
      "xx++\n",
      "attempt 161\n",
      "xx,yy,zz 22 20 46\n",
      "Not success 1\n",
      "yy++\n",
      "attempt 160\n",
      "xx,yy,zz 22 21 46\n",
      "Not success 1\n",
      "xx--\n",
      "attempt 159\n",
      "xx,yy,zz 21 21 46\n",
      "Not success 1\n",
      "yy--\n",
      "attempt 158\n",
      "xx,yy,zz 21 20 46\n",
      "Not success 1\n",
      "xx++\n",
      "attempt 157\n",
      "xx,yy,zz 22 20 46\n",
      "Not success 1\n",
      "yy++\n",
      "attempt 156\n",
      "xx,yy,zz 22 21 46\n",
      "Not success 1\n",
      "xx--\n",
      "attempt 155\n",
      "xx,yy,zz 21 21 46\n",
      "Not success 1\n",
      "yy--\n",
      "attempt 154\n",
      "xx,yy,zz 21 20 46\n",
      "Not success 1\n",
      "xx++\n",
      "attempt 153\n",
      "xx,yy,zz 22 20 46\n",
      "Not success 1\n",
      "yy++\n",
      "attempt 152\n",
      "xx,yy,zz 22 21 46\n",
      "Not success 1\n",
      "xx--\n",
      "attempt 151\n",
      "xx,yy,zz 21 21 46\n",
      "Not success 1\n",
      "yy--\n",
      "attempt 150\n",
      "xx,yy,zz 21 20 46\n",
      "Not success 1\n",
      "xx++\n",
      "attempt 149\n",
      "xx,yy,zz 22 20 46\n",
      "Not success 1\n",
      "yy++\n",
      "attempt 148\n",
      "xx,yy,zz 22 21 46\n",
      "Not success 1\n",
      "xx--\n",
      "attempt 147\n",
      "xx,yy,zz 21 21 46\n",
      "Not success 1\n",
      "yy--\n",
      "attempt 146\n",
      "xx,yy,zz 21 20 46\n",
      "Not success 1\n",
      "xx++\n",
      "attempt 145\n",
      "xx,yy,zz 22 20 46\n",
      "Not success 1\n",
      "yy++\n",
      "attempt 144\n",
      "xx,yy,zz 22 21 46\n",
      "Not success 1\n",
      "xx--\n",
      "attempt 143\n",
      "xx,yy,zz 21 21 46\n",
      "Not success 1\n",
      "yy--\n",
      "attempt 142\n",
      "xx,yy,zz 21 20 46\n",
      "Not success 1\n",
      "xx++\n",
      "attempt 141\n",
      "xx,yy,zz 22 20 46\n",
      "Not success 1\n",
      "yy++\n",
      "attempt 140\n",
      "xx,yy,zz 22 21 46\n",
      "Not success 1\n",
      "xx--\n",
      "attempt 139\n",
      "xx,yy,zz 21 21 46\n",
      "Not success 1\n",
      "yy--\n",
      "attempt 138\n",
      "xx,yy,zz 21 20 46\n",
      "Not success 1\n",
      "xx++\n",
      "attempt 137\n",
      "xx,yy,zz 22 20 46\n",
      "Not success 1\n",
      "yy++\n",
      "attempt 136\n",
      "xx,yy,zz 22 21 46\n",
      "Not success 1\n",
      "xx--\n",
      "attempt 135\n",
      "xx,yy,zz 21 21 46\n",
      "Not success 1\n",
      "yy--\n",
      "attempt 134\n",
      "xx,yy,zz 21 20 46\n",
      "Not success 1\n",
      "xx++\n",
      "attempt 133\n",
      "xx,yy,zz 22 20 46\n",
      "Not success 1\n",
      "yy++\n",
      "attempt 132\n",
      "xx,yy,zz 22 21 46\n",
      "Not success 1\n",
      "xx--\n",
      "attempt 131\n",
      "xx,yy,zz 21 21 46\n",
      "Not success 1\n",
      "yy--\n",
      "attempt 130\n",
      "xx,yy,zz 21 20 46\n",
      "Not success 1\n",
      "xx++\n",
      "attempt 129\n",
      "xx,yy,zz 22 20 46\n",
      "Not success 1\n",
      "yy++\n",
      "attempt 128\n",
      "xx,yy,zz 22 21 46\n",
      "Not success 1\n",
      "xx--\n",
      "attempt 127\n",
      "xx,yy,zz 21 21 46\n",
      "Not success 1\n",
      "yy--\n",
      "attempt 126\n",
      "xx,yy,zz 21 20 46\n",
      "Not success 1\n",
      "xx++\n",
      "attempt 125\n",
      "xx,yy,zz 22 20 46\n",
      "Not success 1\n",
      "yy++\n",
      "attempt 124\n",
      "xx,yy,zz 22 21 46\n",
      "Not success 1\n",
      "xx--\n",
      "attempt 123\n",
      "xx,yy,zz 21 21 46\n",
      "Not success 1\n",
      "yy--\n",
      "attempt 122\n",
      "xx,yy,zz 21 20 46\n",
      "Not success 1\n",
      "xx++\n",
      "attempt 121\n",
      "xx,yy,zz 22 20 46\n",
      "Not success 1\n",
      "yy++\n",
      "attempt 120\n",
      "xx,yy,zz 22 21 46\n",
      "Not success 1\n",
      "xx--\n",
      "attempt 119\n",
      "xx,yy,zz 21 21 46\n",
      "Not success 1\n",
      "yy--\n",
      "attempt 118\n",
      "xx,yy,zz 21 20 46\n",
      "Not success 1\n",
      "xx++\n",
      "attempt 117\n",
      "xx,yy,zz 22 20 46\n",
      "Not success 1\n",
      "yy++\n",
      "attempt 116\n",
      "xx,yy,zz 22 21 46\n",
      "Not success 1\n",
      "xx--\n",
      "attempt 115\n",
      "xx,yy,zz 21 21 46\n",
      "Not success 1\n",
      "yy--\n",
      "attempt 114\n",
      "xx,yy,zz 21 20 46\n",
      "Not success 1\n",
      "xx++\n",
      "attempt 113\n",
      "xx,yy,zz 22 20 46\n",
      "Not success 1\n",
      "yy++\n",
      "attempt 112\n",
      "xx,yy,zz 22 21 46\n",
      "Not success 1\n",
      "xx--\n",
      "attempt 111\n",
      "xx,yy,zz 21 21 46\n",
      "Not success 1\n",
      "yy--\n",
      "attempt 110\n",
      "xx,yy,zz 21 20 46\n",
      "Not success 1\n",
      "xx++\n",
      "attempt 109\n",
      "xx,yy,zz 22 20 46\n",
      "Not success 1\n",
      "yy++\n",
      "attempt 108\n",
      "xx,yy,zz 22 21 46\n",
      "Not success 1\n",
      "xx--\n",
      "attempt 107\n",
      "xx,yy,zz 21 21 46\n",
      "Not success 1\n",
      "yy--\n",
      "attempt 106\n",
      "xx,yy,zz 21 20 46\n",
      "Not success 1\n",
      "xx++\n",
      "attempt 105\n",
      "xx,yy,zz 22 20 46\n",
      "Not success 1\n",
      "yy++\n",
      "attempt 104\n",
      "xx,yy,zz 22 21 46\n",
      "Not success 1\n",
      "xx--\n",
      "attempt 103\n",
      "xx,yy,zz 21 21 46\n",
      "Not success 1\n",
      "yy--\n",
      "attempt 102\n",
      "xx,yy,zz 21 20 46\n",
      "Not success 1\n",
      "xx++\n",
      "attempt 101\n",
      "xx,yy,zz 22 20 46\n",
      "Not success 1\n",
      "yy++\n",
      "attempt 100\n",
      "xx,yy,zz 22 21 46\n",
      "Not success 1\n",
      "xx--\n",
      "attempt 99\n",
      "xx,yy,zz 21 21 46\n",
      "Not success 1\n",
      "yy--\n",
      "attempt 98\n",
      "xx,yy,zz 21 20 46\n",
      "Not success 1\n",
      "xx++\n",
      "attempt 97\n",
      "xx,yy,zz 22 20 46\n",
      "Not success 1\n",
      "yy++\n",
      "attempt 96\n",
      "xx,yy,zz 22 21 46\n",
      "Not success 1\n",
      "xx--\n",
      "attempt 95\n",
      "xx,yy,zz 21 21 46\n",
      "Not success 1\n",
      "yy--\n",
      "attempt 94\n",
      "xx,yy,zz 21 20 46\n",
      "Not success 1\n",
      "xx++\n",
      "attempt 93\n",
      "xx,yy,zz 22 20 46\n",
      "Not success 1\n",
      "yy++\n",
      "attempt 92\n",
      "xx,yy,zz 22 21 46\n",
      "Not success 1\n",
      "xx--\n",
      "attempt 91\n",
      "xx,yy,zz 21 21 46\n",
      "Not success 1\n",
      "yy--\n",
      "attempt 90\n",
      "xx,yy,zz 21 20 46\n",
      "Not success 1\n",
      "xx++\n",
      "attempt 89\n",
      "xx,yy,zz 22 20 46\n",
      "Not success 1\n",
      "yy++\n",
      "attempt 88\n",
      "xx,yy,zz 22 21 46\n",
      "Not success 1\n",
      "xx--\n",
      "attempt 87\n",
      "xx,yy,zz 21 21 46\n",
      "Not success 1\n",
      "yy--\n",
      "attempt 86\n",
      "xx,yy,zz 21 20 46\n",
      "Not success 1\n",
      "xx++\n",
      "attempt 85\n",
      "xx,yy,zz 22 20 46\n",
      "Not success 1\n",
      "yy++\n",
      "attempt 84\n",
      "xx,yy,zz 22 21 46\n",
      "Not success 1\n",
      "xx--\n",
      "attempt 83\n",
      "xx,yy,zz 21 21 46\n",
      "Not success 1\n",
      "yy--\n",
      "attempt 82\n",
      "xx,yy,zz 21 20 46\n",
      "Not success 1\n",
      "xx++\n",
      "attempt 81\n",
      "xx,yy,zz 22 20 46\n",
      "Not success 1\n",
      "yy++\n",
      "attempt 80\n",
      "xx,yy,zz 22 21 46\n",
      "Not success 1\n",
      "xx--\n",
      "attempt 79\n",
      "xx,yy,zz 21 21 46\n",
      "Not success 1\n",
      "yy--\n",
      "attempt 78\n",
      "xx,yy,zz 21 20 46\n",
      "Not success 1\n",
      "xx++\n",
      "attempt 77\n",
      "xx,yy,zz 22 20 46\n",
      "Not success 1\n",
      "yy++\n",
      "attempt 76\n",
      "xx,yy,zz 22 21 46\n",
      "Not success 1\n",
      "xx--\n",
      "attempt 75\n",
      "xx,yy,zz 21 21 46\n",
      "Not success 1\n",
      "yy--\n",
      "attempt 74\n",
      "xx,yy,zz 21 20 46\n",
      "Not success 1\n",
      "xx++\n",
      "attempt 73\n",
      "xx,yy,zz 22 20 46\n",
      "Not success 1\n",
      "yy++\n",
      "attempt 72\n",
      "xx,yy,zz 22 21 46\n",
      "Not success 1\n",
      "xx--\n",
      "attempt 71\n",
      "xx,yy,zz 21 21 46\n",
      "Not success 1\n",
      "yy--\n",
      "attempt 70\n",
      "xx,yy,zz 21 20 46\n",
      "Not success 1\n",
      "xx++\n",
      "attempt 69\n",
      "xx,yy,zz 22 20 46\n",
      "Not success 1\n",
      "yy++\n",
      "attempt 68\n",
      "xx,yy,zz 22 21 46\n",
      "Not success 1\n",
      "xx--\n",
      "attempt 67\n",
      "xx,yy,zz 21 21 46\n",
      "Not success 1\n",
      "yy--\n",
      "attempt 66\n",
      "xx,yy,zz 21 20 46\n",
      "Not success 1\n",
      "xx++\n",
      "attempt 65\n",
      "xx,yy,zz 22 20 46\n",
      "Not success 1\n",
      "yy++\n",
      "attempt 64\n",
      "xx,yy,zz 22 21 46\n",
      "Not success 1\n",
      "xx--\n",
      "attempt 63\n",
      "xx,yy,zz 21 21 46\n",
      "Not success 1\n",
      "yy--\n",
      "attempt 62\n",
      "xx,yy,zz 21 20 46\n",
      "Not success 1\n",
      "xx++\n",
      "attempt 61\n",
      "xx,yy,zz 22 20 46\n",
      "Not success 1\n",
      "yy++\n",
      "attempt 60\n",
      "xx,yy,zz 22 21 46\n",
      "Not success 1\n",
      "xx--\n",
      "attempt 59\n",
      "xx,yy,zz 21 21 46\n",
      "Not success 1\n",
      "yy--\n",
      "attempt 58\n",
      "xx,yy,zz 21 20 46\n",
      "Not success 1\n",
      "xx++\n",
      "attempt 57\n",
      "xx,yy,zz 22 20 46\n",
      "Not success 1\n",
      "yy++\n",
      "attempt 56\n",
      "xx,yy,zz 22 21 46\n",
      "Not success 1\n",
      "xx--\n",
      "attempt 55\n",
      "xx,yy,zz 21 21 46\n",
      "Not success 1\n",
      "yy--\n",
      "attempt 54\n",
      "xx,yy,zz 21 20 46\n",
      "Not success 1\n",
      "xx++\n",
      "attempt 53\n",
      "xx,yy,zz 22 20 46\n",
      "Not success 1\n",
      "yy++\n",
      "attempt 52\n",
      "xx,yy,zz 22 21 46\n",
      "Not success 1\n",
      "xx--\n",
      "attempt 51\n",
      "xx,yy,zz 21 21 46\n",
      "Not success 1\n",
      "yy--\n",
      "attempt 50\n",
      "xx,yy,zz 21 20 46\n",
      "Not success 1\n",
      "xx++\n",
      "attempt 49\n",
      "xx,yy,zz 22 20 46\n",
      "Not success 1\n",
      "yy++\n",
      "attempt 48\n",
      "xx,yy,zz 22 21 46\n",
      "Not success 1\n",
      "xx--\n",
      "attempt 47\n",
      "xx,yy,zz 21 21 46\n",
      "Not success 1\n",
      "yy--\n",
      "attempt 46\n",
      "xx,yy,zz 21 20 46\n",
      "Not success 1\n",
      "xx++\n",
      "attempt 45\n",
      "xx,yy,zz 22 20 46\n",
      "Not success 1\n",
      "yy++\n",
      "attempt 44\n",
      "xx,yy,zz 22 21 46\n",
      "Not success 1\n",
      "xx--\n",
      "attempt 43\n",
      "xx,yy,zz 21 21 46\n",
      "Not success 1\n",
      "yy--\n",
      "attempt 42\n",
      "xx,yy,zz 21 20 46\n",
      "Not success 1\n",
      "xx++\n",
      "attempt 41\n",
      "xx,yy,zz 22 20 46\n",
      "Not success 1\n",
      "yy++\n",
      "attempt 40\n",
      "xx,yy,zz 22 21 46\n",
      "Not success 1\n",
      "xx--\n",
      "attempt 39\n",
      "xx,yy,zz 21 21 46\n",
      "Not success 1\n",
      "yy--\n",
      "attempt 38\n",
      "xx,yy,zz 21 20 46\n",
      "Not success 1\n",
      "xx++\n",
      "attempt 37\n",
      "xx,yy,zz 22 20 46\n",
      "Not success 1\n",
      "yy++\n",
      "attempt 36\n",
      "xx,yy,zz 22 21 46\n",
      "Not success 1\n",
      "xx--\n",
      "attempt 35\n",
      "xx,yy,zz 21 21 46\n",
      "Not success 1\n",
      "yy--\n",
      "attempt 34\n",
      "xx,yy,zz 21 20 46\n",
      "Not success 1\n",
      "xx++\n",
      "attempt 33\n",
      "xx,yy,zz 22 20 46\n",
      "Not success 1\n",
      "yy++\n",
      "attempt 32\n",
      "xx,yy,zz 22 21 46\n",
      "Not success 1\n",
      "xx--\n",
      "attempt 31\n",
      "xx,yy,zz 21 21 46\n",
      "Not success 1\n",
      "yy--\n",
      "attempt 30\n",
      "xx,yy,zz 21 20 46\n",
      "Not success 1\n",
      "xx++\n",
      "attempt 29\n",
      "xx,yy,zz 22 20 46\n",
      "Not success 1\n",
      "yy++\n",
      "attempt 28\n",
      "xx,yy,zz 22 21 46\n",
      "Not success 1\n",
      "xx--\n",
      "attempt 27\n",
      "xx,yy,zz 21 21 46\n",
      "Not success 1\n",
      "yy--\n",
      "attempt 26\n",
      "xx,yy,zz 21 20 46\n",
      "Not success 1\n",
      "xx++\n",
      "attempt 25\n",
      "xx,yy,zz 22 20 46\n",
      "Not success 1\n",
      "yy++\n",
      "attempt 24\n",
      "xx,yy,zz 22 21 46\n",
      "Not success 1\n",
      "xx--\n",
      "attempt 23\n",
      "xx,yy,zz 21 21 46\n",
      "Not success 1\n",
      "yy--\n",
      "attempt 22\n",
      "xx,yy,zz 21 20 46\n",
      "Not success 1\n",
      "xx++\n",
      "attempt 21\n",
      "xx,yy,zz 22 20 46\n",
      "Not success 1\n",
      "yy++\n",
      "attempt 20\n",
      "xx,yy,zz 22 21 46\n",
      "Not success 1\n",
      "xx--\n",
      "attempt 19\n",
      "xx,yy,zz 21 21 46\n",
      "Not success 1\n",
      "yy--\n",
      "attempt 18\n",
      "xx,yy,zz 21 20 46\n",
      "Not success 1\n",
      "xx++\n",
      "attempt 17\n",
      "xx,yy,zz 22 20 46\n",
      "Not success 1\n",
      "yy++\n",
      "attempt 16\n",
      "xx,yy,zz 22 21 46\n",
      "Not success 1\n",
      "xx--\n",
      "attempt 15\n",
      "xx,yy,zz 21 21 46\n",
      "Not success 1\n",
      "yy--\n",
      "attempt 14\n",
      "xx,yy,zz 21 20 46\n",
      "Not success 1\n",
      "xx++\n",
      "attempt 13\n",
      "xx,yy,zz 22 20 46\n",
      "Not success 1\n",
      "yy++\n",
      "attempt 12\n",
      "xx,yy,zz 22 21 46\n",
      "Not success 1\n",
      "xx--\n",
      "attempt 11\n",
      "xx,yy,zz 21 21 46\n",
      "Not success 1\n",
      "yy--\n",
      "attempt 10\n",
      "xx,yy,zz 21 20 46\n",
      "Not success 1\n",
      "xx++\n",
      "attempt 9\n",
      "xx,yy,zz 22 20 46\n",
      "Not success 1\n",
      "yy++\n",
      "attempt 8\n",
      "xx,yy,zz 22 21 46\n",
      "Not success 1\n",
      "xx--\n",
      "attempt 7\n",
      "xx,yy,zz 21 21 46\n",
      "Not success 1\n",
      "yy--\n",
      "attempt 6\n",
      "xx,yy,zz 21 20 46\n",
      "Not success 1\n",
      "xx++\n",
      "attempt 5\n",
      "xx,yy,zz 22 20 46\n",
      "Not success 1\n",
      "yy++\n",
      "attempt 4\n",
      "xx,yy,zz 22 21 46\n",
      "Not success 1\n",
      "xx--\n",
      "attempt 3\n",
      "xx,yy,zz 21 21 46\n",
      "Not success 1\n",
      "yy--\n",
      "attempt 2\n",
      "xx,yy,zz 21 20 46\n",
      "Not success 1\n",
      "xx++\n",
      "attempt 1\n",
      "xx,yy,zz 22 20 46\n",
      "Not success 1\n",
      "yy++\n",
      "attempt 0\n",
      "xx,yy,zz 22 21 46\n",
      "Not success 1\n",
      "attempt finished\n",
      "Did not find a point in the map matches with (S2x = -2 cm, S2y = -3 cm, DriftTime = 255 ns )\n",
      "One of the closest point is (S2x = -1.99 cm, S2y = -3.008 cm, DriftTime = 10.0 ns )\n",
      "Check whether you are using the right field map and right S2x, S2y,S2z 0\n",
      "[-2.25319204 -2.52073111  2.79999697]\n",
      "index_x,y,z,E 22 21 46 41198.097\n",
      "-2.25319204139 -2.52073110926 2.799996966 -3354591.44104 -2 -3 255 1.0\n"
     ]
    },
    {
     "data": {
      "text/plain": [
       "(-2.2531920413873125,\n",
       " -2.5207311092611118,\n",
       " 2.7999969659998634,\n",
       " -3354591.4410441644,\n",
       " -2,\n",
       " -3,\n",
       " 255,\n",
       " 1.0)"
      ]
     },
     "execution_count": 21,
     "metadata": {},
     "output_type": "execute_result"
    }
   ],
   "source": [
    "GetXYZFromXYZS2TDependentElectricField((-2,-3,255),LoadEFieldMap,ifprint=1)\n"
   ]
  },
  {
   "cell_type": "code",
   "execution_count": 22,
   "metadata": {
    "collapsed": false
   },
   "outputs": [
    {
     "data": {
      "text/plain": [
       "array([ -2.00000000e+00,  -4.00000000e+00,   5.18000000e+01,\n",
       "         4.15144840e+04,  -2.00100000e+00,  -3.98400000e+00,\n",
       "         1.00000000e+01,   1.00000000e+00])"
      ]
     },
     "execution_count": 22,
     "metadata": {},
     "output_type": "execute_result"
    }
   ],
   "source": [
    "EFieldMapMatrix[22][20][46]"
   ]
  },
  {
   "cell_type": "code",
   "execution_count": 23,
   "metadata": {
    "collapsed": false
   },
   "outputs": [
    {
     "data": {
      "text/plain": [
       "array([ -2.00000000e+00,  -3.00000000e+00,   5.18000000e+01,\n",
       "         4.11980970e+04,  -1.99000000e+00,  -3.00800000e+00,\n",
       "         1.00000000e+01,   1.00000000e+00])"
      ]
     },
     "execution_count": 23,
     "metadata": {},
     "output_type": "execute_result"
    }
   ],
   "source": [
    "EFieldMapMatrix[22][21][46]"
   ]
  },
  {
   "cell_type": "code",
   "execution_count": 24,
   "metadata": {
    "collapsed": false
   },
   "outputs": [
    {
     "data": {
      "text/plain": [
       "array([ -3.00000000e+00,  -3.00000000e+00,   5.18000000e+01,\n",
       "         4.11980970e+04,  -2.99100000e+00,  -2.99600000e+00,\n",
       "         1.00000000e+01,   1.00000000e+00])"
      ]
     },
     "execution_count": 24,
     "metadata": {},
     "output_type": "execute_result"
    }
   ],
   "source": [
    "EFieldMapMatrix[21][21][46]"
   ]
  },
  {
   "cell_type": "code",
   "execution_count": 25,
   "metadata": {
    "collapsed": false
   },
   "outputs": [
    {
     "data": {
      "text/plain": [
       "array([ -3.00000000e+00,  -4.00000000e+00,   5.18000000e+01,\n",
       "         4.15510890e+04,  -2.99500000e+00,  -3.99100000e+00,\n",
       "         1.00000000e+01,   1.00000000e+00])"
      ]
     },
     "execution_count": 25,
     "metadata": {},
     "output_type": "execute_result"
    }
   ],
   "source": [
    "EFieldMapMatrix[21][20][46]"
   ]
  },
  {
   "cell_type": "code",
   "execution_count": 26,
   "metadata": {
    "collapsed": false
   },
   "outputs": [],
   "source": [
    "#GetXYZDependentElectricField((raw_x_ts4[2],raw_x_ts4[2],drift_time_ts4[2]),LoadEFieldMap,ifprint=1)\n",
    "#print raw_x_ts4[2],raw_x_ts4[2],drift_time_ts4[2]"
   ]
  },
  {
   "cell_type": "code",
   "execution_count": 27,
   "metadata": {
    "collapsed": true
   },
   "outputs": [],
   "source": [
    "mask_S1_ts4 = (ts4.pulse_classification==1)&(ts4.s1s2_pairing==1)\n",
    "mask_S2_ts4 = (ts4.pulse_classification==2)&(ts4.s1s2_pairing==1)"
   ]
  },
  {
   "cell_type": "code",
   "execution_count": 28,
   "metadata": {
    "collapsed": true
   },
   "outputs": [],
   "source": [
    "S1_ts4 = (ts4.xyz_corrected_pulse_area_all_phe*mask_S1_ts4).sum(0)\n",
    "S2_ts4 = (ts4.xyz_corrected_pulse_area_all_phe*mask_S2_ts4).sum(0)"
   ]
  },
  {
   "cell_type": "code",
   "execution_count": 29,
   "metadata": {
    "collapsed": false
   },
   "outputs": [],
   "source": [
    "raw_x_ts4 = (ts4.x_cm*mask_S2_ts4).sum(0) #this is ok since i have verified there is only\n",
    "raw_y_ts4 = (ts4.y_cm*mask_S2_ts4).sum(0) #one S2 in each event that has made it through cuts\n",
    "raw_x_del_ts4 = (ts4.x_cm_del*mask_S2_ts4).sum(0) #this is ok since i have verified there is only\n",
    "raw_y_del_ts4 = (ts4.y_cm_del*mask_S2_ts4).sum(0) #one S2 in each event that has made it through cuts\n",
    "drift_time_ts4 = (ts4.z_drift_samples*mask_S2_ts4).sum(0)/100.\n",
    "negative_drift_time_ts4 = [0-a for a in drift_time_ts4]\n",
    "raw_r_ts4 = (raw_x_ts4**2 + raw_y_ts4**2)**(1./2)# mask out only tritium_energies this is a mask on an entire event not a pulse\n",
    "# possibly add a radial cut\n",
    "# possibly add a drift time cut\n",
    "mask_tritium_energy_ts4 = (np.log10(S1_ts4)<2.5)&(np.log10(S2_ts4)<5.0)&(3.1<np.log10(S2_ts4))&(6.1>np.log10(S2_ts4)+np.log10(S1_ts4))\n",
    "tS1_ts4 = []\n",
    "tS2_ts4 = []\n",
    "traw_x_ts4 = []\n",
    "traw_y_ts4 = []\n",
    "traw_r_ts4 = []\n",
    "tdrift_time_ts4 = []\n",
    "x_del_ts4=[]\n",
    "y_del_ts4=[]\n",
    "for aa in range(len(mask_tritium_energy_ts4)):\n",
    "    if mask_tritium_energy_ts4[aa] == True:\n",
    "        tS1_ts4.append(S1_ts4[aa])\n",
    "        tS2_ts4.append(S2_ts4[aa])\n",
    "        traw_x_ts4.append(raw_x_ts4[aa])\n",
    "        traw_y_ts4.append(raw_y_ts4[aa])\n",
    "        traw_r_ts4.append(raw_r_ts4[aa])\n",
    "        tdrift_time_ts4.append(drift_time_ts4[aa])\n",
    "        x_del_ts4.append(raw_x_del_ts4[aa])\n",
    "        y_del_ts4.append(raw_y_del_ts4[aa])\n",
    "S1_t_ts4 = np.array(tS1_ts4)\n",
    "S2_t_ts4 = np.array(tS2_ts4)\n",
    "raw_x_t_ts4 = np.array(traw_x_ts4)\n",
    "raw_y_t_ts4 = np.array(traw_y_ts4)\n",
    "raw_r_t_ts4 = np.array(traw_r_ts4)\n",
    "drift_time_t_ts4 = np.array(tdrift_time_ts4)\n",
    "negative_drift_time_t_ts4 = [0-a for a in drift_time_t_ts4]\n",
    "x_del_ts4 = np.array(x_del_ts4)\n",
    "y_del_ts4 = np.array(y_del_ts4)"
   ]
  },
  {
   "cell_type": "code",
   "execution_count": 30,
   "metadata": {
    "collapsed": true
   },
   "outputs": [],
   "source": [
    "# G1 is .104 according to Richard's presentation for Sept 2014\n",
    "# G2 is 19.15\n",
    "g1_s4 = 0.104\n",
    "g2_s4 = 19.15\n",
    "W = 13.7/1000\n",
    "\n",
    "S1_energy_t_ts4 = W*S1_t_ts4/g1_s4\n",
    "S2_energy_t_ts4 = W*S2_t_ts4/g2_s4\n",
    "Combined_energy_t_ts4 = S1_energy_t_ts4 + S2_energy_t_ts4"
   ]
  },
  {
   "cell_type": "code",
   "execution_count": 31,
   "metadata": {
    "collapsed": false
   },
   "outputs": [],
   "source": [
    "Efield_ts4=[]\n",
    "for ii in xrange(len(x_del_ts4)):\n",
    "    Efield_ts4.append(GetXYZDependentElectricField((x_del_ts4[ii],y_del_ts4[ii],drift_time_t_ts4[ii]),LoadEFieldMap))\n",
    "Efield_ts4= np.array(Efield_ts4)"
   ]
  },
  {
   "cell_type": "code",
   "execution_count": 32,
   "metadata": {
    "collapsed": true
   },
   "outputs": [],
   "source": [
    "WantToSleep = 1"
   ]
  },
  {
   "cell_type": "code",
   "execution_count": 33,
   "metadata": {
    "collapsed": false
   },
   "outputs": [],
   "source": [
    "if(WantToSleep):\n",
    "    Efield_s2_ts4=[]\n",
    "    x_real_s2_ts4=[]\n",
    "    y_real_s2_ts4=[]\n",
    "    z_real_s2_ts4=[]\n",
    "    for ii in xrange(len(raw_x_t_ts4)):\n",
    "        temp =  GetXYZFromXYZS2TDependentElectricField((raw_x_t_ts4[ii],raw_y_t_ts4[ii],drift_time_t_ts4[ii]),LoadEFieldMap)\n",
    "        x_real_s2_ts4.append(temp[0])\n",
    "        y_real_s2_ts4.append(temp[1])\n",
    "        z_real_s2_ts4.append(temp[2])\n",
    "        Efield_s2_ts4.append(temp[3])\n",
    "    Efield_s2_ts4= np.array(Efield_s2_ts4)\n",
    "    x_real_s2_ts4= np.array(x_real_s2_ts4)\n",
    "    y_real_s2_ts4= np.array(y_real_s2_ts4)\n",
    "    z_real_s2_ts4= np.array(z_real_s2_ts4)"
   ]
  },
  {
   "cell_type": "code",
   "execution_count": 34,
   "metadata": {
    "collapsed": false
   },
   "outputs": [
    {
     "data": {
      "text/plain": [
       "6117"
      ]
     },
     "execution_count": 34,
     "metadata": {},
     "output_type": "execute_result"
    }
   ],
   "source": [
    "len(S1_t_ts4)"
   ]
  },
  {
   "cell_type": "code",
   "execution_count": 35,
   "metadata": {
    "collapsed": false
   },
   "outputs": [
    {
     "data": {
      "text/plain": [
       "array([  34335.58173655,   42019.1698105 ,   25039.602     , ...,\n",
       "         34171.21386413,  215502.05061983,  194845.16771452])"
      ]
     },
     "execution_count": 35,
     "metadata": {},
     "output_type": "execute_result"
    }
   ],
   "source": [
    "Efield_s2_ts4"
   ]
  },
  {
   "cell_type": "code",
   "execution_count": 36,
   "metadata": {
    "collapsed": false
   },
   "outputs": [],
   "source": [
    "mask_S1_ss4 = (ss4.pulse_classification==1)&(ss4.s1s2_pairing==1)\n",
    "mask_S2_ss4 = (ss4.pulse_classification==2)&(ss4.s1s2_pairing==1)"
   ]
  },
  {
   "cell_type": "code",
   "execution_count": 37,
   "metadata": {
    "collapsed": true
   },
   "outputs": [],
   "source": [
    "S1_ss4 = (ss4.xyz_corrected_pulse_area_all_phe*mask_S1_ss4).sum(0)\n",
    "S2_ss4 = (ss4.xyz_corrected_pulse_area_all_phe*mask_S2_ss4).sum(0)"
   ]
  },
  {
   "cell_type": "code",
   "execution_count": 38,
   "metadata": {
    "collapsed": false
   },
   "outputs": [],
   "source": [
    "raw_x_ss4 = (ss4.x_cm*mask_S2_ss4).sum(0) #this is ok since i have verified there is only\n",
    "raw_y_ss4 = (ss4.y_cm*mask_S2_ss4).sum(0) #one S2 in each event that has made it through cuts\n",
    "drift_time_ss4 = (ss4.z_drift_samples*mask_S2_ss4).sum(0)/100.\n",
    "negative_drift_time_ss4 = [0-a for a in drift_time_ss4]\n",
    "raw_r_ss4 = (raw_x_ss4**2 + raw_y_ss4**2)**(1./2)\n",
    "#x_del_ss4 = (ss4.x_cm_del*mask_S2_ss4).sum(0)\n",
    "#y_del_ss4 = (ss4.y_cm_del*mask_S2_ss4).sum(0)\n",
    "negative_drift_time_ss4 = [0-a for a in drift_time_ss4]\n",
    "raw_r_ss4 = (raw_x_ss4**2 + raw_y_ss4**2)**(1./2)# mask out only tritium_energies this is a mask on an entire event not a pulse\n",
    "# possibly add a radial cut\n",
    "# possibly add a drift time cut\n",
    "mask_tritium_energy_ss4 = (np.log10(S1_ss4)<2.5)&(np.log10(S2_ss4)<5.0)&(3.1<np.log10(S2_ss4))&(6.1>np.log10(S2_ss4)+np.log10(S1_ss4))\n",
    "tS1_ss4 = []\n",
    "tS2_ss4 = []\n",
    "traw_x_ss4 = []\n",
    "traw_y_ss4 = []\n",
    "traw_r_ss4 = []\n",
    "tdrift_time_ss4 = []\n",
    "x_del_ss4=[]\n",
    "y_del_ss4=[]\n",
    "for aa in range(len(mask_tritium_energy_ss4)):\n",
    "    if mask_tritium_energy_ss4[aa] == True:\n",
    "        tS1_ss4.append(S1_ss4[aa])\n",
    "        tS2_ss4.append(S2_ss4[aa])\n",
    "        traw_x_ss4.append(raw_x_ss4[aa])\n",
    "        traw_y_ss4.append(raw_y_ss4[aa])\n",
    "        traw_r_ss4.append(raw_r_ss4[aa])\n",
    "        tdrift_time_ss4.append(drift_time_ss4[aa])\n",
    "       # x_del_ss4.append(raw_x_del_ss4[aa])\n",
    "       # y_del_ss4.append(raw_y_del_ss4[aa])\n",
    "S1_t_ss4 = np.array(tS1_ss4)\n",
    "S2_t_ss4 = np.array(tS2_ss4)\n",
    "raw_x_t_ss4 = np.array(traw_x_ss4)\n",
    "raw_y_t_ss4 = np.array(traw_y_ss4)\n",
    "raw_r_t_ss4 = np.array(traw_r_ss4)\n",
    "drift_time_t_ss4 = np.array(tdrift_time_ss4)\n",
    "negative_drift_time_t_ss4 = [0-a for a in drift_time_t_ss4]\n",
    "x_del_ss4 = np.array(x_del_ss4)\n",
    "y_del_ss4 = np.array(y_del_ss4)"
   ]
  },
  {
   "cell_type": "code",
   "execution_count": 39,
   "metadata": {
    "collapsed": true
   },
   "outputs": [],
   "source": [
    "S1_energy_t_ss4 = W*S1_t_ss4/g1_s4\n",
    "S2_energy_t_ss4 = W*S2_t_ss4/g2_s4\n",
    "Combined_energy_t_ss4 = S1_energy_t_ss4 + S2_energy_t_ss4"
   ]
  },
  {
   "cell_type": "code",
   "execution_count": 40,
   "metadata": {
    "collapsed": false
   },
   "outputs": [],
   "source": [
    "Efield_t_ss4=[]\n",
    "for ii in xrange(len(raw_x_t_ss4)):\n",
    "    try:\n",
    "        Efield_t_ss4.append(GetXYZDependentElectricField((raw_x_t_ss4[ii],raw_y_t_ss4[ii],drift_time_t_ss4[ii]),LoadEFieldMap))\n",
    "    except SyntaxError:\n",
    "        print error\n",
    "Efield_t_ss4= np.array(Efield_t_ss4)"
   ]
  },
  {
   "cell_type": "code",
   "execution_count": null,
   "metadata": {
    "collapsed": false
   },
   "outputs": [
    {
     "data": {
      "text/plain": [
       "(6.8083115, 1.4315882, 228.52000000000001)"
      ]
     },
     "execution_count": 41,
     "metadata": {},
     "output_type": "execute_result"
    }
   ],
   "source": [
    "raw_x_ss4[3256],raw_y_ss4[3256],drift_time_ss4[3256]"
   ]
  },
  {
   "cell_type": "code",
   "execution_count": null,
   "metadata": {
    "collapsed": false
   },
   "outputs": [],
   "source": [
    "if(WantToSleep ):\n",
    "    Efield_s2_ss4=[]\n",
    "    x_real_s2_ss4=[]\n",
    "    y_real_s2_ss4=[]\n",
    "    z_real_s2_ss4=[]\n",
    "    for ii in xrange(len(raw_x_ss4)):\n",
    "        temp = GetXYZFromXYZS2TDependentElectricField((raw_x_ss4[ii],raw_y_ss4[ii],drift_time_ss4[ii]),LoadEFieldMap)\n",
    "        x_real_s2_ss4.append(temp[0])\n",
    "        y_real_s2_ss4.append(temp[1])\n",
    "        z_real_s2_ss4.append(temp[2])\n",
    "        Efield_s2_ss4.append(temp[3])\n",
    "    Efield_s2_ss4= np.array(Efield_s2_ss4)\n",
    "    x_real_s2_ss4= np.array(x_real_s2_ss4)\n",
    "    y_real_s2_ss4= np.array(y_real_s2_ss4)\n",
    "    z_real_s2_ss4= np.array(z_real_s2_ss4)"
   ]
  },
  {
   "cell_type": "code",
   "execution_count": null,
   "metadata": {
    "collapsed": false
   },
   "outputs": [],
   "source": [
    "len(ss4)"
   ]
  },
  {
   "cell_type": "code",
   "execution_count": null,
   "metadata": {
    "collapsed": true
   },
   "outputs": [],
   "source": [
    "WantToSleep = 0"
   ]
  },
  {
   "cell_type": "code",
   "execution_count": null,
   "metadata": {
    "collapsed": false
   },
   "outputs": [],
   "source": [
    "# S2 vs S1\n",
    "plt.figure(10)\n",
    "plt.hist2d(np.log10(S1_ts4),np.log10(S2_ts4),range=[[1,5],[1,6.5]],bins=(100,100),norm=LogNorm())\n",
    "(mu,sigma,log10xlist)=bandfit(np.log10(S1_ts4),np.log10(S2_ts4),range=[[1,5],[1,6.5]],bins=(50,100),)\n",
    "plt.plot(log10xlist,mu,lw=4, color=\"k\")\n",
    "plt.plot(log10xlist,np.array(mu)+np.array(np.abs(sigma)),\"k-\",lw=2)\n",
    "plt.plot(log10xlist,np.array(mu)-np.array(np.abs(sigma)),\"k-\",lw=2)\n",
    "cbar = plt.colorbar()\n",
    "cbar.ax.tick_params(labelsize=18)\n",
    "plt.xlabel(\"Log10 S1\", fontsize=18)\n",
    "plt.ylabel(\"Log10 S2\", fontsize=18)\n",
    "plt.title(\"Tritium Sept 2015\", fontsize=20)\n",
    "\n",
    "# Traditional band plot\n",
    "plt.figure(20)\n",
    "plt.hist2d(S1_ts4, np.log10(S2_ts4)-np.log10(S1_ts4),range=[[0,120],[0,6]],bins=(100,100),norm=LogNorm())\n",
    "cbar = plt.colorbar()\n",
    "cbar.ax.tick_params(labelsize=18)\n",
    "plt.xlabel(\"S1\", fontsize=18)\n",
    "plt.ylabel(\"Log10 (S2/S1)\", fontsize=18)\n",
    "plt.title(\"Tritium Sept 2015\", fontsize=20)"
   ]
  },
  {
   "cell_type": "code",
   "execution_count": null,
   "metadata": {
    "collapsed": false
   },
   "outputs": [],
   "source": [
    "ts4"
   ]
  },
  {
   "cell_type": "code",
   "execution_count": null,
   "metadata": {
    "collapsed": false
   },
   "outputs": [],
   "source": [
    "len(S1_t_ts4)"
   ]
  },
  {
   "cell_type": "code",
   "execution_count": null,
   "metadata": {
    "collapsed": false
   },
   "outputs": [],
   "source": [
    "# S2 vs S1\n",
    "plt.figure(30)\n",
    "plt.hist2d(np.log10(S1_t_ts4),np.log10(S2_t_ts4),range=[[1,2.2],[2.8,4.3]],bins=(100,100),norm=LogNorm())\n",
    "bandfit1=bandfit(np.log10(S1_t_ts4),np.log10(S2_t_ts4),range=[[1,2.2],[2.8,4.3]],bins=(100,100),)\n",
    "plt.plot(bandfit1[2],bandfit1[0],lw=4, color=\"k\")\n",
    "plt.plot(bandfit1[2],np.array(bandfit1[0])+np.array(np.abs(bandfit1[1])),\"k-\",lw=2)\n",
    "plt.plot(bandfit1[2],np.array(bandfit1[0])-np.array(np.abs(bandfit1[1])),\"k-\",lw=2)\n",
    "cbar = plt.colorbar()\n",
    "cbar.ax.tick_params(labelsize=18)\n",
    "plt.xlabel(\"Log10 S1\", fontsize=18)\n",
    "plt.ylabel(\"Log10 S2\", fontsize=18)\n",
    "plt.title(\"Tritium Sept 2015\", fontsize=20)\n",
    "\n",
    "# Traditional band plot\n",
    "plt.figure(40)\n",
    "plt.hist2d(S1_t_ts4, np.log10(S2_t_ts4)-np.log10(S1_t_ts4),range=[[0,120],[0,5]],bins=(100,100),norm=LogNorm())\n",
    "bandfit2=bandfit(S1_t_ts4, np.log10(S2_t_ts4)-np.log10(S1_t_ts4),range=[[0,120],[0,5]],bins=(100,100),)\n",
    "plt.plot(bandfit2[2],bandfit2[0],lw=4, color=\"k\")\n",
    "plt.plot(bandfit2[2],np.array(bandfit2[0])+np.array(np.abs(bandfit2[1])),\"k-\",lw=2)\n",
    "plt.plot(bandfit2[2],np.array(bandfit2[0])-np.array(np.abs(bandfit2[1])),\"k-\",lw=2)\n",
    "cbar = plt.colorbar()\n",
    "cbar.ax.tick_params(labelsize=18)\n",
    "plt.xlabel(\"S1\", fontsize=18)\n",
    "plt.ylabel(\"Log10 (S2/S1)\", fontsize=18)\n",
    "plt.title(\"Tritium Sept 2015\", fontsize=20)"
   ]
  },
  {
   "cell_type": "code",
   "execution_count": null,
   "metadata": {
    "collapsed": false
   },
   "outputs": [],
   "source": [
    "# S2 vs S1\n",
    "plt.figure(11)\n",
    "plt.hist2d(np.log10(S1_ss4),np.log10(S2_ss4),range=[[1,2.2],[2.8,4.3]],bins=(100,100),norm=LogNorm())\n",
    "bandfit01=bandfit(np.log10(S1_ss4),np.log10(S2_ss4),range=[[1,2.2],[2.8,4.3]],bins=(100,100))\n",
    "plt.plot(bandfit01[2],bandfit01[0],lw=4, color=\"k\")\n",
    "plt.plot(bandfit01[2],np.array(bandfit01[0])+np.array(np.abs(bandfit01[1])),\"k-\",lw=2)\n",
    "plt.plot(bandfit01[2],np.array(bandfit01[0])-np.array(np.abs(bandfit01[1])),\"k-\",lw=2)\n",
    "cbar = plt.colorbar()\n",
    "cbar.ax.tick_params(labelsize=18)\n",
    "plt.xlabel(\"Log10 S1\", fontsize=18)\n",
    "plt.ylabel(\"Log10 S2\", fontsize=18)\n",
    "plt.title(\"Tritium Sim Sept 2014\", fontsize=20)\n",
    "\n",
    "# Traditional band plot\n",
    "plt.figure(12)\n",
    "plt.hist2d(S1_ss4, np.log10(S2_ss4)-np.log10(S1_ss4),range=[[0,120],[0,6]],bins=(100,100),norm=LogNorm())\n",
    "bandfit02=bandfit(S1_ss4, np.log10(S2_ss4)-np.log10(S1_ss4),range=[[0,120],[0,6]],bins=(100,100))\n",
    "plt.plot(bandfit02[2],bandfit02[0],lw=4, color=\"k\")\n",
    "plt.plot(bandfit02[2],np.array(bandfit02[0])+np.array(np.abs(bandfit02[1])),\"k-\",lw=2)\n",
    "plt.plot(bandfit02[2],np.array(bandfit02[0])-np.array(np.abs(bandfit02[1])),\"k-\",lw=2)\n",
    "cbar = plt.colorbar()\n",
    "cbar.ax.tick_params(labelsize=18)\n",
    "plt.xlabel(\"S1\", fontsize=18)\n",
    "plt.ylabel(\"Log10 (S2/S1)\", fontsize=18)\n",
    "plt.title(\"Tritium Sim Sept 2014\", fontsize=20)\n"
   ]
  },
  {
   "cell_type": "code",
   "execution_count": null,
   "metadata": {
    "collapsed": false
   },
   "outputs": [],
   "source": [
    "#comparision plot \n",
    "plt.figure(12)\n",
    "plt.errorbar(bandfit1[2],bandfit1[0],bandfit1[1],lw=4, color=\"k\",label=\"exp\")\n",
    "plt.errorbar(bandfit01[2],bandfit01[0],bandfit01[1],lw=4, color=\"b\",label=\"sim\")\n",
    "plt.legend(loc=4,fontsize=35)\n",
    "plt.xlim(1.0,2.3)\n",
    "plt.ylim(3.0,4.)\n",
    "plt.xlabel(\"Log10 S1\", fontsize=18)\n",
    "plt.ylabel(\"Log10 S2\", fontsize=18)\n",
    "plt.title(\"Tritium Sim Sept 2014\", fontsize=20)\n",
    "#comparision plot \n",
    "plt.figure(22)\n",
    "plt.errorbar(bandfit2[2],bandfit2[0],bandfit2[1],lw=4, color=\"k\",label=\"exp\")\n",
    "plt.errorbar(bandfit02[2],bandfit02[0],bandfit02[1],lw=4, color=\"b\",label=\"sim\")\n",
    "plt.legend(loc=0,fontsize=35)\n",
    "plt.xlim(0,100.)\n",
    "plt.ylim(1.5,4.)\n",
    "plt.xlabel(\"S1\", fontsize=18)\n",
    "plt.ylabel(\"Log10 (S2/S1)\", fontsize=18)\n",
    "plt.title(\"Tritium Sim Sept 2014\", fontsize=20)"
   ]
  },
  {
   "cell_type": "code",
   "execution_count": null,
   "metadata": {
    "collapsed": false
   },
   "outputs": [],
   "source": [
    "# Uncorrected mercury reconstruction\n",
    "plt.figure(50,figsize=(13,10))\n",
    "plt.hist2d(raw_x_t_ts4,raw_y_t_ts4,range=[[-25,25],[-25,25]],bins=(100,100))\n",
    "cbar = plt.colorbar()\n",
    "plt.xlabel(\"S2_X (cm)\", fontsize=18)\n",
    "plt.ylabel(\"S2_Y (cm)\", fontsize=18)\n",
    "plt.title(\"Tritium Sept 2014\", fontsize=20)"
   ]
  },
  {
   "cell_type": "code",
   "execution_count": null,
   "metadata": {
    "collapsed": false
   },
   "outputs": [],
   "source": [
    "len(raw_y_ss4)"
   ]
  },
  {
   "cell_type": "code",
   "execution_count": null,
   "metadata": {
    "collapsed": false
   },
   "outputs": [],
   "source": [
    "# Uncorrected mercury reconstruction\n",
    "plt.figure(51,figsize=(13,10))\n",
    "plt.hist2d(raw_x_ss4,raw_y_ss4,range=[[-25,25],[-25,25]],bins=(100,100))\n",
    "cbar = plt.colorbar()\n",
    "plt.xlabel(\"S2_X (cm)\", fontsize=18)\n",
    "plt.ylabel(\"S2_Y (cm)\", fontsize=18)\n",
    "plt.title(\"Tritium Sim Sept 2014\", fontsize=20)"
   ]
  },
  {
   "cell_type": "code",
   "execution_count": null,
   "metadata": {
    "collapsed": false
   },
   "outputs": [],
   "source": [
    "# corrected reconstruction\n",
    "plt.figure(60,figsize=(13,10))\n",
    "plt.hist2d(x_del_ts4,y_del_ts4,range=[[-25,25],[-25,25]],bins=(100,100))\n",
    "cbar = plt.colorbar()\n",
    "plt.xlabel(\"S2_X (cm)\", fontsize=18)\n",
    "plt.ylabel(\"S2_Y (cm)\", fontsize=18)\n",
    "plt.title(\"Tritium Sept 2014\", fontsize=20)"
   ]
  },
  {
   "cell_type": "code",
   "execution_count": null,
   "metadata": {
    "collapsed": false
   },
   "outputs": [],
   "source": [
    "# dritft time vs S2R^2\n",
    "plt.figure(70,figsize=(13,10))\n",
    "plt.hist2d(raw_r_t_ts4**2,negative_drift_time_t_ts4,range=[[0,25**2],[-400,0]],bins=(70,70))\n",
    "cbar = plt.colorbar()\n",
    "plt.xlabel(\"r^2 (cm^2)\",fontsize=18)\n",
    "plt.ylabel(\"-drift_time (samples)\",fontsize=18)\n",
    "plt.title(\"Tritium Sept 2014\", fontsize=20)"
   ]
  },
  {
   "cell_type": "code",
   "execution_count": null,
   "metadata": {
    "collapsed": false
   },
   "outputs": [],
   "source": [
    "# dritft time vs S2R^2\n",
    "plt.figure(105,figsize=(13,10))\n",
    "plt.hist2d(raw_r_ss4**2,negative_drift_time_ss4,range=[[0,25**2],[-400,0]],bins=(100,100))\n",
    "cbar = plt.colorbar()\n",
    "plt.xlabel(\"r^2 (cm^2)\",fontsize=18)\n",
    "plt.ylabel(\"-drift_time (samples)\",fontsize=18)\n",
    "plt.title(\"Tritium Sim Sept 2014\", fontsize=20)"
   ]
  },
  {
   "cell_type": "code",
   "execution_count": null,
   "metadata": {
    "collapsed": false
   },
   "outputs": [],
   "source": [
    "# dritft time vs S2R^2\n",
    "plt.figure(80,figsize=(13,10))\n",
    "plt.hist2d((x_del_ts4**2+y_del_ts4**2),negative_drift_time_t_ts4,range=[[0,25**2],[-400,0]],bins=(70,70))\n",
    "cbar = plt.colorbar()\n",
    "plt.xlabel(\"r^2 (cm^2)\",fontsize=18)\n",
    "plt.ylabel(\"-drift_time (samples)\",fontsize=18)\n",
    "plt.title(\"Tritium Sept 2014\", fontsize=20)"
   ]
  },
  {
   "cell_type": "code",
   "execution_count": null,
   "metadata": {
    "collapsed": false
   },
   "outputs": [],
   "source": [
    "# drift time histogram\n",
    "plt.figure(90)\n",
    "plt.hist(drift_time_t_ts4, range=[10.5,380.5], bins=100)\n",
    "plt.xlabel(\"drift time (samples)\")\n",
    "plt.title(\"Tritium Sept 2014\", fontsize=20)\n",
    "\n",
    "# Corrected S1\n",
    "plt.figure(100)\n",
    "plt.hist(S1_t_ts4, range=[0,110], bins=110)\n",
    "plt.xlim(0,110)\n",
    "plt.xlabel(\"S1 Corrected (ph?)\",fontsize=18)\n",
    "plt.title(\"Tritium Sept 2014\", fontsize=20)\n",
    "\n",
    "# Corrected S2\n",
    "plt.figure(101)\n",
    "plt.hist(S2_t_ts4, range=[0,10500], bins=105)\n",
    "plt.xlim(0,10500)\n",
    "plt.xlabel(\"S2 Corrected (ph?)\",fontsize=18)\n",
    "plt.title(\"Tritium Sept 2014\", fontsize=20)"
   ]
  },
  {
   "cell_type": "code",
   "execution_count": null,
   "metadata": {
    "collapsed": false
   },
   "outputs": [],
   "source": [
    "np.linalg.norm(drift_time_ss4[np.where(np.abs(drift_time_ss4-195.5)<185.5)])"
   ]
  },
  {
   "cell_type": "code",
   "execution_count": null,
   "metadata": {
    "collapsed": false
   },
   "outputs": [],
   "source": [
    "from scipy.stats import ks_2samp\n",
    "ks_2samp(drift_time_ss4[np.where(np.abs(drift_time_ss4-195.5)<185.5)]/np.linalg.norm(drift_time_ss4[np.where(np.abs(drift_time_ss4-195.5)<185.5)]),\\\n",
    "         drift_time_t_ts4[np.where(np.abs(drift_time_t_ts4-195.5)<185.5)]/np.linalg.norm(drift_time_t_ts4[np.where(np.abs(drift_time_t_ts4-195.5)<185.5)]))"
   ]
  },
  {
   "cell_type": "code",
   "execution_count": null,
   "metadata": {
    "collapsed": false
   },
   "outputs": [],
   "source": [
    "# drift time histogram\n",
    "plt.figure(91)\n",
    "plt.hist(drift_time_t_ss4, range=[10.5,380.5], bins=100)\n",
    "plt.xlabel(\"drift time (samples)\", fontsize=18)\n",
    "\n",
    "# Corrected S1\n",
    "plt.figure(101)\n",
    "plt.hist(S1_t_ss4, range=[-0.5,110.5], bins=111)\n",
    "plt.xlim(0,110)\n",
    "plt.xlabel(\"S1 Corrected (ph?)\",fontsize=18)\n",
    "plt.title(\"Tritium Sim Sept 2014\", fontsize=20)\n",
    "\n",
    "# Corrected S2\n",
    "plt.figure(111)\n",
    "plt.hist(S2_t_ss4, range=[0,10500], bins=105)\n",
    "plt.xlim(0,10500)\n",
    "plt.xlabel(\"S2 Corrected (ph?)\",fontsize=18)\n",
    "plt.title(\"Tritium Sim Sept 2014\", fontsize=20)"
   ]
  },
  {
   "cell_type": "code",
   "execution_count": null,
   "metadata": {
    "collapsed": false
   },
   "outputs": [],
   "source": [
    "# combined energy\n",
    "plt.figure(120)\n",
    "plt.hist(Combined_energy_t_ts4, range=[0,20], bins=60)\n",
    "plt.xlabel(\"Deposited Energy (keV ee)\", fontsize=18)\n",
    "plt.title(\"Tritium Sept 2015\", fontsize=20)\n",
    "plt.figure(121)\n",
    "plt.hist(Combined_energy_t_ss4, range=[0,20], bins=60)\n",
    "plt.xlabel(\"Deposited Energy (keV ee)\", fontsize=18)\n",
    "plt.title(\"Tritium Sim Sept 2015\", fontsize=20)"
   ]
  },
  {
   "cell_type": "code",
   "execution_count": null,
   "metadata": {
    "collapsed": false
   },
   "outputs": [],
   "source": [
    "# combined energy\n",
    "plt.figure(122)\n",
    "#ksTestValue =sp.stats.ks_2samp(Combined_energy_t_ss4,Combined_energy_t_ts4)\n",
    "print ksTestValue\n",
    "#plt.text(.5,.5,\"KS Test Value = %g\"% ksTestValue[1])\n",
    "plt.hist(Combined_energy_t_ss4, normed =1,range=[0,20], bins=60, label = \"sim\")\n",
    "plt.hist(Combined_energy_t_ts4, normed =1,range=[0,20], bins=60, label = \"exp\")\n",
    "plt.legend()\n",
    "plt.xlabel(\"Deposited Energy (keV ee)\", fontsize=18)\n",
    "plt.title(\"Tritium Sept 2015\", fontsize=20)\n",
    "plt.title(\"Tritium Sim Sept 2015\", fontsize=20)"
   ]
  },
  {
   "cell_type": "code",
   "execution_count": null,
   "metadata": {
    "collapsed": false
   },
   "outputs": [],
   "source": [
    "plt.figure(130)\n",
    "plt.hist2d(Combined_energy_t_ts4, S1_t_ts4/Combined_energy_t_ts4,range=[[0,20],[0,6]],bins=(100,100),norm=LogNorm())\n",
    "plt.xlabel(\"Deposited Energy (keV ee)\", fontsize=18)\n",
    "plt.ylabel(\"S1 Energy\", fontsize=18)\n",
    "plt.title(\"Tritium Comparision Sept 2014\", fontsize=20)"
   ]
  },
  {
   "cell_type": "code",
   "execution_count": null,
   "metadata": {
    "collapsed": false
   },
   "outputs": [],
   "source": [
    "plt.figure(131)\n",
    "plt.hist2d(Combined_energy_ss4, S1_ss4/Combined_energy_ss4,range=[[0,20],[0,6]],bins=(100,100),norm=LogNorm())\n",
    "plt.xlabel(\"Deposited Energy (keV ee)\", fontsize=18)\n",
    "plt.ylabel(\"S1 pulse \", fontsize=18)\n",
    "plt.title(\"Tritium Comparision Sept 2014\", fontsize=20)"
   ]
  },
  {
   "cell_type": "code",
   "execution_count": null,
   "metadata": {
    "collapsed": false
   },
   "outputs": [],
   "source": [
    "# light yield\n",
    "plt.figure(132)\n",
    "bandfit10=bandfit(Combined_energy_t_ss4, S1_t_ss4/Combined_energy_t_ss4,range=[[0,20],[0,7]],bins=(20,20),)\n",
    "bandfit010=bandfit(Combined_energy_t_ts4, S1_t_ts4/Combined_energy_t_ts4,range=[[0,20],[0,7]],bins=(20,20),)\n",
    "plt.errorbar(bandfit10[2],bandfit10[0],bandfit10[1],lw=2, color=\"k\",label=\"s1 sim\")\n",
    "plt.errorbar(bandfit010[2],bandfit010[0],bandfit010[1],lw=2, color=\"b\",label=\"s1 exp\")\n",
    "bandfits = np.load(\"LYenergygaussian.npy\")\n",
    "plt.errorbar(bandfits[2]*100.,bandfits[0],bandfits[1],lw=4, color=\"g\",label=\"LibNEST gaussian fit bins\")\n",
    "\n",
    "plt.legend(loc=0,fontsize=35)\n",
    "plt.xlim(0,20.)\n",
    "#plt.ylim(,)\n",
    "plt.legend()\n",
    "plt.xlabel(\"Deposited Energy (keV ee)\", fontsize=18)\n",
    "plt.ylabel(\"S1 / Deposited Energy\", fontsize=18)\n",
    "plt.title(\"Tritium Comparision Sept 2015\", fontsize=20)\n"
   ]
  },
  {
   "cell_type": "code",
   "execution_count": null,
   "metadata": {
    "collapsed": false
   },
   "outputs": [],
   "source": [
    "plt.figure(140)\n",
    "plt.hist2d(Efield_ts4[~np.isnan(Efield_ts4)], S1_t_ts4[~np.isnan(Efield_ts4)]/Combined_energy_t_ts4[~np.isnan(Efield_ts4)],range=[[0,70000],[0,8]],bins=(100,100),norm=LogNorm())\n",
    "bandfits140=bandfit(Efield_ts4[~np.isnan(Efield_ts4)], S1_t_ts4[~np.isnan(Efield_ts4)]/Combined_energy_t_ts4[~np.isnan(Efield_ts4)],range=[[0,70000],[0,8]],bins=(100,100))\n",
    "plt.errorbar(bandfits140[2],bandfits140[0],bandfits140[1],lw=2, color=\"k\",label=\"s1 sim\")\n",
    "plt.xlabel(\"E field (V/m)\", fontsize=18)\n",
    "plt.ylabel(\"S1 /Deposit Energy\", fontsize=18)\n",
    "plt.title(\"Tritium Comparision Sept 2015\", fontsize=20)"
   ]
  },
  {
   "cell_type": "code",
   "execution_count": null,
   "metadata": {
    "collapsed": false
   },
   "outputs": [],
   "source": [
    "plt.figure(141)\n",
    "plt.hist2d(Efield_t_ss4[~np.isnan(Efield_t_ss4)], S1_t_ss4[~np.isnan(Efield_t_ss4)]/Combined_energy_t_ss4[~np.isnan(Efield_t_ss4)],range=[[0,70000],[0,8]],bins=(100,100),norm=LogNorm())\n",
    "bandfits141=bandfit(Efield_t_ss4[~np.isnan(Efield_t_ss4)], S1_t_ss4[~np.isnan(Efield_t_ss4)]/Combined_energy_t_ss4[~np.isnan(Efield_t_ss4)],range=[[0,70000],[0,8]],bins=(100,100))\n",
    "plt.errorbar(bandfits141[2],bandfits141[0],bandfits141[1],lw=2, color=\"k\",label=\"s1 sim\")\n",
    "\n",
    "plt.xlabel(\"E field (V/m)\", fontsize=18)\n",
    "plt.ylabel(\"S1 /Deposit Energy\", fontsize=18)\n",
    "plt.title(\"Tritium Comparision Sept 2014\", fontsize=20)"
   ]
  },
  {
   "cell_type": "code",
   "execution_count": null,
   "metadata": {
    "collapsed": false
   },
   "outputs": [],
   "source": [
    "plt.figure(142)\n",
    "plt.errorbar(bandfits140[2],bandfits140[0],bandfits140[1],lw=2, color=\"k\",label=\"s1 exp\")\n",
    "plt.errorbar(bandfits141[2],bandfits141[0],bandfits141[1],lw=2, color=\"b\",label=\"s1 sim\")\n",
    "plt.legend()\n",
    "plt.xlabel(\"E field (V/m)\", fontsize=18)\n",
    "plt.ylabel(\"S1 /Deposit Energy\", fontsize=18)\n",
    "plt.title(\"Tritium Comparision Sept 2014\", fontsize=20)"
   ]
  },
  {
   "cell_type": "code",
   "execution_count": null,
   "metadata": {
    "collapsed": false
   },
   "outputs": [],
   "source": [
    "plt.figure(150)\n",
    "plt.hist2d(Efield_s2_ts4[~np.isnan(Efield_s2_ts4)], S1_t_ts4[~np.isnan(Efield_s2_ts4)]/Combined_energy_t_ts4[~np.isnan(Efield_s2_ts4)],range=[[0,70000],[0,8]],bins=(100,100),norm=LogNorm())\n",
    "bandfits150=bandfit(Efield_s2_ts4[~np.isnan(Efield_s2_ts4)], S1_t_ts4[~np.isnan(Efield_s2_ts4)]/Combined_energy_t_ts4[~np.isnan(Efield_s2_ts4)],range=[[0,70000],[0,8]],bins=(100,100))\n",
    "plt.errorbar(bandfits150[2],bandfits150[0],bandfits150[1],lw=2, color=\"k\",label=\"s1 sim\")\n",
    "\n",
    "plt.xlabel(\"E field (V/m)\", fontsize=18)\n",
    "plt.ylabel(\"S1 /Deposit Energy\", fontsize=18)\n",
    "plt.title(\"Tritium Comparision Sept 2014\", fontsize=20)\n",
    "\n",
    "plt.figure(151)\n",
    "plt.hist2d(Efield_s2_ss4[~np.isnan(Efield_s2_ss4)], S1_ss4[~np.isnan(Efield_s2_ss4)]/Combined_energy_ss4[~np.isnan(Efield_s2_ss4)],range=[[0,70000],[0,8]],bins=(100,100),norm=LogNorm())\n",
    "bandfits151=bandfit(Efield_s2_ss4[~np.isnan(Efield_s2_ss4)], S1_ss4[~np.isnan(Efield_s2_ss4)]/Combined_energy_ss4[~np.isnan(Efield_s2_ss4)],range=[[0,70000],[0,8]],bins=(100,100))\n",
    "plt.errorbar(bandfits151[2],bandfits151[0],bandfits151[1],lw=2, color=\"k\",label=\"s1 sim\")\n",
    "\n",
    "plt.xlabel(\"E field (V/m)\", fontsize=18)\n",
    "plt.ylabel(\"S1 /Deposit Energy\", fontsize=18)\n",
    "plt.title(\"Tritium Comparision Sept 2014\", fontsize=20)\n",
    "plt.figure(152)\n",
    "plt.errorbar(bandfits150[2],bandfits150[0],bandfits150[1],lw=2, color=\"k\",label=\"s1 exp\")\n",
    "plt.errorbar(bandfits151[2],bandfits151[0],bandfits151[1],lw=2, color=\"b\",label=\"s1 sim\")\n",
    "plt.legend()\n",
    "plt.xlabel(\"E field (V/m)\", fontsize=18)\n",
    "plt.ylabel(\"S1 /Deposit Energy\", fontsize=18)\n",
    "plt.title(\"Tritium Comparision Sept 2014\", fontsize=20)"
   ]
  },
  {
   "cell_type": "code",
   "execution_count": null,
   "metadata": {
    "collapsed": false
   },
   "outputs": [],
   "source": [
    "np.seterr(invalid='ignore')\n",
    "# corrected reconstruction\n",
    "plt.figure(160,figsize=(13,10))\n",
    "plt.hist2d(x_real_s2_ts4,y_real_s2_ts4,range=[[-25,25],[-25,25]],bins=(100,100))\n",
    "plt.clim(0,15)\n",
    "cbar = plt.colorbar()\n",
    "plt.xlabel(\"S2_X (cm)\", fontsize=18)\n",
    "plt.ylabel(\"S2_Y (cm)\", fontsize=18)\n",
    "plt.title(\"Tritium Sept 2014\", fontsize=20)\n",
    "\n",
    "# z vs S2R^2\n",
    "plt.figure(170,figsize=(13,10))\n",
    "plt.hist2d(x_real_s2_ts4**2+y_real_s2_ts4**2,z_real_s2_ts4,range=[[0,25**2],[0,60]],bins=(70,70))\n",
    "plt.clim(0,30)\n",
    "cbar = plt.colorbar()\n",
    "plt.xlabel(\"r^2 (cm^2)\",fontsize=18)\n",
    "plt.ylabel(\"-drift_time (samples)\",fontsize=18)\n",
    "plt.title(\"Tritium Sept 2014\", fontsize=20)"
   ]
  },
  {
   "cell_type": "code",
   "execution_count": null,
   "metadata": {
    "collapsed": false
   },
   "outputs": [],
   "source": [
    "# corrected reconstruction\n",
    "plt.figure(161,figsize=(13,10))\n",
    "plt.hist2d(x_real_s2_ss4,y_real_s2_ss4,range=[[-25,25],[-25,25]],bins=(100,100))\n",
    "plt.clim(0,5)\n",
    "cbar = plt.colorbar()\n",
    "plt.xlabel(\"S2_X (cm)\", fontsize=18)\n",
    "plt.ylabel(\"S2_Y (cm)\", fontsize=18)\n",
    "plt.title(\"Tritium Sim Sept 2014\", fontsize=20)\n",
    "# z vs S2R^2\n",
    "plt.figure(170,figsize=(13,10))\n",
    "plt.hist2d(x_real_s2_ss4**2+y_real_s2_ss4**2,z_real_s2_ss4,range=[[0,25**2],[0,60]],bins=(70,70))\n",
    "plt.clim(0,10)\n",
    "cbar = plt.colorbar()\n",
    "plt.xlabel(\"r^2 (cm^2)\",fontsize=18)\n",
    "plt.ylabel(\"-drift_time (samples)\",fontsize=18)\n",
    "plt.title(\"Tritium Sim Sept 2014\", fontsize=20)"
   ]
  },
  {
   "cell_type": "code",
   "execution_count": null,
   "metadata": {
    "collapsed": false
   },
   "outputs": [],
   "source": [
    "plt.figure(160,figsize=(13,10))\n",
    "plt.hist2d(x_real_s2_ts4,y_real_s2_ts4,range=[[-25,25],[-25,25]],bins=(100,100))\n",
    "plt.clim(0,15)\n",
    "cbar = plt.colorbar()\n",
    "plt.xlabel(\"S2_X (cm)\", fontsize=18)\n",
    "plt.ylabel(\"S2_Y (cm)\", fontsize=18)\n",
    "plt.title(\"Tritium Sept 2014\", fontsize=20)"
   ]
  },
  {
   "cell_type": "code",
   "execution_count": null,
   "metadata": {
    "collapsed": false
   },
   "outputs": [],
   "source": [
    "# Corrected S1\n",
    "plt.figure(991)\n",
    "plt.hist(S2_t_ts4[np.where(np.abs(S1_t_ts4-3)<0.5)], range=[1000,4000], bins=111)\n",
    "#plt.xlim(0,110)\n",
    "plt.xlabel(\"S2 Corrected (ph?)\",fontsize=18)\n",
    "plt.title(\"Tritium Sept 2014\", fontsize=20)\n",
    "# Corrected S1\n",
    "plt.figure(992)\n",
    "plt.hist(S2_t_ss4[np.where(np.abs(S1_t_ss4-3)<0.5)], range=[1000,4000], bins=111)\n",
    "#plt.xlim(0,110)\n",
    "plt.xlabel(\"S2 Corrected (ph?)\",fontsize=18)\n",
    "plt.title(\"Tritium Sim Sept 2014\", fontsize=20)\n",
    "# Corrected S1\n",
    "plt.figure(993)\n",
    "plt.hist(z_real_s2_ts4[np.where(np.abs(S1_t_ts4-3)<0.5)], range=[0,60], bins=100)\n",
    "#plt.xlim(0,110)\n",
    "plt.xlabel(\"z\",fontsize=18)\n",
    "plt.title(\"Tritium Sept 2014\", fontsize=20)\n",
    "# Corrected S1\n",
    "plt.figure(994)\n",
    "plt.hist(z_real_s2_ss4[np.where(np.abs(S1_t_ss4-3)<0.5)], range=[0,60], bins=100)\n",
    "#plt.xlim(0,110)\n",
    "plt.xlabel(\"z\",fontsize=18)\n",
    "plt.title(\"Tritium Sim Sept 2014\", fontsize=20)"
   ]
  },
  {
   "cell_type": "code",
   "execution_count": null,
   "metadata": {
    "collapsed": false
   },
   "outputs": [],
   "source": [
    "filedir = \"/project/projectdirs/lux/users/weiji/band/\"\n",
    "np.save(filedir+\"201509explogband\",bandfit1)\n",
    "np.save(filedir+\"201509simlogband\",bandfit01)\n",
    "np.save(filedir+\"201509expband\",bandfit2)\n",
    "np.save(filedir+\"201509simband\",bandfit02)\n",
    "np.save(filedir+\"201509explightyield\",bandfits150)\n",
    "np.save(filedir+\"201509simlightyield\",bandfits151)"
   ]
  },
  {
   "cell_type": "code",
   "execution_count": null,
   "metadata": {
    "collapsed": false
   },
   "outputs": [],
   "source": [
    "len(S1_ss4)"
   ]
  },
  {
   "cell_type": "code",
   "execution_count": null,
   "metadata": {
    "collapsed": false
   },
   "outputs": [],
   "source": [
    "S1_ss4[~np.isnan(Efield_s2_ss4)]"
   ]
  },
  {
   "cell_type": "code",
   "execution_count": null,
   "metadata": {
    "collapsed": false
   },
   "outputs": [],
   "source": [
    "~np.isnan(Efield_s2_ss4)"
   ]
  },
  {
   "cell_type": "code",
   "execution_count": null,
   "metadata": {
    "collapsed": false
   },
   "outputs": [],
   "source": [
    "Efield_s2_ss4"
   ]
  },
  {
   "cell_type": "code",
   "execution_count": null,
   "metadata": {
    "collapsed": false
   },
   "outputs": [],
   "source": [
    "drift_time_ss4"
   ]
  },
  {
   "cell_type": "code",
   "execution_count": null,
   "metadata": {
    "collapsed": false
   },
   "outputs": [],
   "source": [
    "drift_time_t_ts4"
   ]
  },
  {
   "cell_type": "code",
   "execution_count": null,
   "metadata": {
    "collapsed": true
   },
   "outputs": [],
   "source": []
  },
  {
   "cell_type": "code",
   "execution_count": null,
   "metadata": {
    "collapsed": true
   },
   "outputs": [],
   "source": []
  },
  {
   "cell_type": "code",
   "execution_count": null,
   "metadata": {
    "collapsed": true
   },
   "outputs": [],
   "source": []
  }
 ],
 "metadata": {
  "kernelspec": {
   "display_name": "Python 2",
   "language": "python",
   "name": "python2"
  },
  "language_info": {
   "codemirror_mode": {
    "name": "ipython",
    "version": 2
   },
   "file_extension": ".py",
   "mimetype": "text/x-python",
   "name": "python",
   "nbconvert_exporter": "python",
   "pygments_lexer": "ipython2",
   "version": "2.7.11"
  }
 },
 "nbformat": 4,
 "nbformat_minor": 0
}
