{
 "cells": [
  {
   "cell_type": "code",
   "execution_count": 13,
   "metadata": {
    "collapsed": false
   },
   "outputs": [],
   "source": [
    "import sys\n",
    "import os\n",
    "import functools\n",
    "import scipy\n",
    "import scipy as sp\n",
    "import numpy as np\n",
    "import matplotlib.pyplot as plt\n",
    "%matplotlib inline\n",
    "import matplotlib.pylab as pylab\n",
    "from matplotlib.colors import LogNorm\n",
    "import pickle\n",
    "import math\n",
    "import subprocess\n",
    "\n",
    "\n",
    "sys.path.insert(2, \"/global/projecta/projectdirs/lux/data\")\n",
    "sys.path.insert(2, \"/global/projecta/projectdirs/lux/users/weiji/\")\n",
    "sys.path.insert(0,'/project/projectdirs/lux/Tools/LUXcode/Trunk/DataAnalysis/Python/' )\n",
    "sys.path.insert(0,'/project/projectdirs/lux/Tools/LUXcode/Trunk/DataAnalysis/Python/aLib' )\n",
    "import __init__ as S\n",
    "import dp as dp\n",
    "\n",
    "pylab.rcParams[\"figure.figsize\"]=15,8"
   ]
  },
  {
   "cell_type": "code",
   "execution_count": 14,
   "metadata": {
    "collapsed": true
   },
   "outputs": [],
   "source": [
    "\n",
    "rq_list = [\"file_number\", \"pulse_classification\"]\n",
    "rq_list.append(\"pulse_area_phe\")\n",
    "rq_list.append(\"xyz_corrected_pulse_area_all_phe\")\n",
    "#rq_list.append(\"spike_count\")\n",
    "rq_list.append(\"x_cm\")\n",
    "rq_list.append(\"y_cm\")\n",
    "#rq_list.append(\"x_cm_del\")\n",
    "#rq_list.append(\"y_cm_del\")\n",
    "rq_list.append(\"s1s2_pairing\")\n",
    "rq_list.append(\"z_drift_samples\")\n",
    "rq_list.append(\"pulse_classification\")\n"
   ]
  },
  {
   "cell_type": "code",
   "execution_count": 15,
   "metadata": {
    "collapsed": false
   },
   "outputs": [
    {
     "name": "stdout",
     "output_type": "stream",
     "text": [
      "** concatRQsWcuts encourages you to graduate from the stone age and\n",
      "   switch from python v2.7 to v3.x.\n",
      "\n",
      "\n",
      "<<<<<<<<<<<<<<<<<<<<<<<<<<<<<<<<<<<<<<<< dp.concatRQsWcuts >>>>>>>>>>>>>>>>>>>>>>>>>>>>>>>>>>>>>>>>>\n",
      "<<<<                                          STARTING                                          >>>>\n",
      "<<<<<<<<<<<<<<<<<<<<<<<<<<<<<<<<<<<<<<<<<<<<<<<<<<>>>>>>>>>>>>>>>>>>>>>>>>>>>>>>>>>>>>>>>>>>>>>>>>>>\n",
      "\n",
      "\n",
      "Determining total number of files..\t 358\n",
      "Estimating number of events that will pass cuts.......... Roughly 141231\n",
      "\n",
      "********** Allocating 45.0 MB **********\n",
      "\n",
      "\n",
      "**** /project/projectdirs/lux/users/weiji/KrSim201409/matfiles/ ****\n",
      "flag_pastAllocate = False\n",
      "\n",
      "k_CutStep = 140719\n",
      "\n",
      "\n",
      "Number of events before cuts: 169350\n",
      "Number of events after  cuts: 140719\n",
      "   Cut name: Num passing\n",
      "-----------: -----------\n",
      "cut_1S1_1S2: 140719\n",
      "** concatRQsWcuts encourages you to graduate from the stone age and\n",
      "   switch from python v2.7 to v3.x.\n",
      "\n",
      "\n",
      "<<<<<<<<<<<<<<<<<<<<<<<<<<<<<<<<<<<<<<<< dp.concatRQsWcuts >>>>>>>>>>>>>>>>>>>>>>>>>>>>>>>>>>>>>>>>>\n",
      "<<<<                                          STARTING                                          >>>>\n",
      "<<<<<<<<<<<<<<<<<<<<<<<<<<<<<<<<<<<<<<<<<<<<<<<<<<>>>>>>>>>>>>>>>>>>>>>>>>>>>>>>>>>>>>>>>>>>>>>>>>>>\n",
      "\n",
      "\n",
      "Determining total number of files..\t 381\n",
      "Estimating number of events that will pass cuts.......... Roughly 146456\n",
      "\n",
      "********** Allocating 46.7 MB **********\n",
      "\n",
      "\n",
      "**** /project/projectdirs/lux/users/weiji/KrSim201502/matfiles/ ****\n",
      "flag_pastAllocate = False\n",
      "\n",
      "k_CutStep = 146422\n",
      "\n",
      "\n",
      "Number of events before cuts: 176914\n",
      "Number of events after  cuts: 146422\n",
      "   Cut name: Num passing\n",
      "-----------: -----------\n",
      "cut_1S1_1S2: 146422\n",
      "** concatRQsWcuts encourages you to graduate from the stone age and\n",
      "   switch from python v2.7 to v3.x.\n",
      "\n",
      "\n",
      "<<<<<<<<<<<<<<<<<<<<<<<<<<<<<<<<<<<<<<<< dp.concatRQsWcuts >>>>>>>>>>>>>>>>>>>>>>>>>>>>>>>>>>>>>>>>>\n",
      "<<<<                                          STARTING                                          >>>>\n",
      "<<<<<<<<<<<<<<<<<<<<<<<<<<<<<<<<<<<<<<<<<<<<<<<<<<>>>>>>>>>>>>>>>>>>>>>>>>>>>>>>>>>>>>>>>>>>>>>>>>>>\n",
      "\n",
      "\n",
      "Determining total number of files..\t 383\n",
      "Estimating number of events that will pass cuts.......... Roughly 149446\n",
      "\n",
      "********** Allocating 47.7 MB **********\n",
      "\n",
      "\n",
      "**** /project/projectdirs/lux/users/weiji/KrSim201509/matfiles/ ****\n",
      "flag_pastAllocate = False\n",
      "\n",
      "k_CutStep = 149229\n",
      "\n",
      "\n",
      "Number of events before cuts: 179927\n",
      "Number of events after  cuts: 149229\n",
      "   Cut name: Num passing\n",
      "-----------: -----------\n",
      "cut_1S1_1S2: 149229\n",
      "** concatRQsWcuts encourages you to graduate from the stone age and\n",
      "   switch from python v2.7 to v3.x.\n",
      "\n",
      "\n",
      "<<<<<<<<<<<<<<<<<<<<<<<<<<<<<<<<<<<<<<<< dp.concatRQsWcuts >>>>>>>>>>>>>>>>>>>>>>>>>>>>>>>>>>>>>>>>>\n",
      "<<<<                                          STARTING                                          >>>>\n",
      "<<<<<<<<<<<<<<<<<<<<<<<<<<<<<<<<<<<<<<<<<<<<<<<<<<>>>>>>>>>>>>>>>>>>>>>>>>>>>>>>>>>>>>>>>>>>>>>>>>>>\n",
      "\n",
      "\n",
      "Determining total number of files..\t 398\n",
      "Estimating number of events that will pass cuts.......... Roughly 153588\n",
      "\n",
      "********** Allocating 49.0 MB **********\n",
      "\n",
      "\n",
      "**** /project/projectdirs/lux/users/weiji/KrSim201602/matfiles/ ****\n",
      "flag_pastAllocate = False\n",
      "\n",
      "k_CutStep = 153459\n",
      "\n",
      "\n",
      "Number of events before cuts: 185391\n",
      "Number of events after  cuts: 153459\n",
      "   Cut name: Num passing\n",
      "-----------: -----------\n",
      "cut_1S1_1S2: 153459\n"
     ]
    }
   ],
   "source": [
    "# Initial Cuts\n",
    "# 1 s1 and 1 s2\n",
    "def cut_1S1_1S2(ev):\n",
    "    ct = ev.s1s2_pairing.sum(0) == 2\n",
    "    return ct\n",
    "\n",
    "cuts = [cut_1S1_1S2]\n",
    "\n",
    "namelist = [\"KrSim201409\",\"KrSim201502\",\"KrSim201509\",\"KrSim201602\"]\n",
    "setlist = [[\"KrSim201409\"],[\"KrSim201502\"],[\"KrSim201509\"],[\"KrSim201602\"]]\n",
    "for aa in range(len(setlist)):\n",
    "    dSetPathList=[]\n",
    "    dSets = setlist[aa]\n",
    "    for ds in dSets:\n",
    "        dSetPathList.append(\"/project/projectdirs/lux/users/weiji/\"+ds+\"/matfiles/\")\n",
    "\n",
    "    data = dp.concatRQsWcuts(dSetPathList, rq_list, cuts=cuts)\n",
    "    np.save(\"/global/project/projectdirs/lux/users/weiji/data/\"+namelist[aa],np.array([data]))\n",
    "    #pickle.dump(data,open(\"/project/projectdirs/lux/users/weiji/ss20164020_\"+str(aa+2)+\".pickle\",\"wb\"),protocol=2)\n"
   ]
  },
  {
   "cell_type": "code",
   "execution_count": 16,
   "metadata": {
    "collapsed": false
   },
   "outputs": [
    {
     "data": {
      "text/plain": [
       "Dictionary contents:\n",
       "                             FIELDS: TYPE                         CONTENTS\n",
       "                             ------  ----                         --------\n",
       "                           RQ_paths: [1 list],                     \n",
       "                            fileNum: [(153459,) uint16array],     [0 0 0 0 0 0 0 0 0 0 0 0 0 0 0...\n",
       "                        file_number: [(153459,) uint32array],     [1 1 1 1 1 1 1 1 1 1 1 1 1 1 1...\n",
       "                        numCutsPass: [1 list],                     \n",
       "                     numEventsTotal: [1 int],                     185391\n",
       "                            pathNum: [(153459,) uint8array],      [0 0 0 0 0 0 0 0 0 0 0 0 0 0 0...\n",
       "                     pulse_area_phe: [(10, 153459) float32array], [  1.82863052e+02   2.94651031...\n",
       "               pulse_classification: [(10, 153459) uint32array],  [1 1 1 1 1 1 1 1 1 5 1 1 1 1 1...\n",
       "                       s1s2_pairing: [(10, 153459) uint32array],  [1 1 1 1 1 1 1 1 1 0 1 1 1 1 1...\n",
       "                               x_cm: [(10, 153459) float32array], [  21.21643829   17.14712715  ...\n",
       "   xyz_corrected_pulse_area_all_phe: [(10, 153459) float32array], [  1.70574661e+02   2.65552795...\n",
       "                               y_cm: [(10, 153459) float32array], [  12.25046921  -16.32064438  ...\n",
       "                    z_drift_samples: [(10, 153459) uint32array],  [0 0 0 0 0 0 0 0 0 0 0 0 0 0 0...\n"
      ]
     },
     "execution_count": 16,
     "metadata": {},
     "output_type": "execute_result"
    }
   ],
   "source": [
    "data"
   ]
  },
  {
   "cell_type": "code",
   "execution_count": 17,
   "metadata": {
    "collapsed": false
   },
   "outputs": [],
   "source": [
    "Efieldmap = []\n",
    "\n",
    "Efieldmap.append(np.loadtxt(\"/project/projectdirs/lux/users/weiji/Run4FieldMaps/v21_fields_20140903T1918_cp17059.txt\"))\n",
    "\n",
    "Efieldmap.append(np.loadtxt(\"/project/projectdirs/lux/users/weiji/Run4FieldMaps/v21_fields_20150226T1943_cp17072.txt\"))\n",
    "\n",
    "Efieldmap.append(np.loadtxt(\"/project/projectdirs/lux/users/weiji/Run4FieldMaps/v21_fields_20150928T2324_cp17544.txt\"))\n",
    "\n",
    "Efieldmap.append(np.loadtxt(\"/project/projectdirs/lux/users/weiji/Run4FieldMaps/v10_fields_20160222T1702_cp20511.txt\"))"
   ]
  },
  {
   "cell_type": "code",
   "execution_count": null,
   "metadata": {
    "collapsed": false
   },
   "outputs": [
    {
     "name": "stdout",
     "output_type": "stream",
     "text": [
      "** concatRQsWcuts encourages you to graduate from the stone age and\n",
      "   switch from python v2.7 to v3.x.\n",
      "\n",
      "\n",
      "<<<<<<<<<<<<<<<<<<<<<<<<<<<<<<<<<<<<<<<< dp.concatRQsWcuts >>>>>>>>>>>>>>>>>>>>>>>>>>>>>>>>>>>>>>>>>\n",
      "<<<<                                          STARTING                                          >>>>\n",
      "<<<<<<<<<<<<<<<<<<<<<<<<<<<<<<<<<<<<<<<<<<<<<<<<<<>>>>>>>>>>>>>>>>>>>>>>>>>>>>>>>>>>>>>>>>>>>>>>>>>>\n",
      "\n",
      "\n",
      "Determining total number of files..\t 1533\n",
      "Estimating number of events that will pass cuts.......... Roughly 1533\n",
      "\n",
      "********** Allocating 791.6 KB **********\n",
      "\n",
      "\n",
      "**** /global/projecta/projectdirs/lux/data/rq/lux10_20140903T1918_cp19546/matfiles/ ****\n"
     ]
    }
   ],
   "source": [
    "# Initial Culux10_20140903T1918_cp19546ts\n",
    "# 1 s1 and 1 s2\n",
    "def cut_energy_S1_S2(ts4):\n",
    "    mask_S1_ts4 = (ts4.pulse_classification==1)&(ts4.s1s2_pairing==1)\n",
    "    mask_S2_ts4 = (ts4.pulse_classification==2)&(ts4.s1s2_pairing==1)\n",
    "    S1_ts4 = (ts4.xyz_corrected_pulse_area_all_phe*mask_S1_ts4).sum(0)\n",
    "    S2_ts4 = (ts4.xyz_corrected_pulse_area_all_phe*mask_S2_ts4).sum(0) \n",
    "    ct = (S1_ts4>50.)&(S1_ts4<500.)&(S2_ts4>1500.)&(S2_ts4>50000.)\n",
    "    return ct\n",
    "\n",
    "cuts = [cut_energy_S1_S2]\n",
    "\n",
    "namelist = [\"KrData201409\",\"KrData201502\",\"KrData201509\",\"KrData201602\",]\n",
    "\n",
    "\n",
    "setlist = [[\"lux10_20140903T1918_cp19546\"],\n",
    "           [\"lux10_20150226T1943_cp17072\"],\n",
    "           [\"lux10_20150928T2324_cp17544\"],\n",
    "           [\"lux10_20160222T1702_cp20511\"],\n",
    "          ]\n",
    "\n",
    "for aa in range(len(setlist)):\n",
    "    dSetPathList=[]\n",
    "    dSets = setlist[aa]\n",
    "    for ds in dSets:\n",
    "        dSetPathList.append(\"/global/projecta/projectdirs/lux/data/rq/\"+ds+\"/matfiles/\")\n",
    "\n",
    "    data = dp.concatRQsWcuts(dSetPathList, rq_list, cuts=cuts)\n",
    "    np.save(\"/global/project/projectdirs/lux/users/weiji/data/\"+namelist[aa],np.array([data]))\n",
    "    #pickle.dump(data,open(\"/project/projectdirs/lux/users/weiji/ss20164020_\"+str(aa+2)+\".pickle\",\"wb\"),protocol=2)"
   ]
  },
  {
   "cell_type": "code",
   "execution_count": 8,
   "metadata": {
    "collapsed": false
   },
   "outputs": [
    {
     "ename": "NameError",
     "evalue": "name 'dSets' is not defined",
     "output_type": "error",
     "traceback": [
      "\u001b[1;31m---------------------------------------------------------------------------\u001b[0m",
      "\u001b[1;31mNameError\u001b[0m                                 Traceback (most recent call last)",
      "\u001b[1;32m<ipython-input-8-a18dc3d2bdea>\u001b[0m in \u001b[0;36m<module>\u001b[1;34m()\u001b[0m\n\u001b[1;32m----> 1\u001b[1;33m \u001b[0mdSets\u001b[0m\u001b[1;33m\u001b[0m\u001b[0m\n\u001b[0m",
      "\u001b[1;31mNameError\u001b[0m: name 'dSets' is not defined"
     ]
    }
   ],
   "source": [
    "dSets\n"
   ]
  },
  {
   "cell_type": "code",
   "execution_count": 27,
   "metadata": {
    "collapsed": true
   },
   "outputs": [],
   "source": [
    "np.save(\"/global/project/projectdirs/lux/users/weiji/data/\"+namelist[aa],np.array([data]))"
   ]
  }
 ],
 "metadata": {
  "kernelspec": {
   "display_name": "Python 2",
   "language": "python",
   "name": "python2"
  },
  "language_info": {
   "codemirror_mode": {
    "name": "ipython",
    "version": 2
   },
   "file_extension": ".py",
   "mimetype": "text/x-python",
   "name": "python",
   "nbconvert_exporter": "python",
   "pygments_lexer": "ipython2",
   "version": "2.7.11"
  }
 },
 "nbformat": 4,
 "nbformat_minor": 0
}
